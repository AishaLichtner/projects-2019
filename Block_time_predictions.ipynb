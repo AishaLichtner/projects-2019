{
  "nbformat": 4,
  "nbformat_minor": 0,
  "metadata": {
    "colab": {
      "name": "Block time predictions.ipynb",
      "provenance": [],
      "collapsed_sections": [],
      "toc_visible": true,
      "machine_shape": "hm",
      "include_colab_link": true
    },
    "kernelspec": {
      "name": "python3",
      "display_name": "Python 3"
    },
    "accelerator": "TPU"
  },
  "cells": [
    {
      "cell_type": "markdown",
      "metadata": {
        "id": "view-in-github",
        "colab_type": "text"
      },
      "source": [
        "<a href=\"https://colab.research.google.com/github/AishaLichtner/projects-2019/blob/master/Block_time_predictions.ipynb\" target=\"_parent\"><img src=\"https://colab.research.google.com/assets/colab-badge.svg\" alt=\"Open In Colab\"/></a>"
      ]
    },
    {
      "cell_type": "code",
      "metadata": {
        "id": "ogmTvqRVye38",
        "colab_type": "code",
        "outputId": "63f16b78-695b-455a-c19a-94f61208cd22",
        "colab": {
          "base_uri": "https://localhost:8080/",
          "height": 34
        }
      },
      "source": [
        "from __future__ import absolute_import, division, print_function, unicode_literals\n",
        "import os\n",
        "import tensorflow.compat.v1 as tf\n",
        "from tensorflow import keras\n",
        "\n",
        "from tensorflow.keras.models import Sequential\n",
        "from tensorflow.keras.layers import Dense, Conv2D,Conv1D,Conv3D, MaxPool2D , Flatten\n",
        "from tensorflow.keras.preprocessing.image import ImageDataGenerator\n",
        "\n",
        "\n",
        "from tensorflow.keras.wrappers.scikit_learn import KerasRegressor\n",
        "from sklearn.model_selection import cross_val_score\n",
        "from sklearn.model_selection import KFold\n",
        "from sklearn.preprocessing import StandardScaler,RobustScaler\n",
        "from sklearn.pipeline import Pipeline\n",
        "\n",
        "from sklearn.model_selection import GridSearchCV\n",
        "from sklearn.linear_model import Ridge\n",
        "\n",
        "\n",
        "\n",
        "from tensorflow.keras import optimizers as opt\n",
        "import tensorflow.keras.backend as K\n",
        "import pathlib\n",
        "\n",
        "import matplotlib.pyplot as plt\n",
        "import pandas as pd\n",
        "import seaborn as sns\n",
        "\n",
        "import datetime\n",
        "import statistics\n",
        "\n",
        "\n",
        "#get last sunday of the month\n",
        "import sys\n",
        "import calendar\n",
        "\n",
        "from tensorflow.keras import layers\n",
        "\n",
        "print(tf.__version__)\n",
        "\n",
        "import numpy as np     # matrix structures, linear algebra functions etc\n",
        "from sklearn.linear_model import LinearRegression   # linear regression model\n",
        "from sklearn.metrics import mean_squared_error, mean_absolute_error   # accuracy metrics\n",
        "\n",
        "import io\n"
      ],
      "execution_count": 0,
      "outputs": [
        {
          "output_type": "stream",
          "text": [
            "1.15.0\n"
          ],
          "name": "stdout"
        }
      ]
    },
    {
      "cell_type": "markdown",
      "metadata": {
        "id": "NsxbyzFbYGVh",
        "colab_type": "text"
      },
      "source": [
        "#Read  data from csv file\n"
      ]
    },
    {
      "cell_type": "code",
      "metadata": {
        "id": "cegN65kqXm3h",
        "colab_type": "code",
        "outputId": "8265aa30-a40e-4831-8b0b-c9a9125ee953",
        "colab": {
          "base_uri": "https://localhost:8080/",
          "height": 34
        }
      },
      "source": [
        "from google.colab import drive\n",
        "drive.mount('/content/drive')\n",
        "path = \"/content/drive/My Drive/data/blocks.csv\"\n",
        "#data = pd.read_csv(io.StringIO(uploaded[\"blocks.csv\"].decode('utf-8')))\n",
        "data= pd.read_csv(path, sep = ';', encoding=\"utf-8-sig\")"
      ],
      "execution_count": 0,
      "outputs": [
        {
          "output_type": "stream",
          "text": [
            "Drive already mounted at /content/drive; to attempt to forcibly remount, call drive.mount(\"/content/drive\", force_remount=True).\n"
          ],
          "name": "stdout"
        }
      ]
    },
    {
      "cell_type": "code",
      "metadata": {
        "id": "JLBb0ApyAaXA",
        "colab_type": "code",
        "outputId": "7b6729af-44f1-4d82-e192-434385b215bf",
        "colab": {
          "base_uri": "https://localhost:8080/",
          "height": 306
        }
      },
      "source": [
        "data.tail()"
      ],
      "execution_count": 0,
      "outputs": [
        {
          "output_type": "execute_result",
          "data": {
            "text/html": [
              "<div>\n",
              "<style scoped>\n",
              "    .dataframe tbody tr th:only-of-type {\n",
              "        vertical-align: middle;\n",
              "    }\n",
              "\n",
              "    .dataframe tbody tr th {\n",
              "        vertical-align: top;\n",
              "    }\n",
              "\n",
              "    .dataframe thead th {\n",
              "        text-align: right;\n",
              "    }\n",
              "</style>\n",
              "<table border=\"1\" class=\"dataframe\">\n",
              "  <thead>\n",
              "    <tr style=\"text-align: right;\">\n",
              "      <th></th>\n",
              "      <th>Acreg</th>\n",
              "      <th>Version</th>\n",
              "      <th>Std UTC</th>\n",
              "      <th>Sta Utc</th>\n",
              "      <th>Flightcode</th>\n",
              "      <th>AOC</th>\n",
              "      <th>DP Iatacode</th>\n",
              "      <th>AR Iatacode</th>\n",
              "      <th>Rm Off Block Utc</th>\n",
              "      <th>Rm Takeoff Utc</th>\n",
              "      <th>TaxiOut</th>\n",
              "      <th>Rm Touchdown Utc</th>\n",
              "      <th>Rm On Block Utc</th>\n",
              "      <th>TaxiIn</th>\n",
              "      <th>BlkSched</th>\n",
              "      <th>ActualBlock</th>\n",
              "    </tr>\n",
              "  </thead>\n",
              "  <tbody>\n",
              "    <tr>\n",
              "      <th>561264</th>\n",
              "      <td>YRBMI</td>\n",
              "      <td>737-800</td>\n",
              "      <td>30.08.2019 18:15</td>\n",
              "      <td>30.08.2019 21:55</td>\n",
              "      <td>DY4214</td>\n",
              "      <td>WET</td>\n",
              "      <td>PMI</td>\n",
              "      <td>ARN</td>\n",
              "      <td>30.08.2019 18:15</td>\n",
              "      <td>30.08.2019 18:25</td>\n",
              "      <td>10</td>\n",
              "      <td>30.08.2019 21:46</td>\n",
              "      <td>30.08.2019 21:51</td>\n",
              "      <td>5.0</td>\n",
              "      <td>220</td>\n",
              "      <td>216</td>\n",
              "    </tr>\n",
              "    <tr>\n",
              "      <th>561265</th>\n",
              "      <td>YRBMI</td>\n",
              "      <td>737-800</td>\n",
              "      <td>31.08.2019 06:15</td>\n",
              "      <td>31.08.2019 08:25</td>\n",
              "      <td>DY4487</td>\n",
              "      <td>WET</td>\n",
              "      <td>ARN</td>\n",
              "      <td>BUD</td>\n",
              "      <td>31.08.2019 06:15</td>\n",
              "      <td>31.08.2019 06:24</td>\n",
              "      <td>9</td>\n",
              "      <td>31.08.2019 08:24</td>\n",
              "      <td>31.08.2019 08:29</td>\n",
              "      <td>5.0</td>\n",
              "      <td>130</td>\n",
              "      <td>134</td>\n",
              "    </tr>\n",
              "    <tr>\n",
              "      <th>561266</th>\n",
              "      <td>YRBMI</td>\n",
              "      <td>737-800</td>\n",
              "      <td>31.08.2019 09:05</td>\n",
              "      <td>31.08.2019 11:15</td>\n",
              "      <td>DY4488</td>\n",
              "      <td>WET</td>\n",
              "      <td>BUD</td>\n",
              "      <td>ARN</td>\n",
              "      <td>31.08.2019 09:08</td>\n",
              "      <td>31.08.2019 09:28</td>\n",
              "      <td>20</td>\n",
              "      <td>31.08.2019 11:22</td>\n",
              "      <td>31.08.2019 11:28</td>\n",
              "      <td>6.0</td>\n",
              "      <td>130</td>\n",
              "      <td>140</td>\n",
              "    </tr>\n",
              "    <tr>\n",
              "      <th>561267</th>\n",
              "      <td>YRBMI</td>\n",
              "      <td>737-800</td>\n",
              "      <td>31.08.2019 12:05</td>\n",
              "      <td>31.08.2019 16:30</td>\n",
              "      <td>DY4223</td>\n",
              "      <td>WET</td>\n",
              "      <td>ARN</td>\n",
              "      <td>AGP</td>\n",
              "      <td>31.08.2019 12:21</td>\n",
              "      <td>31.08.2019 12:31</td>\n",
              "      <td>10</td>\n",
              "      <td>31.08.2019 16:21</td>\n",
              "      <td>31.08.2019 16:25</td>\n",
              "      <td>4.0</td>\n",
              "      <td>265</td>\n",
              "      <td>244</td>\n",
              "    </tr>\n",
              "    <tr>\n",
              "      <th>561268</th>\n",
              "      <td>YRBMI</td>\n",
              "      <td>737-800</td>\n",
              "      <td>31.08.2019 17:20</td>\n",
              "      <td>31.08.2019 21:30</td>\n",
              "      <td>DY4224</td>\n",
              "      <td>WET</td>\n",
              "      <td>AGP</td>\n",
              "      <td>ARN</td>\n",
              "      <td>31.08.2019 17:20</td>\n",
              "      <td>31.08.2019 17:27</td>\n",
              "      <td>7</td>\n",
              "      <td>31.08.2019 21:10</td>\n",
              "      <td>31.08.2019 21:22</td>\n",
              "      <td>12.0</td>\n",
              "      <td>250</td>\n",
              "      <td>242</td>\n",
              "    </tr>\n",
              "  </tbody>\n",
              "</table>\n",
              "</div>"
            ],
            "text/plain": [
              "        Acreg  Version           Std UTC  ... TaxiIn BlkSched ActualBlock\n",
              "561264  YRBMI  737-800  30.08.2019 18:15  ...    5.0      220         216\n",
              "561265  YRBMI  737-800  31.08.2019 06:15  ...    5.0      130         134\n",
              "561266  YRBMI  737-800  31.08.2019 09:05  ...    6.0      130         140\n",
              "561267  YRBMI  737-800  31.08.2019 12:05  ...    4.0      265         244\n",
              "561268  YRBMI  737-800  31.08.2019 17:20  ...   12.0      250         242\n",
              "\n",
              "[5 rows x 16 columns]"
            ]
          },
          "metadata": {
            "tags": []
          },
          "execution_count": 101
        }
      ]
    },
    {
      "cell_type": "code",
      "metadata": {
        "id": "4PZXFqOaU9dB",
        "colab_type": "code",
        "outputId": "a6c0782f-656c-4ad2-f008-a26feebe58ed",
        "colab": {
          "base_uri": "https://localhost:8080/",
          "height": 34
        }
      },
      "source": [
        "#exclude flights that are done with other planes\n",
        "data= data.loc[data['AOC'] != \"WET\"]\n",
        "data.dropna()\n",
        "data.shape\n"
      ],
      "execution_count": 0,
      "outputs": [
        {
          "output_type": "execute_result",
          "data": {
            "text/plain": [
              "(546863, 16)"
            ]
          },
          "metadata": {
            "tags": []
          },
          "execution_count": 102
        }
      ]
    },
    {
      "cell_type": "code",
      "metadata": {
        "id": "MeD6knG2gZnd",
        "colab_type": "code",
        "outputId": "8886cc0e-04d0-4829-9db6-3dbe6a5f8df0",
        "colab": {
          "base_uri": "https://localhost:8080/",
          "height": 419
        }
      },
      "source": [
        "#just take relevant data in account and save a copy for later\n",
        "data_kopiert= data.copy()\n",
        "\n",
        "data=data[['ActualBlock', 'Std UTC', \"DP Iatacode\", \"AR Iatacode\", \"BlkSched\"]]\n",
        "data[\"DiffBlock\"] = abs(data[\"ActualBlock\"]- data[\"BlkSched\"])\n",
        "data_kopiert[\"DiffBlock\"] = abs(data[\"ActualBlock\"]- data[\"BlkSched\"])\n",
        "data"
      ],
      "execution_count": 0,
      "outputs": [
        {
          "output_type": "execute_result",
          "data": {
            "text/html": [
              "<div>\n",
              "<style scoped>\n",
              "    .dataframe tbody tr th:only-of-type {\n",
              "        vertical-align: middle;\n",
              "    }\n",
              "\n",
              "    .dataframe tbody tr th {\n",
              "        vertical-align: top;\n",
              "    }\n",
              "\n",
              "    .dataframe thead th {\n",
              "        text-align: right;\n",
              "    }\n",
              "</style>\n",
              "<table border=\"1\" class=\"dataframe\">\n",
              "  <thead>\n",
              "    <tr style=\"text-align: right;\">\n",
              "      <th></th>\n",
              "      <th>ActualBlock</th>\n",
              "      <th>Std UTC</th>\n",
              "      <th>DP Iatacode</th>\n",
              "      <th>AR Iatacode</th>\n",
              "      <th>BlkSched</th>\n",
              "      <th>DiffBlock</th>\n",
              "    </tr>\n",
              "  </thead>\n",
              "  <tbody>\n",
              "    <tr>\n",
              "      <th>3211</th>\n",
              "      <td>406</td>\n",
              "      <td>06.05.2018 01:20</td>\n",
              "      <td>BOS</td>\n",
              "      <td>LGW</td>\n",
              "      <td>380</td>\n",
              "      <td>26</td>\n",
              "    </tr>\n",
              "    <tr>\n",
              "      <th>5924</th>\n",
              "      <td>168</td>\n",
              "      <td>01.06.2017 05:20</td>\n",
              "      <td>MAD</td>\n",
              "      <td>TFN</td>\n",
              "      <td>175</td>\n",
              "      <td>7</td>\n",
              "    </tr>\n",
              "    <tr>\n",
              "      <th>5925</th>\n",
              "      <td>173</td>\n",
              "      <td>01.06.2017 08:55</td>\n",
              "      <td>TFN</td>\n",
              "      <td>MAD</td>\n",
              "      <td>165</td>\n",
              "      <td>8</td>\n",
              "    </tr>\n",
              "    <tr>\n",
              "      <th>5926</th>\n",
              "      <td>250</td>\n",
              "      <td>02.06.2017 06:00</td>\n",
              "      <td>MAD</td>\n",
              "      <td>HEL</td>\n",
              "      <td>250</td>\n",
              "      <td>0</td>\n",
              "    </tr>\n",
              "    <tr>\n",
              "      <th>5927</th>\n",
              "      <td>289</td>\n",
              "      <td>02.06.2017 10:55</td>\n",
              "      <td>HEL</td>\n",
              "      <td>MAD</td>\n",
              "      <td>265</td>\n",
              "      <td>24</td>\n",
              "    </tr>\n",
              "    <tr>\n",
              "      <th>...</th>\n",
              "      <td>...</td>\n",
              "      <td>...</td>\n",
              "      <td>...</td>\n",
              "      <td>...</td>\n",
              "      <td>...</td>\n",
              "      <td>...</td>\n",
              "    </tr>\n",
              "    <tr>\n",
              "      <th>559169</th>\n",
              "      <td>742</td>\n",
              "      <td>25.10.2019 12:50</td>\n",
              "      <td>BCN</td>\n",
              "      <td>LAX</td>\n",
              "      <td>730</td>\n",
              "      <td>12</td>\n",
              "    </tr>\n",
              "    <tr>\n",
              "      <th>559170</th>\n",
              "      <td>659</td>\n",
              "      <td>26.10.2019 03:00</td>\n",
              "      <td>LAX</td>\n",
              "      <td>BCN</td>\n",
              "      <td>655</td>\n",
              "      <td>4</td>\n",
              "    </tr>\n",
              "    <tr>\n",
              "      <th>559171</th>\n",
              "      <td>524</td>\n",
              "      <td>26.10.2019 17:25</td>\n",
              "      <td>BCN</td>\n",
              "      <td>EWR</td>\n",
              "      <td>515</td>\n",
              "      <td>9</td>\n",
              "    </tr>\n",
              "    <tr>\n",
              "      <th>559172</th>\n",
              "      <td>436</td>\n",
              "      <td>27.10.2019 03:59</td>\n",
              "      <td>EWR</td>\n",
              "      <td>BCN</td>\n",
              "      <td>436</td>\n",
              "      <td>0</td>\n",
              "    </tr>\n",
              "    <tr>\n",
              "      <th>559173</th>\n",
              "      <td>504</td>\n",
              "      <td>27.10.2019 17:05</td>\n",
              "      <td>BCN</td>\n",
              "      <td>JFK</td>\n",
              "      <td>535</td>\n",
              "      <td>31</td>\n",
              "    </tr>\n",
              "  </tbody>\n",
              "</table>\n",
              "<p>546863 rows × 6 columns</p>\n",
              "</div>"
            ],
            "text/plain": [
              "        ActualBlock           Std UTC  ... BlkSched DiffBlock\n",
              "3211            406  06.05.2018 01:20  ...      380        26\n",
              "5924            168  01.06.2017 05:20  ...      175         7\n",
              "5925            173  01.06.2017 08:55  ...      165         8\n",
              "5926            250  02.06.2017 06:00  ...      250         0\n",
              "5927            289  02.06.2017 10:55  ...      265        24\n",
              "...             ...               ...  ...      ...       ...\n",
              "559169          742  25.10.2019 12:50  ...      730        12\n",
              "559170          659  26.10.2019 03:00  ...      655         4\n",
              "559171          524  26.10.2019 17:25  ...      515         9\n",
              "559172          436  27.10.2019 03:59  ...      436         0\n",
              "559173          504  27.10.2019 17:05  ...      535        31\n",
              "\n",
              "[546863 rows x 6 columns]"
            ]
          },
          "metadata": {
            "tags": []
          },
          "execution_count": 103
        }
      ]
    },
    {
      "cell_type": "markdown",
      "metadata": {
        "colab_type": "text",
        "id": "JjMBgTRxUVFy"
      },
      "source": [
        "#Use one Hot Encoding for airport combinations\n"
      ]
    },
    {
      "cell_type": "code",
      "metadata": {
        "colab_type": "code",
        "id": "Og0DFVdpUVF5",
        "colab": {}
      },
      "source": [
        "from sklearn.preprocessing import LabelEncoder\n",
        "from sklearn.preprocessing import OneHotEncoder"
      ],
      "execution_count": 0,
      "outputs": []
    },
    {
      "cell_type": "code",
      "metadata": {
        "colab_type": "code",
        "id": "1DJ8FuMQUVGC",
        "colab": {}
      },
      "source": [
        "toEncode =data[['DP Iatacode','AR Iatacode']]"
      ],
      "execution_count": 0,
      "outputs": []
    },
    {
      "cell_type": "code",
      "metadata": {
        "colab_type": "code",
        "outputId": "b1185d0d-04f3-4bb6-a2be-5e81eb2c71f3",
        "id": "zua6La7wUVGG",
        "colab": {
          "base_uri": "https://localhost:8080/",
          "height": 204
        }
      },
      "source": [
        "toEncode.tail()"
      ],
      "execution_count": 0,
      "outputs": [
        {
          "output_type": "execute_result",
          "data": {
            "text/html": [
              "<div>\n",
              "<style scoped>\n",
              "    .dataframe tbody tr th:only-of-type {\n",
              "        vertical-align: middle;\n",
              "    }\n",
              "\n",
              "    .dataframe tbody tr th {\n",
              "        vertical-align: top;\n",
              "    }\n",
              "\n",
              "    .dataframe thead th {\n",
              "        text-align: right;\n",
              "    }\n",
              "</style>\n",
              "<table border=\"1\" class=\"dataframe\">\n",
              "  <thead>\n",
              "    <tr style=\"text-align: right;\">\n",
              "      <th></th>\n",
              "      <th>DP Iatacode</th>\n",
              "      <th>AR Iatacode</th>\n",
              "    </tr>\n",
              "  </thead>\n",
              "  <tbody>\n",
              "    <tr>\n",
              "      <th>559169</th>\n",
              "      <td>BCN</td>\n",
              "      <td>LAX</td>\n",
              "    </tr>\n",
              "    <tr>\n",
              "      <th>559170</th>\n",
              "      <td>LAX</td>\n",
              "      <td>BCN</td>\n",
              "    </tr>\n",
              "    <tr>\n",
              "      <th>559171</th>\n",
              "      <td>BCN</td>\n",
              "      <td>EWR</td>\n",
              "    </tr>\n",
              "    <tr>\n",
              "      <th>559172</th>\n",
              "      <td>EWR</td>\n",
              "      <td>BCN</td>\n",
              "    </tr>\n",
              "    <tr>\n",
              "      <th>559173</th>\n",
              "      <td>BCN</td>\n",
              "      <td>JFK</td>\n",
              "    </tr>\n",
              "  </tbody>\n",
              "</table>\n",
              "</div>"
            ],
            "text/plain": [
              "       DP Iatacode AR Iatacode\n",
              "559169         BCN         LAX\n",
              "559170         LAX         BCN\n",
              "559171         BCN         EWR\n",
              "559172         EWR         BCN\n",
              "559173         BCN         JFK"
            ]
          },
          "metadata": {
            "tags": []
          },
          "execution_count": 106
        }
      ]
    },
    {
      "cell_type": "code",
      "metadata": {
        "colab_type": "code",
        "outputId": "3a8575e7-dcb2-4489-9ffe-27eb4c0836f8",
        "id": "c5AACqCxUVGK",
        "colab": {
          "base_uri": "https://localhost:8080/",
          "height": 34
        }
      },
      "source": [
        "toEncode.shape"
      ],
      "execution_count": 0,
      "outputs": [
        {
          "output_type": "execute_result",
          "data": {
            "text/plain": [
              "(546863, 2)"
            ]
          },
          "metadata": {
            "tags": []
          },
          "execution_count": 107
        }
      ]
    },
    {
      "cell_type": "markdown",
      "metadata": {
        "id": "4eUc3-fDw6wC",
        "colab_type": "text"
      },
      "source": [
        "With one Hot encoding we higher the dimnsion of the (546863, 2)- matrix, so we have more information, that the network can use."
      ]
    },
    {
      "cell_type": "code",
      "metadata": {
        "colab_type": "code",
        "id": "o9avQ0cYUVGN",
        "colab": {}
      },
      "source": [
        "# prepare input data\n",
        "def prepare_inputsOH(X):\n",
        "\tohe = OneHotEncoder(sparse=False)\n",
        "\tX_train_enc = ohe.fit_transform(X)\n",
        "\treturn X_train_enc"
      ],
      "execution_count": 0,
      "outputs": []
    },
    {
      "cell_type": "code",
      "metadata": {
        "colab_type": "code",
        "outputId": "155ce63e-d098-4630-e028-5e1f31c77615",
        "id": "QMOOffJRUVGQ",
        "colab": {
          "base_uri": "https://localhost:8080/",
          "height": 136
        }
      },
      "source": [
        "print(prepare_inputsOH(toEncode))"
      ],
      "execution_count": 0,
      "outputs": [
        {
          "output_type": "stream",
          "text": [
            "[[0. 0. 0. ... 0. 0. 0.]\n",
            " [0. 0. 0. ... 0. 0. 0.]\n",
            " [0. 0. 0. ... 0. 0. 0.]\n",
            " ...\n",
            " [0. 0. 0. ... 0. 0. 0.]\n",
            " [0. 0. 0. ... 0. 0. 0.]\n",
            " [0. 0. 0. ... 0. 0. 0.]]\n"
          ],
          "name": "stdout"
        }
      ]
    },
    {
      "cell_type": "code",
      "metadata": {
        "colab_type": "code",
        "id": "4yKvea0SUVGU",
        "outputId": "2d4295ae-fae9-4017-9630-f94088d764df",
        "colab": {
          "base_uri": "https://localhost:8080/",
          "height": 34
        }
      },
      "source": [
        "encodedOH = prepare_inputsOH(toEncode) #returns a\n",
        "encodedOH = pd.DataFrame(encodedOH)\n",
        "sum(encodedOH == 1) #double check, that this did not produce a matrix full of zeros"
      ],
      "execution_count": 0,
      "outputs": [
        {
          "output_type": "execute_result",
          "data": {
            "text/plain": [
              "83028"
            ]
          },
          "metadata": {
            "tags": []
          },
          "execution_count": 110
        }
      ]
    },
    {
      "cell_type": "code",
      "metadata": {
        "colab_type": "code",
        "outputId": "5645fa15-285b-4a1f-884c-2afeaf071a8f",
        "id": "smKS-QQiUVGW",
        "colab": {
          "base_uri": "https://localhost:8080/",
          "height": 289
        }
      },
      "source": [
        "print(encodedOH.isna())\n",
        "print(encodedOH.shape)\n",
        "print(data.shape)"
      ],
      "execution_count": 0,
      "outputs": [
        {
          "output_type": "stream",
          "text": [
            "          0      1      2      3      4    ...    403    404    405    406    407\n",
            "0       False  False  False  False  False  ...  False  False  False  False  False\n",
            "1       False  False  False  False  False  ...  False  False  False  False  False\n",
            "2       False  False  False  False  False  ...  False  False  False  False  False\n",
            "3       False  False  False  False  False  ...  False  False  False  False  False\n",
            "4       False  False  False  False  False  ...  False  False  False  False  False\n",
            "...       ...    ...    ...    ...    ...  ...    ...    ...    ...    ...    ...\n",
            "546858  False  False  False  False  False  ...  False  False  False  False  False\n",
            "546859  False  False  False  False  False  ...  False  False  False  False  False\n",
            "546860  False  False  False  False  False  ...  False  False  False  False  False\n",
            "546861  False  False  False  False  False  ...  False  False  False  False  False\n",
            "546862  False  False  False  False  False  ...  False  False  False  False  False\n",
            "\n",
            "[546863 rows x 408 columns]\n",
            "(546863, 408)\n",
            "(546863, 6)\n"
          ],
          "name": "stdout"
        }
      ]
    },
    {
      "cell_type": "code",
      "metadata": {
        "colab_type": "code",
        "outputId": "ef3ea0bd-5cea-40a8-95e1-d4a8d0ae149c",
        "id": "61_EZ6w8UVGY",
        "colab": {
          "base_uri": "https://localhost:8080/",
          "height": 204
        }
      },
      "source": [
        "#fix some dimension problems\n",
        "data.reset_index(drop=True, inplace=True)\n",
        "encodedOH.reset_index(drop=True, inplace=True)\n",
        "data.head()"
      ],
      "execution_count": 0,
      "outputs": [
        {
          "output_type": "execute_result",
          "data": {
            "text/html": [
              "<div>\n",
              "<style scoped>\n",
              "    .dataframe tbody tr th:only-of-type {\n",
              "        vertical-align: middle;\n",
              "    }\n",
              "\n",
              "    .dataframe tbody tr th {\n",
              "        vertical-align: top;\n",
              "    }\n",
              "\n",
              "    .dataframe thead th {\n",
              "        text-align: right;\n",
              "    }\n",
              "</style>\n",
              "<table border=\"1\" class=\"dataframe\">\n",
              "  <thead>\n",
              "    <tr style=\"text-align: right;\">\n",
              "      <th></th>\n",
              "      <th>ActualBlock</th>\n",
              "      <th>Std UTC</th>\n",
              "      <th>DP Iatacode</th>\n",
              "      <th>AR Iatacode</th>\n",
              "      <th>BlkSched</th>\n",
              "      <th>DiffBlock</th>\n",
              "    </tr>\n",
              "  </thead>\n",
              "  <tbody>\n",
              "    <tr>\n",
              "      <th>0</th>\n",
              "      <td>406</td>\n",
              "      <td>06.05.2018 01:20</td>\n",
              "      <td>BOS</td>\n",
              "      <td>LGW</td>\n",
              "      <td>380</td>\n",
              "      <td>26</td>\n",
              "    </tr>\n",
              "    <tr>\n",
              "      <th>1</th>\n",
              "      <td>168</td>\n",
              "      <td>01.06.2017 05:20</td>\n",
              "      <td>MAD</td>\n",
              "      <td>TFN</td>\n",
              "      <td>175</td>\n",
              "      <td>7</td>\n",
              "    </tr>\n",
              "    <tr>\n",
              "      <th>2</th>\n",
              "      <td>173</td>\n",
              "      <td>01.06.2017 08:55</td>\n",
              "      <td>TFN</td>\n",
              "      <td>MAD</td>\n",
              "      <td>165</td>\n",
              "      <td>8</td>\n",
              "    </tr>\n",
              "    <tr>\n",
              "      <th>3</th>\n",
              "      <td>250</td>\n",
              "      <td>02.06.2017 06:00</td>\n",
              "      <td>MAD</td>\n",
              "      <td>HEL</td>\n",
              "      <td>250</td>\n",
              "      <td>0</td>\n",
              "    </tr>\n",
              "    <tr>\n",
              "      <th>4</th>\n",
              "      <td>289</td>\n",
              "      <td>02.06.2017 10:55</td>\n",
              "      <td>HEL</td>\n",
              "      <td>MAD</td>\n",
              "      <td>265</td>\n",
              "      <td>24</td>\n",
              "    </tr>\n",
              "  </tbody>\n",
              "</table>\n",
              "</div>"
            ],
            "text/plain": [
              "   ActualBlock           Std UTC DP Iatacode AR Iatacode  BlkSched  DiffBlock\n",
              "0          406  06.05.2018 01:20         BOS         LGW       380         26\n",
              "1          168  01.06.2017 05:20         MAD         TFN       175          7\n",
              "2          173  01.06.2017 08:55         TFN         MAD       165          8\n",
              "3          250  02.06.2017 06:00         MAD         HEL       250          0\n",
              "4          289  02.06.2017 10:55         HEL         MAD       265         24"
            ]
          },
          "metadata": {
            "tags": []
          },
          "execution_count": 112
        }
      ]
    },
    {
      "cell_type": "code",
      "metadata": {
        "colab_type": "code",
        "outputId": "c85224e8-352c-4249-d854-66d446e47d43",
        "id": "4SX42Op_UVGa",
        "colab": {
          "base_uri": "https://localhost:8080/",
          "height": 221
        }
      },
      "source": [
        "#delete encoded information\n",
        "data.pop(\"DP Iatacode\") \n",
        "data.pop(\"AR Iatacode\")"
      ],
      "execution_count": 0,
      "outputs": [
        {
          "output_type": "execute_result",
          "data": {
            "text/plain": [
              "0         LGW\n",
              "1         TFN\n",
              "2         MAD\n",
              "3         HEL\n",
              "4         MAD\n",
              "         ... \n",
              "546858    LAX\n",
              "546859    BCN\n",
              "546860    EWR\n",
              "546861    BCN\n",
              "546862    JFK\n",
              "Name: AR Iatacode, Length: 546863, dtype: object"
            ]
          },
          "metadata": {
            "tags": []
          },
          "execution_count": 113
        }
      ]
    },
    {
      "cell_type": "code",
      "metadata": {
        "colab_type": "code",
        "outputId": "9c076409-a471-4398-be5f-bc26d8a69d3c",
        "id": "U_RL_8T4UVGb",
        "colab": {
          "base_uri": "https://localhost:8080/",
          "height": 255
        }
      },
      "source": [
        "#concat original data with one hot encoding matrix\n",
        "data=pd.concat([data,encodedOH ],axis = 1)\n",
        "print(data)"
      ],
      "execution_count": 0,
      "outputs": [
        {
          "output_type": "stream",
          "text": [
            "        ActualBlock           Std UTC  BlkSched  DiffBlock  ...  404  405  406  407\n",
            "0               406  06.05.2018 01:20       380         26  ...  0.0  0.0  0.0  0.0\n",
            "1               168  01.06.2017 05:20       175          7  ...  0.0  0.0  0.0  0.0\n",
            "2               173  01.06.2017 08:55       165          8  ...  0.0  0.0  0.0  0.0\n",
            "3               250  02.06.2017 06:00       250          0  ...  0.0  0.0  0.0  0.0\n",
            "4               289  02.06.2017 10:55       265         24  ...  0.0  0.0  0.0  0.0\n",
            "...             ...               ...       ...        ...  ...  ...  ...  ...  ...\n",
            "546858          742  25.10.2019 12:50       730         12  ...  0.0  0.0  0.0  0.0\n",
            "546859          659  26.10.2019 03:00       655          4  ...  0.0  0.0  0.0  0.0\n",
            "546860          524  26.10.2019 17:25       515          9  ...  0.0  0.0  0.0  0.0\n",
            "546861          436  27.10.2019 03:59       436          0  ...  0.0  0.0  0.0  0.0\n",
            "546862          504  27.10.2019 17:05       535         31  ...  0.0  0.0  0.0  0.0\n",
            "\n",
            "[546863 rows x 412 columns]\n"
          ],
          "name": "stdout"
        }
      ]
    },
    {
      "cell_type": "markdown",
      "metadata": {
        "id": "OJFVFTfmpzNA",
        "colab_type": "text"
      },
      "source": [
        "#Split date into day hour and weekday and season"
      ]
    },
    {
      "cell_type": "code",
      "metadata": {
        "id": "MQVQix03p8aQ",
        "colab_type": "code",
        "outputId": "be646a7a-b68f-4df0-bc9e-260bb2d8b272",
        "colab": {
          "base_uri": "https://localhost:8080/",
          "height": 119
        }
      },
      "source": [
        "#exclude date colum of flightBlock so we can split it in more information\n",
        "date = data.pop(\"Std UTC\")\n",
        "date.tail()"
      ],
      "execution_count": 0,
      "outputs": [
        {
          "output_type": "execute_result",
          "data": {
            "text/plain": [
              "546858    25.10.2019 12:50\n",
              "546859    26.10.2019 03:00\n",
              "546860    26.10.2019 17:25\n",
              "546861    27.10.2019 03:59\n",
              "546862    27.10.2019 17:05\n",
              "Name: Std UTC, dtype: object"
            ]
          },
          "metadata": {
            "tags": []
          },
          "execution_count": 115
        }
      ]
    },
    {
      "cell_type": "code",
      "metadata": {
        "id": "uPiqHHQIpjsA",
        "colab_type": "code",
        "colab": {}
      },
      "source": [
        "#calculate the last sunday for a given month in given year\n",
        "def lastSunday(year,month):\n",
        "    if len(sys.argv) > 1:\n",
        "        try:\n",
        "            year = int(sys.argv[-1])\n",
        "        except ValueError:\n",
        "            pass\n",
        " \n",
        "   \n",
        "    last_sunday = max(week[-1] for week in calendar.monthcalendar(year, month))\n",
        "    return last_sunday"
      ],
      "execution_count": 0,
      "outputs": []
    },
    {
      "cell_type": "code",
      "metadata": {
        "id": "ixhpAHy6qEUK",
        "colab_type": "code",
        "colab": {}
      },
      "source": [
        "#gives inforamtion if a date is in summer or winter season\n",
        "#returns 1 for winterseason and 0 for summer season\n",
        "def getSeason(d):\n",
        "\n",
        "    if (d.month<3 or d.month > 10):\n",
        "        return 1;\n",
        "    elif (d.month == 3 and d.day < lastSunday(d.year, d.month)):\n",
        "        return 1;\n",
        "    elif (d.month == 10 and d.day >= lastSunday(d.year, d.month)):\n",
        "        return 1;\n",
        "    else:\n",
        "        return 0;\n",
        "    "
      ],
      "execution_count": 0,
      "outputs": []
    },
    {
      "cell_type": "code",
      "metadata": {
        "id": "Cj894JEkqHuD",
        "colab_type": "code",
        "colab": {}
      },
      "source": [
        "#create some more categories like time of the day, weekday and season\n",
        "dateForm=[datetime.datetime.strptime(s,'%d.%m.%Y %H:%M') for s in date]\n",
        "\n",
        "times= [x.hour for x in dateForm]\n",
        "weekdays =[x.weekday()+1 for x in dateForm]\n",
        "summer=[(getSeason(x)==0)*1 for x in dateForm]\n"
      ],
      "execution_count": 0,
      "outputs": []
    },
    {
      "cell_type": "code",
      "metadata": {
        "id": "ZYHbH350rQ4Y",
        "colab_type": "code",
        "outputId": "cccc88cf-8997-4475-d783-a0a52b56e8ec",
        "colab": {
          "base_uri": "https://localhost:8080/",
          "height": 253
        }
      },
      "source": [
        "data['Time'] = times\n",
        "data[\"Weekday\"] = weekdays\n",
        "data[\"Summer\"] = summer\n",
        "data.tail()"
      ],
      "execution_count": 0,
      "outputs": [
        {
          "output_type": "execute_result",
          "data": {
            "text/html": [
              "<div>\n",
              "<style scoped>\n",
              "    .dataframe tbody tr th:only-of-type {\n",
              "        vertical-align: middle;\n",
              "    }\n",
              "\n",
              "    .dataframe tbody tr th {\n",
              "        vertical-align: top;\n",
              "    }\n",
              "\n",
              "    .dataframe thead th {\n",
              "        text-align: right;\n",
              "    }\n",
              "</style>\n",
              "<table border=\"1\" class=\"dataframe\">\n",
              "  <thead>\n",
              "    <tr style=\"text-align: right;\">\n",
              "      <th></th>\n",
              "      <th>ActualBlock</th>\n",
              "      <th>BlkSched</th>\n",
              "      <th>DiffBlock</th>\n",
              "      <th>0</th>\n",
              "      <th>1</th>\n",
              "      <th>2</th>\n",
              "      <th>3</th>\n",
              "      <th>4</th>\n",
              "      <th>5</th>\n",
              "      <th>6</th>\n",
              "      <th>7</th>\n",
              "      <th>8</th>\n",
              "      <th>9</th>\n",
              "      <th>10</th>\n",
              "      <th>11</th>\n",
              "      <th>12</th>\n",
              "      <th>13</th>\n",
              "      <th>14</th>\n",
              "      <th>15</th>\n",
              "      <th>16</th>\n",
              "      <th>17</th>\n",
              "      <th>18</th>\n",
              "      <th>19</th>\n",
              "      <th>20</th>\n",
              "      <th>21</th>\n",
              "      <th>22</th>\n",
              "      <th>23</th>\n",
              "      <th>24</th>\n",
              "      <th>25</th>\n",
              "      <th>26</th>\n",
              "      <th>27</th>\n",
              "      <th>28</th>\n",
              "      <th>29</th>\n",
              "      <th>30</th>\n",
              "      <th>31</th>\n",
              "      <th>32</th>\n",
              "      <th>33</th>\n",
              "      <th>34</th>\n",
              "      <th>35</th>\n",
              "      <th>36</th>\n",
              "      <th>...</th>\n",
              "      <th>371</th>\n",
              "      <th>372</th>\n",
              "      <th>373</th>\n",
              "      <th>374</th>\n",
              "      <th>375</th>\n",
              "      <th>376</th>\n",
              "      <th>377</th>\n",
              "      <th>378</th>\n",
              "      <th>379</th>\n",
              "      <th>380</th>\n",
              "      <th>381</th>\n",
              "      <th>382</th>\n",
              "      <th>383</th>\n",
              "      <th>384</th>\n",
              "      <th>385</th>\n",
              "      <th>386</th>\n",
              "      <th>387</th>\n",
              "      <th>388</th>\n",
              "      <th>389</th>\n",
              "      <th>390</th>\n",
              "      <th>391</th>\n",
              "      <th>392</th>\n",
              "      <th>393</th>\n",
              "      <th>394</th>\n",
              "      <th>395</th>\n",
              "      <th>396</th>\n",
              "      <th>397</th>\n",
              "      <th>398</th>\n",
              "      <th>399</th>\n",
              "      <th>400</th>\n",
              "      <th>401</th>\n",
              "      <th>402</th>\n",
              "      <th>403</th>\n",
              "      <th>404</th>\n",
              "      <th>405</th>\n",
              "      <th>406</th>\n",
              "      <th>407</th>\n",
              "      <th>Time</th>\n",
              "      <th>Weekday</th>\n",
              "      <th>Summer</th>\n",
              "    </tr>\n",
              "  </thead>\n",
              "  <tbody>\n",
              "    <tr>\n",
              "      <th>546858</th>\n",
              "      <td>742</td>\n",
              "      <td>730</td>\n",
              "      <td>12</td>\n",
              "      <td>0.0</td>\n",
              "      <td>0.0</td>\n",
              "      <td>0.0</td>\n",
              "      <td>0.0</td>\n",
              "      <td>0.0</td>\n",
              "      <td>0.0</td>\n",
              "      <td>0.0</td>\n",
              "      <td>0.0</td>\n",
              "      <td>0.0</td>\n",
              "      <td>0.0</td>\n",
              "      <td>0.0</td>\n",
              "      <td>0.0</td>\n",
              "      <td>0.0</td>\n",
              "      <td>0.0</td>\n",
              "      <td>0.0</td>\n",
              "      <td>0.0</td>\n",
              "      <td>0.0</td>\n",
              "      <td>0.0</td>\n",
              "      <td>1.0</td>\n",
              "      <td>0.0</td>\n",
              "      <td>0.0</td>\n",
              "      <td>0.0</td>\n",
              "      <td>0.0</td>\n",
              "      <td>0.0</td>\n",
              "      <td>0.0</td>\n",
              "      <td>0.0</td>\n",
              "      <td>0.0</td>\n",
              "      <td>0.0</td>\n",
              "      <td>0.0</td>\n",
              "      <td>0.0</td>\n",
              "      <td>0.0</td>\n",
              "      <td>0.0</td>\n",
              "      <td>0.0</td>\n",
              "      <td>0.0</td>\n",
              "      <td>0.0</td>\n",
              "      <td>0.0</td>\n",
              "      <td>0.0</td>\n",
              "      <td>...</td>\n",
              "      <td>0.0</td>\n",
              "      <td>0.0</td>\n",
              "      <td>0.0</td>\n",
              "      <td>0.0</td>\n",
              "      <td>0.0</td>\n",
              "      <td>0.0</td>\n",
              "      <td>0.0</td>\n",
              "      <td>0.0</td>\n",
              "      <td>0.0</td>\n",
              "      <td>0.0</td>\n",
              "      <td>0.0</td>\n",
              "      <td>0.0</td>\n",
              "      <td>0.0</td>\n",
              "      <td>0.0</td>\n",
              "      <td>0.0</td>\n",
              "      <td>0.0</td>\n",
              "      <td>0.0</td>\n",
              "      <td>0.0</td>\n",
              "      <td>0.0</td>\n",
              "      <td>0.0</td>\n",
              "      <td>0.0</td>\n",
              "      <td>0.0</td>\n",
              "      <td>0.0</td>\n",
              "      <td>0.0</td>\n",
              "      <td>0.0</td>\n",
              "      <td>0.0</td>\n",
              "      <td>0.0</td>\n",
              "      <td>0.0</td>\n",
              "      <td>0.0</td>\n",
              "      <td>0.0</td>\n",
              "      <td>0.0</td>\n",
              "      <td>0.0</td>\n",
              "      <td>0.0</td>\n",
              "      <td>0.0</td>\n",
              "      <td>0.0</td>\n",
              "      <td>0.0</td>\n",
              "      <td>0.0</td>\n",
              "      <td>12</td>\n",
              "      <td>5</td>\n",
              "      <td>1</td>\n",
              "    </tr>\n",
              "    <tr>\n",
              "      <th>546859</th>\n",
              "      <td>659</td>\n",
              "      <td>655</td>\n",
              "      <td>4</td>\n",
              "      <td>0.0</td>\n",
              "      <td>0.0</td>\n",
              "      <td>0.0</td>\n",
              "      <td>0.0</td>\n",
              "      <td>0.0</td>\n",
              "      <td>0.0</td>\n",
              "      <td>0.0</td>\n",
              "      <td>0.0</td>\n",
              "      <td>0.0</td>\n",
              "      <td>0.0</td>\n",
              "      <td>0.0</td>\n",
              "      <td>0.0</td>\n",
              "      <td>0.0</td>\n",
              "      <td>0.0</td>\n",
              "      <td>0.0</td>\n",
              "      <td>0.0</td>\n",
              "      <td>0.0</td>\n",
              "      <td>0.0</td>\n",
              "      <td>0.0</td>\n",
              "      <td>0.0</td>\n",
              "      <td>0.0</td>\n",
              "      <td>0.0</td>\n",
              "      <td>0.0</td>\n",
              "      <td>0.0</td>\n",
              "      <td>0.0</td>\n",
              "      <td>0.0</td>\n",
              "      <td>0.0</td>\n",
              "      <td>0.0</td>\n",
              "      <td>0.0</td>\n",
              "      <td>0.0</td>\n",
              "      <td>0.0</td>\n",
              "      <td>0.0</td>\n",
              "      <td>0.0</td>\n",
              "      <td>0.0</td>\n",
              "      <td>0.0</td>\n",
              "      <td>0.0</td>\n",
              "      <td>0.0</td>\n",
              "      <td>...</td>\n",
              "      <td>0.0</td>\n",
              "      <td>0.0</td>\n",
              "      <td>0.0</td>\n",
              "      <td>0.0</td>\n",
              "      <td>0.0</td>\n",
              "      <td>0.0</td>\n",
              "      <td>0.0</td>\n",
              "      <td>0.0</td>\n",
              "      <td>0.0</td>\n",
              "      <td>0.0</td>\n",
              "      <td>0.0</td>\n",
              "      <td>0.0</td>\n",
              "      <td>0.0</td>\n",
              "      <td>0.0</td>\n",
              "      <td>0.0</td>\n",
              "      <td>0.0</td>\n",
              "      <td>0.0</td>\n",
              "      <td>0.0</td>\n",
              "      <td>0.0</td>\n",
              "      <td>0.0</td>\n",
              "      <td>0.0</td>\n",
              "      <td>0.0</td>\n",
              "      <td>0.0</td>\n",
              "      <td>0.0</td>\n",
              "      <td>0.0</td>\n",
              "      <td>0.0</td>\n",
              "      <td>0.0</td>\n",
              "      <td>0.0</td>\n",
              "      <td>0.0</td>\n",
              "      <td>0.0</td>\n",
              "      <td>0.0</td>\n",
              "      <td>0.0</td>\n",
              "      <td>0.0</td>\n",
              "      <td>0.0</td>\n",
              "      <td>0.0</td>\n",
              "      <td>0.0</td>\n",
              "      <td>0.0</td>\n",
              "      <td>3</td>\n",
              "      <td>6</td>\n",
              "      <td>1</td>\n",
              "    </tr>\n",
              "    <tr>\n",
              "      <th>546860</th>\n",
              "      <td>524</td>\n",
              "      <td>515</td>\n",
              "      <td>9</td>\n",
              "      <td>0.0</td>\n",
              "      <td>0.0</td>\n",
              "      <td>0.0</td>\n",
              "      <td>0.0</td>\n",
              "      <td>0.0</td>\n",
              "      <td>0.0</td>\n",
              "      <td>0.0</td>\n",
              "      <td>0.0</td>\n",
              "      <td>0.0</td>\n",
              "      <td>0.0</td>\n",
              "      <td>0.0</td>\n",
              "      <td>0.0</td>\n",
              "      <td>0.0</td>\n",
              "      <td>0.0</td>\n",
              "      <td>0.0</td>\n",
              "      <td>0.0</td>\n",
              "      <td>0.0</td>\n",
              "      <td>0.0</td>\n",
              "      <td>1.0</td>\n",
              "      <td>0.0</td>\n",
              "      <td>0.0</td>\n",
              "      <td>0.0</td>\n",
              "      <td>0.0</td>\n",
              "      <td>0.0</td>\n",
              "      <td>0.0</td>\n",
              "      <td>0.0</td>\n",
              "      <td>0.0</td>\n",
              "      <td>0.0</td>\n",
              "      <td>0.0</td>\n",
              "      <td>0.0</td>\n",
              "      <td>0.0</td>\n",
              "      <td>0.0</td>\n",
              "      <td>0.0</td>\n",
              "      <td>0.0</td>\n",
              "      <td>0.0</td>\n",
              "      <td>0.0</td>\n",
              "      <td>0.0</td>\n",
              "      <td>...</td>\n",
              "      <td>0.0</td>\n",
              "      <td>0.0</td>\n",
              "      <td>0.0</td>\n",
              "      <td>0.0</td>\n",
              "      <td>0.0</td>\n",
              "      <td>0.0</td>\n",
              "      <td>0.0</td>\n",
              "      <td>0.0</td>\n",
              "      <td>0.0</td>\n",
              "      <td>0.0</td>\n",
              "      <td>0.0</td>\n",
              "      <td>0.0</td>\n",
              "      <td>0.0</td>\n",
              "      <td>0.0</td>\n",
              "      <td>0.0</td>\n",
              "      <td>0.0</td>\n",
              "      <td>0.0</td>\n",
              "      <td>0.0</td>\n",
              "      <td>0.0</td>\n",
              "      <td>0.0</td>\n",
              "      <td>0.0</td>\n",
              "      <td>0.0</td>\n",
              "      <td>0.0</td>\n",
              "      <td>0.0</td>\n",
              "      <td>0.0</td>\n",
              "      <td>0.0</td>\n",
              "      <td>0.0</td>\n",
              "      <td>0.0</td>\n",
              "      <td>0.0</td>\n",
              "      <td>0.0</td>\n",
              "      <td>0.0</td>\n",
              "      <td>0.0</td>\n",
              "      <td>0.0</td>\n",
              "      <td>0.0</td>\n",
              "      <td>0.0</td>\n",
              "      <td>0.0</td>\n",
              "      <td>0.0</td>\n",
              "      <td>17</td>\n",
              "      <td>6</td>\n",
              "      <td>1</td>\n",
              "    </tr>\n",
              "    <tr>\n",
              "      <th>546861</th>\n",
              "      <td>436</td>\n",
              "      <td>436</td>\n",
              "      <td>0</td>\n",
              "      <td>0.0</td>\n",
              "      <td>0.0</td>\n",
              "      <td>0.0</td>\n",
              "      <td>0.0</td>\n",
              "      <td>0.0</td>\n",
              "      <td>0.0</td>\n",
              "      <td>0.0</td>\n",
              "      <td>0.0</td>\n",
              "      <td>0.0</td>\n",
              "      <td>0.0</td>\n",
              "      <td>0.0</td>\n",
              "      <td>0.0</td>\n",
              "      <td>0.0</td>\n",
              "      <td>0.0</td>\n",
              "      <td>0.0</td>\n",
              "      <td>0.0</td>\n",
              "      <td>0.0</td>\n",
              "      <td>0.0</td>\n",
              "      <td>0.0</td>\n",
              "      <td>0.0</td>\n",
              "      <td>0.0</td>\n",
              "      <td>0.0</td>\n",
              "      <td>0.0</td>\n",
              "      <td>0.0</td>\n",
              "      <td>0.0</td>\n",
              "      <td>0.0</td>\n",
              "      <td>0.0</td>\n",
              "      <td>0.0</td>\n",
              "      <td>0.0</td>\n",
              "      <td>0.0</td>\n",
              "      <td>0.0</td>\n",
              "      <td>0.0</td>\n",
              "      <td>0.0</td>\n",
              "      <td>0.0</td>\n",
              "      <td>0.0</td>\n",
              "      <td>0.0</td>\n",
              "      <td>0.0</td>\n",
              "      <td>...</td>\n",
              "      <td>0.0</td>\n",
              "      <td>0.0</td>\n",
              "      <td>0.0</td>\n",
              "      <td>0.0</td>\n",
              "      <td>0.0</td>\n",
              "      <td>0.0</td>\n",
              "      <td>0.0</td>\n",
              "      <td>0.0</td>\n",
              "      <td>0.0</td>\n",
              "      <td>0.0</td>\n",
              "      <td>0.0</td>\n",
              "      <td>0.0</td>\n",
              "      <td>0.0</td>\n",
              "      <td>0.0</td>\n",
              "      <td>0.0</td>\n",
              "      <td>0.0</td>\n",
              "      <td>0.0</td>\n",
              "      <td>0.0</td>\n",
              "      <td>0.0</td>\n",
              "      <td>0.0</td>\n",
              "      <td>0.0</td>\n",
              "      <td>0.0</td>\n",
              "      <td>0.0</td>\n",
              "      <td>0.0</td>\n",
              "      <td>0.0</td>\n",
              "      <td>0.0</td>\n",
              "      <td>0.0</td>\n",
              "      <td>0.0</td>\n",
              "      <td>0.0</td>\n",
              "      <td>0.0</td>\n",
              "      <td>0.0</td>\n",
              "      <td>0.0</td>\n",
              "      <td>0.0</td>\n",
              "      <td>0.0</td>\n",
              "      <td>0.0</td>\n",
              "      <td>0.0</td>\n",
              "      <td>0.0</td>\n",
              "      <td>3</td>\n",
              "      <td>7</td>\n",
              "      <td>0</td>\n",
              "    </tr>\n",
              "    <tr>\n",
              "      <th>546862</th>\n",
              "      <td>504</td>\n",
              "      <td>535</td>\n",
              "      <td>31</td>\n",
              "      <td>0.0</td>\n",
              "      <td>0.0</td>\n",
              "      <td>0.0</td>\n",
              "      <td>0.0</td>\n",
              "      <td>0.0</td>\n",
              "      <td>0.0</td>\n",
              "      <td>0.0</td>\n",
              "      <td>0.0</td>\n",
              "      <td>0.0</td>\n",
              "      <td>0.0</td>\n",
              "      <td>0.0</td>\n",
              "      <td>0.0</td>\n",
              "      <td>0.0</td>\n",
              "      <td>0.0</td>\n",
              "      <td>0.0</td>\n",
              "      <td>0.0</td>\n",
              "      <td>0.0</td>\n",
              "      <td>0.0</td>\n",
              "      <td>1.0</td>\n",
              "      <td>0.0</td>\n",
              "      <td>0.0</td>\n",
              "      <td>0.0</td>\n",
              "      <td>0.0</td>\n",
              "      <td>0.0</td>\n",
              "      <td>0.0</td>\n",
              "      <td>0.0</td>\n",
              "      <td>0.0</td>\n",
              "      <td>0.0</td>\n",
              "      <td>0.0</td>\n",
              "      <td>0.0</td>\n",
              "      <td>0.0</td>\n",
              "      <td>0.0</td>\n",
              "      <td>0.0</td>\n",
              "      <td>0.0</td>\n",
              "      <td>0.0</td>\n",
              "      <td>0.0</td>\n",
              "      <td>0.0</td>\n",
              "      <td>...</td>\n",
              "      <td>0.0</td>\n",
              "      <td>0.0</td>\n",
              "      <td>0.0</td>\n",
              "      <td>0.0</td>\n",
              "      <td>0.0</td>\n",
              "      <td>0.0</td>\n",
              "      <td>0.0</td>\n",
              "      <td>0.0</td>\n",
              "      <td>0.0</td>\n",
              "      <td>0.0</td>\n",
              "      <td>0.0</td>\n",
              "      <td>0.0</td>\n",
              "      <td>0.0</td>\n",
              "      <td>0.0</td>\n",
              "      <td>0.0</td>\n",
              "      <td>0.0</td>\n",
              "      <td>0.0</td>\n",
              "      <td>0.0</td>\n",
              "      <td>0.0</td>\n",
              "      <td>0.0</td>\n",
              "      <td>0.0</td>\n",
              "      <td>0.0</td>\n",
              "      <td>0.0</td>\n",
              "      <td>0.0</td>\n",
              "      <td>0.0</td>\n",
              "      <td>0.0</td>\n",
              "      <td>0.0</td>\n",
              "      <td>0.0</td>\n",
              "      <td>0.0</td>\n",
              "      <td>0.0</td>\n",
              "      <td>0.0</td>\n",
              "      <td>0.0</td>\n",
              "      <td>0.0</td>\n",
              "      <td>0.0</td>\n",
              "      <td>0.0</td>\n",
              "      <td>0.0</td>\n",
              "      <td>0.0</td>\n",
              "      <td>17</td>\n",
              "      <td>7</td>\n",
              "      <td>0</td>\n",
              "    </tr>\n",
              "  </tbody>\n",
              "</table>\n",
              "<p>5 rows × 414 columns</p>\n",
              "</div>"
            ],
            "text/plain": [
              "        ActualBlock  BlkSched  DiffBlock    0  ...  407  Time  Weekday  Summer\n",
              "546858          742       730         12  0.0  ...  0.0    12        5       1\n",
              "546859          659       655          4  0.0  ...  0.0     3        6       1\n",
              "546860          524       515          9  0.0  ...  0.0    17        6       1\n",
              "546861          436       436          0  0.0  ...  0.0     3        7       0\n",
              "546862          504       535         31  0.0  ...  0.0    17        7       0\n",
              "\n",
              "[5 rows x 414 columns]"
            ]
          },
          "metadata": {
            "tags": []
          },
          "execution_count": 119
        }
      ]
    },
    {
      "cell_type": "markdown",
      "metadata": {
        "id": "VyrH5wvDohKz",
        "colab_type": "text"
      },
      "source": [
        "#Remove the outliers"
      ]
    },
    {
      "cell_type": "code",
      "metadata": {
        "id": "30FD2bx0ye4d",
        "colab_type": "code",
        "outputId": "9090c8ef-5c87-4c71-f153-fd59d9c349ba",
        "colab": {
          "base_uri": "https://localhost:8080/",
          "height": 385
        }
      },
      "source": [
        "#Create boxplot of \"ActualBlock\" to see if there are outliers\n",
        "# Create a figure instance\n",
        "fig = plt.figure(1, figsize=(9, 6))\n",
        "\n",
        "# Create an axes instance\n",
        "ax = fig.add_subplot(111)\n",
        "\n",
        "# Create the boxplot\n",
        "bp = ax.boxplot(data[\"DiffBlock\"])\n",
        "\n",
        "# Save the figure\n",
        "fig.savefig('fig1.png', bbox_inches='tight')\n",
        "\n",
        "## add patch_artist=True option to ax.boxplot() \n",
        "## to get fill color\n",
        "\n",
        "\n",
        "bp = ax.boxplot(data[\"DiffBlock\"], patch_artist=True)\n",
        "\n",
        "## change outline color, fill color and linewidth of the boxes\n",
        "for box in bp['boxes']:\n",
        "    # change outline color\n",
        "    box.set( color='#7570b3', linewidth=2)\n",
        "    # change fill color\n",
        "    box.set( facecolor = '#1b9e77' )\n",
        "\n",
        "## change color and linewidth of the whiskers\n",
        "for whisker in bp['whiskers']:\n",
        "    whisker.set(color='#7570b3', linewidth=2)\n",
        "\n",
        "## change color and linewidth of the caps\n",
        "for cap in bp['caps']:\n",
        "    cap.set(color='#7570b3', linewidth=2)\n",
        "\n",
        "## change color and linewidth of the medians\n",
        "for median in bp['medians']:\n",
        "    median.set(color='#b2df8a', linewidth=2)\n",
        "\n",
        "## change the style of fliers and their fill\n",
        "for flier in bp['fliers']:\n",
        "    flier.set(marker='o', color='#e7298a', alpha=0.5)"
      ],
      "execution_count": 0,
      "outputs": [
        {
          "output_type": "display_data",
          "data": {
            "image/png": "[encoded data removed]",
            "text/plain": [
              "<Figure size 648x432 with 1 Axes>"
            ]
          },
          "metadata": {
            "tags": []
          }
        }
      ]
    },
    {
      "cell_type": "code",
      "metadata": {
        "id": "pp-4jp97_3_Z",
        "colab_type": "code",
        "outputId": "628fce2b-c85f-479c-9d54-bd5bb03d2add",
        "colab": {
          "base_uri": "https://localhost:8080/",
          "height": 253
        }
      },
      "source": [
        "data.tail()"
      ],
      "execution_count": 0,
      "outputs": [
        {
          "output_type": "execute_result",
          "data": {
            "text/html": [
              "<div>\n",
              "<style scoped>\n",
              "    .dataframe tbody tr th:only-of-type {\n",
              "        vertical-align: middle;\n",
              "    }\n",
              "\n",
              "    .dataframe tbody tr th {\n",
              "        vertical-align: top;\n",
              "    }\n",
              "\n",
              "    .dataframe thead th {\n",
              "        text-align: right;\n",
              "    }\n",
              "</style>\n",
              "<table border=\"1\" class=\"dataframe\">\n",
              "  <thead>\n",
              "    <tr style=\"text-align: right;\">\n",
              "      <th></th>\n",
              "      <th>ActualBlock</th>\n",
              "      <th>BlkSched</th>\n",
              "      <th>DiffBlock</th>\n",
              "      <th>0</th>\n",
              "      <th>1</th>\n",
              "      <th>2</th>\n",
              "      <th>3</th>\n",
              "      <th>4</th>\n",
              "      <th>5</th>\n",
              "      <th>6</th>\n",
              "      <th>7</th>\n",
              "      <th>8</th>\n",
              "      <th>9</th>\n",
              "      <th>10</th>\n",
              "      <th>11</th>\n",
              "      <th>12</th>\n",
              "      <th>13</th>\n",
              "      <th>14</th>\n",
              "      <th>15</th>\n",
              "      <th>16</th>\n",
              "      <th>17</th>\n",
              "      <th>18</th>\n",
              "      <th>19</th>\n",
              "      <th>20</th>\n",
              "      <th>21</th>\n",
              "      <th>22</th>\n",
              "      <th>23</th>\n",
              "      <th>24</th>\n",
              "      <th>25</th>\n",
              "      <th>26</th>\n",
              "      <th>27</th>\n",
              "      <th>28</th>\n",
              "      <th>29</th>\n",
              "      <th>30</th>\n",
              "      <th>31</th>\n",
              "      <th>32</th>\n",
              "      <th>33</th>\n",
              "      <th>34</th>\n",
              "      <th>35</th>\n",
              "      <th>36</th>\n",
              "      <th>...</th>\n",
              "      <th>371</th>\n",
              "      <th>372</th>\n",
              "      <th>373</th>\n",
              "      <th>374</th>\n",
              "      <th>375</th>\n",
              "      <th>376</th>\n",
              "      <th>377</th>\n",
              "      <th>378</th>\n",
              "      <th>379</th>\n",
              "      <th>380</th>\n",
              "      <th>381</th>\n",
              "      <th>382</th>\n",
              "      <th>383</th>\n",
              "      <th>384</th>\n",
              "      <th>385</th>\n",
              "      <th>386</th>\n",
              "      <th>387</th>\n",
              "      <th>388</th>\n",
              "      <th>389</th>\n",
              "      <th>390</th>\n",
              "      <th>391</th>\n",
              "      <th>392</th>\n",
              "      <th>393</th>\n",
              "      <th>394</th>\n",
              "      <th>395</th>\n",
              "      <th>396</th>\n",
              "      <th>397</th>\n",
              "      <th>398</th>\n",
              "      <th>399</th>\n",
              "      <th>400</th>\n",
              "      <th>401</th>\n",
              "      <th>402</th>\n",
              "      <th>403</th>\n",
              "      <th>404</th>\n",
              "      <th>405</th>\n",
              "      <th>406</th>\n",
              "      <th>407</th>\n",
              "      <th>Time</th>\n",
              "      <th>Weekday</th>\n",
              "      <th>Summer</th>\n",
              "    </tr>\n",
              "  </thead>\n",
              "  <tbody>\n",
              "    <tr>\n",
              "      <th>546858</th>\n",
              "      <td>742</td>\n",
              "      <td>730</td>\n",
              "      <td>12</td>\n",
              "      <td>0.0</td>\n",
              "      <td>0.0</td>\n",
              "      <td>0.0</td>\n",
              "      <td>0.0</td>\n",
              "      <td>0.0</td>\n",
              "      <td>0.0</td>\n",
              "      <td>0.0</td>\n",
              "      <td>0.0</td>\n",
              "      <td>0.0</td>\n",
              "      <td>0.0</td>\n",
              "      <td>0.0</td>\n",
              "      <td>0.0</td>\n",
              "      <td>0.0</td>\n",
              "      <td>0.0</td>\n",
              "      <td>0.0</td>\n",
              "      <td>0.0</td>\n",
              "      <td>0.0</td>\n",
              "      <td>0.0</td>\n",
              "      <td>1.0</td>\n",
              "      <td>0.0</td>\n",
              "      <td>0.0</td>\n",
              "      <td>0.0</td>\n",
              "      <td>0.0</td>\n",
              "      <td>0.0</td>\n",
              "      <td>0.0</td>\n",
              "      <td>0.0</td>\n",
              "      <td>0.0</td>\n",
              "      <td>0.0</td>\n",
              "      <td>0.0</td>\n",
              "      <td>0.0</td>\n",
              "      <td>0.0</td>\n",
              "      <td>0.0</td>\n",
              "      <td>0.0</td>\n",
              "      <td>0.0</td>\n",
              "      <td>0.0</td>\n",
              "      <td>0.0</td>\n",
              "      <td>0.0</td>\n",
              "      <td>...</td>\n",
              "      <td>0.0</td>\n",
              "      <td>0.0</td>\n",
              "      <td>0.0</td>\n",
              "      <td>0.0</td>\n",
              "      <td>0.0</td>\n",
              "      <td>0.0</td>\n",
              "      <td>0.0</td>\n",
              "      <td>0.0</td>\n",
              "      <td>0.0</td>\n",
              "      <td>0.0</td>\n",
              "      <td>0.0</td>\n",
              "      <td>0.0</td>\n",
              "      <td>0.0</td>\n",
              "      <td>0.0</td>\n",
              "      <td>0.0</td>\n",
              "      <td>0.0</td>\n",
              "      <td>0.0</td>\n",
              "      <td>0.0</td>\n",
              "      <td>0.0</td>\n",
              "      <td>0.0</td>\n",
              "      <td>0.0</td>\n",
              "      <td>0.0</td>\n",
              "      <td>0.0</td>\n",
              "      <td>0.0</td>\n",
              "      <td>0.0</td>\n",
              "      <td>0.0</td>\n",
              "      <td>0.0</td>\n",
              "      <td>0.0</td>\n",
              "      <td>0.0</td>\n",
              "      <td>0.0</td>\n",
              "      <td>0.0</td>\n",
              "      <td>0.0</td>\n",
              "      <td>0.0</td>\n",
              "      <td>0.0</td>\n",
              "      <td>0.0</td>\n",
              "      <td>0.0</td>\n",
              "      <td>0.0</td>\n",
              "      <td>12</td>\n",
              "      <td>5</td>\n",
              "      <td>1</td>\n",
              "    </tr>\n",
              "    <tr>\n",
              "      <th>546859</th>\n",
              "      <td>659</td>\n",
              "      <td>655</td>\n",
              "      <td>4</td>\n",
              "      <td>0.0</td>\n",
              "      <td>0.0</td>\n",
              "      <td>0.0</td>\n",
              "      <td>0.0</td>\n",
              "      <td>0.0</td>\n",
              "      <td>0.0</td>\n",
              "      <td>0.0</td>\n",
              "      <td>0.0</td>\n",
              "      <td>0.0</td>\n",
              "      <td>0.0</td>\n",
              "      <td>0.0</td>\n",
              "      <td>0.0</td>\n",
              "      <td>0.0</td>\n",
              "      <td>0.0</td>\n",
              "      <td>0.0</td>\n",
              "      <td>0.0</td>\n",
              "      <td>0.0</td>\n",
              "      <td>0.0</td>\n",
              "      <td>0.0</td>\n",
              "      <td>0.0</td>\n",
              "      <td>0.0</td>\n",
              "      <td>0.0</td>\n",
              "      <td>0.0</td>\n",
              "      <td>0.0</td>\n",
              "      <td>0.0</td>\n",
              "      <td>0.0</td>\n",
              "      <td>0.0</td>\n",
              "      <td>0.0</td>\n",
              "      <td>0.0</td>\n",
              "      <td>0.0</td>\n",
              "      <td>0.0</td>\n",
              "      <td>0.0</td>\n",
              "      <td>0.0</td>\n",
              "      <td>0.0</td>\n",
              "      <td>0.0</td>\n",
              "      <td>0.0</td>\n",
              "      <td>0.0</td>\n",
              "      <td>...</td>\n",
              "      <td>0.0</td>\n",
              "      <td>0.0</td>\n",
              "      <td>0.0</td>\n",
              "      <td>0.0</td>\n",
              "      <td>0.0</td>\n",
              "      <td>0.0</td>\n",
              "      <td>0.0</td>\n",
              "      <td>0.0</td>\n",
              "      <td>0.0</td>\n",
              "      <td>0.0</td>\n",
              "      <td>0.0</td>\n",
              "      <td>0.0</td>\n",
              "      <td>0.0</td>\n",
              "      <td>0.0</td>\n",
              "      <td>0.0</td>\n",
              "      <td>0.0</td>\n",
              "      <td>0.0</td>\n",
              "      <td>0.0</td>\n",
              "      <td>0.0</td>\n",
              "      <td>0.0</td>\n",
              "      <td>0.0</td>\n",
              "      <td>0.0</td>\n",
              "      <td>0.0</td>\n",
              "      <td>0.0</td>\n",
              "      <td>0.0</td>\n",
              "      <td>0.0</td>\n",
              "      <td>0.0</td>\n",
              "      <td>0.0</td>\n",
              "      <td>0.0</td>\n",
              "      <td>0.0</td>\n",
              "      <td>0.0</td>\n",
              "      <td>0.0</td>\n",
              "      <td>0.0</td>\n",
              "      <td>0.0</td>\n",
              "      <td>0.0</td>\n",
              "      <td>0.0</td>\n",
              "      <td>0.0</td>\n",
              "      <td>3</td>\n",
              "      <td>6</td>\n",
              "      <td>1</td>\n",
              "    </tr>\n",
              "    <tr>\n",
              "      <th>546860</th>\n",
              "      <td>524</td>\n",
              "      <td>515</td>\n",
              "      <td>9</td>\n",
              "      <td>0.0</td>\n",
              "      <td>0.0</td>\n",
              "      <td>0.0</td>\n",
              "      <td>0.0</td>\n",
              "      <td>0.0</td>\n",
              "      <td>0.0</td>\n",
              "      <td>0.0</td>\n",
              "      <td>0.0</td>\n",
              "      <td>0.0</td>\n",
              "      <td>0.0</td>\n",
              "      <td>0.0</td>\n",
              "      <td>0.0</td>\n",
              "      <td>0.0</td>\n",
              "      <td>0.0</td>\n",
              "      <td>0.0</td>\n",
              "      <td>0.0</td>\n",
              "      <td>0.0</td>\n",
              "      <td>0.0</td>\n",
              "      <td>1.0</td>\n",
              "      <td>0.0</td>\n",
              "      <td>0.0</td>\n",
              "      <td>0.0</td>\n",
              "      <td>0.0</td>\n",
              "      <td>0.0</td>\n",
              "      <td>0.0</td>\n",
              "      <td>0.0</td>\n",
              "      <td>0.0</td>\n",
              "      <td>0.0</td>\n",
              "      <td>0.0</td>\n",
              "      <td>0.0</td>\n",
              "      <td>0.0</td>\n",
              "      <td>0.0</td>\n",
              "      <td>0.0</td>\n",
              "      <td>0.0</td>\n",
              "      <td>0.0</td>\n",
              "      <td>0.0</td>\n",
              "      <td>0.0</td>\n",
              "      <td>...</td>\n",
              "      <td>0.0</td>\n",
              "      <td>0.0</td>\n",
              "      <td>0.0</td>\n",
              "      <td>0.0</td>\n",
              "      <td>0.0</td>\n",
              "      <td>0.0</td>\n",
              "      <td>0.0</td>\n",
              "      <td>0.0</td>\n",
              "      <td>0.0</td>\n",
              "      <td>0.0</td>\n",
              "      <td>0.0</td>\n",
              "      <td>0.0</td>\n",
              "      <td>0.0</td>\n",
              "      <td>0.0</td>\n",
              "      <td>0.0</td>\n",
              "      <td>0.0</td>\n",
              "      <td>0.0</td>\n",
              "      <td>0.0</td>\n",
              "      <td>0.0</td>\n",
              "      <td>0.0</td>\n",
              "      <td>0.0</td>\n",
              "      <td>0.0</td>\n",
              "      <td>0.0</td>\n",
              "      <td>0.0</td>\n",
              "      <td>0.0</td>\n",
              "      <td>0.0</td>\n",
              "      <td>0.0</td>\n",
              "      <td>0.0</td>\n",
              "      <td>0.0</td>\n",
              "      <td>0.0</td>\n",
              "      <td>0.0</td>\n",
              "      <td>0.0</td>\n",
              "      <td>0.0</td>\n",
              "      <td>0.0</td>\n",
              "      <td>0.0</td>\n",
              "      <td>0.0</td>\n",
              "      <td>0.0</td>\n",
              "      <td>17</td>\n",
              "      <td>6</td>\n",
              "      <td>1</td>\n",
              "    </tr>\n",
              "    <tr>\n",
              "      <th>546861</th>\n",
              "      <td>436</td>\n",
              "      <td>436</td>\n",
              "      <td>0</td>\n",
              "      <td>0.0</td>\n",
              "      <td>0.0</td>\n",
              "      <td>0.0</td>\n",
              "      <td>0.0</td>\n",
              "      <td>0.0</td>\n",
              "      <td>0.0</td>\n",
              "      <td>0.0</td>\n",
              "      <td>0.0</td>\n",
              "      <td>0.0</td>\n",
              "      <td>0.0</td>\n",
              "      <td>0.0</td>\n",
              "      <td>0.0</td>\n",
              "      <td>0.0</td>\n",
              "      <td>0.0</td>\n",
              "      <td>0.0</td>\n",
              "      <td>0.0</td>\n",
              "      <td>0.0</td>\n",
              "      <td>0.0</td>\n",
              "      <td>0.0</td>\n",
              "      <td>0.0</td>\n",
              "      <td>0.0</td>\n",
              "      <td>0.0</td>\n",
              "      <td>0.0</td>\n",
              "      <td>0.0</td>\n",
              "      <td>0.0</td>\n",
              "      <td>0.0</td>\n",
              "      <td>0.0</td>\n",
              "      <td>0.0</td>\n",
              "      <td>0.0</td>\n",
              "      <td>0.0</td>\n",
              "      <td>0.0</td>\n",
              "      <td>0.0</td>\n",
              "      <td>0.0</td>\n",
              "      <td>0.0</td>\n",
              "      <td>0.0</td>\n",
              "      <td>0.0</td>\n",
              "      <td>0.0</td>\n",
              "      <td>...</td>\n",
              "      <td>0.0</td>\n",
              "      <td>0.0</td>\n",
              "      <td>0.0</td>\n",
              "      <td>0.0</td>\n",
              "      <td>0.0</td>\n",
              "      <td>0.0</td>\n",
              "      <td>0.0</td>\n",
              "      <td>0.0</td>\n",
              "      <td>0.0</td>\n",
              "      <td>0.0</td>\n",
              "      <td>0.0</td>\n",
              "      <td>0.0</td>\n",
              "      <td>0.0</td>\n",
              "      <td>0.0</td>\n",
              "      <td>0.0</td>\n",
              "      <td>0.0</td>\n",
              "      <td>0.0</td>\n",
              "      <td>0.0</td>\n",
              "      <td>0.0</td>\n",
              "      <td>0.0</td>\n",
              "      <td>0.0</td>\n",
              "      <td>0.0</td>\n",
              "      <td>0.0</td>\n",
              "      <td>0.0</td>\n",
              "      <td>0.0</td>\n",
              "      <td>0.0</td>\n",
              "      <td>0.0</td>\n",
              "      <td>0.0</td>\n",
              "      <td>0.0</td>\n",
              "      <td>0.0</td>\n",
              "      <td>0.0</td>\n",
              "      <td>0.0</td>\n",
              "      <td>0.0</td>\n",
              "      <td>0.0</td>\n",
              "      <td>0.0</td>\n",
              "      <td>0.0</td>\n",
              "      <td>0.0</td>\n",
              "      <td>3</td>\n",
              "      <td>7</td>\n",
              "      <td>0</td>\n",
              "    </tr>\n",
              "    <tr>\n",
              "      <th>546862</th>\n",
              "      <td>504</td>\n",
              "      <td>535</td>\n",
              "      <td>31</td>\n",
              "      <td>0.0</td>\n",
              "      <td>0.0</td>\n",
              "      <td>0.0</td>\n",
              "      <td>0.0</td>\n",
              "      <td>0.0</td>\n",
              "      <td>0.0</td>\n",
              "      <td>0.0</td>\n",
              "      <td>0.0</td>\n",
              "      <td>0.0</td>\n",
              "      <td>0.0</td>\n",
              "      <td>0.0</td>\n",
              "      <td>0.0</td>\n",
              "      <td>0.0</td>\n",
              "      <td>0.0</td>\n",
              "      <td>0.0</td>\n",
              "      <td>0.0</td>\n",
              "      <td>0.0</td>\n",
              "      <td>0.0</td>\n",
              "      <td>1.0</td>\n",
              "      <td>0.0</td>\n",
              "      <td>0.0</td>\n",
              "      <td>0.0</td>\n",
              "      <td>0.0</td>\n",
              "      <td>0.0</td>\n",
              "      <td>0.0</td>\n",
              "      <td>0.0</td>\n",
              "      <td>0.0</td>\n",
              "      <td>0.0</td>\n",
              "      <td>0.0</td>\n",
              "      <td>0.0</td>\n",
              "      <td>0.0</td>\n",
              "      <td>0.0</td>\n",
              "      <td>0.0</td>\n",
              "      <td>0.0</td>\n",
              "      <td>0.0</td>\n",
              "      <td>0.0</td>\n",
              "      <td>0.0</td>\n",
              "      <td>...</td>\n",
              "      <td>0.0</td>\n",
              "      <td>0.0</td>\n",
              "      <td>0.0</td>\n",
              "      <td>0.0</td>\n",
              "      <td>0.0</td>\n",
              "      <td>0.0</td>\n",
              "      <td>0.0</td>\n",
              "      <td>0.0</td>\n",
              "      <td>0.0</td>\n",
              "      <td>0.0</td>\n",
              "      <td>0.0</td>\n",
              "      <td>0.0</td>\n",
              "      <td>0.0</td>\n",
              "      <td>0.0</td>\n",
              "      <td>0.0</td>\n",
              "      <td>0.0</td>\n",
              "      <td>0.0</td>\n",
              "      <td>0.0</td>\n",
              "      <td>0.0</td>\n",
              "      <td>0.0</td>\n",
              "      <td>0.0</td>\n",
              "      <td>0.0</td>\n",
              "      <td>0.0</td>\n",
              "      <td>0.0</td>\n",
              "      <td>0.0</td>\n",
              "      <td>0.0</td>\n",
              "      <td>0.0</td>\n",
              "      <td>0.0</td>\n",
              "      <td>0.0</td>\n",
              "      <td>0.0</td>\n",
              "      <td>0.0</td>\n",
              "      <td>0.0</td>\n",
              "      <td>0.0</td>\n",
              "      <td>0.0</td>\n",
              "      <td>0.0</td>\n",
              "      <td>0.0</td>\n",
              "      <td>0.0</td>\n",
              "      <td>17</td>\n",
              "      <td>7</td>\n",
              "      <td>0</td>\n",
              "    </tr>\n",
              "  </tbody>\n",
              "</table>\n",
              "<p>5 rows × 414 columns</p>\n",
              "</div>"
            ],
            "text/plain": [
              "        ActualBlock  BlkSched  DiffBlock    0  ...  407  Time  Weekday  Summer\n",
              "546858          742       730         12  0.0  ...  0.0    12        5       1\n",
              "546859          659       655          4  0.0  ...  0.0     3        6       1\n",
              "546860          524       515          9  0.0  ...  0.0    17        6       1\n",
              "546861          436       436          0  0.0  ...  0.0     3        7       0\n",
              "546862          504       535         31  0.0  ...  0.0    17        7       0\n",
              "\n",
              "[5 rows x 414 columns]"
            ]
          },
          "metadata": {
            "tags": []
          },
          "execution_count": 121
        }
      ]
    },
    {
      "cell_type": "code",
      "metadata": {
        "id": "sX55VR8Oofs0",
        "colab_type": "code",
        "outputId": "6bc1d15b-780a-4239-ebe3-c8be679826c9",
        "colab": {
          "base_uri": "https://localhost:8080/",
          "height": 136
        }
      },
      "source": [
        "#find the outliers\n",
        "oldSize=data.shape[0]\n",
        "Q1 = data[\"DiffBlock\"].quantile(0.25)\n",
        "Q3 = data[\"DiffBlock\"].quantile(0.75)\n",
        "IQR = Q3 - Q1\n",
        "print(IQR)\n",
        "print(Q3)\n",
        "print(Q1)\n",
        "\n",
        "#outliars beeing filtered\n",
        "data = data[~((data[\"DiffBlock\"] < (Q1 - 1.5 * IQR)) |(data[\"DiffBlock\"] > (Q3 + 1.5 * IQR)))]\n",
        "data_kopiert = data_kopiert[~((data_kopiert[\"DiffBlock\"] < (Q1 - 1.5 * IQR)) |(data_kopiert[\"DiffBlock\"] > (Q3 + 1.5 * IQR)))]\n",
        "print(\"percentage of non-outlier flights:\")\n",
        "print(data.shape[0]/oldSize )\n",
        "print(data.shape)\n",
        "print(data_kopiert.shape)"
      ],
      "execution_count": 0,
      "outputs": [
        {
          "output_type": "stream",
          "text": [
            "8.0\n",
            "11.0\n",
            "3.0\n",
            "percentage of non-outlier flights:\n",
            "0.9437738519519514\n",
            "(516115, 414)\n",
            "(516115, 17)\n"
          ],
          "name": "stdout"
        }
      ]
    },
    {
      "cell_type": "markdown",
      "metadata": {
        "id": "PU28G4ASye4w",
        "colab_type": "text"
      },
      "source": [
        "# Build some models"
      ]
    },
    {
      "cell_type": "code",
      "metadata": {
        "id": "4Lc-RJQ-ye4y",
        "colab_type": "code",
        "colab": {}
      },
      "source": [
        "def build_model_simple():\n",
        "    model = Sequential()\n",
        "    model.add(Dense(12, activation='relu',kernel_initializer='normal', input_shape=[len(train_X.keys())]))\n",
        "    model.add(Dense(10, activation='relu',kernel_initializer='normal'))\n",
        "    model.add(Dense(1,kernel_initializer='normal'))\n",
        "    model.compile(loss='mse',\n",
        "                optimizer=\"adam\",\n",
        "                metrics=['mae', 'mse'])\n",
        "    \n",
        "    return model"
      ],
      "execution_count": 0,
      "outputs": []
    },
    {
      "cell_type": "code",
      "metadata": {
        "id": "Wbv2iEzdye40",
        "colab_type": "code",
        "colab": {}
      },
      "source": [
        "def build_model_deeper():\n",
        "    model = Sequential()\n",
        "    model.add(Dense(5, activation='relu',kernel_initializer='normal', input_shape=[len(train_X.keys())]))\n",
        "    model.add(Dense(12, activation='relu',kernel_initializer='normal'))\n",
        "    model.add(Dense(10, activation='relu',kernel_initializer='normal'))\n",
        "    model.add(Dense(5, activation='relu',kernel_initializer='normal'))\n",
        "    model.add(Dense(1,kernel_initializer='normal'))\n",
        "    model.compile(loss='mse',\n",
        "                optimizer=\"adam\",\n",
        "                metrics=['mae', 'mse'])\n",
        "    \n",
        "    return model"
      ],
      "execution_count": 0,
      "outputs": []
    },
    {
      "cell_type": "code",
      "metadata": {
        "id": "hzTKrb3Eye45",
        "colab_type": "code",
        "colab": {}
      },
      "source": [
        "def build_model_wider():\n",
        "    model = Sequential()\n",
        "    model.add(Dense(600, activation='relu',kernel_initializer='normal', input_shape=[len(train_X.keys())]))\n",
        "    model.add(Dense(65, activation='relu',kernel_initializer='normal'))\n",
        "    model.add(Dense(1,kernel_initializer='normal'))\n",
        "    model.compile(loss='mse',\n",
        "                optimizer=\"adam\",\n",
        "                metrics=['mae', 'mse'])\n",
        "    \n",
        "    return model"
      ],
      "execution_count": 0,
      "outputs": []
    },
    {
      "cell_type": "code",
      "metadata": {
        "id": "4VgZ6-C3lz3G",
        "colab_type": "code",
        "colab": {}
      },
      "source": [
        "#build a simple model with a linear layer of dimension 70 to perform PCA for 15 principal components to show later that it has the same effect as PCA\n",
        "def build_pca_model():\n",
        "    model = Sequential()\n",
        "    model.add(Dense(70,kernel_initializer='normal', input_shape=[len(principalComponents_train.keys())])) # 70 principal components\n",
        "    model.add(Dense(12, activation='relu',kernel_initializer='normal'))\n",
        "    model.add(Dense(10, activation='relu',kernel_initializer='normal'))\n",
        "    model.add(Dense(1,kernel_initializer='normal'))\n",
        "    model.compile(loss='mse',\n",
        "                optimizer=\"adam\",\n",
        "                metrics=['mae', 'mse'])\n",
        "    \n",
        "    return model\n"
      ],
      "execution_count": 0,
      "outputs": []
    },
    {
      "cell_type": "code",
      "metadata": {
        "colab_type": "code",
        "id": "Y0qxmvNj017u",
        "colab": {}
      },
      "source": [
        "def build_model_simple_pca():\n",
        "    model = Sequential()\n",
        "    model.add(Dense(12, activation='relu',kernel_initializer='normal', input_shape=[len(principalComponents_train.keys())]))\n",
        "    model.add(Dense(10, activation='relu',kernel_initializer='normal'))\n",
        "    model.add(Dense(1,kernel_initializer='normal'))\n",
        "    model.compile(loss='mse',\n",
        "                optimizer=\"adam\",\n",
        "                metrics=['mae', 'mse'])\n",
        "    \n",
        "    return model"
      ],
      "execution_count": 0,
      "outputs": []
    },
    {
      "cell_type": "markdown",
      "metadata": {
        "id": "rAtwxlRJye5W",
        "colab_type": "text"
      },
      "source": [
        "# Build an evaluation function that tests on time predictions"
      ]
    },
    {
      "cell_type": "code",
      "metadata": {
        "id": "LK39voTVye5X",
        "colab_type": "code",
        "colab": {}
      },
      "source": [
        "\n",
        "def testModel( predict, label,mod):\n",
        "   # print(\"This is evaluation of model on NOT clean test data for model \" + stringArq)\n",
        "    \n",
        "    showScatter(predict,label) #displays a scatter plot of predictions and actual values for test data\n",
        "    showPredictions(predict, label) #displays a table with predictions and actual values for test data\n",
        "    showError(predict, label)\n",
        "    onTime(predict,label)\n",
        "    notLate(predict,label)\n"
      ],
      "execution_count": 0,
      "outputs": []
    },
    {
      "cell_type": "code",
      "metadata": {
        "id": "kSVbcUaQye5a",
        "colab_type": "code",
        "colab": {}
      },
      "source": [
        "def showScatter(predict, label):\n",
        "    plt.scatter(label, predict)\n",
        "    plt.xlabel('True Values [ActualBlock]')\n",
        "    plt.ylabel('Predictions [ActualBlock]')\n",
        "    plt.axis('equal')\n",
        "    plt.axis('square')\n",
        "    plt.xlim([0,plt.xlim()[1]])\n",
        "    plt.ylim([0,plt.ylim()[1]])\n",
        "    _ = plt.plot([-300, 300], [-300, 300])\n",
        "    plt.show()"
      ],
      "execution_count": 0,
      "outputs": []
    },
    {
      "cell_type": "code",
      "metadata": {
        "id": "qQwJBj4lye5c",
        "colab_type": "code",
        "colab": {}
      },
      "source": [
        "def showError(predict, label):\n",
        "    error =  label-predict\n",
        "    plt.hist(error, bins = 25)\n",
        "\n",
        "    plt.xlabel(\"Prediction Error [ActualBlock]\")\n",
        "    _ = plt.ylabel(\"Count\")\n",
        "\n",
        "    plt.xlim([-100,100])\n",
        "    plt.axvline(x=-10, color=\"red\")\n",
        "    plt.axvline(x=10, color = \"red\")\n",
        "    plt.ylim([0,plt.ylim()[1]])\n",
        "    plt.show()\n",
        "\n",
        "    print(\"this is the median of error, negative indicates too long, positive too short\")\n",
        "    print(statistics.median(error))\n",
        "    print(\"this is the average error, negative indicates too long, positive too short\")\n",
        "    print(abs(error).sum()/len(error))\n"
      ],
      "execution_count": 0,
      "outputs": []
    },
    {
      "cell_type": "code",
      "metadata": {
        "id": "deqlEpPqye5d",
        "colab_type": "code",
        "colab": {}
      },
      "source": [
        "def showPredictions(predict,label):\n",
        "    tabel =pd.DataFrame()\n",
        "    tabel[\"Test Predictions\"] =predict\n",
        "    tabel[\"Test ActualBlock\"] =label\n",
        "    print(\"These are the actual Block times and their predictions\")\n",
        "    tabel.tail()"
      ],
      "execution_count": 0,
      "outputs": []
    },
    {
      "cell_type": "code",
      "metadata": {
        "id": "WUYKBOSbye5h",
        "colab_type": "code",
        "colab": {}
      },
      "source": [
        "#check how many of the flights are NOT on time (+- 10 minutes)\n",
        "\n",
        "def onTime(predict, label):\n",
        "    delay = (abs(label-predict) > 10)*1\n",
        "    print(\"this is the percentage of blocktimes whos predictions differmore than +/- 10 minutes from actual block times:\")\n",
        "    print(sum(delay) / len(delay))\n"
      ],
      "execution_count": 0,
      "outputs": []
    },
    {
      "cell_type": "code",
      "metadata": {
        "id": "7IPB_ipdye5m",
        "colab_type": "code",
        "colab": {}
      },
      "source": [
        "#check how many of the flights are more than 10 minutes late\n",
        "\n",
        "def notLate(predict, label):\n",
        "    delay = ((label-predict) > 10)*1\n",
        "    print(\"this is the percentage of blocktimes whos predictions exceed by more than + 10 minutes:\")\n",
        "    print(sum(delay) / len(delay))\n"
      ],
      "execution_count": 0,
      "outputs": []
    },
    {
      "cell_type": "markdown",
      "metadata": {
        "id": "q26-QyK_ye5p",
        "colab_type": "text"
      },
      "source": [
        "# Split and center data"
      ]
    },
    {
      "cell_type": "markdown",
      "metadata": {
        "id": "yty11eoKyAJT",
        "colab_type": "text"
      },
      "source": [
        "Splitting the data "
      ]
    },
    {
      "cell_type": "code",
      "metadata": {
        "id": "o0udUa_OyDOW",
        "colab_type": "code",
        "outputId": "08682bdc-3f2f-4300-f040-5659e52293b5",
        "colab": {
          "base_uri": "https://localhost:8080/",
          "height": 119
        }
      },
      "source": [
        "#splitting data into trianing and test set still including the labels!\n",
        "\n",
        "train_X = data.sample(frac=0.8,random_state=0)\n",
        "test_X = data.drop(train_X.index)\n",
        "train_labels = train_X.pop(\"ActualBlock\")\n",
        "test_labels =test_X.pop(\"ActualBlock\")\n",
        "test_labels.tail()"
      ],
      "execution_count": 0,
      "outputs": [
        {
          "output_type": "execute_result",
          "data": {
            "text/plain": [
              "546839    517\n",
              "546840    502\n",
              "546841    433\n",
              "546857    659\n",
              "546859    659\n",
              "Name: ActualBlock, dtype: int64"
            ]
          },
          "metadata": {
            "tags": []
          },
          "execution_count": 134
        }
      ]
    },
    {
      "cell_type": "markdown",
      "metadata": {
        "id": "A_XnIT1tw9zv",
        "colab_type": "text"
      },
      "source": [
        "#Center the data first:\n"
      ]
    },
    {
      "cell_type": "code",
      "metadata": {
        "id": "UlhT_xg7ye4p",
        "colab_type": "code",
        "colab": {}
      },
      "source": [
        "#center data using RobustScaler\n",
        "transformer = RobustScaler().fit(train_X) \n",
        "RobustScaler(copy=True, quantile_range=(25.0, 75.0), with_centering=True,\n",
        "       with_scaling=True)\n",
        "train_X= transformer.transform(train_X)\n",
        "test_X = transformer.transform(test_X)\n",
        "\n",
        "\n",
        "#make it a pandas dataframe again\n",
        "train_X = pd.DataFrame(train_X)\n",
        "test_X=pd.DataFrame(test_X)"
      ],
      "execution_count": 0,
      "outputs": []
    },
    {
      "cell_type": "markdown",
      "metadata": {
        "id": "FOnikeXFoAwp",
        "colab_type": "text"
      },
      "source": [
        "#Do PCA on training  and test data"
      ]
    },
    {
      "cell_type": "code",
      "metadata": {
        "id": "0mJyWQ6roJGo",
        "colab_type": "code",
        "colab": {}
      },
      "source": [
        "from sklearn.decomposition import PCA\n",
        "pca = PCA(n_components=70)\n",
        "principalComponents_train = pd.DataFrame(pca.fit_transform(train_X))\n",
        "principalComponents_test = pd.DataFrame(pca.transform(test_X))"
      ],
      "execution_count": 0,
      "outputs": []
    },
    {
      "cell_type": "markdown",
      "metadata": {
        "id": "q2zXOAyQrGEt",
        "colab_type": "text"
      },
      "source": [
        "#Training phase"
      ]
    },
    {
      "cell_type": "code",
      "metadata": {
        "id": "0yeWx2ysye5q",
        "colab_type": "code",
        "colab": {}
      },
      "source": [
        "# Display training progress by printing a single dot for each completed epoch\n",
        "class PrintDot(keras.callbacks.Callback):\n",
        "      def on_epoch_end(self, epoch, logs):\n",
        "        if epoch % 100 == 0: print('')\n",
        "        print('.', end='')\n",
        "\n",
        "EPOCHS = 1000\n",
        "\n",
        "# The patience parameter is the amount of epochs to check for improvement Early stopp muss unten als variable in callbacks eingefùegt werden\n",
        "early_stop = keras.callbacks.EarlyStopping(monitor='val_loss', patience=5)"
      ],
      "execution_count": 0,
      "outputs": []
    },
    {
      "cell_type": "code",
      "metadata": {
        "id": "pMsyRCvDye5s",
        "colab_type": "code",
        "colab": {}
      },
      "source": [
        "#dont know if that works, so I wont use it\n",
        "def saveIt(model,  path2=\"my_model.h5\"):\n",
        "    path1 = \"training_1/cp/.ckpt\",\n",
        "    #where the weights are stored\n",
        "    checkpoint_path = path1\n",
        "    checkpoint_dir = os.path.dirname(checkpoint_path)\n",
        "\n",
        "    # Create a callback that saves the model's weights\n",
        "    cp_callback = tf.keras.callbacks.ModelCheckpoint(filepath=checkpoint_path,\n",
        "                                                 save_weights_only=True,\n",
        "                                                 verbose=1)\n",
        "    \n",
        "    # Save the entire model to a HDF5 file.\n",
        "    # The '.h5' extension indicates that the model shuold be saved to HDF5.\n",
        "    model.save(path2) "
      ],
      "execution_count": 0,
      "outputs": []
    },
    {
      "cell_type": "code",
      "metadata": {
        "id": "0MmomYMxye5u",
        "colab_type": "code",
        "colab": {}
      },
      "source": [
        "def trainMyModel(model,X,Y):\n",
        "\n",
        "    history = model.fit(X.values, Y.values, epochs=EPOCHS,\n",
        "                    validation_split = 0.2, verbose=0, callbacks=[early_stop,PrintDot()],batch_size=25)\n",
        "    \n",
        "    hist = pd.DataFrame(history.history)\n",
        "    hist['epoch'] = history.epoch\n",
        "\n",
        "    print(\"Training loss and mean square error\")\n",
        "    print(hist.tail())\n",
        "    plot_history(history)"
      ],
      "execution_count": 0,
      "outputs": []
    },
    {
      "cell_type": "code",
      "metadata": {
        "id": "3jLvda0_ye5x",
        "colab_type": "code",
        "colab": {}
      },
      "source": [
        "def plot_history(history):\n",
        "    hist = pd.DataFrame(history.history)\n",
        "    hist['epoch'] = history.epoch\n",
        "\n",
        "    plt.figure()\n",
        "    plt.xlabel('Epoch')\n",
        "    plt.ylabel('Mean Abs Error [MPG]')\n",
        "    plt.plot(hist['epoch'], hist['mean_absolute_error'],\n",
        "          label='Train Error')\n",
        "    plt.plot(hist['epoch'], hist['val_mean_absolute_error'],\n",
        "           label = 'Val Error')\n",
        "    plt.ylim([0,20])\n",
        "    plt.legend()\n",
        "    plt.show()"
      ],
      "execution_count": 0,
      "outputs": []
    },
    {
      "cell_type": "code",
      "metadata": {
        "id": "m4lpQtHxye50",
        "colab_type": "code",
        "colab": {}
      },
      "source": [
        "#create the models\n",
        "modSimple = build_model_simple()\n",
        "modDeep = build_model_deeper()\n",
        "modWider = build_model_wider()\n",
        "modPCA = build_pca_model()\n",
        "modSimplePCA= build_model_simple_pca()\n",
        "\n",
        "\n"
      ],
      "execution_count": 0,
      "outputs": []
    },
    {
      "cell_type": "code",
      "metadata": {
        "id": "keQKSUVyye5_",
        "colab_type": "code",
        "outputId": "ad5b4779-e818-4037-b045-53e4bbf3f71c",
        "colab": {
          "base_uri": "https://localhost:8080/",
          "height": 470
        }
      },
      "source": [
        "print(\"This is a simple Network\")\n",
        "trainMyModel(modSimple,train_X, train_labels)\n",
        "#saveIt(modSimple, \"modSimple.ckpt\")\n",
        "modSimple.save(\"modSimple.h5\")"
      ],
      "execution_count": 0,
      "outputs": [
        {
          "output_type": "stream",
          "text": [
            "This is a simple Network\n",
            "\n",
            "..........................Training loss and mean square error\n",
            "         loss  mean_absolute_error  ...  val_mean_squared_error  epoch\n",
            "21  60.903769             5.549831  ...               60.783424     21\n",
            "22  60.880610             5.544992  ...               61.462734     22\n",
            "23  60.905308             5.548147  ...               61.103992     23\n",
            "24  60.874412             5.542908  ...               62.137753     24\n",
            "25  60.826617             5.542892  ...               62.026691     25\n",
            "\n",
            "[5 rows x 7 columns]\n"
          ],
          "name": "stdout"
        },
        {
          "output_type": "display_data",
          "data": {
            "image/png": "[encoded data removed]",
            "text/plain": [
              "<Figure size 432x288 with 1 Axes>"
            ]
          },
          "metadata": {
            "tags": []
          }
        }
      ]
    },
    {
      "cell_type": "code",
      "metadata": {
        "id": "DjkXLSVMye6B",
        "colab_type": "code",
        "outputId": "ac43779d-1ac5-4599-d5cc-b95cbb53d059",
        "colab": {
          "base_uri": "https://localhost:8080/",
          "height": 470
        }
      },
      "source": [
        "print(\"This is a deeper Network\")\n",
        "trainMyModel(modDeep,train_X, train_labels)\n",
        "#saveIt(modDeep, \"modDeep.ckpt\")\n",
        "modDeep.save(\"modDeep.h5\")"
      ],
      "execution_count": 0,
      "outputs": [
        {
          "output_type": "stream",
          "text": [
            "This is a deeper Network\n",
            "\n",
            "...........Training loss and mean square error\n",
            "         loss  mean_absolute_error  ...  val_mean_squared_error  epoch\n",
            "6   63.319321             5.707225  ...               62.993050      6\n",
            "7   63.284907             5.702951  ...               63.109356      7\n",
            "8   63.136960             5.698265  ...               62.523869      8\n",
            "9   63.021737             5.689871  ...               62.500824      9\n",
            "10  63.093331             5.692406  ...               66.840019     10\n",
            "\n",
            "[5 rows x 7 columns]\n"
          ],
          "name": "stdout"
        },
        {
          "output_type": "display_data",
          "data": {
            "image/png": "[encoded data removed]",
            "text/plain": [
              "<Figure size 432x288 with 1 Axes>"
            ]
          },
          "metadata": {
            "tags": []
          }
        }
      ]
    },
    {
      "cell_type": "code",
      "metadata": {
        "id": "9WXw3Bbtye6D",
        "colab_type": "code",
        "outputId": "f62248a0-8c2d-416e-a819-9a5fc8a1a63a",
        "colab": {
          "base_uri": "https://localhost:8080/",
          "height": 470
        }
      },
      "source": [
        "print(\"This is a wider Network\")\n",
        "trainMyModel(modWider,train_X, train_labels)\n",
        "#saveIt(modWider, \"modWider.ckpt\")\n",
        "modWider.save(\"modWider.h5\")"
      ],
      "execution_count": 0,
      "outputs": [
        {
          "output_type": "stream",
          "text": [
            "This is a wider Network\n",
            "\n",
            ".....................Training loss and mean square error\n",
            "         loss  mean_absolute_error  ...  val_mean_squared_error  epoch\n",
            "16  53.684050             5.012355  ...               55.343021     16\n",
            "17  53.334346             4.992543  ...               55.004608     17\n",
            "18  53.185657             4.981677  ...               58.895935     18\n",
            "19  53.005209             4.973621  ...               54.348022     19\n",
            "20  52.701190             4.956374  ...               54.218113     20\n",
            "\n",
            "[5 rows x 7 columns]\n"
          ],
          "name": "stdout"
        },
        {
          "output_type": "display_data",
          "data": {
            "image/png": "[encoded data removed]",
            "text/plain": [
              "<Figure size 432x288 with 1 Axes>"
            ]
          },
          "metadata": {
            "tags": []
          }
        }
      ]
    },
    {
      "cell_type": "markdown",
      "metadata": {
        "id": "rgozGD3wrWzg",
        "colab_type": "text"
      },
      "source": [
        "# Observe PCA model "
      ]
    },
    {
      "cell_type": "markdown",
      "metadata": {
        "id": "ttcgHcWhrheD",
        "colab_type": "text"
      },
      "source": [
        "We are observing the model with a linear first hidden layer, of dimension 70, that is supposed to have the same effect as performing PCA for 70 principal components and than apply the simple model to it."
      ]
    },
    {
      "cell_type": "code",
      "metadata": {
        "id": "DIhWRMnvrWDU",
        "colab_type": "code",
        "outputId": "be638d9c-bc86-4e48-d7f3-56fca7fd87dc",
        "colab": {
          "base_uri": "https://localhost:8080/",
          "height": 470
        }
      },
      "source": [
        "print(\"This is PCA Network, on centered data\")\n",
        "trainMyModel(modPCA,principalComponents_train, train_labels)\n"
      ],
      "execution_count": 0,
      "outputs": [
        {
          "output_type": "stream",
          "text": [
            "This is PCA Network, on centered data\n",
            "\n",
            ".................Training loss and mean square error\n",
            "         loss  mean_absolute_error  ...  val_mean_squared_error  epoch\n",
            "12  66.286332             5.882587  ...               65.004395     12\n",
            "13  66.140934             5.881386  ...               64.838127     13\n",
            "14  66.135480             5.876434  ...               66.089134     14\n",
            "15  66.087381             5.872535  ...               75.755379     15\n",
            "16  66.085777             5.874361  ...               65.143669     16\n",
            "\n",
            "[5 rows x 7 columns]\n"
          ],
          "name": "stdout"
        },
        {
          "output_type": "display_data",
          "data": {
            "image/png": "[encoded data removed]",
            "text/plain": [
              "<Figure size 432x288 with 1 Axes>"
            ]
          },
          "metadata": {
            "tags": []
          }
        }
      ]
    },
    {
      "cell_type": "code",
      "metadata": {
        "id": "gk5tHJSdsFuH",
        "colab_type": "code",
        "outputId": "314a8297-7f84-4bff-e835-af322dff8618",
        "colab": {
          "base_uri": "https://localhost:8080/",
          "height": 470
        }
      },
      "source": [
        "print(\"This is simple Network, on data, that has been transformed with PCA\")\n",
        "trainMyModel(modSimplePCA,principalComponents_train, train_labels)"
      ],
      "execution_count": 0,
      "outputs": [
        {
          "output_type": "stream",
          "text": [
            "This is simple Network, on data, that has been transformed with PCA\n",
            "\n",
            "..............Training loss and mean square error\n",
            "         loss  mean_absolute_error  ...  val_mean_squared_error  epoch\n",
            "9   61.576189             5.560499  ...               61.325920      9\n",
            "10  61.484943             5.558392  ...               60.871849     10\n",
            "11  61.429780             5.550623  ...               60.929153     11\n",
            "12  61.362384             5.546337  ...               61.095490     12\n",
            "13  61.291385             5.545840  ...               61.585075     13\n",
            "\n",
            "[5 rows x 7 columns]\n"
          ],
          "name": "stdout"
        },
        {
          "output_type": "display_data",
          "data": {
            "image/png": "[encoded data removed]",
            "text/plain": [
              "<Figure size 432x288 with 1 Axes>"
            ]
          },
          "metadata": {
            "tags": []
          }
        }
      ]
    },
    {
      "cell_type": "markdown",
      "metadata": {
        "id": "rvSVSm_yye6Q",
        "colab_type": "text"
      },
      "source": [
        "#  Evaluate models on test data"
      ]
    },
    {
      "cell_type": "code",
      "metadata": {
        "id": "CxmWSoWYye6V",
        "colab_type": "code",
        "outputId": "4d7cf690-6921-455e-9a9c-4b78fe7c7515",
        "colab": {
          "base_uri": "https://localhost:8080/",
          "height": 711
        }
      },
      "source": [
        "print(\"This is a simple Network\")\n",
        "testModel(modSimple.predict(test_X).flatten(),test_labels,modSimple)\n"
      ],
      "execution_count": 0,
      "outputs": [
        {
          "output_type": "stream",
          "text": [
            "This is a simple Network\n"
          ],
          "name": "stdout"
        },
        {
          "output_type": "display_data",
          "data": {
            "image/png": "[encoded data removed]",
            "text/plain": [
              "<Figure size 432x288 with 1 Axes>"
            ]
          },
          "metadata": {
            "tags": []
          }
        },
        {
          "output_type": "stream",
          "text": [
            "These are the actual Block times and their predictions\n"
          ],
          "name": "stdout"
        },
        {
          "output_type": "display_data",
          "data": {
            "image/png": "[encoded data removed]",
            "text/plain": [
              "<Figure size 432x288 with 1 Axes>"
            ]
          },
          "metadata": {
            "tags": []
          }
        },
        {
          "output_type": "stream",
          "text": [
            "this is the median of error, negative indicates too long, positive too short\n",
            "-1.8523292541503906\n",
            "this is the average error, negative indicates too long, positive too short\n",
            "5.800365460064143\n",
            "this is the percentage of blocktimes whos predictions differmore than +/- 10 minutes from actual block times:\n",
            "0.17705356364376157\n",
            "this is the percentage of blocktimes whos predictions exceed by more than + 10 minutes:\n",
            "0.09023182817782859\n"
          ],
          "name": "stdout"
        }
      ]
    },
    {
      "cell_type": "code",
      "metadata": {
        "id": "1qfAEyxaye6X",
        "colab_type": "code",
        "outputId": "71041e34-afb9-4ac0-f7ec-dcffe31f77d6",
        "colab": {
          "base_uri": "https://localhost:8080/",
          "height": 711
        }
      },
      "source": [
        "print(\"This is a deeper Network\")\n",
        "testModel(modDeep.predict(test_X).flatten(),test_labels,modDeep)\n"
      ],
      "execution_count": 0,
      "outputs": [
        {
          "output_type": "stream",
          "text": [
            "This is a deeper Network\n"
          ],
          "name": "stdout"
        },
        {
          "output_type": "display_data",
          "data": {
            "image/png": "[encoded data removed]",
            "text/plain": [
              "<Figure size 432x288 with 1 Axes>"
            ]
          },
          "metadata": {
            "tags": []
          }
        },
        {
          "output_type": "stream",
          "text": [
            "These are the actual Block times and their predictions\n"
          ],
          "name": "stdout"
        },
        {
          "output_type": "display_data",
          "data": {
            "image/png": "[encoded data removed]",
            "text/plain": [
              "<Figure size 432x288 with 1 Axes>"
            ]
          },
          "metadata": {
            "tags": []
          }
        },
        {
          "output_type": "stream",
          "text": [
            "this is the median of error, negative indicates too long, positive too short\n",
            "0.1387939453125\n",
            "this is the average error, negative indicates too long, positive too short\n",
            "5.4106993806379124\n",
            "this is the percentage of blocktimes whos predictions differmore than +/- 10 minutes from actual block times:\n",
            "0.1583755558354243\n",
            "this is the percentage of blocktimes whos predictions exceed by more than + 10 minutes:\n",
            "0.13239297443399242\n"
          ],
          "name": "stdout"
        }
      ]
    },
    {
      "cell_type": "code",
      "metadata": {
        "id": "2-TnOF45ye6Y",
        "colab_type": "code",
        "outputId": "10a69bb6-d02d-4b04-823b-4c948125144f",
        "colab": {
          "base_uri": "https://localhost:8080/",
          "height": 711
        }
      },
      "source": [
        "print(\"This is a wider Network\")\n",
        "testModel(modWider.predict(test_X).flatten(),test_labels,modWider)\n"
      ],
      "execution_count": 0,
      "outputs": [
        {
          "output_type": "stream",
          "text": [
            "This is a wider Network\n"
          ],
          "name": "stdout"
        },
        {
          "output_type": "display_data",
          "data": {
            "image/png": "[encoded data removed]",
            "text/plain": [
              "<Figure size 432x288 with 1 Axes>"
            ]
          },
          "metadata": {
            "tags": []
          }
        },
        {
          "output_type": "stream",
          "text": [
            "These are the actual Block times and their predictions\n"
          ],
          "name": "stdout"
        },
        {
          "output_type": "display_data",
          "data": {
            "image/png": "[encoded data removed]",
            "text/plain": [
              "<Figure size 432x288 with 1 Axes>"
            ]
          },
          "metadata": {
            "tags": []
          }
        },
        {
          "output_type": "stream",
          "text": [
            "this is the median of error, negative indicates too long, positive too short\n",
            "-0.3882293701171875\n",
            "this is the average error, negative indicates too long, positive too short\n",
            "5.017388850651752\n",
            "this is the percentage of blocktimes whos predictions differmore than +/- 10 minutes from actual block times:\n",
            "0.1412185268786995\n",
            "this is the percentage of blocktimes whos predictions exceed by more than + 10 minutes:\n",
            "0.0859304612344148\n"
          ],
          "name": "stdout"
        }
      ]
    }
  ]
}