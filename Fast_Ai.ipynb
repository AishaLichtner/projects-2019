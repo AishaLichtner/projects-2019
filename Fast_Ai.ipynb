{
  "nbformat": 4,
  "nbformat_minor": 0,
  "metadata": {
    "colab": {
      "name": "Fast Ai.ipynb",
      "provenance": [],
      "authorship_tag": "ABX9TyOqypWvWAiwpmNDS9aJ/uGW",
      "include_colab_link": true
    },
    "kernelspec": {
      "name": "python3",
      "display_name": "Python 3"
    },
    "language_info": {
      "name": "python"
    },
    "accelerator": "GPU"
  },
  "cells": [
    {
      "cell_type": "markdown",
      "metadata": {
        "id": "view-in-github",
        "colab_type": "text"
      },
      "source": [
        "<a href=\"https://colab.research.google.com/github/AishaLichtner/projects-2019/blob/master/Fast_Ai.ipynb\" target=\"_parent\"><img src=\"https://colab.research.google.com/assets/colab-badge.svg\" alt=\"Open In Colab\"/></a>"
      ]
    },
    {
      "cell_type": "code",
      "execution_count": 1,
      "metadata": {
        "id": "P9G6Sxqo84Gx",
        "colab": {
          "base_uri": "https://localhost:8080/"
        },
        "outputId": "fd4c998f-5668-4778-de48-a11c83fd73f1"
      },
      "outputs": [
        {
          "output_type": "stream",
          "name": "stdout",
          "text": [
            "\u001b[K     |████████████████████████████████| 720 kB 4.1 MB/s \n",
            "\u001b[K     |████████████████████████████████| 189 kB 40.4 MB/s \n",
            "\u001b[K     |████████████████████████████████| 48 kB 5.5 MB/s \n",
            "\u001b[K     |████████████████████████████████| 1.2 MB 41.8 MB/s \n",
            "\u001b[K     |████████████████████████████████| 55 kB 3.9 MB/s \n",
            "\u001b[K     |████████████████████████████████| 51 kB 309 kB/s \n",
            "\u001b[K     |████████████████████████████████| 561 kB 51.0 MB/s \n",
            "\u001b[K     |████████████████████████████████| 130 kB 51.1 MB/s \n",
            "\u001b[?25hMounted at /content/gdrive\n"
          ]
        }
      ],
      "source": [
        "!pip install -Uqq fastbook\n",
        "import fastbook\n",
        "fastbook.setup_book()"
      ]
    },
    {
      "cell_type": "code",
      "source": [
        "from fastbook import *"
      ],
      "metadata": {
        "id": "SdKu049mHSE9"
      },
      "execution_count": 2,
      "outputs": []
    }
  ]
}