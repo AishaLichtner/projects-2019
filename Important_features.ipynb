{
  "nbformat": 4,
  "nbformat_minor": 0,
  "metadata": {
    "kernelspec": {
      "display_name": "Python 3",
      "language": "python",
      "name": "python3"
    },
    "language_info": {
      "codemirror_mode": {
        "name": "ipython",
        "version": 3
      },
      "file_extension": ".py",
      "mimetype": "text/x-python",
      "name": "python",
      "nbconvert_exporter": "python",
      "pygments_lexer": "ipython3",
      "version": "3.7.5"
    },
    "colab": {
      "name": "Important features.ipynb",
      "provenance": [],
      "toc_visible": true,
      "include_colab_link": true
    }
  },
  "cells": [
    {
      "cell_type": "markdown",
      "metadata": {
        "id": "view-in-github",
        "colab_type": "text"
      },
      "source": [
        "<a href=\"https://colab.research.google.com/github/AishaLichtner/projects-2019/blob/master/Important_features.ipynb\" target=\"_parent\"><img src=\"https://colab.research.google.com/assets/colab-badge.svg\" alt=\"Open In Colab\"/></a>"
      ]
    },
    {
      "cell_type": "code",
      "metadata": {
        "id": "_7MVIBnIp_9V",
        "colab_type": "code",
        "outputId": "0e1c078f-88d2-41c7-a0ca-1331fde0a14f",
        "colab": {
          "base_uri": "https://localhost:8080/",
          "height": 97
        }
      },
      "source": [
        "from __future__ import absolute_import, division, print_function, unicode_literals\n",
        "import os\n",
        "import tensorflow.compat.v1 as tf\n",
        "from tensorflow import keras\n",
        "\n",
        "from tensorflow.keras.models import Sequential\n",
        "from tensorflow.keras.layers import Dense, Conv2D,Conv1D,Conv3D, MaxPool2D , Flatten\n",
        "from tensorflow.keras.preprocessing.image import ImageDataGenerator\n",
        "\n",
        "\n",
        "from tensorflow.keras.wrappers.scikit_learn import KerasRegressor\n",
        "from sklearn.model_selection import cross_val_score\n",
        "from sklearn.model_selection import KFold\n",
        "from sklearn.preprocessing import StandardScaler,RobustScaler\n",
        "from sklearn.pipeline import Pipeline\n",
        "\n",
        "from sklearn.model_selection import GridSearchCV\n",
        "from sklearn.linear_model import Ridge\n",
        "\n",
        "\n",
        "\n",
        "from tensorflow.keras import optimizers as opt\n",
        "import tensorflow.keras.backend as K\n",
        "import pathlib\n",
        "\n",
        "import matplotlib.pyplot as plt\n",
        "import pandas as pd\n",
        "import seaborn as sns\n",
        "\n",
        "import datetime\n",
        "import statistics\n",
        "\n",
        "\n",
        "#get last sunday of the month\n",
        "import sys\n",
        "import calendar\n",
        "\n",
        "from tensorflow.keras import layers\n",
        "\n",
        "print(tf.__version__)\n",
        "\n",
        "import numpy as np     # matrix structures, linear algebra functions etc\n",
        "from sklearn.linear_model import LinearRegression   # linear regression model\n",
        "from sklearn.metrics import mean_squared_error, mean_absolute_error   # accuracy metrics\n",
        "\n",
        "\n",
        "from collections import Counter\n",
        "\n",
        "import io"
      ],
      "execution_count": 0,
      "outputs": [
        {
          "output_type": "display_data",
          "data": {
            "text/html": [
              "<p style=\"color: red;\">\n",
              "The default version of TensorFlow in Colab will soon switch to TensorFlow 2.x.<br>\n",
              "We recommend you <a href=\"https://www.tensorflow.org/guide/migrate\" target=\"_blank\">upgrade</a> now \n",
              "or ensure your notebook will continue to use TensorFlow 1.x via the <code>%tensorflow_version 1.x</code> magic:\n",
              "<a href=\"https://colab.research.google.com/notebooks/tensorflow_version.ipynb\" target=\"_blank\">more info</a>.</p>\n"
            ],
            "text/plain": [
              "<IPython.core.display.HTML object>"
            ]
          },
          "metadata": {
            "tags": []
          }
        },
        {
          "output_type": "stream",
          "text": [
            "1.15.0\n",
            "1.15.0\n"
          ],
          "name": "stdout"
        }
      ]
    },
    {
      "cell_type": "code",
      "metadata": {
        "id": "j_xEIWGbsgXd",
        "colab_type": "code",
        "outputId": "413e25fd-f647-4bed-c795-7f5fb6014de6",
        "colab": {
          "resources": {
            "http://localhost:8080/nbextensions/google.colab/files.js": {
              "data": "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",
              "ok": true,
              "headers": [
                [
                  "content-type",
                  "application/javascript"
                ]
              ],
              "status": 200,
              "status_text": ""
            }
          },
          "base_uri": "https://localhost:8080/",
          "height": 63
        }
      },
      "source": [
        "from google.colab import files\n",
        "uploaded = files.upload()"
      ],
      "execution_count": 0,
      "outputs": [
        {
          "output_type": "display_data",
          "data": {
            "text/html": [
              "\n",
              "     <input type=\"file\" id=\"files-9c7ed4f9-3345-456b-b6b8-c2b8dbeabe2a\" name=\"files[]\" multiple disabled />\n",
              "     <output id=\"result-9c7ed4f9-3345-456b-b6b8-c2b8dbeabe2a\">\n",
              "      Upload widget is only available when the cell has been executed in the\n",
              "      current browser session. Please rerun this cell to enable.\n",
              "      </output>\n",
              "      <script src=\"/nbextensions/google.colab/files.js\"></script> "
            ],
            "text/plain": [
              "<IPython.core.display.HTML object>"
            ]
          },
          "metadata": {
            "tags": []
          }
        },
        {
          "output_type": "display_data",
          "data": {
            "text/html": [
              "\n",
              "     <input type=\"file\" id=\"files-c2dc9f79-eca7-4493-a983-b762c202d1ba\" name=\"files[]\" multiple disabled />\n",
              "     <output id=\"result-c2dc9f79-eca7-4493-a983-b762c202d1ba\">\n",
              "      Upload widget is only available when the cell has been executed in the\n",
              "      current browser session. Please rerun this cell to enable.\n",
              "      </output>\n",
              "      <script src=\"/nbextensions/google.colab/files.js\"></script> "
            ],
            "text/plain": [
              "<IPython.core.display.HTML object>"
            ]
          },
          "metadata": {
            "tags": []
          }
        }
      ]
    },
    {
      "cell_type": "code",
      "metadata": {
        "id": "WnVLhPi7PFR_",
        "colab_type": "code",
        "outputId": "d9f6aab2-405f-47f4-9f7c-38887d811f0d",
        "colab": {
          "base_uri": "https://localhost:8080/",
          "height": 34
        }
      },
      "source": [
        "uploaded"
      ],
      "execution_count": 0,
      "outputs": [
        {
          "output_type": "execute_result",
          "data": {
            "text/plain": [
              "{}"
            ]
          },
          "metadata": {
            "tags": []
          },
          "execution_count": 3
        }
      ]
    },
    {
      "cell_type": "code",
      "metadata": {
        "id": "NeB51bGCuDYu",
        "colab_type": "code",
        "colab": {}
      },
      "source": [
        "from google.colab import drive\n",
        "\n",
        "drive.mount('/content/drive')\n",
        "path = \"/content/drive/My Drive/data/blocks.csv\"\n",
        "path2 =\"/content/drive/My Drive/data/flightpairs.csv\"\n",
        "data = pd.read_csv(path,sep = ';', encoding=\"utf-8-sig\")\n",
        "flightpairs= pd.read_csv(path2,sep = ';', encoding=\"utf-8-sig\")\n",
        "# Dataset is now stored in a Pandas Dataframe"
      ],
      "execution_count": 0,
      "outputs": []
    },
    {
      "cell_type": "code",
      "metadata": {
        "id": "PvFszu-5p_9o",
        "colab_type": "code",
        "colab": {}
      },
      "source": [
        "\n",
        "flightpairs=pd.DataFrame(flightpairs)\n",
        "data"
      ],
      "execution_count": 0,
      "outputs": []
    },
    {
      "cell_type": "code",
      "metadata": {
        "id": "5JPfYRjkp_9u",
        "colab_type": "code",
        "colab": {}
      },
      "source": [
        "#exclude flights that are operated by other companies\n",
        "data = data.loc[data[\"AOC\"] != \"WET\"]\n"
      ],
      "execution_count": 0,
      "outputs": []
    },
    {
      "cell_type": "code",
      "metadata": {
        "id": "tsQ_lEmhp_9y",
        "colab_type": "code",
        "colab": {}
      },
      "source": [
        "flightpairs.tail()\n",
        "data.tail()\n",
        "print(flightpairs.values)\n",
        "#delete rows with invalid entries (nan-values)\n",
        "data = data.dropna()\n",
        "print(len(flightpairs))\n",
        "flightpairs=flightpairs.dropna()\n",
        "print(len(flightpairs))"
      ],
      "execution_count": 0,
      "outputs": []
    },
    {
      "cell_type": "markdown",
      "metadata": {
        "id": "SneRQhJEp_92",
        "colab_type": "text"
      },
      "source": [
        "Filter by Season"
      ]
    },
    {
      "cell_type": "code",
      "metadata": {
        "id": "crhEh_E6p_93",
        "colab_type": "code",
        "colab": {}
      },
      "source": [
        "#exclude date colum of flightBlock so we can split it in more information\n",
        "date= data.pop(\"Std UTC\")\n",
        "date"
      ],
      "execution_count": 0,
      "outputs": []
    },
    {
      "cell_type": "code",
      "metadata": {
        "id": "Z8uBsnKrp_98",
        "colab_type": "code",
        "colab": {}
      },
      "source": [
        "\n",
        "def lastSunday(year,month):\n",
        "    if len(sys.argv) > 1:\n",
        "        try:\n",
        "            year = int(sys.argv[-1])\n",
        "        except ValueError:\n",
        "            pass\n",
        " \n",
        "   \n",
        "    last_sunday = max(week[-1] for week in calendar.monthcalendar(year, month))\n",
        "    #print('{}-{}-{:2}'.format(year, calendar.month_abbr[month], last_sunday))\n",
        "    return last_sunday\n"
      ],
      "execution_count": 0,
      "outputs": []
    },
    {
      "cell_type": "code",
      "metadata": {
        "id": "i-D3zRORp_9_",
        "colab_type": "code",
        "colab": {}
      },
      "source": [
        "#returns 1 for winterseason and 0 for summer season\n",
        "def getSeason(d):\n",
        "\n",
        "    if (d.month<3 or d.month > 10):\n",
        "        return 1;\n",
        "    elif (d.month == 3 and d.day < lastSunday(d.year, d.month)):\n",
        "        return 1;\n",
        "    elif (d.month == 10 and d.day >= lastSunday(d.year, d.month)):\n",
        "        return 1;\n",
        "    else:\n",
        "        return 0;\n",
        "    "
      ],
      "execution_count": 0,
      "outputs": []
    },
    {
      "cell_type": "code",
      "metadata": {
        "id": "n7ot-eDVp_-D",
        "colab_type": "code",
        "colab": {}
      },
      "source": [
        "import random\n",
        "#create some more categories like time of the day, year, weekday and season\n",
        "#date is the column of flightBlock \n",
        "dateForm=[datetime.datetime.strptime(s,'%d.%m.%Y %H:%M') for s in date]\n",
        "#add some random small number to the time\n",
        "times= [x.hour  for x in dateForm]\n",
        "weekdays =[x.weekday()+1 for x in dateForm]\n",
        "months= [x.month for x in dateForm]\n",
        "summer=[(getSeason(x)==0)*1  for x in dateForm]\n",
        "\n",
        "#timesUni= [x.hour + random.uniform(0,0.5) for x in dateForm]\n",
        "#weekdaysUni =[x.weekday()+1+ random.uniform(0,0.5) for x in dateForm]\n",
        "#monthsUni= [x.month + random.uniform(0,0.5) for x in dateForm]\n"
      ],
      "execution_count": 0,
      "outputs": []
    },
    {
      "cell_type": "code",
      "metadata": {
        "id": "CEH4iqvJp_-H",
        "colab_type": "code",
        "colab": {}
      },
      "source": [
        "dataUni=data.copy()\n",
        "\n",
        "data['Time'] = times\n",
        "data[\"Weekday\"] = weekdays\n",
        "data[\"Summer\"] = summer\n",
        "data[\"Month\"]=months\n",
        "#data[\"Summer\"]\n",
        "\n",
        "\n",
        "#dataUni['Time'] = timesUni\n",
        "#dataUni[\"Weekday\"] = weekdaysUni\n",
        "#dataUni[\"Summer\"] = summer\n",
        "#dataUni[\"Month\"]=monthsUni"
      ],
      "execution_count": 0,
      "outputs": []
    },
    {
      "cell_type": "code",
      "metadata": {
        "id": "L9wNPa-8p_-M",
        "colab_type": "code",
        "colab": {}
      },
      "source": [
        "data[\"Delay\"]=(data[\"ActualBlock\"]-data[\"BlkSched\"])"
      ],
      "execution_count": 0,
      "outputs": []
    },
    {
      "cell_type": "code",
      "metadata": {
        "id": "3z-CRu4dp_-Q",
        "colab_type": "code",
        "colab": {}
      },
      "source": [
        "data.tail()"
      ],
      "execution_count": 0,
      "outputs": []
    },
    {
      "cell_type": "code",
      "metadata": {
        "id": "leNUdSscp_-T",
        "colab_type": "code",
        "colab": {}
      },
      "source": [
        "def createCityPairSummer(str_citypair):\n",
        "    cityPair=pd.DataFrame\n",
        "    cityPair= data.loc[((data['DP Iatacode']+ data['AR Iatacode'] == str_citypair) & data[\"Summer\"])]\n",
        "    return cityPair.dropna()"
      ],
      "execution_count": 0,
      "outputs": []
    },
    {
      "cell_type": "code",
      "metadata": {
        "id": "Xp8vVMGUp_-V",
        "colab_type": "code",
        "colab": {}
      },
      "source": [
        "def createCityPairWinter(str_citypair):\n",
        "    cityP=pd.DataFrame\n",
        "    cityP= data.loc[((data['DP Iatacode']+ data['AR Iatacode'] == str_citypair) & (data[\"Summer\"]==0))]\n",
        "    return cityP.dropna()"
      ],
      "execution_count": 0,
      "outputs": []
    },
    {
      "cell_type": "code",
      "metadata": {
        "id": "DpzXBSSsp_-X",
        "colab_type": "code",
        "colab": {}
      },
      "source": [
        "createCityPairSummer(\"BOSFCO\")"
      ],
      "execution_count": 0,
      "outputs": []
    },
    {
      "cell_type": "code",
      "metadata": {
        "scrolled": true,
        "id": "pvAjjqjSp_-a",
        "colab_type": "code",
        "colab": {}
      },
      "source": [
        "createCityPairWinter(\"BOSFCO\")"
      ],
      "execution_count": 0,
      "outputs": []
    },
    {
      "cell_type": "code",
      "metadata": {
        "id": "wo5BOTxhp_-e",
        "colab_type": "code",
        "colab": {}
      },
      "source": [
        "listOfPairs= []\n",
        "print(type(flightpairs.values[0]))\n",
        "for i in flightpairs.values:\n",
        "        if(i[0] != \"NaN\"):\n",
        "            summer=createCityPairSummer(i[0])\n",
        "            summer=summer.dropna()\n",
        "            winter=createCityPairWinter(i[0])\n",
        "            winter=winter.dropna()\n",
        "#Finde den boesewicht \n",
        "#           if(i[0] == \"BOSFCO\"):\n",
        " #               print(\"hab die Arschgeige\")\n",
        "        \n",
        "            if(len(summer) > 10): \n",
        "                listOfPairs.append(summer)\n",
        "            if(len(winter) > 10):\n",
        "                listOfPairs.append(winter)\n",
        "           \n"
      ],
      "execution_count": 0,
      "outputs": []
    },
    {
      "cell_type": "code",
      "metadata": {
        "id": "eHsJ7X9bp_-k",
        "colab_type": "code",
        "colab": {}
      },
      "source": [
        ""
      ],
      "execution_count": 0,
      "outputs": []
    },
    {
      "cell_type": "code",
      "metadata": {
        "id": "HKaqAKU3p_-q",
        "colab_type": "code",
        "colab": {}
      },
      "source": [
        "len(listOfPairs)"
      ],
      "execution_count": 0,
      "outputs": []
    },
    {
      "cell_type": "code",
      "metadata": {
        "id": "ygr8Esc1p_-t",
        "colab_type": "code",
        "colab": {}
      },
      "source": [
        "def late(liste):\n",
        "    lateLimit= 10\n",
        "    latePerc=0.3\n",
        "    a=sum((abs(liste[\"ActualBlock\"]-liste[\"BlkSched\"])> lateLimit)*1)\n",
        "    print (a/len(liste))\n",
        "    return (a/len(liste)>latePerc)"
      ],
      "execution_count": 0,
      "outputs": []
    },
    {
      "cell_type": "code",
      "metadata": {
        "id": "yDeb_AJdp_-w",
        "colab_type": "code",
        "colab": {}
      },
      "source": [
        "late(listOfPairs[0])\n",
        "l= len(listOfPairs[0])\n",
        "i=0\n",
        "print(type(listOfPairs[0]))\n",
        "for x in listOfPairs[0][\"Delay\"]:\n",
        "        if(abs(x) > 10):\n",
        "            i=i+1\n",
        "print(l)            \n",
        "print(i/l)"
      ],
      "execution_count": 0,
      "outputs": []
    },
    {
      "cell_type": "code",
      "metadata": {
        "id": "jbcFHU15p_-0",
        "colab_type": "code",
        "colab": {}
      },
      "source": [
        "#filer flights that are operated less than 50 times\n",
        "bound= 50\n",
        "listOfPairs = list(filter(lambda i: len(i)> 50 , listOfPairs))\n",
        "#filter flights that are less than 30% of time delayed\n",
        "listOfPairs = list(filter(late, listOfPairs ))\n"
      ],
      "execution_count": 0,
      "outputs": []
    },
    {
      "cell_type": "markdown",
      "metadata": {
        "id": "SywNVHtsp_-3",
        "colab_type": "text"
      },
      "source": [
        "# Find and delete outliers"
      ]
    },
    {
      "cell_type": "code",
      "metadata": {
        "id": "FgfkN6vop_-4",
        "colab_type": "code",
        "colab": {}
      },
      "source": [
        "liste = []\n",
        "for flight in listOfPairs:\n",
        "\n",
        "\n",
        "    oldSize=flight.shape[0]\n",
        "    Q1 = flight[\"ActualBlock\"].quantile(0.25)\n",
        "    Q3 = flight[\"ActualBlock\"].quantile(0.75)\n",
        "    IQR = Q3 - Q1\n",
        "    print(IQR)\n",
        "\n",
        "    #outliars beeing filtered\n",
        "    flight = flight[~((flight[\"ActualBlock\"] < (Q1 - 1.5 * IQR)) |(flight[\"ActualBlock\"] > (Q3 + 1.5 * IQR)))]\n",
        "    print(\"percentage of non-outlier flights:\")\n",
        "    print(flight.shape[0]/oldSize )\n",
        "    liste.append(flight)\n",
        "    \n",
        "listOfFlights=liste"
      ],
      "execution_count": 0,
      "outputs": []
    },
    {
      "cell_type": "code",
      "metadata": {
        "id": "Da0n1zpKp_-8",
        "colab_type": "code",
        "colab": {}
      },
      "source": [
        "pd.DataFrame(listOfFlights).to_excel(\"listOfFlights.xlsx\")"
      ],
      "execution_count": 0,
      "outputs": []
    },
    {
      "cell_type": "code",
      "metadata": {
        "id": "wkxcq_Lhp_-_",
        "colab_type": "code",
        "colab": {}
      },
      "source": [
        "def delayToTarget(delay):\n",
        "    target=[ \"late\" if x > 10  else( \"early\"  if x < -10  else \"on time\")  for x in delay]\n",
        "    target= pd.DataFrame(target)\n",
        "    return target\n",
        "\n",
        "#print(delayToTarget(listOfPairs[0][\"Delay\"]))\n",
        "print(listOfPairs[12][\"Delay\"])"
      ],
      "execution_count": 0,
      "outputs": []
    },
    {
      "cell_type": "markdown",
      "metadata": {
        "id": "6S84NiRUp__C",
        "colab_type": "text"
      },
      "source": [
        "import scipy.linalg as la\n",
        "def getEigenValVec(flight):\n",
        "        # Separating out the features\n",
        "    x = flight.loc[:, [\"Time\", \"Weekday\", \"Month\"]].values\n",
        "    #zentrieren\n",
        "    x = StandardScaler().fit_transform(x)\n",
        "    print(x.shape)\n",
        "    C= np.cov(np.transpose(x))\n",
        "    results = la.eig(C)\n",
        "    return results\n",
        "  "
      ]
    },
    {
      "cell_type": "code",
      "metadata": {
        "id": "wIe49JLNp__D",
        "colab_type": "code",
        "colab": {}
      },
      "source": [
        "#plot it in 3D\n",
        "\n",
        "\n",
        "    \n",
        "from mpl_toolkits.mplot3d import Axes3D\n",
        "\n",
        "for flight in listOfPairs:\n",
        "    print(flight[\"Delay\"])\n",
        "    fig = plt.figure(1, figsize=(7, 12))\n",
        "    ax = Axes3D(fig, elev=-150, azim=-110)\n",
        "    ax.set_title(flight.iloc[0][\"DP Iatacode\"]+flight.iloc[0][\"AR Iatacode\"]+\" in Season (1= summer,0=winter) \"+ str(flight.iloc[0][\"Summer\"] ))\n",
        "    ax.set_xlabel(\"Time\")\n",
        "    ax.w_xaxis.set_ticklabels([])\n",
        "    ax.set_ylabel(\"Weekday\")\n",
        "    ax.w_yaxis.set_ticklabels([])\n",
        "    ax.set_zlabel(\"Month\")\n",
        "    ax.w_zaxis.set_ticklabels([])\n",
        "    \n",
        "    targets = ['late', 'early', 'on time']\n",
        "    colors = ['r', 'g', 'b']\n",
        " \n",
        "    for target, color in zip(targets,colors):\n",
        "        indicesToKeep = delayToTarget(flight['Delay']) == target\n",
        "        indicesToKeep =indicesToKeep.values\n",
        "        #print(flight.loc[indicesToKeep])\n",
        "        ax.scatter(flight[indicesToKeep]['Time'], flight[indicesToKeep]['Weekday'], flight[indicesToKeep]['Month'],\n",
        "                   edgecolor='k', s=40, c=color)\n",
        "\n",
        "    ax.legend(targets)\n",
        "\n",
        "\n",
        "    plt.show()"
      ],
      "execution_count": 0,
      "outputs": []
    },
    {
      "cell_type": "code",
      "metadata": {
        "id": "25SSLpiMp__K",
        "colab_type": "code",
        "colab": {}
      },
      "source": [
        "#3d pca with blocktimes\n",
        "\n",
        "\n",
        "#for flight in listOfPairs:\n",
        "  #  d = doPCA(flight)\n",
        "    #eigenvectors=getEigenvectors(flight)\n",
        "    \n",
        "    \n",
        "  #  fig = plt.figure(1, figsize=(7, 12))\n",
        " #   ax = Axes3D(fig, elev=-150, azim=-110)\n",
        "   # ax.set_title(flight.iloc[0][\"DP Iatacode\"]+flight.iloc[0][\"AR Iatacode\"])\n",
        "   # ax.set_xlabel(\"PC1\")\n",
        "    #ax.w_xaxis.set_ticklabels([])\n",
        " #   ax.set_ylabel(\"PC2\")\n",
        "   # ax.w_yaxis.set_ticklabels([])\n",
        "   # ax.set_zlabel(\"Actual Block\")\n",
        "  #  ax.w_zaxis.set_ticklabels([])\n",
        "    \n",
        "    \n",
        "    \n",
        "  #  targets = ['late', 'early']\n",
        "   # colors = ['r', 'g', 'b']\n",
        " \n",
        "  #{ for target, color in zip(targets,colors):\n",
        "    #    indicesToKeep = delayToTarget(flight['Delay']) == target\n",
        "      #  indicesToKeep =indicesToKeep.values\n",
        "     #   ax.scatter(d[indicesToKeep][\"principal component 1\"], d[indicesToKeep][\"principal component 2\"],flight[indicesToKeep][\"ActualBlock\"],\n",
        "              #     edgecolor='k', s=40, c=color)\n",
        "\n",
        "  #  ax.legend(targets)   \n",
        "  #  plt.show()\n",
        "    \n",
        "        \n",
        "   # targets = ['late', 'early']\n",
        "  #  colors = ['r', 'g', 'b']\n",
        " #2d pca\n",
        "   # for target, color in zip(targets,colors):\n",
        "    #    indicesToKeep = delayToTarget(flight['Delay']) == target\n",
        "    #    indicesToKeep =indicesToKeep.values\n",
        "    #    plt.scatter(d[indicesToKeep][\"principal component 1\"], d[indicesToKeep][\"principal component 2\"],\n",
        "                   #edgecolor='k', s=40, c=color)\n",
        "        \n",
        "      #  plt.title(flight.iloc[0][\"DP Iatacode\"]+flight.iloc[0][\"AR Iatacode\"])\n",
        "     #   plt.xlabel(\"PC1\")\n",
        "      #  plt.ylabel(\"PC2\")\n",
        "  #  plt.legend(targets)   \n",
        "  # plt.show() "
      ],
      "execution_count": 0,
      "outputs": []
    },
    {
      "cell_type": "code",
      "metadata": {
        "id": "6j21WSI1p__M",
        "colab_type": "code",
        "colab": {}
      },
      "source": [
        ""
      ],
      "execution_count": 0,
      "outputs": []
    },
    {
      "cell_type": "code",
      "metadata": {
        "id": "QvB2hSeNp__P",
        "colab_type": "code",
        "colab": {}
      },
      "source": [
        "#try different idea: Tree Regressor, maybe better because there is continous targets\n",
        "\n",
        "from sklearn.ensemble import ExtraTreesRegressor\n",
        "from sklearn import preprocessing\n",
        "from sklearn import utils\n",
        "\n",
        "flightMonth=[]\n",
        "feat=pd.DataFrame(columns=[\"Flight\",\"Season\",\"Month\",\"Weekday\",\"Time\"])\n",
        "for flight in listOfPairs:\n",
        "\n",
        "    #last cleaning troubleasshole 251553 \n",
        "    flight=flight.dropna()\n",
        "    # Separating out the features\n",
        "    x = flight.loc[:, [\"Time\", \"Weekday\", \"Month\"]]\n",
        "    # Separating out the target\n",
        "    y = flight.loc[:,['Delay']]\n",
        "    \n",
        "    \n",
        "    \n",
        "    \n",
        "    \n",
        "    flightName = flight.iloc[0][\"DP Iatacode\"]+flight.iloc[0][\"AR Iatacode\"]\n",
        "    seas = flight.iloc[0][\"Summer\"]\n",
        "\n",
        "    \n",
        "\n",
        "    model = ExtraTreesRegressor()\n",
        "    model.fit(x,y)\n",
        " \n",
        "    #write in dataframe so we can produce excel file\n",
        "    \n",
        "        \n",
        "\n",
        "    \n",
        "    #plot graph of feature importances for better visualization\n",
        "    feat_importances = pd.Series(model.feature_importances_, index=x.columns)\n",
        "    feat_importances.nlargest(3).plot(kind='barh')\n",
        "    print(feat_importances)\n",
        "    \n",
        "    # Append rows in Empty Dataframe by adding dictionaries\n",
        "    feat = feat.append({'Flight': flightName, 'Season': seas, 'Month':feat_importances[\"Month\"],\"Weekday\": feat_importances[\"Weekday\"] ,\"Time\": feat_importances[\"Time\"] }, ignore_index=True)\n",
        "\n",
        "    \n",
        "    \n",
        "    plt.title(flightName +\" in Season (1= summer,0=winter) \"+ str(seas ))\n",
        "    plt.show()\n",
        "    print(\"this is the importance\")\n",
        "    print(model.feature_importances_)#use inbuilt class feature_importances of tree based classifiers\n",
        "    \n",
        "    if((feat_importances[\"Month\"] == feat_importances.max()) & (flightName not in flightMonth) &(feat_importances.max() > 0.7) ):\n",
        "        flightMonth.append(flightName)\n",
        "    \n"
      ],
      "execution_count": 0,
      "outputs": []
    },
    {
      "cell_type": "code",
      "metadata": {
        "id": "rft0aTn8p__a",
        "colab_type": "code",
        "colab": {}
      },
      "source": [
        "feat.to_excel(\"importantFeatures.xlsx\")\n",
        "#flightMonth.to_csv(\"monatFluege.csv\")\n"
      ],
      "execution_count": 0,
      "outputs": []
    },
    {
      "cell_type": "code",
      "metadata": {
        "id": "SfYnxcoAp__d",
        "colab_type": "code",
        "colab": {}
      },
      "source": [
        "len(flightMonth)"
      ],
      "execution_count": 0,
      "outputs": []
    },
    {
      "cell_type": "code",
      "metadata": {
        "id": "P6U0Z5D3p__g",
        "colab_type": "code",
        "colab": {}
      },
      "source": [
        "#sucht alle fluege raus flughafen paar str_citypair sind und loescht direkt outliers\n",
        "def createCityPairAll(str_citypair):\n",
        "    cityPair=pd.DataFrame\n",
        "    cityPair= data.loc[(data['DP Iatacode']+ data['AR Iatacode'] == str_citypair)]\n",
        "    \n",
        "    oldSize=cityPair.shape[0]\n",
        "    Q1 = cityPair[\"ActualBlock\"].quantile(0.25)\n",
        "    Q3 = cityPair[\"ActualBlock\"].quantile(0.75)\n",
        "    IQR = Q3 - Q1\n",
        "\n",
        "\n",
        "    #outliars beeing filtered\n",
        "    cityPair = cityPair[~((cityPair[\"ActualBlock\"] < (Q1 - 1.5 * IQR)) |(cityPair[\"ActualBlock\"] > (Q3 + 1.5 * IQR)))]\n",
        "\n",
        "\n",
        "    return cityPair.dropna()"
      ],
      "execution_count": 0,
      "outputs": []
    },
    {
      "cell_type": "markdown",
      "metadata": {
        "id": "akOemrLxp__k",
        "colab_type": "text"
      },
      "source": [
        "# make some nice plots"
      ]
    },
    {
      "cell_type": "code",
      "metadata": {
        "id": "G8ZIEBNVp__m",
        "colab_type": "code",
        "colab": {}
      },
      "source": [
        "import matplotlib.backends.backend_pdf\n",
        "pdf = matplotlib.backends.backend_pdf.PdfPages(\"Allplots.pdf\")\n",
        "\n",
        "for flight in flightMonth:\n",
        "        \n",
        "        alle=createCityPairAll(flight)\n",
        "        fig, axs = plt.subplots(12, 7, figsize=(30,30),sharex='all', sharey='all')\n",
        "        for i in range(1,12):\n",
        "            for k in range(1,7):\n",
        "                blockT = alle[(alle[\"Month\"] == i) & (alle[\"Weekday\"] == k)]\n",
        "                if(not blockT.empty):\n",
        "                    \n",
        "                   # plt.set_xlim([blockT[\"ActualBlock\"].min(),blockT[\"ActualBlock\"].max()])\n",
        "                    axs[i-1, k-1].hist(blockT[\"ActualBlock\"])\n",
        "                    axs[i-1, k-1].set_title('month: '+ str(i) +\"weekday: \"+str(k),fontsize='small')\n",
        "               \n",
        "        fig.suptitle(flight)\n",
        "        plt.subplots_adjust(hspace=0.4, wspace=0.2)\n",
        "        plt.show()\n",
        "        pdf.savefig( fig )\n",
        "    \n",
        "\n",
        "\n",
        "\n",
        "pdf.close()"
      ],
      "execution_count": 0,
      "outputs": []
    },
    {
      "cell_type": "markdown",
      "metadata": {
        "id": "SIelmKlop__o",
        "colab_type": "text"
      },
      "source": [
        ">>> import matplotlib.pyplot as plt\n",
        ">>> rng = np.random.RandomState(10)  # deterministic random data\n",
        ">>> a = np.hstack((rng.normal(size=1000),\n",
        "...                rng.normal(loc=5, scale=2, size=1000)))\n",
        ">>> _ = plt.hist(a, bins='auto')  # arguments are passed to np.histogram\n",
        ">>> plt.title(\"Histogram with 'auto' bins\")\n",
        "Text(0.5, 1.0, \"Histogram with 'auto' bins\")\n",
        ">>> plt.show()\n",
        "\n",
        "        plt.tight_layout()\n",
        "f.savefig(\"foo.pdf\", bbox_inches='tight')"
      ]
    },
    {
      "cell_type": "code",
      "metadata": {
        "id": "hG6PHVuep__p",
        "colab_type": "code",
        "colab": {}
      },
      "source": [
        ""
      ],
      "execution_count": 0,
      "outputs": []
    }
  ]
}