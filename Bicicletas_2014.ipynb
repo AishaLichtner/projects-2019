{
  "nbformat": 4,
  "nbformat_minor": 0,
  "metadata": {
    "colab": {
      "name": "Bicicletas 2014.ipynb",
      "provenance": [],
      "toc_visible": true,
      "include_colab_link": true
    },
    "kernelspec": {
      "name": "python3",
      "display_name": "Python 3"
    },
    "language_info": {
      "name": "python"
    }
  },
  "cells": [
    {
      "cell_type": "markdown",
      "metadata": {
        "id": "view-in-github",
        "colab_type": "text"
      },
      "source": [
        "<a href=\"https://colab.research.google.com/github/AishaLichtner/projects-2019/blob/master/Bicicletas_2014.ipynb\" target=\"_parent\"><img src=\"https://colab.research.google.com/assets/colab-badge.svg\" alt=\"Open In Colab\"/></a>"
      ]
    },
    {
      "cell_type": "code",
      "metadata": {
        "id": "aIzmkQXf8Cnm"
      },
      "source": [
        "import pandas as pd\n",
        "import numpy as np\n",
        "import matplotlib.pyplot as plt\n",
        "from google.colab import drive\n",
        "\n"
      ],
      "execution_count": null,
      "outputs": []
    },
    {
      "cell_type": "code",
      "metadata": {
        "id": "mDb54Jjg9iPv",
        "colab": {
          "base_uri": "https://localhost:8080/"
        },
        "outputId": "a3ab4672-4ec6-4c48-a55d-a3109c789bb4"
      },
      "source": [
        "#access drive \n",
        "drive.mount('/content/drive')"
      ],
      "execution_count": 110,
      "outputs": [
        {
          "output_type": "stream",
          "text": [
            "Drive already mounted at /content/drive; to attempt to forcibly remount, call drive.mount(\"/content/drive\", force_remount=True).\n"
          ],
          "name": "stdout"
        }
      ]
    },
    {
      "cell_type": "code",
      "metadata": {
        "id": "f_7Wmfg2O6M6"
      },
      "source": [
        "#VARIABLES\n",
        "year_one = '2014'\n",
        "year_two = '2016'\n",
        "N = 10\n",
        "path = \"/content/drive/My Drive/data/\"\n",
        "\n",
        "\n"
      ],
      "execution_count": null,
      "outputs": []
    },
    {
      "cell_type": "markdown",
      "metadata": {
        "id": "RaYDcIy8_z9y"
      },
      "source": [
        "#Load data"
      ]
    },
    {
      "cell_type": "code",
      "metadata": {
        "id": "cegN65kqXm3h"
      },
      "source": [
        "def load_data(path, year):\n",
        "\n",
        "  data= pd.read_csv( path + year + \".csv\", sep = ',', encoding=\"utf-8-sig\")\n",
        "  #remove incomplete lines\n",
        "  data.dropna()\n",
        "  return data"
      ],
      "execution_count": null,
      "outputs": []
    },
    {
      "cell_type": "code",
      "metadata": {
        "id": "FWK05FI9Xv5K"
      },
      "source": [
        "def create_trips_column(data):\n",
        "  trips =data.start_station_code.apply(str) +'-'+ data.end_station_code.apply(str)\n",
        "  data['trip_code'] = trips\n",
        "  return data"
      ],
      "execution_count": 115,
      "outputs": []
    },
    {
      "cell_type": "code",
      "metadata": {
        "id": "B6rXLKOnRieU"
      },
      "source": [
        "  #load station condition data  \n",
        "  station_cond = pd.read_json(path+\"stations.json\")\n"
      ],
      "execution_count": 112,
      "outputs": []
    },
    {
      "cell_type": "code",
      "metadata": {
        "id": "UpE2Y0EDWLhc"
      },
      "source": [
        "\n",
        "#Create dict for station names\n",
        "station_dict = pd.Series(stations.name.values,index=stations.code).to_dict()"
      ],
      "execution_count": 111,
      "outputs": []
    },
    {
      "cell_type": "markdown",
      "metadata": {
        "id": "IUxEk3qqPm6z"
      },
      "source": [
        "#Histogram of travel times"
      ]
    },
    {
      "cell_type": "code",
      "metadata": {
        "id": "wj86SJ7pHoOz"
      },
      "source": [
        "def plot_hist(data):\n",
        "  duration = data[\"duration_sec\"]\n",
        "\n",
        "  n, bins, patches = plt.hist(x=duration, bins='auto', color='#0500aa',\n",
        "                            alpha=0.85, rwidth=0.85)\n",
        "  plt.grid(axis='y', alpha=0.75)\n",
        "  plt.xlabel('Travel Time in seconds')\n",
        "  plt.ylabel('Frequency')\n",
        "  plt.title('Travel Times')\n",
        "  plt.text(23, 45, r'$\\mu=15, b=3$')\n",
        "  maxfreq =n.max()\n",
        "  # Set a clean upper y-axis limit.\n",
        "  plt.ylim(ymax=np.ceil(maxfreq / 10) * 10 if maxfreq % 10 else maxfreq + 10)\n",
        "  plt.xlim(right = duration.max())\n"
      ],
      "execution_count": 120,
      "outputs": []
    },
    {
      "cell_type": "code",
      "metadata": {
        "id": "V9Wi-man6Ks1"
      },
      "source": [
        "#funtion to determine N most used start stations\n",
        "def most_used_station_start(data,N):\n",
        " return    data.start_station_code.value_counts()[:N].index.tolist()"
      ],
      "execution_count": 142,
      "outputs": []
    },
    {
      "cell_type": "code",
      "metadata": {
        "id": "U9bU2kJi6eS6"
      },
      "source": [
        "#funtion to determine N most used end stations\n",
        "def most_used_station_end(data,N):\n",
        "  return data.end_station_code.value_counts()[:N].index.tolist()"
      ],
      "execution_count": 141,
      "outputs": []
    },
    {
      "cell_type": "code",
      "metadata": {
        "id": "-0OGSRMaUC8o"
      },
      "source": [
        "def most_used_station_gen(data, N):\n",
        "  #Concatinate Colums of start and end stations\n",
        "  all_stat = pd.concat([data.start_station_code, data.end_station_code])\n",
        "  return all_stat.value_counts()[:N].index.tolist()\n"
      ],
      "execution_count": 136,
      "outputs": []
    },
    {
      "cell_type": "code",
      "metadata": {
        "id": "WDmP5FPoiMrg"
      },
      "source": [
        "def map_trip(trip_codes):\n",
        "  df= pd.DataFrame()\n",
        "  df[\"trip codes\"] = trip_codes\n",
        "  df[\" trips\"] = [station_dict[int(x.split('-')[0])]+' -> '+ station_dict[int(x.split('-')[0])] for x  in trip_codes]\n",
        "  df.style.set_caption(str(N) +\" Most FRequent Trips\")\n",
        "  return df\n",
        " #return pd.DataFrame(trip_codes,[station_dict[int(x.split('-')[0])]+' -> '+ station_dict[int(x.split('-')[0])] for x  in trip_codes])\n"
      ],
      "execution_count": 137,
      "outputs": []
    },
    {
      "cell_type": "code",
      "metadata": {
        "id": "F6hVVBdEVAlw"
      },
      "source": [
        "def map_station(station_code_list):\n",
        "  return pd.DataFrame([station_dict[x] for x in station_code_list ])\n",
        "  "
      ],
      "execution_count": 138,
      "outputs": []
    },
    {
      "cell_type": "code",
      "metadata": {
        "colab": {
          "base_uri": "https://localhost:8080/",
          "height": 295
        },
        "id": "lc6nzT9H4lP_",
        "outputId": "70c0682a-b89d-4560-c9ac-ad9bc7f19642"
      },
      "source": [
        "\n",
        "#load data for year\n",
        "stations = load_data(path+\"Stations_\", year_one)\n",
        "data = load_data(path+\"OD_\", year_one)\n",
        "data=create_trips_column(data)\n",
        "plot_hist(data)\n",
        "\n",
        "\n"
      ],
      "execution_count": 127,
      "outputs": [
        {
          "output_type": "display_data",
          "data": {
            "image/png": "[encoded data removed]",
            "text/plain": [
              "<Figure size 432x288 with 1 Axes>"
            ]
          },
          "metadata": {
            "tags": [],
            "needs_background": "light"
          }
        }
      ]
    },
    {
      "cell_type": "code",
      "metadata": {
        "id": "Bmnzo-DSRD-8"
      },
      "source": [
        ""
      ],
      "execution_count": 121,
      "outputs": []
    },
    {
      "cell_type": "markdown",
      "metadata": {
        "id": "6EqWmuAOT5Tc"
      },
      "source": [
        "Most used start stations"
      ]
    },
    {
      "cell_type": "code",
      "metadata": {
        "id": "VBaBtYdlc6je",
        "colab": {
          "base_uri": "https://localhost:8080/",
          "height": 343
        },
        "outputId": "a8e11cd0-fd07-4020-9bdb-8711dc09a5c7"
      },
      "source": [
        "map_station(most_used_station_start(data,N))"
      ],
      "execution_count": 139,
      "outputs": [
        {
          "output_type": "execute_result",
          "data": {
            "text/html": [
              "<div>\n",
              "<style scoped>\n",
              "    .dataframe tbody tr th:only-of-type {\n",
              "        vertical-align: middle;\n",
              "    }\n",
              "\n",
              "    .dataframe tbody tr th {\n",
              "        vertical-align: top;\n",
              "    }\n",
              "\n",
              "    .dataframe thead th {\n",
              "        text-align: right;\n",
              "    }\n",
              "</style>\n",
              "<table border=\"1\" class=\"dataframe\">\n",
              "  <thead>\n",
              "    <tr style=\"text-align: right;\">\n",
              "      <th></th>\n",
              "      <th>0</th>\n",
              "    </tr>\n",
              "  </thead>\n",
              "  <tbody>\n",
              "    <tr>\n",
              "      <th>0</th>\n",
              "      <td>Métro Mont-Royal (Rivard / du Mont-Royal)</td>\n",
              "    </tr>\n",
              "    <tr>\n",
              "      <th>1</th>\n",
              "      <td>de Maisonneuve / de Bleury</td>\n",
              "    </tr>\n",
              "    <tr>\n",
              "      <th>2</th>\n",
              "      <td>de Maisonneuve / Stanley</td>\n",
              "    </tr>\n",
              "    <tr>\n",
              "      <th>3</th>\n",
              "      <td>Métro St-Laurent (de Maisonneuve / St-Laurent)</td>\n",
              "    </tr>\n",
              "    <tr>\n",
              "      <th>4</th>\n",
              "      <td>Berri / de Maisonneuve</td>\n",
              "    </tr>\n",
              "    <tr>\n",
              "      <th>5</th>\n",
              "      <td>St-Urbain / René-Lévesque</td>\n",
              "    </tr>\n",
              "    <tr>\n",
              "      <th>6</th>\n",
              "      <td>Mackay /de Maisonneuve (Sud)</td>\n",
              "    </tr>\n",
              "    <tr>\n",
              "      <th>7</th>\n",
              "      <td>Square Victoria</td>\n",
              "    </tr>\n",
              "    <tr>\n",
              "      <th>8</th>\n",
              "      <td>Métro Place-d'Armes (Viger / St-Urbain)</td>\n",
              "    </tr>\n",
              "    <tr>\n",
              "      <th>9</th>\n",
              "      <td>Ste-Catherine / St-Hubert</td>\n",
              "    </tr>\n",
              "  </tbody>\n",
              "</table>\n",
              "</div>"
            ],
            "text/plain": [
              "                                                0\n",
              "0       Métro Mont-Royal (Rivard / du Mont-Royal)\n",
              "1                      de Maisonneuve / de Bleury\n",
              "2                        de Maisonneuve / Stanley\n",
              "3  Métro St-Laurent (de Maisonneuve / St-Laurent)\n",
              "4                          Berri / de Maisonneuve\n",
              "5                       St-Urbain / René-Lévesque\n",
              "6                    Mackay /de Maisonneuve (Sud)\n",
              "7                                 Square Victoria\n",
              "8         Métro Place-d'Armes (Viger / St-Urbain)\n",
              "9                       Ste-Catherine / St-Hubert"
            ]
          },
          "metadata": {
            "tags": []
          },
          "execution_count": 139
        }
      ]
    },
    {
      "cell_type": "markdown",
      "metadata": {
        "id": "AoJCSg9V8beM"
      },
      "source": [
        "Most used end stations"
      ]
    },
    {
      "cell_type": "code",
      "metadata": {
        "id": "LO7Ra07ydpcv",
        "colab": {
          "base_uri": "https://localhost:8080/",
          "height": 343
        },
        "outputId": "8f1f1618-11ac-4ffc-ff23-4813431a89bf"
      },
      "source": [
        "map_station(most_used_station_end(data,N))"
      ],
      "execution_count": 143,
      "outputs": [
        {
          "output_type": "execute_result",
          "data": {
            "text/html": [
              "<div>\n",
              "<style scoped>\n",
              "    .dataframe tbody tr th:only-of-type {\n",
              "        vertical-align: middle;\n",
              "    }\n",
              "\n",
              "    .dataframe tbody tr th {\n",
              "        vertical-align: top;\n",
              "    }\n",
              "\n",
              "    .dataframe thead th {\n",
              "        text-align: right;\n",
              "    }\n",
              "</style>\n",
              "<table border=\"1\" class=\"dataframe\">\n",
              "  <thead>\n",
              "    <tr style=\"text-align: right;\">\n",
              "      <th></th>\n",
              "      <th>0</th>\n",
              "    </tr>\n",
              "  </thead>\n",
              "  <tbody>\n",
              "    <tr>\n",
              "      <th>0</th>\n",
              "      <td>Métro Mont-Royal (Rivard / du Mont-Royal)</td>\n",
              "    </tr>\n",
              "    <tr>\n",
              "      <th>1</th>\n",
              "      <td>de Maisonneuve / de Bleury</td>\n",
              "    </tr>\n",
              "    <tr>\n",
              "      <th>2</th>\n",
              "      <td>de Maisonneuve / Stanley</td>\n",
              "    </tr>\n",
              "    <tr>\n",
              "      <th>3</th>\n",
              "      <td>Métro St-Laurent (de Maisonneuve / St-Laurent)</td>\n",
              "    </tr>\n",
              "    <tr>\n",
              "      <th>4</th>\n",
              "      <td>Berri / de Maisonneuve</td>\n",
              "    </tr>\n",
              "    <tr>\n",
              "      <th>5</th>\n",
              "      <td>St-Urbain / René-Lévesque</td>\n",
              "    </tr>\n",
              "    <tr>\n",
              "      <th>6</th>\n",
              "      <td>Mackay /de Maisonneuve (Sud)</td>\n",
              "    </tr>\n",
              "    <tr>\n",
              "      <th>7</th>\n",
              "      <td>Square Victoria</td>\n",
              "    </tr>\n",
              "    <tr>\n",
              "      <th>8</th>\n",
              "      <td>Métro Place-d'Armes (Viger / St-Urbain)</td>\n",
              "    </tr>\n",
              "    <tr>\n",
              "      <th>9</th>\n",
              "      <td>Ste-Catherine / St-Hubert</td>\n",
              "    </tr>\n",
              "  </tbody>\n",
              "</table>\n",
              "</div>"
            ],
            "text/plain": [
              "                                                0\n",
              "0       Métro Mont-Royal (Rivard / du Mont-Royal)\n",
              "1                      de Maisonneuve / de Bleury\n",
              "2                        de Maisonneuve / Stanley\n",
              "3  Métro St-Laurent (de Maisonneuve / St-Laurent)\n",
              "4                          Berri / de Maisonneuve\n",
              "5                       St-Urbain / René-Lévesque\n",
              "6                    Mackay /de Maisonneuve (Sud)\n",
              "7                                 Square Victoria\n",
              "8         Métro Place-d'Armes (Viger / St-Urbain)\n",
              "9                       Ste-Catherine / St-Hubert"
            ]
          },
          "metadata": {
            "tags": []
          },
          "execution_count": 143
        }
      ]
    },
    {
      "cell_type": "markdown",
      "metadata": {
        "id": "vc2wloax87_Z"
      },
      "source": [
        "Most used stations general\n",
        "\n"
      ]
    },
    {
      "cell_type": "code",
      "metadata": {
        "id": "SpuXjubOdxlK",
        "colab": {
          "base_uri": "https://localhost:8080/",
          "height": 343
        },
        "outputId": "3e7864ac-c24e-4686-a4c3-877adb726c92"
      },
      "source": [
        "map_station(most_used_station_gen(data,N))"
      ],
      "execution_count": 145,
      "outputs": [
        {
          "output_type": "execute_result",
          "data": {
            "text/html": [
              "<div>\n",
              "<style scoped>\n",
              "    .dataframe tbody tr th:only-of-type {\n",
              "        vertical-align: middle;\n",
              "    }\n",
              "\n",
              "    .dataframe tbody tr th {\n",
              "        vertical-align: top;\n",
              "    }\n",
              "\n",
              "    .dataframe thead th {\n",
              "        text-align: right;\n",
              "    }\n",
              "</style>\n",
              "<table border=\"1\" class=\"dataframe\">\n",
              "  <thead>\n",
              "    <tr style=\"text-align: right;\">\n",
              "      <th></th>\n",
              "      <th>0</th>\n",
              "    </tr>\n",
              "  </thead>\n",
              "  <tbody>\n",
              "    <tr>\n",
              "      <th>0</th>\n",
              "      <td>Métro Mont-Royal (Rivard / du Mont-Royal)</td>\n",
              "    </tr>\n",
              "    <tr>\n",
              "      <th>1</th>\n",
              "      <td>de Maisonneuve / de Bleury</td>\n",
              "    </tr>\n",
              "    <tr>\n",
              "      <th>2</th>\n",
              "      <td>de Maisonneuve / Stanley</td>\n",
              "    </tr>\n",
              "    <tr>\n",
              "      <th>3</th>\n",
              "      <td>Métro St-Laurent (de Maisonneuve / St-Laurent)</td>\n",
              "    </tr>\n",
              "    <tr>\n",
              "      <th>4</th>\n",
              "      <td>Mackay /de Maisonneuve (Sud)</td>\n",
              "    </tr>\n",
              "    <tr>\n",
              "      <th>5</th>\n",
              "      <td>Berri / de Maisonneuve</td>\n",
              "    </tr>\n",
              "    <tr>\n",
              "      <th>6</th>\n",
              "      <td>Square St-Louis</td>\n",
              "    </tr>\n",
              "    <tr>\n",
              "      <th>7</th>\n",
              "      <td>St-Urbain / René-Lévesque</td>\n",
              "    </tr>\n",
              "    <tr>\n",
              "      <th>8</th>\n",
              "      <td>du Mont-Royal / Clark</td>\n",
              "    </tr>\n",
              "    <tr>\n",
              "      <th>9</th>\n",
              "      <td>Roy / St-Laurent</td>\n",
              "    </tr>\n",
              "  </tbody>\n",
              "</table>\n",
              "</div>"
            ],
            "text/plain": [
              "                                                0\n",
              "0       Métro Mont-Royal (Rivard / du Mont-Royal)\n",
              "1                      de Maisonneuve / de Bleury\n",
              "2                        de Maisonneuve / Stanley\n",
              "3  Métro St-Laurent (de Maisonneuve / St-Laurent)\n",
              "4                    Mackay /de Maisonneuve (Sud)\n",
              "5                          Berri / de Maisonneuve\n",
              "6                                 Square St-Louis\n",
              "7                       St-Urbain / René-Lévesque\n",
              "8                           du Mont-Royal / Clark\n",
              "9                                Roy / St-Laurent"
            ]
          },
          "metadata": {
            "tags": []
          },
          "execution_count": 145
        }
      ]
    },
    {
      "cell_type": "markdown",
      "metadata": {
        "id": "kXOWZV5d39zQ"
      },
      "source": [
        "# N Top Trips\n"
      ]
    },
    {
      "cell_type": "code",
      "metadata": {
        "id": "tYaCpVH5habU",
        "colab": {
          "base_uri": "https://localhost:8080/",
          "height": 343
        },
        "outputId": "cabd2285-5e4c-4a2a-f08a-15072cbd21c3"
      },
      "source": [
        "#most frequent trips \n",
        "map_trip(data.trip_code.value_counts()[:N].index.tolist())"
      ],
      "execution_count": 147,
      "outputs": [
        {
          "output_type": "execute_result",
          "data": {
            "text/html": [
              "<div>\n",
              "<style scoped>\n",
              "    .dataframe tbody tr th:only-of-type {\n",
              "        vertical-align: middle;\n",
              "    }\n",
              "\n",
              "    .dataframe tbody tr th {\n",
              "        vertical-align: top;\n",
              "    }\n",
              "\n",
              "    .dataframe thead th {\n",
              "        text-align: right;\n",
              "    }\n",
              "</style>\n",
              "<table border=\"1\" class=\"dataframe\">\n",
              "  <thead>\n",
              "    <tr style=\"text-align: right;\">\n",
              "      <th></th>\n",
              "      <th>trip codes</th>\n",
              "      <th>trips</th>\n",
              "    </tr>\n",
              "  </thead>\n",
              "  <tbody>\n",
              "    <tr>\n",
              "      <th>0</th>\n",
              "      <td>6501-6501</td>\n",
              "      <td>Métro Jean-Drapeau -&gt; Métro Jean-Drapeau</td>\n",
              "    </tr>\n",
              "    <tr>\n",
              "      <th>1</th>\n",
              "      <td>6026-6026</td>\n",
              "      <td>de la Commune / Place Jacques-Cartier -&gt; de la...</td>\n",
              "    </tr>\n",
              "    <tr>\n",
              "      <th>2</th>\n",
              "      <td>6155-6184</td>\n",
              "      <td>Garnier / du Mont-Royal -&gt; Garnier / du Mont-R...</td>\n",
              "    </tr>\n",
              "    <tr>\n",
              "      <th>3</th>\n",
              "      <td>6154-6184</td>\n",
              "      <td>Marquette / du Mont-Royal -&gt; Marquette / du Mo...</td>\n",
              "    </tr>\n",
              "    <tr>\n",
              "      <th>4</th>\n",
              "      <td>6064-6100</td>\n",
              "      <td>de Maisonneuve / Stanley -&gt; de Maisonneuve / S...</td>\n",
              "    </tr>\n",
              "    <tr>\n",
              "      <th>5</th>\n",
              "      <td>6396-6398</td>\n",
              "      <td>Métro Pie-IX (Pierre-de-Coubertin / Pie-IX) -&gt;...</td>\n",
              "    </tr>\n",
              "    <tr>\n",
              "      <th>6</th>\n",
              "      <td>6184-6155</td>\n",
              "      <td>Métro Mont-Royal (Rivard / du Mont-Royal) -&gt; M...</td>\n",
              "    </tr>\n",
              "    <tr>\n",
              "      <th>7</th>\n",
              "      <td>6184-6154</td>\n",
              "      <td>Métro Mont-Royal (Rivard / du Mont-Royal) -&gt; M...</td>\n",
              "    </tr>\n",
              "    <tr>\n",
              "      <th>8</th>\n",
              "      <td>6064-6194</td>\n",
              "      <td>de Maisonneuve / Stanley -&gt; de Maisonneuve / S...</td>\n",
              "    </tr>\n",
              "    <tr>\n",
              "      <th>9</th>\n",
              "      <td>6100-6064</td>\n",
              "      <td>Mackay /de Maisonneuve (Sud) -&gt; Mackay /de Mai...</td>\n",
              "    </tr>\n",
              "  </tbody>\n",
              "</table>\n",
              "</div>"
            ],
            "text/plain": [
              "  trip codes                                              trips\n",
              "0  6501-6501           Métro Jean-Drapeau -> Métro Jean-Drapeau\n",
              "1  6026-6026  de la Commune / Place Jacques-Cartier -> de la...\n",
              "2  6155-6184  Garnier / du Mont-Royal -> Garnier / du Mont-R...\n",
              "3  6154-6184  Marquette / du Mont-Royal -> Marquette / du Mo...\n",
              "4  6064-6100  de Maisonneuve / Stanley -> de Maisonneuve / S...\n",
              "5  6396-6398  Métro Pie-IX (Pierre-de-Coubertin / Pie-IX) ->...\n",
              "6  6184-6155  Métro Mont-Royal (Rivard / du Mont-Royal) -> M...\n",
              "7  6184-6154  Métro Mont-Royal (Rivard / du Mont-Royal) -> M...\n",
              "8  6064-6194  de Maisonneuve / Stanley -> de Maisonneuve / S...\n",
              "9  6100-6064  Mackay /de Maisonneuve (Sud) -> Mackay /de Mai..."
            ]
          },
          "metadata": {
            "tags": []
          },
          "execution_count": 147
        }
      ]
    },
    {
      "cell_type": "markdown",
      "metadata": {
        "id": "iVvrMoMX3j_-"
      },
      "source": [
        "#Find rush hour"
      ]
    },
    {
      "cell_type": "code",
      "metadata": {
        "id": "o1tfdN6e2rAf"
      },
      "source": [
        "def seperate_date(dates):\n",
        "  \n",
        "  #datetime.datetime.strptime(dates ,'%Y-%M-%D %H:%M')\n",
        "  #time = dates.hour\n",
        "\n",
        "     date = []\n",
        "     time = [] \n",
        "  \n",
        "     for x in dates:\n",
        "       date.append(x.split(' ')[0])\n",
        "       time.append(datetime.datetime.strptime((x.split(' ')[1]), '%H:%M'))\n",
        "\n",
        "     return date,time\n",
        "\n",
        "\n"
      ],
      "execution_count": null,
      "outputs": []
    },
    {
      "cell_type": "code",
      "metadata": {
        "id": "afJ_hXGD4uoa"
      },
      "source": [
        "#seperate time stamp and add new colums date and hour\n",
        "\n",
        "data[\"start_date\"] = pd.to_datetime(data.start_date)\n",
        "data[\"start_hour\"]= data.start_date.dt.hour\n"
      ],
      "execution_count": 149,
      "outputs": []
    },
    {
      "cell_type": "markdown",
      "metadata": {
        "id": "kY9JVTwgMrZt"
      },
      "source": [
        "Times when  most bikes are rented"
      ]
    },
    {
      "cell_type": "code",
      "metadata": {
        "id": "jS9l7KWpMcY2",
        "colab": {
          "base_uri": "https://localhost:8080/",
          "height": 274
        },
        "outputId": "7120e617-7d92-4bb9-fb84-d0bdc95e3d9d"
      },
      "source": [
        "# beautify the x-labels\n",
        "plt.gcf().autofmt_xdate()\n",
        "\n",
        "n, bins, patches = plt.hist(x=data.start_hour, bins='auto', color='#0500aa')\n",
        "#plt.grid(axis='y', alpha=0.75)\n",
        "\n",
        "\n",
        "plt.xlabel('Time in hours')\n",
        "plt.ylabel('Amount of bike rentals')\n",
        "plt.title('Rentals at daytime')\n",
        "plt.show()\n",
        "\n",
        "maxfreq =n.max()\n",
        "# Set a clean upper y-axis limit.\n",
        "#plt.ylim(ymax=np.ceil(maxfreq / 10) * 10 if maxfreq % 10 else maxfreq + 10)\n",
        "#plt.xlim(right = data.start_time.max())\n"
      ],
      "execution_count": 150,
      "outputs": [
        {
          "output_type": "display_data",
          "data": {
            "image/png": "[encoded data removed]",
            "text/plain": [
              "<Figure size 432x288 with 1 Axes>"
            ]
          },
          "metadata": {
            "tags": [],
            "needs_background": "light"
          }
        }
      ]
    },
    {
      "cell_type": "markdown",
      "metadata": {
        "id": "55tCqEvM9w2P"
      },
      "source": [
        "We can observe that at 8 am and 6 pm the most bikes are rented, that means the rush hours are at 8am and 6 pm."
      ]
    },
    {
      "cell_type": "markdown",
      "metadata": {
        "id": "sjUH2PfqS6Bm"
      },
      "source": [
        "\n",
        "# Compare Usage between 2 years\n"
      ]
    },
    {
      "cell_type": "code",
      "metadata": {
        "id": "x1XJwZsHbzxY"
      },
      "source": [
        ""
      ],
      "execution_count": null,
      "outputs": []
    },
    {
      "cell_type": "code",
      "metadata": {
        "id": "e-6F1pHmaPFI"
      },
      "source": [
        "def travels_per_station(data):\n",
        "  return pd.DataFrame(data[\"start_station_code\"].value_counts())\n",
        "  \n"
      ],
      "execution_count": null,
      "outputs": []
    },
    {
      "cell_type": "code",
      "metadata": {
        "id": "nHxGGNqKmOfp"
      },
      "source": [
        "def convert_station_con_to_DF():\n",
        "  stat = pd.DataFrame(station_cond.stations)\n",
        "  print(stat)\n",
        "  stat= pd.DataFrame.from_dict(stat)\n",
        "  stat = pd.DataFrame.from_records(stat)\n",
        "  return stat"
      ],
      "execution_count": null,
      "outputs": []
    },
    {
      "cell_type": "code",
      "metadata": {
        "id": "kufLyoBirRx6"
      },
      "source": [
        "station_cond"
      ],
      "execution_count": null,
      "outputs": []
    },
    {
      "cell_type": "code",
      "metadata": {
        "id": "gB1h4H_AoImH"
      },
      "source": [
        "stat_con_df = convert_station_con_to_DF()"
      ],
      "execution_count": null,
      "outputs": []
    },
    {
      "cell_type": "code",
      "metadata": {
        "id": "guUrXwMLowod"
      },
      "source": [
        "stat_con_df "
      ],
      "execution_count": null,
      "outputs": []
    },
    {
      "cell_type": "code",
      "metadata": {
        "id": "Z5YDRLhPgOQd"
      },
      "source": [
        "amount_bikes_in_Station(6240)"
      ],
      "execution_count": null,
      "outputs": []
    },
    {
      "cell_type": "code",
      "metadata": {
        "id": "0sU-n-9HdUm2"
      },
      "source": [
        "def amount_bikes_in_Station(station_code):\n",
        "  bikes = 0\n",
        "  bikes = stat_con_df.loc[stat_con_df['id'] == station_code]['ba']\n",
        "  return bikes\n",
        " "
      ],
      "execution_count": null,
      "outputs": []
    },
    {
      "cell_type": "code",
      "metadata": {
        "id": "V0rIeTOFcWyC"
      },
      "source": [
        "def total_amount_bikes(stations):\n",
        "  total=0\n",
        "  for x in stations:\n",
        "   total= total+ amount_bikes_in_Station(x['station_code'])\n",
        "\n"
      ],
      "execution_count": null,
      "outputs": []
    },
    {
      "cell_type": "code",
      "metadata": {
        "id": "Or3lw8sfaU-c"
      },
      "source": [
        "def travels_stat_bike(data_one, data_two,station_one, station_two year_one, year_two):\n",
        "\n",
        "  ratio_one= data_one.size/station_one.size\n",
        "  ratio_two = data_two.size/station_two.size"
      ],
      "execution_count": null,
      "outputs": []
    },
    {
      "cell_type": "code",
      "metadata": {
        "id": "mVZk5GznT1UN"
      },
      "source": [
        "def run_compare( year_one, year_two):\n",
        "  #data loading\n",
        "  data_one = load_data( path+\"OD_\", year_one)\n",
        "  data_two = load_data(path_data+\"OD_\" , year_two)\n",
        "  stations_one= load_data( path+\"Stations_\", year_one)\n",
        "  stations_two= load_data( path+\"Stations_\", year_two)\n",
        "  #comparing\n",
        "  total_travels_comp(data_one, data_two, year_one, year_two)\n",
        "  total_usage_comp(data_one, data_two, year_one, year_two)\n",
        "\n",
        "\n",
        "  travels_pre_stat_one = travels_per_station(data_one)\n",
        "  travel_per_stat_two  = travels_per_station(data_two)\n",
        "\n",
        "  \n",
        "\n"
      ],
      "execution_count": null,
      "outputs": []
    },
    {
      "cell_type": "code",
      "metadata": {
        "id": "TWfxETN4Xbc3"
      },
      "source": [
        "def total_travels_comp(data_one, data_two, year_one, year_two):\n",
        "  total_travels_one = data_one.size\n",
        "  total_travels_two = data_two.size\n",
        "\n",
        "  #plot results\n",
        "  fig = plt.figure()\n",
        "  ax = fig.add_axes([0,0,1,1])\n",
        "  ax.set_ylabel('Total Travels in Millions')\n",
        "  ax.set_title('Total Travels per Year')\n",
        "  langs = [year_one, year_two]\n",
        "  travels = [total_travels_one,total_travels_two]\n",
        "  ax.bar(langs,travels)\n",
        "  plt.show()\n",
        "\n",
        "\n",
        "\n"
      ],
      "execution_count": null,
      "outputs": []
    },
    {
      "cell_type": "code",
      "metadata": {
        "id": "LTpKJtxvvNmV"
      },
      "source": [
        "def total_usage_comp(data_one, data_two, year_one, year_two):\n",
        "    total_usage_one = data_one[\"duration_sec\"].sum()\n",
        "    total_usage_two = data_two[\"duration_sec\"].sum()\n",
        "    print(total_usage_one)\n",
        "     #plot results\n",
        "    fig = plt.figure()\n",
        "    ax = fig.add_axes([0,0,1,1])\n",
        "    ax.set_ylabel('Seconds')\n",
        "    ax.set_title('Total Usage in Seconds per Year')\n",
        "    langs = [year_one, year_two]\n",
        "    travels = [total_usage_one,total_usage_two]\n",
        "    ax.bar(langs,travels)\n",
        "    plt.show()\n",
        "\n"
      ],
      "execution_count": null,
      "outputs": []
    },
    {
      "cell_type": "code",
      "metadata": {
        "id": "CF92iNNxm-_2"
      },
      "source": [
        "run_compare('2014','2016')"
      ],
      "execution_count": null,
      "outputs": []
    }
  ]
}