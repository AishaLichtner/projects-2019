{
  "nbformat": 4,
  "nbformat_minor": 0,
  "metadata": {
    "colab": {
      "name": "Bicicletas 2014.ipynb",
      "provenance": [],
      "toc_visible": true,
      "authorship_tag": "ABX9TyNC9eZzAYWMZ7HYXkUPzTA8",
      "include_colab_link": true
    },
    "kernelspec": {
      "name": "python3",
      "display_name": "Python 3"
    },
    "language_info": {
      "name": "python"
    }
  },
  "cells": [
    {
      "cell_type": "markdown",
      "metadata": {
        "id": "view-in-github",
        "colab_type": "text"
      },
      "source": [
        "<a href=\"https://colab.research.google.com/github/AishaLichtner/projects-2019/blob/master/Bicicletas_2014.ipynb\" target=\"_parent\"><img src=\"https://colab.research.google.com/assets/colab-badge.svg\" alt=\"Open In Colab\"/></a>"
      ]
    },
    {
      "cell_type": "code",
      "metadata": {
        "id": "aIzmkQXf8Cnm"
      },
      "source": [
        "import pandas as pd\n",
        "import numpy as np\n",
        "import matplotlib.pyplot as plt\n",
        "from google.colab import drive\n",
        "\n"
      ],
      "execution_count": 6,
      "outputs": []
    },
    {
      "cell_type": "code",
      "metadata": {
        "id": "mDb54Jjg9iPv",
        "colab": {
          "base_uri": "https://localhost:8080/"
        },
        "outputId": "a4514286-6c80-47a2-e223-b7627707a629"
      },
      "source": [
        "#access drive \n",
        "drive.mount('/content/drive')"
      ],
      "execution_count": 7,
      "outputs": [
        {
          "output_type": "stream",
          "text": [
            "Mounted at /content/drive\n"
          ],
          "name": "stdout"
        }
      ]
    },
    {
      "cell_type": "code",
      "metadata": {
        "id": "f_7Wmfg2O6M6"
      },
      "source": [
        "#VARIABLES\n",
        "year_one = '2014'\n",
        "year_two = '2016'\n",
        "N = 10\n",
        "path = \"/content/drive/My Drive/data/\"\n",
        "\n",
        "\n"
      ],
      "execution_count": 8,
      "outputs": []
    },
    {
      "cell_type": "markdown",
      "metadata": {
        "id": "RaYDcIy8_z9y"
      },
      "source": [
        "#Load data"
      ]
    },
    {
      "cell_type": "code",
      "metadata": {
        "id": "cegN65kqXm3h"
      },
      "source": [
        "def load_data(path, year):\n",
        "\n",
        "  data= pd.read_csv( path + year + \".csv\", sep = ',', encoding=\"utf-8-sig\")\n",
        "  return data"
      ],
      "execution_count": 9,
      "outputs": []
    },
    {
      "cell_type": "code",
      "metadata": {
        "id": "FWK05FI9Xv5K"
      },
      "source": [
        ""
      ],
      "execution_count": null,
      "outputs": []
    },
    {
      "cell_type": "code",
      "metadata": {
        "id": "B6rXLKOnRieU"
      },
      "source": [
        "stations = load_data(path+\"Stations_\", year_one)\n",
        "data = load_data(path+\"OD_\", year_one)\n",
        "station_cond = pd.read_json(path+\"stations.json\")\n",
        "\n"
      ],
      "execution_count": 73,
      "outputs": []
    },
    {
      "cell_type": "code",
      "metadata": {
        "colab": {
          "base_uri": "https://localhost:8080/",
          "height": 195
        },
        "id": "f1RBe7QlnC44",
        "outputId": "87123b63-e3be-4b0a-f588-ae6fd9efffc8"
      },
      "source": [
        "station_cond.tail()"
      ],
      "execution_count": 74,
      "outputs": [
        {
          "output_type": "execute_result",
          "data": {
            "text/html": [
              "<div>\n",
              "<style scoped>\n",
              "    .dataframe tbody tr th:only-of-type {\n",
              "        vertical-align: middle;\n",
              "    }\n",
              "\n",
              "    .dataframe tbody tr th {\n",
              "        vertical-align: top;\n",
              "    }\n",
              "\n",
              "    .dataframe thead th {\n",
              "        text-align: right;\n",
              "    }\n",
              "</style>\n",
              "<table border=\"1\" class=\"dataframe\">\n",
              "  <thead>\n",
              "    <tr style=\"text-align: right;\">\n",
              "      <th></th>\n",
              "      <th>stations</th>\n",
              "      <th>schemeSuspended</th>\n",
              "      <th>timestamp</th>\n",
              "    </tr>\n",
              "  </thead>\n",
              "  <tbody>\n",
              "    <tr>\n",
              "      <th>514</th>\n",
              "      <td>{'id': 590, 's': 'Fullum / Jean Langlois', 'n'...</td>\n",
              "      <td>False</td>\n",
              "      <td>2017-11-07 16:03:34.656</td>\n",
              "    </tr>\n",
              "    <tr>\n",
              "      <th>515</th>\n",
              "      <td>{'id': 591, 's': 'Hochelaga / Chapleau', 'n': ...</td>\n",
              "      <td>False</td>\n",
              "      <td>2017-11-07 16:03:34.656</td>\n",
              "    </tr>\n",
              "    <tr>\n",
              "      <th>516</th>\n",
              "      <td>{'id': 592, 's': 'Gauvin / Notre-Dame', 'n': '...</td>\n",
              "      <td>False</td>\n",
              "      <td>2017-11-07 16:03:34.656</td>\n",
              "    </tr>\n",
              "    <tr>\n",
              "      <th>517</th>\n",
              "      <td>{'id': 593, 's': 'President-Kennedy / Robert B...</td>\n",
              "      <td>False</td>\n",
              "      <td>2017-11-07 16:03:34.656</td>\n",
              "    </tr>\n",
              "    <tr>\n",
              "      <th>518</th>\n",
              "      <td>{'id': 594, 's': 'Lincoln / Lambert Closse', '...</td>\n",
              "      <td>False</td>\n",
              "      <td>2017-11-07 16:03:34.656</td>\n",
              "    </tr>\n",
              "  </tbody>\n",
              "</table>\n",
              "</div>"
            ],
            "text/plain": [
              "                                              stations  ...               timestamp\n",
              "514  {'id': 590, 's': 'Fullum / Jean Langlois', 'n'...  ... 2017-11-07 16:03:34.656\n",
              "515  {'id': 591, 's': 'Hochelaga / Chapleau', 'n': ...  ... 2017-11-07 16:03:34.656\n",
              "516  {'id': 592, 's': 'Gauvin / Notre-Dame', 'n': '...  ... 2017-11-07 16:03:34.656\n",
              "517  {'id': 593, 's': 'President-Kennedy / Robert B...  ... 2017-11-07 16:03:34.656\n",
              "518  {'id': 594, 's': 'Lincoln / Lambert Closse', '...  ... 2017-11-07 16:03:34.656\n",
              "\n",
              "[5 rows x 3 columns]"
            ]
          },
          "metadata": {
            "tags": []
          },
          "execution_count": 74
        }
      ]
    },
    {
      "cell_type": "code",
      "metadata": {
        "id": "Ldarb7kBft3P"
      },
      "source": [
        ""
      ],
      "execution_count": 56,
      "outputs": []
    },
    {
      "cell_type": "code",
      "metadata": {
        "colab": {
          "base_uri": "https://localhost:8080/",
          "height": 212
        },
        "id": "IUlGlfIXpG7S",
        "outputId": "2cc40b2d-32a7-4b87-c6d8-39495bb9e58f"
      },
      "source": [
        "station_cond.tail()"
      ],
      "execution_count": 57,
      "outputs": [
        {
          "output_type": "execute_result",
          "data": {
            "text/html": [
              "<div>\n",
              "<style scoped>\n",
              "    .dataframe tbody tr th:only-of-type {\n",
              "        vertical-align: middle;\n",
              "    }\n",
              "\n",
              "    .dataframe tbody tr th {\n",
              "        vertical-align: top;\n",
              "    }\n",
              "\n",
              "    .dataframe thead th {\n",
              "        text-align: right;\n",
              "    }\n",
              "</style>\n",
              "<table border=\"1\" class=\"dataframe\">\n",
              "  <thead>\n",
              "    <tr style=\"text-align: right;\">\n",
              "      <th></th>\n",
              "      <th>id</th>\n",
              "      <th>s</th>\n",
              "      <th>n</th>\n",
              "      <th>st</th>\n",
              "      <th>b</th>\n",
              "      <th>su</th>\n",
              "      <th>m</th>\n",
              "      <th>lu</th>\n",
              "      <th>lc</th>\n",
              "      <th>bk</th>\n",
              "      <th>bl</th>\n",
              "      <th>la</th>\n",
              "      <th>lo</th>\n",
              "      <th>da</th>\n",
              "      <th>dx</th>\n",
              "      <th>ba</th>\n",
              "      <th>bx</th>\n",
              "    </tr>\n",
              "  </thead>\n",
              "  <tbody>\n",
              "    <tr>\n",
              "      <th>514</th>\n",
              "      <td>590</td>\n",
              "      <td>Fullum / Jean Langlois</td>\n",
              "      <td>7077</td>\n",
              "      <td>1</td>\n",
              "      <td>False</td>\n",
              "      <td>False</td>\n",
              "      <td>False</td>\n",
              "      <td>1510065116389</td>\n",
              "      <td>1510070421547</td>\n",
              "      <td>False</td>\n",
              "      <td>False</td>\n",
              "      <td>45.526128</td>\n",
              "      <td>-73.546002</td>\n",
              "      <td>18</td>\n",
              "      <td>0</td>\n",
              "      <td>1</td>\n",
              "      <td>0</td>\n",
              "    </tr>\n",
              "    <tr>\n",
              "      <th>515</th>\n",
              "      <td>591</td>\n",
              "      <td>Hochelaga / Chapleau</td>\n",
              "      <td>7078</td>\n",
              "      <td>1</td>\n",
              "      <td>False</td>\n",
              "      <td>False</td>\n",
              "      <td>False</td>\n",
              "      <td>1510062468859</td>\n",
              "      <td>1510070376173</td>\n",
              "      <td>False</td>\n",
              "      <td>False</td>\n",
              "      <td>45.534453</td>\n",
              "      <td>-73.559652</td>\n",
              "      <td>15</td>\n",
              "      <td>0</td>\n",
              "      <td>0</td>\n",
              "      <td>0</td>\n",
              "    </tr>\n",
              "    <tr>\n",
              "      <th>516</th>\n",
              "      <td>592</td>\n",
              "      <td>Gauvin / Notre-Dame</td>\n",
              "      <td>7079</td>\n",
              "      <td>1</td>\n",
              "      <td>False</td>\n",
              "      <td>False</td>\n",
              "      <td>False</td>\n",
              "      <td>1510069862345</td>\n",
              "      <td>1510070582981</td>\n",
              "      <td>False</td>\n",
              "      <td>False</td>\n",
              "      <td>45.500043</td>\n",
              "      <td>-73.560412</td>\n",
              "      <td>3</td>\n",
              "      <td>0</td>\n",
              "      <td>24</td>\n",
              "      <td>0</td>\n",
              "    </tr>\n",
              "    <tr>\n",
              "      <th>517</th>\n",
              "      <td>593</td>\n",
              "      <td>President-Kennedy / Robert Bourassa</td>\n",
              "      <td>7080</td>\n",
              "      <td>1</td>\n",
              "      <td>False</td>\n",
              "      <td>False</td>\n",
              "      <td>False</td>\n",
              "      <td>1510070104151</td>\n",
              "      <td>1510070597166</td>\n",
              "      <td>False</td>\n",
              "      <td>False</td>\n",
              "      <td>45.504407</td>\n",
              "      <td>-73.572543</td>\n",
              "      <td>9</td>\n",
              "      <td>0</td>\n",
              "      <td>14</td>\n",
              "      <td>0</td>\n",
              "    </tr>\n",
              "    <tr>\n",
              "      <th>518</th>\n",
              "      <td>594</td>\n",
              "      <td>Lincoln / Lambert Closse</td>\n",
              "      <td>7081</td>\n",
              "      <td>1</td>\n",
              "      <td>False</td>\n",
              "      <td>False</td>\n",
              "      <td>False</td>\n",
              "      <td>1510070228268</td>\n",
              "      <td>1510070469215</td>\n",
              "      <td>False</td>\n",
              "      <td>False</td>\n",
              "      <td>45.491384</td>\n",
              "      <td>-73.586013</td>\n",
              "      <td>7</td>\n",
              "      <td>0</td>\n",
              "      <td>12</td>\n",
              "      <td>0</td>\n",
              "    </tr>\n",
              "  </tbody>\n",
              "</table>\n",
              "</div>"
            ],
            "text/plain": [
              "      id                                    s     n  st  ...  da  dx  ba  bx\n",
              "514  590               Fullum / Jean Langlois  7077   1  ...  18   0   1   0\n",
              "515  591                 Hochelaga / Chapleau  7078   1  ...  15   0   0   0\n",
              "516  592                  Gauvin / Notre-Dame  7079   1  ...   3   0  24   0\n",
              "517  593  President-Kennedy / Robert Bourassa  7080   1  ...   9   0  14   0\n",
              "518  594             Lincoln / Lambert Closse  7081   1  ...   7   0  12   0\n",
              "\n",
              "[5 rows x 17 columns]"
            ]
          },
          "metadata": {
            "tags": []
          },
          "execution_count": 57
        }
      ]
    },
    {
      "cell_type": "code",
      "metadata": {
        "colab": {
          "base_uri": "https://localhost:8080/",
          "height": 195
        },
        "id": "7ANhfKmVcL3d",
        "outputId": "444d56e8-dd36-46bc-8fd3-c0900e790515"
      },
      "source": [
        "stations.tail()"
      ],
      "execution_count": 61,
      "outputs": [
        {
          "output_type": "execute_result",
          "data": {
            "text/html": [
              "<div>\n",
              "<style scoped>\n",
              "    .dataframe tbody tr th:only-of-type {\n",
              "        vertical-align: middle;\n",
              "    }\n",
              "\n",
              "    .dataframe tbody tr th {\n",
              "        vertical-align: top;\n",
              "    }\n",
              "\n",
              "    .dataframe thead th {\n",
              "        text-align: right;\n",
              "    }\n",
              "</style>\n",
              "<table border=\"1\" class=\"dataframe\">\n",
              "  <thead>\n",
              "    <tr style=\"text-align: right;\">\n",
              "      <th></th>\n",
              "      <th>code</th>\n",
              "      <th>name</th>\n",
              "      <th>latitude</th>\n",
              "      <th>longitude</th>\n",
              "    </tr>\n",
              "  </thead>\n",
              "  <tbody>\n",
              "    <tr>\n",
              "      <th>454</th>\n",
              "      <td>6136</td>\n",
              "      <td>Métro Laurier (Rivard / Laurier)</td>\n",
              "      <td>45.527616</td>\n",
              "      <td>-73.589115</td>\n",
              "    </tr>\n",
              "    <tr>\n",
              "      <th>455</th>\n",
              "      <td>6743</td>\n",
              "      <td>St-Marc / Sherbrooke</td>\n",
              "      <td>45.494514</td>\n",
              "      <td>-73.583368</td>\n",
              "    </tr>\n",
              "    <tr>\n",
              "      <th>456</th>\n",
              "      <td>6051</td>\n",
              "      <td>de Gaspé / Marmier</td>\n",
              "      <td>45.529686</td>\n",
              "      <td>-73.601728</td>\n",
              "    </tr>\n",
              "    <tr>\n",
              "      <th>457</th>\n",
              "      <td>6178</td>\n",
              "      <td>Rivard / Rachel</td>\n",
              "      <td>45.522278</td>\n",
              "      <td>-73.577591</td>\n",
              "    </tr>\n",
              "    <tr>\n",
              "      <th>458</th>\n",
              "      <td>6226</td>\n",
              "      <td>Hôpital Maisonneuve-Rosemont (Rosemont / Chate...</td>\n",
              "      <td>45.575707</td>\n",
              "      <td>-73.561562</td>\n",
              "    </tr>\n",
              "  </tbody>\n",
              "</table>\n",
              "</div>"
            ],
            "text/plain": [
              "     code  ...  longitude\n",
              "454  6136  ... -73.589115\n",
              "455  6743  ... -73.583368\n",
              "456  6051  ... -73.601728\n",
              "457  6178  ... -73.577591\n",
              "458  6226  ... -73.561562\n",
              "\n",
              "[5 rows x 4 columns]"
            ]
          },
          "metadata": {
            "tags": []
          },
          "execution_count": 61
        }
      ]
    },
    {
      "cell_type": "code",
      "metadata": {
        "id": "UpE2Y0EDWLhc"
      },
      "source": [
        "\n",
        "#Create dict for station names\n",
        "station_dict = pd.Series(stations.name.values,index=stations.code).to_dict()"
      ],
      "execution_count": 62,
      "outputs": []
    },
    {
      "cell_type": "code",
      "metadata": {
        "colab": {
          "base_uri": "https://localhost:8080/",
          "height": 195
        },
        "id": "tH4jt5qf_yvz",
        "outputId": "18a3e3bb-54d8-4185-f113-61fbcbff0b19"
      },
      "source": [
        "\n",
        "data.tail()"
      ],
      "execution_count": 63,
      "outputs": [
        {
          "output_type": "execute_result",
          "data": {
            "text/html": [
              "<div>\n",
              "<style scoped>\n",
              "    .dataframe tbody tr th:only-of-type {\n",
              "        vertical-align: middle;\n",
              "    }\n",
              "\n",
              "    .dataframe tbody tr th {\n",
              "        vertical-align: top;\n",
              "    }\n",
              "\n",
              "    .dataframe thead th {\n",
              "        text-align: right;\n",
              "    }\n",
              "</style>\n",
              "<table border=\"1\" class=\"dataframe\">\n",
              "  <thead>\n",
              "    <tr style=\"text-align: right;\">\n",
              "      <th></th>\n",
              "      <th>Unnamed: 0</th>\n",
              "      <th>start_date</th>\n",
              "      <th>start_station_code</th>\n",
              "      <th>end_date</th>\n",
              "      <th>end_station_code</th>\n",
              "      <th>duration_sec</th>\n",
              "      <th>is_member</th>\n",
              "    </tr>\n",
              "  </thead>\n",
              "  <tbody>\n",
              "    <tr>\n",
              "      <th>3136271</th>\n",
              "      <td>3136271</td>\n",
              "      <td>2014-11-15 23:57</td>\n",
              "      <td>6073</td>\n",
              "      <td>2014-11-16 00:09</td>\n",
              "      <td>6119</td>\n",
              "      <td>737</td>\n",
              "      <td>1</td>\n",
              "    </tr>\n",
              "    <tr>\n",
              "      <th>3136272</th>\n",
              "      <td>3136272</td>\n",
              "      <td>2014-11-15 23:57</td>\n",
              "      <td>6156</td>\n",
              "      <td>2014-11-16 00:22</td>\n",
              "      <td>6103</td>\n",
              "      <td>1526</td>\n",
              "      <td>1</td>\n",
              "    </tr>\n",
              "    <tr>\n",
              "      <th>3136273</th>\n",
              "      <td>3136273</td>\n",
              "      <td>2014-11-15 23:57</td>\n",
              "      <td>6211</td>\n",
              "      <td>2014-11-16 00:07</td>\n",
              "      <td>6015</td>\n",
              "      <td>598</td>\n",
              "      <td>1</td>\n",
              "    </tr>\n",
              "    <tr>\n",
              "      <th>3136274</th>\n",
              "      <td>3136274</td>\n",
              "      <td>2014-11-15 23:58</td>\n",
              "      <td>6421</td>\n",
              "      <td>2014-11-16 00:04</td>\n",
              "      <td>6912</td>\n",
              "      <td>362</td>\n",
              "      <td>1</td>\n",
              "    </tr>\n",
              "    <tr>\n",
              "      <th>3136275</th>\n",
              "      <td>3136275</td>\n",
              "      <td>2014-11-15 23:54</td>\n",
              "      <td>6280</td>\n",
              "      <td>2014-11-16 00:03</td>\n",
              "      <td>6154</td>\n",
              "      <td>538</td>\n",
              "      <td>1</td>\n",
              "    </tr>\n",
              "  </tbody>\n",
              "</table>\n",
              "</div>"
            ],
            "text/plain": [
              "         Unnamed: 0        start_date  ...  duration_sec is_member\n",
              "3136271     3136271  2014-11-15 23:57  ...           737         1\n",
              "3136272     3136272  2014-11-15 23:57  ...          1526         1\n",
              "3136273     3136273  2014-11-15 23:57  ...           598         1\n",
              "3136274     3136274  2014-11-15 23:58  ...           362         1\n",
              "3136275     3136275  2014-11-15 23:54  ...           538         1\n",
              "\n",
              "[5 rows x 7 columns]"
            ]
          },
          "metadata": {
            "tags": []
          },
          "execution_count": 63
        }
      ]
    },
    {
      "cell_type": "code",
      "metadata": {
        "colab": {
          "base_uri": "https://localhost:8080/"
        },
        "id": "R6mkwqS43Lcs",
        "outputId": "e99cb017-2858-452e-a941-1d17efd8bb24"
      },
      "source": [
        "data.info()"
      ],
      "execution_count": 64,
      "outputs": [
        {
          "output_type": "stream",
          "text": [
            "<class 'pandas.core.frame.DataFrame'>\n",
            "RangeIndex: 3136276 entries, 0 to 3136275\n",
            "Data columns (total 7 columns):\n",
            " #   Column              Dtype \n",
            "---  ------              ----- \n",
            " 0   Unnamed: 0          int64 \n",
            " 1   start_date          object\n",
            " 2   start_station_code  int64 \n",
            " 3   end_date            object\n",
            " 4   end_station_code    int64 \n",
            " 5   duration_sec        int64 \n",
            " 6   is_member           int64 \n",
            "dtypes: int64(5), object(2)\n",
            "memory usage: 167.5+ MB\n"
          ],
          "name": "stdout"
        }
      ]
    },
    {
      "cell_type": "code",
      "metadata": {
        "colab": {
          "base_uri": "https://localhost:8080/"
        },
        "id": "ezC1F2V7Giod",
        "outputId": "afcc27aa-32d5-4d9b-9a00-b13c6560e07e"
      },
      "source": [
        "data.shape"
      ],
      "execution_count": 10,
      "outputs": [
        {
          "output_type": "execute_result",
          "data": {
            "text/plain": [
              "(3136276, 7)"
            ]
          },
          "metadata": {
            "tags": []
          },
          "execution_count": 10
        }
      ]
    },
    {
      "cell_type": "code",
      "metadata": {
        "colab": {
          "base_uri": "https://localhost:8080/",
          "height": 402
        },
        "id": "_bqJQmuyEKcJ",
        "outputId": "f9c3a98f-87e8-487f-c67b-58cdc6483d79"
      },
      "source": [
        "#remove incomplete lines\n",
        "data.dropna()\n"
      ],
      "execution_count": 11,
      "outputs": [
        {
          "output_type": "execute_result",
          "data": {
            "text/html": [
              "<div>\n",
              "<style scoped>\n",
              "    .dataframe tbody tr th:only-of-type {\n",
              "        vertical-align: middle;\n",
              "    }\n",
              "\n",
              "    .dataframe tbody tr th {\n",
              "        vertical-align: top;\n",
              "    }\n",
              "\n",
              "    .dataframe thead th {\n",
              "        text-align: right;\n",
              "    }\n",
              "</style>\n",
              "<table border=\"1\" class=\"dataframe\">\n",
              "  <thead>\n",
              "    <tr style=\"text-align: right;\">\n",
              "      <th></th>\n",
              "      <th>Unnamed: 0</th>\n",
              "      <th>start_date</th>\n",
              "      <th>start_station_code</th>\n",
              "      <th>end_date</th>\n",
              "      <th>end_station_code</th>\n",
              "      <th>duration_sec</th>\n",
              "      <th>is_member</th>\n",
              "    </tr>\n",
              "  </thead>\n",
              "  <tbody>\n",
              "    <tr>\n",
              "      <th>0</th>\n",
              "      <td>0</td>\n",
              "      <td>2014-04-15 00:01</td>\n",
              "      <td>6209</td>\n",
              "      <td>2014-04-15 00:18</td>\n",
              "      <td>6436</td>\n",
              "      <td>1061</td>\n",
              "      <td>1</td>\n",
              "    </tr>\n",
              "    <tr>\n",
              "      <th>1</th>\n",
              "      <td>1</td>\n",
              "      <td>2014-04-15 00:01</td>\n",
              "      <td>6214</td>\n",
              "      <td>2014-04-15 00:11</td>\n",
              "      <td>6248</td>\n",
              "      <td>615</td>\n",
              "      <td>1</td>\n",
              "    </tr>\n",
              "    <tr>\n",
              "      <th>2</th>\n",
              "      <td>2</td>\n",
              "      <td>2014-04-15 00:01</td>\n",
              "      <td>6164</td>\n",
              "      <td>2014-04-15 00:18</td>\n",
              "      <td>6216</td>\n",
              "      <td>1031</td>\n",
              "      <td>1</td>\n",
              "    </tr>\n",
              "    <tr>\n",
              "      <th>3</th>\n",
              "      <td>3</td>\n",
              "      <td>2014-04-15 00:01</td>\n",
              "      <td>6214</td>\n",
              "      <td>2014-04-15 00:24</td>\n",
              "      <td>6082</td>\n",
              "      <td>1382</td>\n",
              "      <td>1</td>\n",
              "    </tr>\n",
              "    <tr>\n",
              "      <th>4</th>\n",
              "      <td>4</td>\n",
              "      <td>2014-04-15 00:02</td>\n",
              "      <td>6149</td>\n",
              "      <td>2014-04-15 00:08</td>\n",
              "      <td>6265</td>\n",
              "      <td>347</td>\n",
              "      <td>1</td>\n",
              "    </tr>\n",
              "    <tr>\n",
              "      <th>...</th>\n",
              "      <td>...</td>\n",
              "      <td>...</td>\n",
              "      <td>...</td>\n",
              "      <td>...</td>\n",
              "      <td>...</td>\n",
              "      <td>...</td>\n",
              "      <td>...</td>\n",
              "    </tr>\n",
              "    <tr>\n",
              "      <th>3136271</th>\n",
              "      <td>3136271</td>\n",
              "      <td>2014-11-15 23:57</td>\n",
              "      <td>6073</td>\n",
              "      <td>2014-11-16 00:09</td>\n",
              "      <td>6119</td>\n",
              "      <td>737</td>\n",
              "      <td>1</td>\n",
              "    </tr>\n",
              "    <tr>\n",
              "      <th>3136272</th>\n",
              "      <td>3136272</td>\n",
              "      <td>2014-11-15 23:57</td>\n",
              "      <td>6156</td>\n",
              "      <td>2014-11-16 00:22</td>\n",
              "      <td>6103</td>\n",
              "      <td>1526</td>\n",
              "      <td>1</td>\n",
              "    </tr>\n",
              "    <tr>\n",
              "      <th>3136273</th>\n",
              "      <td>3136273</td>\n",
              "      <td>2014-11-15 23:57</td>\n",
              "      <td>6211</td>\n",
              "      <td>2014-11-16 00:07</td>\n",
              "      <td>6015</td>\n",
              "      <td>598</td>\n",
              "      <td>1</td>\n",
              "    </tr>\n",
              "    <tr>\n",
              "      <th>3136274</th>\n",
              "      <td>3136274</td>\n",
              "      <td>2014-11-15 23:58</td>\n",
              "      <td>6421</td>\n",
              "      <td>2014-11-16 00:04</td>\n",
              "      <td>6912</td>\n",
              "      <td>362</td>\n",
              "      <td>1</td>\n",
              "    </tr>\n",
              "    <tr>\n",
              "      <th>3136275</th>\n",
              "      <td>3136275</td>\n",
              "      <td>2014-11-15 23:54</td>\n",
              "      <td>6280</td>\n",
              "      <td>2014-11-16 00:03</td>\n",
              "      <td>6154</td>\n",
              "      <td>538</td>\n",
              "      <td>1</td>\n",
              "    </tr>\n",
              "  </tbody>\n",
              "</table>\n",
              "<p>3136276 rows × 7 columns</p>\n",
              "</div>"
            ],
            "text/plain": [
              "         Unnamed: 0        start_date  ...  duration_sec is_member\n",
              "0                 0  2014-04-15 00:01  ...          1061         1\n",
              "1                 1  2014-04-15 00:01  ...           615         1\n",
              "2                 2  2014-04-15 00:01  ...          1031         1\n",
              "3                 3  2014-04-15 00:01  ...          1382         1\n",
              "4                 4  2014-04-15 00:02  ...           347         1\n",
              "...             ...               ...  ...           ...       ...\n",
              "3136271     3136271  2014-11-15 23:57  ...           737         1\n",
              "3136272     3136272  2014-11-15 23:57  ...          1526         1\n",
              "3136273     3136273  2014-11-15 23:57  ...           598         1\n",
              "3136274     3136274  2014-11-15 23:58  ...           362         1\n",
              "3136275     3136275  2014-11-15 23:54  ...           538         1\n",
              "\n",
              "[3136276 rows x 7 columns]"
            ]
          },
          "metadata": {
            "tags": []
          },
          "execution_count": 11
        }
      ]
    },
    {
      "cell_type": "markdown",
      "metadata": {
        "id": "IUxEk3qqPm6z"
      },
      "source": [
        "#Histogram of travel times"
      ]
    },
    {
      "cell_type": "code",
      "metadata": {
        "colab": {
          "base_uri": "https://localhost:8080/",
          "height": 312
        },
        "id": "wj86SJ7pHoOz",
        "outputId": "65c38f3c-2993-4649-f2a1-7af088665ffb"
      },
      "source": [
        "duration = data[\"duration_sec\"]\n",
        "\n",
        "n, bins, patches = plt.hist(x=duration, bins='auto', color='#0500aa',\n",
        "                            alpha=0.85, rwidth=0.85)\n",
        "plt.grid(axis='y', alpha=0.75)\n",
        "plt.xlabel('Travel Time in seconds')\n",
        "plt.ylabel('Frequency')\n",
        "plt.title('Travel Times')\n",
        "plt.text(23, 45, r'$\\mu=15, b=3$')\n",
        "maxfreq =n.max()\n",
        "# Set a clean upper y-axis limit.\n",
        "plt.ylim(ymax=np.ceil(maxfreq / 10) * 10 if maxfreq % 10 else maxfreq + 10)\n",
        "plt.xlim(right = duration.max())\n"
      ],
      "execution_count": 84,
      "outputs": [
        {
          "output_type": "execute_result",
          "data": {
            "text/plain": [
              "(-294.9214880952381, 7195.0)"
            ]
          },
          "metadata": {
            "tags": []
          },
          "execution_count": 84
        },
        {
          "output_type": "display_data",
          "data": {
            "image/png": "[encoded data removed]",
            "text/plain": [
              "<Figure size 432x288 with 1 Axes>"
            ]
          },
          "metadata": {
            "tags": [],
            "needs_background": "light"
          }
        }
      ]
    },
    {
      "cell_type": "markdown",
      "metadata": {
        "id": "ywO-5Q3BQ5K7"
      },
      "source": [
        "\n",
        "Most used start station \n",
        "\n",
        "\n"
      ]
    },
    {
      "cell_type": "code",
      "metadata": {
        "id": "Bmnzo-DSRD-8"
      },
      "source": [
        "most_used_start = data.start_station_code.value_counts()[:N].index.tolist()"
      ],
      "execution_count": 13,
      "outputs": []
    },
    {
      "cell_type": "markdown",
      "metadata": {
        "id": "8xzx6Xg8TbjA"
      },
      "source": [
        "Most used end station"
      ]
    },
    {
      "cell_type": "code",
      "metadata": {
        "id": "XZffqGFnTPO9"
      },
      "source": [
        "most_used_end = data.end_station_code.value_counts()[:N].index.tolist()"
      ],
      "execution_count": 14,
      "outputs": []
    },
    {
      "cell_type": "markdown",
      "metadata": {
        "id": "6EqWmuAOT5Tc"
      },
      "source": [
        "Most used station general"
      ]
    },
    {
      "cell_type": "code",
      "metadata": {
        "id": "-0OGSRMaUC8o"
      },
      "source": [
        "#Concatinate Colums of start and end stations\n",
        "all_stat = pd.concat([data.start_station_code, data.end_station_code])\n",
        "\n"
      ],
      "execution_count": 17,
      "outputs": []
    },
    {
      "cell_type": "code",
      "metadata": {
        "id": "DWA4O1_AT741"
      },
      "source": [
        "most_used_gen = all_stat.value_counts()[:N].index.tolist()"
      ],
      "execution_count": 18,
      "outputs": []
    },
    {
      "cell_type": "code",
      "metadata": {
        "id": "F6hVVBdEVAlw"
      },
      "source": [
        "def map_station(station_code_list):\n",
        "  return pd.DataFrame([station_dict[x] for x in station_code_list ])\n",
        "  "
      ],
      "execution_count": 19,
      "outputs": []
    },
    {
      "cell_type": "code",
      "metadata": {
        "id": "WDmP5FPoiMrg"
      },
      "source": [
        "def map_trip(trip_codes):\n",
        "  df= pd.DataFrame()\n",
        "  df[\"trip codes\"] = trip_codes\n",
        "  df[\" trips\"] = [station_dict[int(x.split('-')[0])]+' -> '+ station_dict[int(x.split('-')[0])] for x  in trip_codes]\n",
        "  df.style.set_caption(str(N) +\" Most FRequent Trips\")\n",
        "  return df\n",
        " #return pd.DataFrame(trip_codes,[station_dict[int(x.split('-')[0])]+' -> '+ station_dict[int(x.split('-')[0])] for x  in trip_codes])\n"
      ],
      "execution_count": 20,
      "outputs": []
    },
    {
      "cell_type": "code",
      "metadata": {
        "colab": {
          "base_uri": "https://localhost:8080/",
          "height": 343
        },
        "id": "VBaBtYdlc6je",
        "outputId": "fa0b22e7-175f-4ce8-baab-446512ffa009"
      },
      "source": [
        "map_station(most_used_start)"
      ],
      "execution_count": 21,
      "outputs": [
        {
          "output_type": "execute_result",
          "data": {
            "text/html": [
              "<div>\n",
              "<style scoped>\n",
              "    .dataframe tbody tr th:only-of-type {\n",
              "        vertical-align: middle;\n",
              "    }\n",
              "\n",
              "    .dataframe tbody tr th {\n",
              "        vertical-align: top;\n",
              "    }\n",
              "\n",
              "    .dataframe thead th {\n",
              "        text-align: right;\n",
              "    }\n",
              "</style>\n",
              "<table border=\"1\" class=\"dataframe\">\n",
              "  <thead>\n",
              "    <tr style=\"text-align: right;\">\n",
              "      <th></th>\n",
              "      <th>0</th>\n",
              "    </tr>\n",
              "  </thead>\n",
              "  <tbody>\n",
              "    <tr>\n",
              "      <th>0</th>\n",
              "      <td>Métro Mont-Royal (Rivard / du Mont-Royal)</td>\n",
              "    </tr>\n",
              "    <tr>\n",
              "      <th>1</th>\n",
              "      <td>de Maisonneuve / de Bleury</td>\n",
              "    </tr>\n",
              "    <tr>\n",
              "      <th>2</th>\n",
              "      <td>de Maisonneuve / Stanley</td>\n",
              "    </tr>\n",
              "    <tr>\n",
              "      <th>3</th>\n",
              "      <td>Square St-Louis</td>\n",
              "    </tr>\n",
              "    <tr>\n",
              "      <th>4</th>\n",
              "      <td>Mackay /de Maisonneuve (Sud)</td>\n",
              "    </tr>\n",
              "    <tr>\n",
              "      <th>5</th>\n",
              "      <td>du Mont-Royal / Clark</td>\n",
              "    </tr>\n",
              "    <tr>\n",
              "      <th>6</th>\n",
              "      <td>Métro St-Laurent (de Maisonneuve / St-Laurent)</td>\n",
              "    </tr>\n",
              "    <tr>\n",
              "      <th>7</th>\n",
              "      <td>St-Dominique / Rachel</td>\n",
              "    </tr>\n",
              "    <tr>\n",
              "      <th>8</th>\n",
              "      <td>St-André / Laurier</td>\n",
              "    </tr>\n",
              "    <tr>\n",
              "      <th>9</th>\n",
              "      <td>Marquette / du Mont-Royal</td>\n",
              "    </tr>\n",
              "  </tbody>\n",
              "</table>\n",
              "</div>"
            ],
            "text/plain": [
              "                                                0\n",
              "0       Métro Mont-Royal (Rivard / du Mont-Royal)\n",
              "1                      de Maisonneuve / de Bleury\n",
              "2                        de Maisonneuve / Stanley\n",
              "3                                 Square St-Louis\n",
              "4                    Mackay /de Maisonneuve (Sud)\n",
              "5                           du Mont-Royal / Clark\n",
              "6  Métro St-Laurent (de Maisonneuve / St-Laurent)\n",
              "7                           St-Dominique / Rachel\n",
              "8                              St-André / Laurier\n",
              "9                       Marquette / du Mont-Royal"
            ]
          },
          "metadata": {
            "tags": []
          },
          "execution_count": 21
        }
      ]
    },
    {
      "cell_type": "code",
      "metadata": {
        "colab": {
          "base_uri": "https://localhost:8080/",
          "height": 343
        },
        "id": "LO7Ra07ydpcv",
        "outputId": "8d809096-8cad-4bbc-95c4-66156964055d"
      },
      "source": [
        "map_station(most_used_end)"
      ],
      "execution_count": 22,
      "outputs": [
        {
          "output_type": "execute_result",
          "data": {
            "text/html": [
              "<div>\n",
              "<style scoped>\n",
              "    .dataframe tbody tr th:only-of-type {\n",
              "        vertical-align: middle;\n",
              "    }\n",
              "\n",
              "    .dataframe tbody tr th {\n",
              "        vertical-align: top;\n",
              "    }\n",
              "\n",
              "    .dataframe thead th {\n",
              "        text-align: right;\n",
              "    }\n",
              "</style>\n",
              "<table border=\"1\" class=\"dataframe\">\n",
              "  <thead>\n",
              "    <tr style=\"text-align: right;\">\n",
              "      <th></th>\n",
              "      <th>0</th>\n",
              "    </tr>\n",
              "  </thead>\n",
              "  <tbody>\n",
              "    <tr>\n",
              "      <th>0</th>\n",
              "      <td>Métro Mont-Royal (Rivard / du Mont-Royal)</td>\n",
              "    </tr>\n",
              "    <tr>\n",
              "      <th>1</th>\n",
              "      <td>de Maisonneuve / de Bleury</td>\n",
              "    </tr>\n",
              "    <tr>\n",
              "      <th>2</th>\n",
              "      <td>de Maisonneuve / Stanley</td>\n",
              "    </tr>\n",
              "    <tr>\n",
              "      <th>3</th>\n",
              "      <td>Métro St-Laurent (de Maisonneuve / St-Laurent)</td>\n",
              "    </tr>\n",
              "    <tr>\n",
              "      <th>4</th>\n",
              "      <td>Berri / de Maisonneuve</td>\n",
              "    </tr>\n",
              "    <tr>\n",
              "      <th>5</th>\n",
              "      <td>St-Urbain / René-Lévesque</td>\n",
              "    </tr>\n",
              "    <tr>\n",
              "      <th>6</th>\n",
              "      <td>Mackay /de Maisonneuve (Sud)</td>\n",
              "    </tr>\n",
              "    <tr>\n",
              "      <th>7</th>\n",
              "      <td>Square Victoria</td>\n",
              "    </tr>\n",
              "    <tr>\n",
              "      <th>8</th>\n",
              "      <td>Métro Place-d'Armes (Viger / St-Urbain)</td>\n",
              "    </tr>\n",
              "    <tr>\n",
              "      <th>9</th>\n",
              "      <td>Ste-Catherine / St-Hubert</td>\n",
              "    </tr>\n",
              "  </tbody>\n",
              "</table>\n",
              "</div>"
            ],
            "text/plain": [
              "                                                0\n",
              "0       Métro Mont-Royal (Rivard / du Mont-Royal)\n",
              "1                      de Maisonneuve / de Bleury\n",
              "2                        de Maisonneuve / Stanley\n",
              "3  Métro St-Laurent (de Maisonneuve / St-Laurent)\n",
              "4                          Berri / de Maisonneuve\n",
              "5                       St-Urbain / René-Lévesque\n",
              "6                    Mackay /de Maisonneuve (Sud)\n",
              "7                                 Square Victoria\n",
              "8         Métro Place-d'Armes (Viger / St-Urbain)\n",
              "9                       Ste-Catherine / St-Hubert"
            ]
          },
          "metadata": {
            "tags": []
          },
          "execution_count": 22
        }
      ]
    },
    {
      "cell_type": "code",
      "metadata": {
        "colab": {
          "base_uri": "https://localhost:8080/",
          "height": 343
        },
        "id": "SpuXjubOdxlK",
        "outputId": "511ce798-ae6d-4f6b-dad1-34201027f410"
      },
      "source": [
        "map_station(most_used_gen)"
      ],
      "execution_count": 23,
      "outputs": [
        {
          "output_type": "execute_result",
          "data": {
            "text/html": [
              "<div>\n",
              "<style scoped>\n",
              "    .dataframe tbody tr th:only-of-type {\n",
              "        vertical-align: middle;\n",
              "    }\n",
              "\n",
              "    .dataframe tbody tr th {\n",
              "        vertical-align: top;\n",
              "    }\n",
              "\n",
              "    .dataframe thead th {\n",
              "        text-align: right;\n",
              "    }\n",
              "</style>\n",
              "<table border=\"1\" class=\"dataframe\">\n",
              "  <thead>\n",
              "    <tr style=\"text-align: right;\">\n",
              "      <th></th>\n",
              "      <th>0</th>\n",
              "    </tr>\n",
              "  </thead>\n",
              "  <tbody>\n",
              "    <tr>\n",
              "      <th>0</th>\n",
              "      <td>Métro Mont-Royal (Rivard / du Mont-Royal)</td>\n",
              "    </tr>\n",
              "    <tr>\n",
              "      <th>1</th>\n",
              "      <td>de Maisonneuve / de Bleury</td>\n",
              "    </tr>\n",
              "    <tr>\n",
              "      <th>2</th>\n",
              "      <td>de Maisonneuve / Stanley</td>\n",
              "    </tr>\n",
              "    <tr>\n",
              "      <th>3</th>\n",
              "      <td>Métro St-Laurent (de Maisonneuve / St-Laurent)</td>\n",
              "    </tr>\n",
              "    <tr>\n",
              "      <th>4</th>\n",
              "      <td>Mackay /de Maisonneuve (Sud)</td>\n",
              "    </tr>\n",
              "    <tr>\n",
              "      <th>5</th>\n",
              "      <td>Berri / de Maisonneuve</td>\n",
              "    </tr>\n",
              "    <tr>\n",
              "      <th>6</th>\n",
              "      <td>Square St-Louis</td>\n",
              "    </tr>\n",
              "    <tr>\n",
              "      <th>7</th>\n",
              "      <td>St-Urbain / René-Lévesque</td>\n",
              "    </tr>\n",
              "    <tr>\n",
              "      <th>8</th>\n",
              "      <td>du Mont-Royal / Clark</td>\n",
              "    </tr>\n",
              "    <tr>\n",
              "      <th>9</th>\n",
              "      <td>Roy / St-Laurent</td>\n",
              "    </tr>\n",
              "  </tbody>\n",
              "</table>\n",
              "</div>"
            ],
            "text/plain": [
              "                                                0\n",
              "0       Métro Mont-Royal (Rivard / du Mont-Royal)\n",
              "1                      de Maisonneuve / de Bleury\n",
              "2                        de Maisonneuve / Stanley\n",
              "3  Métro St-Laurent (de Maisonneuve / St-Laurent)\n",
              "4                    Mackay /de Maisonneuve (Sud)\n",
              "5                          Berri / de Maisonneuve\n",
              "6                                 Square St-Louis\n",
              "7                       St-Urbain / René-Lévesque\n",
              "8                           du Mont-Royal / Clark\n",
              "9                                Roy / St-Laurent"
            ]
          },
          "metadata": {
            "tags": []
          },
          "execution_count": 23
        }
      ]
    },
    {
      "cell_type": "markdown",
      "metadata": {
        "id": "kXOWZV5d39zQ"
      },
      "source": [
        "# N Top Trips\n"
      ]
    },
    {
      "cell_type": "code",
      "metadata": {
        "id": "OdHQJRRkceRL"
      },
      "source": [
        "trips =data.start_station_code.apply(str) +'-'+ data.end_station_code.apply(str)\n"
      ],
      "execution_count": 24,
      "outputs": []
    },
    {
      "cell_type": "code",
      "metadata": {
        "colab": {
          "base_uri": "https://localhost:8080/"
        },
        "id": "8cCKgAcTgXax",
        "outputId": "68b6bf6a-4e52-4ca4-c8a9-eb8c1793e183"
      },
      "source": [
        "\n",
        "trips.tail()"
      ],
      "execution_count": 22,
      "outputs": [
        {
          "output_type": "execute_result",
          "data": {
            "text/plain": [
              "3136271    6073-6119\n",
              "3136272    6156-6103\n",
              "3136273    6211-6015\n",
              "3136274    6421-6912\n",
              "3136275    6280-6154\n",
              "dtype: object"
            ]
          },
          "metadata": {
            "tags": []
          },
          "execution_count": 22
        }
      ]
    },
    {
      "cell_type": "code",
      "metadata": {
        "id": "nsxPiA114D1I"
      },
      "source": [
        "data['trip_code'] = trips"
      ],
      "execution_count": 23,
      "outputs": []
    },
    {
      "cell_type": "code",
      "metadata": {
        "colab": {
          "base_uri": "https://localhost:8080/",
          "height": 195
        },
        "id": "zzhECeKnfizt",
        "outputId": "d295c206-deeb-49b9-cbb3-79303cb07237"
      },
      "source": [
        "data.tail()\n"
      ],
      "execution_count": 24,
      "outputs": [
        {
          "output_type": "execute_result",
          "data": {
            "text/html": [
              "<div>\n",
              "<style scoped>\n",
              "    .dataframe tbody tr th:only-of-type {\n",
              "        vertical-align: middle;\n",
              "    }\n",
              "\n",
              "    .dataframe tbody tr th {\n",
              "        vertical-align: top;\n",
              "    }\n",
              "\n",
              "    .dataframe thead th {\n",
              "        text-align: right;\n",
              "    }\n",
              "</style>\n",
              "<table border=\"1\" class=\"dataframe\">\n",
              "  <thead>\n",
              "    <tr style=\"text-align: right;\">\n",
              "      <th></th>\n",
              "      <th>Unnamed: 0</th>\n",
              "      <th>start_date</th>\n",
              "      <th>start_station_code</th>\n",
              "      <th>end_date</th>\n",
              "      <th>end_station_code</th>\n",
              "      <th>duration_sec</th>\n",
              "      <th>is_member</th>\n",
              "      <th>trip_code</th>\n",
              "    </tr>\n",
              "  </thead>\n",
              "  <tbody>\n",
              "    <tr>\n",
              "      <th>3136271</th>\n",
              "      <td>3136271</td>\n",
              "      <td>2014-11-15 23:57</td>\n",
              "      <td>6073</td>\n",
              "      <td>2014-11-16 00:09</td>\n",
              "      <td>6119</td>\n",
              "      <td>737</td>\n",
              "      <td>1</td>\n",
              "      <td>6073-6119</td>\n",
              "    </tr>\n",
              "    <tr>\n",
              "      <th>3136272</th>\n",
              "      <td>3136272</td>\n",
              "      <td>2014-11-15 23:57</td>\n",
              "      <td>6156</td>\n",
              "      <td>2014-11-16 00:22</td>\n",
              "      <td>6103</td>\n",
              "      <td>1526</td>\n",
              "      <td>1</td>\n",
              "      <td>6156-6103</td>\n",
              "    </tr>\n",
              "    <tr>\n",
              "      <th>3136273</th>\n",
              "      <td>3136273</td>\n",
              "      <td>2014-11-15 23:57</td>\n",
              "      <td>6211</td>\n",
              "      <td>2014-11-16 00:07</td>\n",
              "      <td>6015</td>\n",
              "      <td>598</td>\n",
              "      <td>1</td>\n",
              "      <td>6211-6015</td>\n",
              "    </tr>\n",
              "    <tr>\n",
              "      <th>3136274</th>\n",
              "      <td>3136274</td>\n",
              "      <td>2014-11-15 23:58</td>\n",
              "      <td>6421</td>\n",
              "      <td>2014-11-16 00:04</td>\n",
              "      <td>6912</td>\n",
              "      <td>362</td>\n",
              "      <td>1</td>\n",
              "      <td>6421-6912</td>\n",
              "    </tr>\n",
              "    <tr>\n",
              "      <th>3136275</th>\n",
              "      <td>3136275</td>\n",
              "      <td>2014-11-15 23:54</td>\n",
              "      <td>6280</td>\n",
              "      <td>2014-11-16 00:03</td>\n",
              "      <td>6154</td>\n",
              "      <td>538</td>\n",
              "      <td>1</td>\n",
              "      <td>6280-6154</td>\n",
              "    </tr>\n",
              "  </tbody>\n",
              "</table>\n",
              "</div>"
            ],
            "text/plain": [
              "         Unnamed: 0        start_date  ...  is_member  trip_code\n",
              "3136271     3136271  2014-11-15 23:57  ...          1  6073-6119\n",
              "3136272     3136272  2014-11-15 23:57  ...          1  6156-6103\n",
              "3136273     3136273  2014-11-15 23:57  ...          1  6211-6015\n",
              "3136274     3136274  2014-11-15 23:58  ...          1  6421-6912\n",
              "3136275     3136275  2014-11-15 23:54  ...          1  6280-6154\n",
              "\n",
              "[5 rows x 8 columns]"
            ]
          },
          "metadata": {
            "tags": []
          },
          "execution_count": 24
        }
      ]
    },
    {
      "cell_type": "code",
      "metadata": {
        "colab": {
          "base_uri": "https://localhost:8080/",
          "height": 343
        },
        "id": "tYaCpVH5habU",
        "outputId": "3b387cd5-1e94-4ea8-c011-1df9adfa31a7"
      },
      "source": [
        "#most frequent trips \n",
        "map_trip(data.trip_code.value_counts()[:N].index.tolist())"
      ],
      "execution_count": 25,
      "outputs": [
        {
          "output_type": "execute_result",
          "data": {
            "text/html": [
              "<div>\n",
              "<style scoped>\n",
              "    .dataframe tbody tr th:only-of-type {\n",
              "        vertical-align: middle;\n",
              "    }\n",
              "\n",
              "    .dataframe tbody tr th {\n",
              "        vertical-align: top;\n",
              "    }\n",
              "\n",
              "    .dataframe thead th {\n",
              "        text-align: right;\n",
              "    }\n",
              "</style>\n",
              "<table border=\"1\" class=\"dataframe\">\n",
              "  <thead>\n",
              "    <tr style=\"text-align: right;\">\n",
              "      <th></th>\n",
              "      <th>trip codes</th>\n",
              "      <th>trips</th>\n",
              "    </tr>\n",
              "  </thead>\n",
              "  <tbody>\n",
              "    <tr>\n",
              "      <th>0</th>\n",
              "      <td>6501-6501</td>\n",
              "      <td>Métro Jean-Drapeau -&gt; Métro Jean-Drapeau</td>\n",
              "    </tr>\n",
              "    <tr>\n",
              "      <th>1</th>\n",
              "      <td>6026-6026</td>\n",
              "      <td>de la Commune / Place Jacques-Cartier -&gt; de la...</td>\n",
              "    </tr>\n",
              "    <tr>\n",
              "      <th>2</th>\n",
              "      <td>6155-6184</td>\n",
              "      <td>Garnier / du Mont-Royal -&gt; Garnier / du Mont-R...</td>\n",
              "    </tr>\n",
              "    <tr>\n",
              "      <th>3</th>\n",
              "      <td>6154-6184</td>\n",
              "      <td>Marquette / du Mont-Royal -&gt; Marquette / du Mo...</td>\n",
              "    </tr>\n",
              "    <tr>\n",
              "      <th>4</th>\n",
              "      <td>6064-6100</td>\n",
              "      <td>de Maisonneuve / Stanley -&gt; de Maisonneuve / S...</td>\n",
              "    </tr>\n",
              "    <tr>\n",
              "      <th>5</th>\n",
              "      <td>6396-6398</td>\n",
              "      <td>Métro Pie-IX (Pierre-de-Coubertin / Pie-IX) -&gt;...</td>\n",
              "    </tr>\n",
              "    <tr>\n",
              "      <th>6</th>\n",
              "      <td>6184-6155</td>\n",
              "      <td>Métro Mont-Royal (Rivard / du Mont-Royal) -&gt; M...</td>\n",
              "    </tr>\n",
              "    <tr>\n",
              "      <th>7</th>\n",
              "      <td>6184-6154</td>\n",
              "      <td>Métro Mont-Royal (Rivard / du Mont-Royal) -&gt; M...</td>\n",
              "    </tr>\n",
              "    <tr>\n",
              "      <th>8</th>\n",
              "      <td>6064-6194</td>\n",
              "      <td>de Maisonneuve / Stanley -&gt; de Maisonneuve / S...</td>\n",
              "    </tr>\n",
              "    <tr>\n",
              "      <th>9</th>\n",
              "      <td>6100-6064</td>\n",
              "      <td>Mackay /de Maisonneuve (Sud) -&gt; Mackay /de Mai...</td>\n",
              "    </tr>\n",
              "  </tbody>\n",
              "</table>\n",
              "</div>"
            ],
            "text/plain": [
              "  trip codes                                              trips\n",
              "0  6501-6501           Métro Jean-Drapeau -> Métro Jean-Drapeau\n",
              "1  6026-6026  de la Commune / Place Jacques-Cartier -> de la...\n",
              "2  6155-6184  Garnier / du Mont-Royal -> Garnier / du Mont-R...\n",
              "3  6154-6184  Marquette / du Mont-Royal -> Marquette / du Mo...\n",
              "4  6064-6100  de Maisonneuve / Stanley -> de Maisonneuve / S...\n",
              "5  6396-6398  Métro Pie-IX (Pierre-de-Coubertin / Pie-IX) ->...\n",
              "6  6184-6155  Métro Mont-Royal (Rivard / du Mont-Royal) -> M...\n",
              "7  6184-6154  Métro Mont-Royal (Rivard / du Mont-Royal) -> M...\n",
              "8  6064-6194  de Maisonneuve / Stanley -> de Maisonneuve / S...\n",
              "9  6100-6064  Mackay /de Maisonneuve (Sud) -> Mackay /de Mai..."
            ]
          },
          "metadata": {
            "tags": []
          },
          "execution_count": 25
        }
      ]
    },
    {
      "cell_type": "markdown",
      "metadata": {
        "id": "iVvrMoMX3j_-"
      },
      "source": [
        "#Find rush hour"
      ]
    },
    {
      "cell_type": "code",
      "metadata": {
        "id": "o1tfdN6e2rAf"
      },
      "source": [
        "def seperate_date(dates):\n",
        "  \n",
        "  #datetime.datetime.strptime(dates ,'%Y-%M-%D %H:%M')\n",
        "  #time = dates.hour\n",
        "\n",
        "     date = []\n",
        "     time = [] \n",
        "  \n",
        "     for x in dates:\n",
        "       date.append(x.split(' ')[0])\n",
        "       time.append(datetime.datetime.strptime((x.split(' ')[1]), '%H:%M'))\n",
        "\n",
        "     return date,time\n",
        "\n",
        "\n"
      ],
      "execution_count": 25,
      "outputs": []
    },
    {
      "cell_type": "code",
      "metadata": {
        "id": "IrFZ0cv5eRAF"
      },
      "source": [
        "   \n"
      ],
      "execution_count": null,
      "outputs": []
    },
    {
      "cell_type": "code",
      "metadata": {
        "id": "afJ_hXGD4uoa"
      },
      "source": [
        "data[\"start_date\"] = pd.to_datetime(data.start_date)\n",
        "data[\"start_hour\"]= data.start_date.dt.hour\n"
      ],
      "execution_count": 67,
      "outputs": []
    },
    {
      "cell_type": "markdown",
      "metadata": {
        "id": "kY9JVTwgMrZt"
      },
      "source": [
        "Times when  most bikes are rented"
      ]
    },
    {
      "cell_type": "code",
      "metadata": {
        "colab": {
          "base_uri": "https://localhost:8080/",
          "height": 274
        },
        "id": "jS9l7KWpMcY2",
        "outputId": "c2b863c6-ab5b-4945-def4-7ee8a980d81b"
      },
      "source": [
        "# beautify the x-labels\n",
        "plt.gcf().autofmt_xdate()\n",
        "\n",
        "n, bins, patches = plt.hist(x=data.start_hour, bins='auto', color='#0500aa')\n",
        "#plt.grid(axis='y', alpha=0.75)\n",
        "\n",
        "\n",
        "plt.xlabel('Time in hours')\n",
        "plt.ylabel('Amount of bike rentals')\n",
        "plt.title('Rentals at daytime')\n",
        "plt.show()\n",
        "\n",
        "maxfreq =n.max()\n",
        "# Set a clean upper y-axis limit.\n",
        "#plt.ylim(ymax=np.ceil(maxfreq / 10) * 10 if maxfreq % 10 else maxfreq + 10)\n",
        "#plt.xlim(right = data.start_time.max())\n"
      ],
      "execution_count": 68,
      "outputs": [
        {
          "output_type": "display_data",
          "data": {
            "image/png": "[encoded data removed]",
            "text/plain": [
              "<Figure size 432x288 with 1 Axes>"
            ]
          },
          "metadata": {
            "tags": [],
            "needs_background": "light"
          }
        }
      ]
    },
    {
      "cell_type": "markdown",
      "metadata": {
        "id": "sjUH2PfqS6Bm"
      },
      "source": [
        "\n",
        "# Compare Usage between 2 years\n"
      ]
    },
    {
      "cell_type": "code",
      "metadata": {
        "colab": {
          "base_uri": "https://localhost:8080/",
          "height": 402
        },
        "id": "x1XJwZsHbzxY",
        "outputId": "c921e13c-02e5-4809-c6f3-cf4d8789a99f"
      },
      "source": [
        ""
      ],
      "execution_count": 92,
      "outputs": [
        {
          "output_type": "execute_result",
          "data": {
            "text/html": [
              "<div>\n",
              "<style scoped>\n",
              "    .dataframe tbody tr th:only-of-type {\n",
              "        vertical-align: middle;\n",
              "    }\n",
              "\n",
              "    .dataframe tbody tr th {\n",
              "        vertical-align: top;\n",
              "    }\n",
              "\n",
              "    .dataframe thead th {\n",
              "        text-align: right;\n",
              "    }\n",
              "</style>\n",
              "<table border=\"1\" class=\"dataframe\">\n",
              "  <thead>\n",
              "    <tr style=\"text-align: right;\">\n",
              "      <th></th>\n",
              "      <th>start_station_code</th>\n",
              "    </tr>\n",
              "  </thead>\n",
              "  <tbody>\n",
              "    <tr>\n",
              "      <th>6184</th>\n",
              "      <td>45600</td>\n",
              "    </tr>\n",
              "    <tr>\n",
              "      <th>6078</th>\n",
              "      <td>33241</td>\n",
              "    </tr>\n",
              "    <tr>\n",
              "      <th>6064</th>\n",
              "      <td>32055</td>\n",
              "    </tr>\n",
              "    <tr>\n",
              "      <th>6214</th>\n",
              "      <td>28224</td>\n",
              "    </tr>\n",
              "    <tr>\n",
              "      <th>6100</th>\n",
              "      <td>27072</td>\n",
              "    </tr>\n",
              "    <tr>\n",
              "      <th>...</th>\n",
              "      <td>...</td>\n",
              "    </tr>\n",
              "    <tr>\n",
              "      <th>5004</th>\n",
              "      <td>187</td>\n",
              "    </tr>\n",
              "    <tr>\n",
              "      <th>6750</th>\n",
              "      <td>162</td>\n",
              "    </tr>\n",
              "    <tr>\n",
              "      <th>6928</th>\n",
              "      <td>24</td>\n",
              "    </tr>\n",
              "    <tr>\n",
              "      <th>6240</th>\n",
              "      <td>22</td>\n",
              "    </tr>\n",
              "    <tr>\n",
              "      <th>6005</th>\n",
              "      <td>8</td>\n",
              "    </tr>\n",
              "  </tbody>\n",
              "</table>\n",
              "<p>459 rows × 1 columns</p>\n",
              "</div>"
            ],
            "text/plain": [
              "      start_station_code\n",
              "6184               45600\n",
              "6078               33241\n",
              "6064               32055\n",
              "6214               28224\n",
              "6100               27072\n",
              "...                  ...\n",
              "5004                 187\n",
              "6750                 162\n",
              "6928                  24\n",
              "6240                  22\n",
              "6005                   8\n",
              "\n",
              "[459 rows x 1 columns]"
            ]
          },
          "metadata": {
            "tags": []
          },
          "execution_count": 92
        }
      ]
    },
    {
      "cell_type": "code",
      "metadata": {
        "id": "e-6F1pHmaPFI"
      },
      "source": [
        "def travels_per_station(data):\n",
        "  return pd.DataFrame(data[\"start_station_code\"].value_counts())\n",
        "  \n"
      ],
      "execution_count": 117,
      "outputs": []
    },
    {
      "cell_type": "code",
      "metadata": {
        "id": "nHxGGNqKmOfp"
      },
      "source": [
        "def convert_station_con_to_DF():\n",
        "  stat = pd.DataFrame(station_cond.stat)\n",
        "  print(stat)\n",
        "  stat= pd.DataFrame.from_dict(stat)\n",
        "  stat = pd.DataFrame.from_records(stat)\n",
        "  return stat"
      ],
      "execution_count": 102,
      "outputs": []
    },
    {
      "cell_type": "code",
      "metadata": {
        "colab": {
          "base_uri": "https://localhost:8080/",
          "height": 402
        },
        "id": "kufLyoBirRx6",
        "outputId": "39129a97-4cc8-4cde-d2fc-be54b5249651"
      },
      "source": [
        "station_cond"
      ],
      "execution_count": 100,
      "outputs": [
        {
          "output_type": "execute_result",
          "data": {
            "text/html": [
              "<div>\n",
              "<style scoped>\n",
              "    .dataframe tbody tr th:only-of-type {\n",
              "        vertical-align: middle;\n",
              "    }\n",
              "\n",
              "    .dataframe tbody tr th {\n",
              "        vertical-align: top;\n",
              "    }\n",
              "\n",
              "    .dataframe thead th {\n",
              "        text-align: right;\n",
              "    }\n",
              "</style>\n",
              "<table border=\"1\" class=\"dataframe\">\n",
              "  <thead>\n",
              "    <tr style=\"text-align: right;\">\n",
              "      <th></th>\n",
              "      <th>stations</th>\n",
              "      <th>schemeSuspended</th>\n",
              "      <th>timestamp</th>\n",
              "    </tr>\n",
              "  </thead>\n",
              "  <tbody>\n",
              "    <tr>\n",
              "      <th>0</th>\n",
              "      <td>{'id': 1, 's': 'Hôtel-de-Ville 2 (du Champs-de...</td>\n",
              "      <td>False</td>\n",
              "      <td>2017-11-07 16:03:34.656</td>\n",
              "    </tr>\n",
              "    <tr>\n",
              "      <th>1</th>\n",
              "      <td>{'id': 2, 's': 'Ste-Catherine / Dézéry', 'n': ...</td>\n",
              "      <td>False</td>\n",
              "      <td>2017-11-07 16:03:34.656</td>\n",
              "    </tr>\n",
              "    <tr>\n",
              "      <th>2</th>\n",
              "      <td>{'id': 3, 's': 'Clark / Evans', 'n': '6003', '...</td>\n",
              "      <td>False</td>\n",
              "      <td>2017-11-07 16:03:34.656</td>\n",
              "    </tr>\n",
              "    <tr>\n",
              "      <th>3</th>\n",
              "      <td>{'id': 4, 's': 'Hôtel-de-Ville (du Champs-de-M...</td>\n",
              "      <td>False</td>\n",
              "      <td>2017-11-07 16:03:34.656</td>\n",
              "    </tr>\n",
              "    <tr>\n",
              "      <th>4</th>\n",
              "      <td>{'id': 6, 's': '18e avenue / Rosemont', 'n': '...</td>\n",
              "      <td>False</td>\n",
              "      <td>2017-11-07 16:03:34.656</td>\n",
              "    </tr>\n",
              "    <tr>\n",
              "      <th>...</th>\n",
              "      <td>...</td>\n",
              "      <td>...</td>\n",
              "      <td>...</td>\n",
              "    </tr>\n",
              "    <tr>\n",
              "      <th>514</th>\n",
              "      <td>{'id': 590, 's': 'Fullum / Jean Langlois', 'n'...</td>\n",
              "      <td>False</td>\n",
              "      <td>2017-11-07 16:03:34.656</td>\n",
              "    </tr>\n",
              "    <tr>\n",
              "      <th>515</th>\n",
              "      <td>{'id': 591, 's': 'Hochelaga / Chapleau', 'n': ...</td>\n",
              "      <td>False</td>\n",
              "      <td>2017-11-07 16:03:34.656</td>\n",
              "    </tr>\n",
              "    <tr>\n",
              "      <th>516</th>\n",
              "      <td>{'id': 592, 's': 'Gauvin / Notre-Dame', 'n': '...</td>\n",
              "      <td>False</td>\n",
              "      <td>2017-11-07 16:03:34.656</td>\n",
              "    </tr>\n",
              "    <tr>\n",
              "      <th>517</th>\n",
              "      <td>{'id': 593, 's': 'President-Kennedy / Robert B...</td>\n",
              "      <td>False</td>\n",
              "      <td>2017-11-07 16:03:34.656</td>\n",
              "    </tr>\n",
              "    <tr>\n",
              "      <th>518</th>\n",
              "      <td>{'id': 594, 's': 'Lincoln / Lambert Closse', '...</td>\n",
              "      <td>False</td>\n",
              "      <td>2017-11-07 16:03:34.656</td>\n",
              "    </tr>\n",
              "  </tbody>\n",
              "</table>\n",
              "<p>519 rows × 3 columns</p>\n",
              "</div>"
            ],
            "text/plain": [
              "                                              stations  ...               timestamp\n",
              "0    {'id': 1, 's': 'Hôtel-de-Ville 2 (du Champs-de...  ... 2017-11-07 16:03:34.656\n",
              "1    {'id': 2, 's': 'Ste-Catherine / Dézéry', 'n': ...  ... 2017-11-07 16:03:34.656\n",
              "2    {'id': 3, 's': 'Clark / Evans', 'n': '6003', '...  ... 2017-11-07 16:03:34.656\n",
              "3    {'id': 4, 's': 'Hôtel-de-Ville (du Champs-de-M...  ... 2017-11-07 16:03:34.656\n",
              "4    {'id': 6, 's': '18e avenue / Rosemont', 'n': '...  ... 2017-11-07 16:03:34.656\n",
              "..                                                 ...  ...                     ...\n",
              "514  {'id': 590, 's': 'Fullum / Jean Langlois', 'n'...  ... 2017-11-07 16:03:34.656\n",
              "515  {'id': 591, 's': 'Hochelaga / Chapleau', 'n': ...  ... 2017-11-07 16:03:34.656\n",
              "516  {'id': 592, 's': 'Gauvin / Notre-Dame', 'n': '...  ... 2017-11-07 16:03:34.656\n",
              "517  {'id': 593, 's': 'President-Kennedy / Robert B...  ... 2017-11-07 16:03:34.656\n",
              "518  {'id': 594, 's': 'Lincoln / Lambert Closse', '...  ... 2017-11-07 16:03:34.656\n",
              "\n",
              "[519 rows x 3 columns]"
            ]
          },
          "metadata": {
            "tags": []
          },
          "execution_count": 100
        }
      ]
    },
    {
      "cell_type": "code",
      "metadata": {
        "colab": {
          "base_uri": "https://localhost:8080/"
        },
        "id": "gB1h4H_AoImH",
        "outputId": "5519aef5-9232-46bf-88dd-8619afb64d88"
      },
      "source": [
        "stat_con_df = convert_station_con_to_DF()"
      ],
      "execution_count": 101,
      "outputs": [
        {
          "output_type": "stream",
          "text": [
            "                                              stations  ...               timestamp\n",
            "0    {'id': 1, 's': 'Hôtel-de-Ville 2 (du Champs-de...  ... 2017-11-07 16:03:34.656\n",
            "1    {'id': 2, 's': 'Ste-Catherine / Dézéry', 'n': ...  ... 2017-11-07 16:03:34.656\n",
            "2    {'id': 3, 's': 'Clark / Evans', 'n': '6003', '...  ... 2017-11-07 16:03:34.656\n",
            "3    {'id': 4, 's': 'Hôtel-de-Ville (du Champs-de-M...  ... 2017-11-07 16:03:34.656\n",
            "4    {'id': 6, 's': '18e avenue / Rosemont', 'n': '...  ... 2017-11-07 16:03:34.656\n",
            "..                                                 ...  ...                     ...\n",
            "514  {'id': 590, 's': 'Fullum / Jean Langlois', 'n'...  ... 2017-11-07 16:03:34.656\n",
            "515  {'id': 591, 's': 'Hochelaga / Chapleau', 'n': ...  ... 2017-11-07 16:03:34.656\n",
            "516  {'id': 592, 's': 'Gauvin / Notre-Dame', 'n': '...  ... 2017-11-07 16:03:34.656\n",
            "517  {'id': 593, 's': 'President-Kennedy / Robert B...  ... 2017-11-07 16:03:34.656\n",
            "518  {'id': 594, 's': 'Lincoln / Lambert Closse', '...  ... 2017-11-07 16:03:34.656\n",
            "\n",
            "[519 rows x 3 columns]\n"
          ],
          "name": "stdout"
        }
      ]
    },
    {
      "cell_type": "code",
      "metadata": {
        "colab": {
          "base_uri": "https://localhost:8080/",
          "height": 402
        },
        "id": "guUrXwMLowod",
        "outputId": "860c5f8a-137a-4181-f80c-ba75967a7dcf"
      },
      "source": [
        "stat_con_df "
      ],
      "execution_count": 94,
      "outputs": [
        {
          "output_type": "execute_result",
          "data": {
            "text/html": [
              "<div>\n",
              "<style scoped>\n",
              "    .dataframe tbody tr th:only-of-type {\n",
              "        vertical-align: middle;\n",
              "    }\n",
              "\n",
              "    .dataframe tbody tr th {\n",
              "        vertical-align: top;\n",
              "    }\n",
              "\n",
              "    .dataframe thead th {\n",
              "        text-align: right;\n",
              "    }\n",
              "</style>\n",
              "<table border=\"1\" class=\"dataframe\">\n",
              "  <thead>\n",
              "    <tr style=\"text-align: right;\">\n",
              "      <th></th>\n",
              "      <th>stations</th>\n",
              "    </tr>\n",
              "  </thead>\n",
              "  <tbody>\n",
              "    <tr>\n",
              "      <th>0</th>\n",
              "      <td>{'id': 1, 's': 'Hôtel-de-Ville 2 (du Champs-de...</td>\n",
              "    </tr>\n",
              "    <tr>\n",
              "      <th>1</th>\n",
              "      <td>{'id': 2, 's': 'Ste-Catherine / Dézéry', 'n': ...</td>\n",
              "    </tr>\n",
              "    <tr>\n",
              "      <th>2</th>\n",
              "      <td>{'id': 3, 's': 'Clark / Evans', 'n': '6003', '...</td>\n",
              "    </tr>\n",
              "    <tr>\n",
              "      <th>3</th>\n",
              "      <td>{'id': 4, 's': 'Hôtel-de-Ville (du Champs-de-M...</td>\n",
              "    </tr>\n",
              "    <tr>\n",
              "      <th>4</th>\n",
              "      <td>{'id': 6, 's': '18e avenue / Rosemont', 'n': '...</td>\n",
              "    </tr>\n",
              "    <tr>\n",
              "      <th>...</th>\n",
              "      <td>...</td>\n",
              "    </tr>\n",
              "    <tr>\n",
              "      <th>514</th>\n",
              "      <td>{'id': 590, 's': 'Fullum / Jean Langlois', 'n'...</td>\n",
              "    </tr>\n",
              "    <tr>\n",
              "      <th>515</th>\n",
              "      <td>{'id': 591, 's': 'Hochelaga / Chapleau', 'n': ...</td>\n",
              "    </tr>\n",
              "    <tr>\n",
              "      <th>516</th>\n",
              "      <td>{'id': 592, 's': 'Gauvin / Notre-Dame', 'n': '...</td>\n",
              "    </tr>\n",
              "    <tr>\n",
              "      <th>517</th>\n",
              "      <td>{'id': 593, 's': 'President-Kennedy / Robert B...</td>\n",
              "    </tr>\n",
              "    <tr>\n",
              "      <th>518</th>\n",
              "      <td>{'id': 594, 's': 'Lincoln / Lambert Closse', '...</td>\n",
              "    </tr>\n",
              "  </tbody>\n",
              "</table>\n",
              "<p>519 rows × 1 columns</p>\n",
              "</div>"
            ],
            "text/plain": [
              "                                              stations\n",
              "0    {'id': 1, 's': 'Hôtel-de-Ville 2 (du Champs-de...\n",
              "1    {'id': 2, 's': 'Ste-Catherine / Dézéry', 'n': ...\n",
              "2    {'id': 3, 's': 'Clark / Evans', 'n': '6003', '...\n",
              "3    {'id': 4, 's': 'Hôtel-de-Ville (du Champs-de-M...\n",
              "4    {'id': 6, 's': '18e avenue / Rosemont', 'n': '...\n",
              "..                                                 ...\n",
              "514  {'id': 590, 's': 'Fullum / Jean Langlois', 'n'...\n",
              "515  {'id': 591, 's': 'Hochelaga / Chapleau', 'n': ...\n",
              "516  {'id': 592, 's': 'Gauvin / Notre-Dame', 'n': '...\n",
              "517  {'id': 593, 's': 'President-Kennedy / Robert B...\n",
              "518  {'id': 594, 's': 'Lincoln / Lambert Closse', '...\n",
              "\n",
              "[519 rows x 1 columns]"
            ]
          },
          "metadata": {
            "tags": []
          },
          "execution_count": 94
        }
      ]
    },
    {
      "cell_type": "code",
      "metadata": {
        "id": "Z5YDRLhPgOQd"
      },
      "source": [
        "amount_bikes_in_Station(6240)"
      ],
      "execution_count": null,
      "outputs": []
    },
    {
      "cell_type": "code",
      "metadata": {
        "id": "0sU-n-9HdUm2"
      },
      "source": [
        "def amount_bikes_in_Station(station_code):\n",
        "  bikes = 0\n",
        "  bikes = stat_con_df.loc[stat_con_df['id'] == station_code]['ba']\n",
        "  return bikes\n",
        " "
      ],
      "execution_count": 83,
      "outputs": []
    },
    {
      "cell_type": "code",
      "metadata": {
        "id": "V0rIeTOFcWyC"
      },
      "source": [
        "def total_amount_bikes(stations):\n",
        "  total=0\n",
        "  for x in stations:\n",
        "   total= total+ amount_bikes_in_Station(x['station_code'])\n",
        "\n"
      ],
      "execution_count": 40,
      "outputs": []
    },
    {
      "cell_type": "code",
      "metadata": {
        "id": "Or3lw8sfaU-c"
      },
      "source": [
        "def travels_stat_bike(data_one, data_two,station_one, station_two year_one, year_two):\n",
        "\n",
        "  ratio_one= data_one.size/station_one.size\n",
        "  ratio_two = data_two.size/station_two.size"
      ],
      "execution_count": null,
      "outputs": []
    },
    {
      "cell_type": "code",
      "metadata": {
        "id": "mVZk5GznT1UN"
      },
      "source": [
        "def run_compare( year_one, year_two):\n",
        "  #data loading\n",
        "  data_one = load_data( path+\"OD_\", year_one)\n",
        "  data_two = load_data(path_data+\"OD_\" , year_two)\n",
        "  stations_one= load_data( path+\"Stations_\", year_one)\n",
        "  stations_two= load_data( path+\"Stations_\", year_two)\n",
        "  #comparing\n",
        "  total_travels_comp(data_one, data_two, year_one, year_two)\n",
        "  total_usage_comp(data_one, data_two, year_one, year_two)\n",
        "\n",
        "\n",
        "  travels_pre_stat_one = travels_per_station(data_one)\n",
        "  travel_per_stat_two  = travels_per_station(data_two)\n",
        "\n",
        "  \n",
        "\n"
      ],
      "execution_count": 13,
      "outputs": []
    },
    {
      "cell_type": "code",
      "metadata": {
        "id": "TWfxETN4Xbc3"
      },
      "source": [
        "def total_travels_comp(data_one, data_two, year_one, year_two):\n",
        "  total_travels_one = data_one.size\n",
        "  total_travels_two = data_two.size\n",
        "\n",
        "  #plot results\n",
        "  fig = plt.figure()\n",
        "  ax = fig.add_axes([0,0,1,1])\n",
        "  ax.set_ylabel('Total Travels in Millions')\n",
        "  ax.set_title('Total Travels per Year')\n",
        "  langs = [year_one, year_two]\n",
        "  travels = [total_travels_one,total_travels_two]\n",
        "  ax.bar(langs,travels)\n",
        "  plt.show()\n",
        "\n",
        "\n",
        "\n"
      ],
      "execution_count": 132,
      "outputs": []
    },
    {
      "cell_type": "code",
      "metadata": {
        "id": "LTpKJtxvvNmV"
      },
      "source": [
        "def total_usage_comp(data_one, data_two, year_one, year_two):\n",
        "    total_usage_one = data_one[\"duration_sec\"].sum()\n",
        "    total_usage_two = data_two[\"duration_sec\"].sum()\n",
        "    print(total_usage_one)\n",
        "     #plot results\n",
        "    fig = plt.figure()\n",
        "    ax = fig.add_axes([0,0,1,1])\n",
        "    ax.set_ylabel('Seconds')\n",
        "    ax.set_title('Total Usage in Seconds per Year')\n",
        "    langs = [year_one, year_two]\n",
        "    travels = [total_usage_one,total_usage_two]\n",
        "    ax.bar(langs,travels)\n",
        "    plt.show()\n",
        "\n"
      ],
      "execution_count": 137,
      "outputs": []
    },
    {
      "cell_type": "code",
      "metadata": {
        "colab": {
          "base_uri": "https://localhost:8080/",
          "height": 704
        },
        "id": "CF92iNNxm-_2",
        "outputId": "4b170c5c-5831-4b48-dfab-0053bd73ee52"
      },
      "source": [
        "run_compare('2014','2016')"
      ],
      "execution_count": 138,
      "outputs": [
        {
          "output_type": "display_data",
          "data": {
            "image/png": "[encoded data removed]",
            "text/plain": [
              "<Figure size 432x288 with 1 Axes>"
            ]
          },
          "metadata": {
            "tags": [],
            "needs_background": "light"
          }
        },
        {
          "output_type": "stream",
          "text": [
            "2476839795\n"
          ],
          "name": "stdout"
        },
        {
          "output_type": "display_data",
          "data": {
            "image/png": "[encoded data removed]",
            "text/plain": [
              "<Figure size 432x288 with 1 Axes>"
            ]
          },
          "metadata": {
            "tags": [],
            "needs_background": "light"
          }
        }
      ]
    }
  ]
}