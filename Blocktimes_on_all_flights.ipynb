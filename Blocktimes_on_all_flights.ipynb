{
  "nbformat": 4,
  "nbformat_minor": 0,
  "metadata": {
    "colab": {
      "name": "Blocktimes on all flights.ipynb",
      "provenance": [],
      "collapsed_sections": [],
      "toc_visible": true,
      "machine_shape": "hm",
      "include_colab_link": true
    },
    "kernelspec": {
      "name": "python3",
      "display_name": "Python 3"
    },
    "accelerator": "TPU"
  },
  "cells": [
    {
      "cell_type": "markdown",
      "metadata": {
        "id": "view-in-github",
        "colab_type": "text"
      },
      "source": [
        "<a href=\"https://colab.research.google.com/github/AishaLichtner/projects-2019/blob/master/Blocktimes_on_all_flights.ipynb\" target=\"_parent\"><img src=\"https://colab.research.google.com/assets/colab-badge.svg\" alt=\"Open In Colab\"/></a>"
      ]
    },
    {
      "cell_type": "code",
      "metadata": {
        "id": "ogmTvqRVye38",
        "colab_type": "code",
        "outputId": "42a7fc21-a5ed-4e5e-8b24-7171ea17516c",
        "colab": {
          "base_uri": "https://localhost:8080/",
          "height": 80
        }
      },
      "source": [
        "from __future__ import absolute_import, division, print_function, unicode_literals\n",
        "import os\n",
        "import tensorflow.compat.v1 as tf\n",
        "from tensorflow import keras\n",
        "\n",
        "from tensorflow.keras.models import Sequential\n",
        "from tensorflow.keras.layers import Dense, Conv2D,Conv1D,Conv3D, MaxPool2D , Flatten\n",
        "from tensorflow.keras.preprocessing.image import ImageDataGenerator\n",
        "\n",
        "\n",
        "from tensorflow.keras.wrappers.scikit_learn import KerasRegressor\n",
        "from sklearn.model_selection import cross_val_score\n",
        "from sklearn.model_selection import KFold\n",
        "from sklearn.preprocessing import StandardScaler,RobustScaler\n",
        "from sklearn.pipeline import Pipeline\n",
        "\n",
        "from sklearn.model_selection import GridSearchCV\n",
        "from sklearn.linear_model import Ridge\n",
        "\n",
        "\n",
        "\n",
        "from tensorflow.keras import optimizers as opt\n",
        "import tensorflow.keras.backend as K\n",
        "import pathlib\n",
        "\n",
        "import matplotlib.pyplot as plt\n",
        "import pandas as pd\n",
        "import seaborn as sns\n",
        "\n",
        "import datetime\n",
        "import statistics\n",
        "\n",
        "\n",
        "#get last sunday of the month\n",
        "import sys\n",
        "import calendar\n",
        "\n",
        "from tensorflow.keras import layers\n",
        "\n",
        "print(tf.__version__)\n",
        "\n",
        "import numpy as np     # matrix structures, linear algebra functions etc\n",
        "from sklearn.linear_model import LinearRegression   # linear regression model\n",
        "from sklearn.metrics import mean_squared_error, mean_absolute_error   # accuracy metrics\n",
        "\n",
        "import io\n"
      ],
      "execution_count": 0,
      "outputs": [
        {
          "output_type": "display_data",
          "data": {
            "text/html": [
              "<p style=\"color: red;\">\n",
              "The default version of TensorFlow in Colab will soon switch to TensorFlow 2.x.<br>\n",
              "We recommend you <a href=\"https://www.tensorflow.org/guide/migrate\" target=\"_blank\">upgrade</a> now \n",
              "or ensure your notebook will continue to use TensorFlow 1.x via the <code>%tensorflow_version 1.x</code> magic:\n",
              "<a href=\"https://colab.research.google.com/notebooks/tensorflow_version.ipynb\" target=\"_blank\">more info</a>.</p>\n"
            ],
            "text/plain": [
              "<IPython.core.display.HTML object>"
            ]
          },
          "metadata": {
            "tags": []
          }
        },
        {
          "output_type": "stream",
          "text": [
            "1.15.0\n"
          ],
          "name": "stdout"
        }
      ]
    },
    {
      "cell_type": "markdown",
      "metadata": {
        "id": "NsxbyzFbYGVh",
        "colab_type": "text"
      },
      "source": [
        "#Read  data from csv file\n"
      ]
    },
    {
      "cell_type": "code",
      "metadata": {
        "id": "cegN65kqXm3h",
        "colab_type": "code",
        "outputId": "03f70e11-ba2e-48ba-cbaa-df738134fefe",
        "colab": {
          "base_uri": "https://localhost:8080/",
          "height": 122
        }
      },
      "source": [
        "from google.colab import drive\n",
        "drive.mount('/content/drive')\n",
        "path = \"/content/drive/My Drive/data/blocks.csv\"\n",
        "#data = pd.read_csv(io.StringIO(uploaded[\"blocks.csv\"].decode('utf-8')))\n",
        "data= pd.read_csv(path, sep = ';', encoding=\"utf-8-sig\")"
      ],
      "execution_count": 0,
      "outputs": [
        {
          "output_type": "stream",
          "text": [
            "Go to this URL in a browser: https://accounts.google.com/o/oauth2/auth?client_id=947318989803-6bn6qk8qdgf4n4g3pfee6491hc0brc4i.apps.googleusercontent.com&redirect_uri=urn%3aietf%3awg%3aoauth%3a2.0%3aoob&response_type=code&scope=email%20https%3a%2f%2fwww.googleapis.com%2fauth%2fdocs.test%20https%3a%2f%2fwww.googleapis.com%2fauth%2fdrive%20https%3a%2f%2fwww.googleapis.com%2fauth%2fdrive.photos.readonly%20https%3a%2f%2fwww.googleapis.com%2fauth%2fpeopleapi.readonly\n",
            "\n",
            "Enter your authorization code:\n",
            "··········\n",
            "Mounted at /content/drive\n"
          ],
          "name": "stdout"
        }
      ]
    },
    {
      "cell_type": "code",
      "metadata": {
        "id": "JLBb0ApyAaXA",
        "colab_type": "code",
        "outputId": "0835d259-00e8-4ddb-9bce-33e03a80d91c",
        "colab": {
          "base_uri": "https://localhost:8080/",
          "height": 306
        }
      },
      "source": [
        "data.head()"
      ],
      "execution_count": 0,
      "outputs": [
        {
          "output_type": "execute_result",
          "data": {
            "text/html": [
              "<div>\n",
              "<style scoped>\n",
              "    .dataframe tbody tr th:only-of-type {\n",
              "        vertical-align: middle;\n",
              "    }\n",
              "\n",
              "    .dataframe tbody tr th {\n",
              "        vertical-align: top;\n",
              "    }\n",
              "\n",
              "    .dataframe thead th {\n",
              "        text-align: right;\n",
              "    }\n",
              "</style>\n",
              "<table border=\"1\" class=\"dataframe\">\n",
              "  <thead>\n",
              "    <tr style=\"text-align: right;\">\n",
              "      <th></th>\n",
              "      <th>Acreg</th>\n",
              "      <th>Version</th>\n",
              "      <th>Std UTC</th>\n",
              "      <th>Flightcode</th>\n",
              "      <th>AOC</th>\n",
              "      <th>DP Iatacode</th>\n",
              "      <th>AR Iatacode</th>\n",
              "      <th>Sta Utc</th>\n",
              "      <th>Rm Off Block Utc</th>\n",
              "      <th>Rm On Block Utc</th>\n",
              "      <th>Rm Takeoff Utc</th>\n",
              "      <th>Rm Touchdown Utc</th>\n",
              "      <th>TaxiOut</th>\n",
              "      <th>TaxiIn</th>\n",
              "      <th>BlkSched</th>\n",
              "      <th>ActualBlock</th>\n",
              "      <th>Weekday</th>\n",
              "    </tr>\n",
              "  </thead>\n",
              "  <tbody>\n",
              "    <tr>\n",
              "      <th>0</th>\n",
              "      <td>9HAGU</td>\n",
              "      <td>A333</td>\n",
              "      <td>30.09.2018 15:45</td>\n",
              "      <td>DY7011</td>\n",
              "      <td>WET</td>\n",
              "      <td>CPH</td>\n",
              "      <td>JFK</td>\n",
              "      <td>01.10.2018 00:05</td>\n",
              "      <td>30.09.2018 18:31</td>\n",
              "      <td>01.10.2018 04:28</td>\n",
              "      <td>30.09.2018 19:07</td>\n",
              "      <td>01.10.2018 04:20</td>\n",
              "      <td>36</td>\n",
              "      <td>8.0</td>\n",
              "      <td>500.0</td>\n",
              "      <td>597.0</td>\n",
              "      <td>DOM</td>\n",
              "    </tr>\n",
              "    <tr>\n",
              "      <th>1</th>\n",
              "      <td>9HAGU</td>\n",
              "      <td>A333</td>\n",
              "      <td>02.10.2018 02:30</td>\n",
              "      <td>DY7812</td>\n",
              "      <td>WET</td>\n",
              "      <td>JFK</td>\n",
              "      <td>CPH</td>\n",
              "      <td>02.10.2018 09:45</td>\n",
              "      <td>02.10.2018 09:00</td>\n",
              "      <td>02.10.2018 16:45</td>\n",
              "      <td>02.10.2018 09:25</td>\n",
              "      <td>02.10.2018 16:40</td>\n",
              "      <td>25</td>\n",
              "      <td>5.0</td>\n",
              "      <td>435.0</td>\n",
              "      <td>465.0</td>\n",
              "      <td>MAR</td>\n",
              "    </tr>\n",
              "    <tr>\n",
              "      <th>2</th>\n",
              "      <td>9HAGU</td>\n",
              "      <td>A333</td>\n",
              "      <td>04.05.2019 10:35</td>\n",
              "      <td>D85551</td>\n",
              "      <td>WET</td>\n",
              "      <td>ARN</td>\n",
              "      <td>BCN</td>\n",
              "      <td>04.05.2019 14:00</td>\n",
              "      <td>04.05.2019 10:39</td>\n",
              "      <td>04.05.2019 13:56</td>\n",
              "      <td>04.05.2019 10:53</td>\n",
              "      <td>04.05.2019 13:50</td>\n",
              "      <td>14</td>\n",
              "      <td>6.0</td>\n",
              "      <td>205.0</td>\n",
              "      <td>197.0</td>\n",
              "      <td>SÁB</td>\n",
              "    </tr>\n",
              "    <tr>\n",
              "      <th>3</th>\n",
              "      <td>9HAGU</td>\n",
              "      <td>A333</td>\n",
              "      <td>04.05.2019 15:30</td>\n",
              "      <td>D85552</td>\n",
              "      <td>WET</td>\n",
              "      <td>BCN</td>\n",
              "      <td>ARN</td>\n",
              "      <td>04.05.2019 19:05</td>\n",
              "      <td>04.05.2019 15:30</td>\n",
              "      <td>04.05.2019 19:18</td>\n",
              "      <td>04.05.2019 15:58</td>\n",
              "      <td>04.05.2019 19:13</td>\n",
              "      <td>28</td>\n",
              "      <td>5.0</td>\n",
              "      <td>215.0</td>\n",
              "      <td>228.0</td>\n",
              "      <td>SÁB</td>\n",
              "    </tr>\n",
              "    <tr>\n",
              "      <th>4</th>\n",
              "      <td>9HAGU</td>\n",
              "      <td>A333</td>\n",
              "      <td>05.05.2019 10:35</td>\n",
              "      <td>D85551</td>\n",
              "      <td>WET</td>\n",
              "      <td>ARN</td>\n",
              "      <td>BCN</td>\n",
              "      <td>05.05.2019 14:00</td>\n",
              "      <td>05.05.2019 10:40</td>\n",
              "      <td>05.05.2019 13:54</td>\n",
              "      <td>05.05.2019 10:53</td>\n",
              "      <td>05.05.2019 13:46</td>\n",
              "      <td>13</td>\n",
              "      <td>8.0</td>\n",
              "      <td>205.0</td>\n",
              "      <td>194.0</td>\n",
              "      <td>DOM</td>\n",
              "    </tr>\n",
              "  </tbody>\n",
              "</table>\n",
              "</div>"
            ],
            "text/plain": [
              "   Acreg Version           Std UTC  ... BlkSched ActualBlock Weekday\n",
              "0  9HAGU    A333  30.09.2018 15:45  ...    500.0       597.0     DOM\n",
              "1  9HAGU    A333  02.10.2018 02:30  ...    435.0       465.0     MAR\n",
              "2  9HAGU    A333  04.05.2019 10:35  ...    205.0       197.0     SÁB\n",
              "3  9HAGU    A333  04.05.2019 15:30  ...    215.0       228.0     SÁB\n",
              "4  9HAGU    A333  05.05.2019 10:35  ...    205.0       194.0     DOM\n",
              "\n",
              "[5 rows x 17 columns]"
            ]
          },
          "metadata": {
            "tags": []
          },
          "execution_count": 5
        }
      ]
    },
    {
      "cell_type": "code",
      "metadata": {
        "id": "4PZXFqOaU9dB",
        "colab_type": "code",
        "outputId": "efdb3367-e68c-428f-8aeb-98cb57f546e9",
        "colab": {
          "base_uri": "https://localhost:8080/",
          "height": 34
        }
      },
      "source": [
        "#exclude flights that are done with other planes\n",
        "data= data.loc[data['AOC'] != \"WET\"]\n",
        "data.dropna()\n",
        "data.shape\n"
      ],
      "execution_count": 0,
      "outputs": [
        {
          "output_type": "execute_result",
          "data": {
            "text/plain": [
              "(664059, 17)"
            ]
          },
          "metadata": {
            "tags": []
          },
          "execution_count": 8
        }
      ]
    },
    {
      "cell_type": "code",
      "metadata": {
        "id": "hJiOlri2J2Ja",
        "colab_type": "code",
        "outputId": "abada063-b2ce-4a74-e707-b693d0dedc2d",
        "colab": {
          "base_uri": "https://localhost:8080/",
          "height": 306
        }
      },
      "source": [
        "data.loc[data[\"Acreg\"] ==\n"
      ],
      "execution_count": 0,
      "outputs": [
        {
          "output_type": "execute_result",
          "data": {
            "text/html": [
              "<div>\n",
              "<style scoped>\n",
              "    .dataframe tbody tr th:only-of-type {\n",
              "        vertical-align: middle;\n",
              "    }\n",
              "\n",
              "    .dataframe tbody tr th {\n",
              "        vertical-align: top;\n",
              "    }\n",
              "\n",
              "    .dataframe thead th {\n",
              "        text-align: right;\n",
              "    }\n",
              "</style>\n",
              "<table border=\"1\" class=\"dataframe\">\n",
              "  <thead>\n",
              "    <tr style=\"text-align: right;\">\n",
              "      <th></th>\n",
              "      <th>Acreg</th>\n",
              "      <th>Version</th>\n",
              "      <th>Std UTC</th>\n",
              "      <th>Flightcode</th>\n",
              "      <th>AOC</th>\n",
              "      <th>DP Iatacode</th>\n",
              "      <th>AR Iatacode</th>\n",
              "      <th>Sta Utc</th>\n",
              "      <th>Rm Off Block Utc</th>\n",
              "      <th>Rm On Block Utc</th>\n",
              "      <th>Rm Takeoff Utc</th>\n",
              "      <th>Rm Touchdown Utc</th>\n",
              "      <th>TaxiOut</th>\n",
              "      <th>TaxiIn</th>\n",
              "      <th>BlkSched</th>\n",
              "      <th>ActualBlock</th>\n",
              "      <th>Weekday</th>\n",
              "    </tr>\n",
              "  </thead>\n",
              "  <tbody>\n",
              "    <tr>\n",
              "      <th>3262</th>\n",
              "      <td>DI789</td>\n",
              "      <td>NaN</td>\n",
              "      <td>06.05.2018 01:20</td>\n",
              "      <td>DI7148</td>\n",
              "      <td>NaN</td>\n",
              "      <td>BOS</td>\n",
              "      <td>LGW</td>\n",
              "      <td>06.05.2018 07:40</td>\n",
              "      <td>06.05.2018 01:09</td>\n",
              "      <td>06.05.2018 07:55</td>\n",
              "      <td>06.05.2018 01:22</td>\n",
              "      <td>06.05.2018 07:50</td>\n",
              "      <td>13</td>\n",
              "      <td>5.0</td>\n",
              "      <td>380.0</td>\n",
              "      <td>406.0</td>\n",
              "      <td>DOM</td>\n",
              "    </tr>\n",
              "    <tr>\n",
              "      <th>6085</th>\n",
              "      <td>EIFHA</td>\n",
              "      <td>737-800</td>\n",
              "      <td>01.01.2017 06:55</td>\n",
              "      <td>D8120</td>\n",
              "      <td>NAI</td>\n",
              "      <td>HEL</td>\n",
              "      <td>RVN</td>\n",
              "      <td>01.01.2017 08:15</td>\n",
              "      <td>01.01.2017 06:56</td>\n",
              "      <td>01.01.2017 08:25</td>\n",
              "      <td>01.01.2017 07:14</td>\n",
              "      <td>01.01.2017 08:21</td>\n",
              "      <td>18</td>\n",
              "      <td>4.0</td>\n",
              "      <td>80.0</td>\n",
              "      <td>89.0</td>\n",
              "      <td>DOM</td>\n",
              "    </tr>\n",
              "    <tr>\n",
              "      <th>6086</th>\n",
              "      <td>EIFHA</td>\n",
              "      <td>737-800</td>\n",
              "      <td>01.01.2017 08:45</td>\n",
              "      <td>D8121</td>\n",
              "      <td>NAI</td>\n",
              "      <td>RVN</td>\n",
              "      <td>HEL</td>\n",
              "      <td>01.01.2017 10:05</td>\n",
              "      <td>01.01.2017 08:55</td>\n",
              "      <td>01.01.2017 10:14</td>\n",
              "      <td>01.01.2017 09:07</td>\n",
              "      <td>01.01.2017 10:10</td>\n",
              "      <td>12</td>\n",
              "      <td>4.0</td>\n",
              "      <td>80.0</td>\n",
              "      <td>79.0</td>\n",
              "      <td>DOM</td>\n",
              "    </tr>\n",
              "    <tr>\n",
              "      <th>6087</th>\n",
              "      <td>EIFHA</td>\n",
              "      <td>737-800</td>\n",
              "      <td>01.01.2017 10:35</td>\n",
              "      <td>D8152</td>\n",
              "      <td>NAI</td>\n",
              "      <td>HEL</td>\n",
              "      <td>IVL</td>\n",
              "      <td>01.01.2017 12:15</td>\n",
              "      <td>01.01.2017 10:56</td>\n",
              "      <td>01.01.2017 12:33</td>\n",
              "      <td>01.01.2017 11:06</td>\n",
              "      <td>01.01.2017 12:28</td>\n",
              "      <td>10</td>\n",
              "      <td>5.0</td>\n",
              "      <td>100.0</td>\n",
              "      <td>97.0</td>\n",
              "      <td>DOM</td>\n",
              "    </tr>\n",
              "    <tr>\n",
              "      <th>6088</th>\n",
              "      <td>EIFHA</td>\n",
              "      <td>737-800</td>\n",
              "      <td>01.01.2017 12:45</td>\n",
              "      <td>D8153</td>\n",
              "      <td>NAI</td>\n",
              "      <td>IVL</td>\n",
              "      <td>HEL</td>\n",
              "      <td>01.01.2017 14:20</td>\n",
              "      <td>01.01.2017 13:20</td>\n",
              "      <td>01.01.2017 14:45</td>\n",
              "      <td>01.01.2017 13:24</td>\n",
              "      <td>01.01.2017 14:42</td>\n",
              "      <td>4</td>\n",
              "      <td>3.0</td>\n",
              "      <td>95.0</td>\n",
              "      <td>85.0</td>\n",
              "      <td>DOM</td>\n",
              "    </tr>\n",
              "  </tbody>\n",
              "</table>\n",
              "</div>"
            ],
            "text/plain": [
              "      Acreg  Version           Std UTC  ... BlkSched ActualBlock Weekday\n",
              "3262  DI789      NaN  06.05.2018 01:20  ...    380.0       406.0     DOM\n",
              "6085  EIFHA  737-800  01.01.2017 06:55  ...     80.0        89.0     DOM\n",
              "6086  EIFHA  737-800  01.01.2017 08:45  ...     80.0        79.0     DOM\n",
              "6087  EIFHA  737-800  01.01.2017 10:35  ...    100.0        97.0     DOM\n",
              "6088  EIFHA  737-800  01.01.2017 12:45  ...     95.0        85.0     DOM\n",
              "\n",
              "[5 rows x 17 columns]"
            ]
          },
          "metadata": {
            "tags": []
          },
          "execution_count": 10
        }
      ]
    },
    {
      "cell_type": "code",
      "metadata": {
        "id": "MeD6knG2gZnd",
        "colab_type": "code",
        "outputId": "d06f81d3-87ad-424a-949c-3e5548be7096",
        "colab": {
          "base_uri": "https://localhost:8080/",
          "height": 419
        }
      },
      "source": [
        "#just take relevant data in account and save a copy for later\n",
        "data_kopiert= data.copy()\n",
        "\n",
        "data=data[['ActualBlock', 'Std UTC', \"DP Iatacode\", \"AR Iatacode\", \"BlkSched\"]]\n",
        "data[\"DiffBlock\"] = abs(data[\"ActualBlock\"]- data[\"BlkSched\"])\n",
        "data_kopiert[\"DiffBlock\"] = abs(data[\"ActualBlock\"]- data[\"BlkSched\"])\n",
        "data"
      ],
      "execution_count": 0,
      "outputs": [
        {
          "output_type": "execute_result",
          "data": {
            "text/html": [
              "<div>\n",
              "<style scoped>\n",
              "    .dataframe tbody tr th:only-of-type {\n",
              "        vertical-align: middle;\n",
              "    }\n",
              "\n",
              "    .dataframe tbody tr th {\n",
              "        vertical-align: top;\n",
              "    }\n",
              "\n",
              "    .dataframe thead th {\n",
              "        text-align: right;\n",
              "    }\n",
              "</style>\n",
              "<table border=\"1\" class=\"dataframe\">\n",
              "  <thead>\n",
              "    <tr style=\"text-align: right;\">\n",
              "      <th></th>\n",
              "      <th>ActualBlock</th>\n",
              "      <th>Std UTC</th>\n",
              "      <th>DP Iatacode</th>\n",
              "      <th>AR Iatacode</th>\n",
              "      <th>BlkSched</th>\n",
              "      <th>DiffBlock</th>\n",
              "    </tr>\n",
              "  </thead>\n",
              "  <tbody>\n",
              "    <tr>\n",
              "      <th>3211</th>\n",
              "      <td>406</td>\n",
              "      <td>06.05.2018 01:20</td>\n",
              "      <td>BOS</td>\n",
              "      <td>LGW</td>\n",
              "      <td>380</td>\n",
              "      <td>26</td>\n",
              "    </tr>\n",
              "    <tr>\n",
              "      <th>5924</th>\n",
              "      <td>168</td>\n",
              "      <td>01.06.2017 05:20</td>\n",
              "      <td>MAD</td>\n",
              "      <td>TFN</td>\n",
              "      <td>175</td>\n",
              "      <td>7</td>\n",
              "    </tr>\n",
              "    <tr>\n",
              "      <th>5925</th>\n",
              "      <td>173</td>\n",
              "      <td>01.06.2017 08:55</td>\n",
              "      <td>TFN</td>\n",
              "      <td>MAD</td>\n",
              "      <td>165</td>\n",
              "      <td>8</td>\n",
              "    </tr>\n",
              "    <tr>\n",
              "      <th>5926</th>\n",
              "      <td>250</td>\n",
              "      <td>02.06.2017 06:00</td>\n",
              "      <td>MAD</td>\n",
              "      <td>HEL</td>\n",
              "      <td>250</td>\n",
              "      <td>0</td>\n",
              "    </tr>\n",
              "    <tr>\n",
              "      <th>5927</th>\n",
              "      <td>289</td>\n",
              "      <td>02.06.2017 10:55</td>\n",
              "      <td>HEL</td>\n",
              "      <td>MAD</td>\n",
              "      <td>265</td>\n",
              "      <td>24</td>\n",
              "    </tr>\n",
              "    <tr>\n",
              "      <th>...</th>\n",
              "      <td>...</td>\n",
              "      <td>...</td>\n",
              "      <td>...</td>\n",
              "      <td>...</td>\n",
              "      <td>...</td>\n",
              "      <td>...</td>\n",
              "    </tr>\n",
              "    <tr>\n",
              "      <th>559169</th>\n",
              "      <td>742</td>\n",
              "      <td>25.10.2019 12:50</td>\n",
              "      <td>BCN</td>\n",
              "      <td>LAX</td>\n",
              "      <td>730</td>\n",
              "      <td>12</td>\n",
              "    </tr>\n",
              "    <tr>\n",
              "      <th>559170</th>\n",
              "      <td>659</td>\n",
              "      <td>26.10.2019 03:00</td>\n",
              "      <td>LAX</td>\n",
              "      <td>BCN</td>\n",
              "      <td>655</td>\n",
              "      <td>4</td>\n",
              "    </tr>\n",
              "    <tr>\n",
              "      <th>559171</th>\n",
              "      <td>524</td>\n",
              "      <td>26.10.2019 17:25</td>\n",
              "      <td>BCN</td>\n",
              "      <td>EWR</td>\n",
              "      <td>515</td>\n",
              "      <td>9</td>\n",
              "    </tr>\n",
              "    <tr>\n",
              "      <th>559172</th>\n",
              "      <td>436</td>\n",
              "      <td>27.10.2019 03:59</td>\n",
              "      <td>EWR</td>\n",
              "      <td>BCN</td>\n",
              "      <td>436</td>\n",
              "      <td>0</td>\n",
              "    </tr>\n",
              "    <tr>\n",
              "      <th>559173</th>\n",
              "      <td>504</td>\n",
              "      <td>27.10.2019 17:05</td>\n",
              "      <td>BCN</td>\n",
              "      <td>JFK</td>\n",
              "      <td>535</td>\n",
              "      <td>31</td>\n",
              "    </tr>\n",
              "  </tbody>\n",
              "</table>\n",
              "<p>546863 rows × 6 columns</p>\n",
              "</div>"
            ],
            "text/plain": [
              "        ActualBlock           Std UTC  ... BlkSched DiffBlock\n",
              "3211            406  06.05.2018 01:20  ...      380        26\n",
              "5924            168  01.06.2017 05:20  ...      175         7\n",
              "5925            173  01.06.2017 08:55  ...      165         8\n",
              "5926            250  02.06.2017 06:00  ...      250         0\n",
              "5927            289  02.06.2017 10:55  ...      265        24\n",
              "...             ...               ...  ...      ...       ...\n",
              "559169          742  25.10.2019 12:50  ...      730        12\n",
              "559170          659  26.10.2019 03:00  ...      655         4\n",
              "559171          524  26.10.2019 17:25  ...      515         9\n",
              "559172          436  27.10.2019 03:59  ...      436         0\n",
              "559173          504  27.10.2019 17:05  ...      535        31\n",
              "\n",
              "[546863 rows x 6 columns]"
            ]
          },
          "metadata": {
            "tags": []
          },
          "execution_count": 5
        }
      ]
    },
    {
      "cell_type": "markdown",
      "metadata": {
        "colab_type": "text",
        "id": "JjMBgTRxUVFy"
      },
      "source": [
        "#Use one Hot Encoding for airport combinations\n"
      ]
    },
    {
      "cell_type": "code",
      "metadata": {
        "colab_type": "code",
        "id": "Og0DFVdpUVF5",
        "colab": {}
      },
      "source": [
        "from sklearn.preprocessing import LabelEncoder\n",
        "from sklearn.preprocessing import OneHotEncoder"
      ],
      "execution_count": 0,
      "outputs": []
    },
    {
      "cell_type": "code",
      "metadata": {
        "colab_type": "code",
        "id": "1DJ8FuMQUVGC",
        "colab": {}
      },
      "source": [
        "toEncode =data[['DP Iatacode','AR Iatacode']]"
      ],
      "execution_count": 0,
      "outputs": []
    },
    {
      "cell_type": "code",
      "metadata": {
        "colab_type": "code",
        "outputId": "b6e2a427-1403-4c17-dd45-812d0d460063",
        "id": "zua6La7wUVGG",
        "colab": {
          "base_uri": "https://localhost:8080/",
          "height": 204
        }
      },
      "source": [
        "toEncode.tail()"
      ],
      "execution_count": 0,
      "outputs": [
        {
          "output_type": "execute_result",
          "data": {
            "text/html": [
              "<div>\n",
              "<style scoped>\n",
              "    .dataframe tbody tr th:only-of-type {\n",
              "        vertical-align: middle;\n",
              "    }\n",
              "\n",
              "    .dataframe tbody tr th {\n",
              "        vertical-align: top;\n",
              "    }\n",
              "\n",
              "    .dataframe thead th {\n",
              "        text-align: right;\n",
              "    }\n",
              "</style>\n",
              "<table border=\"1\" class=\"dataframe\">\n",
              "  <thead>\n",
              "    <tr style=\"text-align: right;\">\n",
              "      <th></th>\n",
              "      <th>DP Iatacode</th>\n",
              "      <th>AR Iatacode</th>\n",
              "    </tr>\n",
              "  </thead>\n",
              "  <tbody>\n",
              "    <tr>\n",
              "      <th>559169</th>\n",
              "      <td>BCN</td>\n",
              "      <td>LAX</td>\n",
              "    </tr>\n",
              "    <tr>\n",
              "      <th>559170</th>\n",
              "      <td>LAX</td>\n",
              "      <td>BCN</td>\n",
              "    </tr>\n",
              "    <tr>\n",
              "      <th>559171</th>\n",
              "      <td>BCN</td>\n",
              "      <td>EWR</td>\n",
              "    </tr>\n",
              "    <tr>\n",
              "      <th>559172</th>\n",
              "      <td>EWR</td>\n",
              "      <td>BCN</td>\n",
              "    </tr>\n",
              "    <tr>\n",
              "      <th>559173</th>\n",
              "      <td>BCN</td>\n",
              "      <td>JFK</td>\n",
              "    </tr>\n",
              "  </tbody>\n",
              "</table>\n",
              "</div>"
            ],
            "text/plain": [
              "       DP Iatacode AR Iatacode\n",
              "559169         BCN         LAX\n",
              "559170         LAX         BCN\n",
              "559171         BCN         EWR\n",
              "559172         EWR         BCN\n",
              "559173         BCN         JFK"
            ]
          },
          "metadata": {
            "tags": []
          },
          "execution_count": 8
        }
      ]
    },
    {
      "cell_type": "code",
      "metadata": {
        "colab_type": "code",
        "outputId": "c7f7c802-96bc-45b9-d82e-edb0b93abda0",
        "id": "c5AACqCxUVGK",
        "colab": {
          "base_uri": "https://localhost:8080/",
          "height": 34
        }
      },
      "source": [
        "toEncode.shape"
      ],
      "execution_count": 0,
      "outputs": [
        {
          "output_type": "execute_result",
          "data": {
            "text/plain": [
              "(546863, 2)"
            ]
          },
          "metadata": {
            "tags": []
          },
          "execution_count": 9
        }
      ]
    },
    {
      "cell_type": "markdown",
      "metadata": {
        "id": "4eUc3-fDw6wC",
        "colab_type": "text"
      },
      "source": [
        "With one Hot encoding we higher the dimnsion of the (546863, 2)- matrix, so we have more information, that the network can use."
      ]
    },
    {
      "cell_type": "code",
      "metadata": {
        "colab_type": "code",
        "id": "o9avQ0cYUVGN",
        "colab": {}
      },
      "source": [
        "# prepare input data\n",
        "def prepare_inputsOH(X):\n",
        "\tohe = OneHotEncoder(sparse=False)\n",
        "\tX_train_enc = ohe.fit_transform(X)\n",
        "\treturn X_train_enc"
      ],
      "execution_count": 0,
      "outputs": []
    },
    {
      "cell_type": "code",
      "metadata": {
        "colab_type": "code",
        "outputId": "9fc0b617-5ffc-46ae-e730-0b4191043a68",
        "id": "QMOOffJRUVGQ",
        "colab": {
          "base_uri": "https://localhost:8080/",
          "height": 136
        }
      },
      "source": [
        "print(prepare_inputsOH(toEncode))"
      ],
      "execution_count": 0,
      "outputs": [
        {
          "output_type": "stream",
          "text": [
            "[[0. 0. 0. ... 0. 0. 0.]\n",
            " [0. 0. 0. ... 0. 0. 0.]\n",
            " [0. 0. 0. ... 0. 0. 0.]\n",
            " ...\n",
            " [0. 0. 0. ... 0. 0. 0.]\n",
            " [0. 0. 0. ... 0. 0. 0.]\n",
            " [0. 0. 0. ... 0. 0. 0.]]\n"
          ],
          "name": "stdout"
        }
      ]
    },
    {
      "cell_type": "code",
      "metadata": {
        "colab_type": "code",
        "id": "4yKvea0SUVGU",
        "outputId": "b6b98393-e665-4730-e6c0-6e77d0054cca",
        "colab": {
          "base_uri": "https://localhost:8080/",
          "height": 34
        }
      },
      "source": [
        "encodedOH = prepare_inputsOH(toEncode) #returns a\n",
        "encodedOH = pd.DataFrame(encodedOH)\n",
        "sum(encodedOH == 1) #double check, that this did not produce a matrix full of zeros"
      ],
      "execution_count": 0,
      "outputs": [
        {
          "output_type": "execute_result",
          "data": {
            "text/plain": [
              "83028"
            ]
          },
          "metadata": {
            "tags": []
          },
          "execution_count": 12
        }
      ]
    },
    {
      "cell_type": "code",
      "metadata": {
        "colab_type": "code",
        "outputId": "3b6d1ae3-2501-4c3d-9545-e19e3aca86d1",
        "id": "smKS-QQiUVGW",
        "colab": {
          "base_uri": "https://localhost:8080/",
          "height": 289
        }
      },
      "source": [
        "print(encodedOH.isna())\n",
        "print(encodedOH.shape)\n",
        "print(data.shape)"
      ],
      "execution_count": 0,
      "outputs": [
        {
          "output_type": "stream",
          "text": [
            "          0      1      2      3      4    ...    403    404    405    406    407\n",
            "0       False  False  False  False  False  ...  False  False  False  False  False\n",
            "1       False  False  False  False  False  ...  False  False  False  False  False\n",
            "2       False  False  False  False  False  ...  False  False  False  False  False\n",
            "3       False  False  False  False  False  ...  False  False  False  False  False\n",
            "4       False  False  False  False  False  ...  False  False  False  False  False\n",
            "...       ...    ...    ...    ...    ...  ...    ...    ...    ...    ...    ...\n",
            "546858  False  False  False  False  False  ...  False  False  False  False  False\n",
            "546859  False  False  False  False  False  ...  False  False  False  False  False\n",
            "546860  False  False  False  False  False  ...  False  False  False  False  False\n",
            "546861  False  False  False  False  False  ...  False  False  False  False  False\n",
            "546862  False  False  False  False  False  ...  False  False  False  False  False\n",
            "\n",
            "[546863 rows x 408 columns]\n",
            "(546863, 408)\n",
            "(546863, 6)\n"
          ],
          "name": "stdout"
        }
      ]
    },
    {
      "cell_type": "code",
      "metadata": {
        "id": "61Mzroa020J6",
        "colab_type": "code",
        "colab": {}
      },
      "source": [
        ""
      ],
      "execution_count": 0,
      "outputs": []
    },
    {
      "cell_type": "code",
      "metadata": {
        "colab_type": "code",
        "outputId": "709e10f1-cb22-4f32-b475-62e2e685ef2d",
        "id": "61_EZ6w8UVGY",
        "colab": {
          "base_uri": "https://localhost:8080/",
          "height": 204
        }
      },
      "source": [
        "#fix some dimension problems\n",
        "data.reset_index(drop=True, inplace=True)\n",
        "encodedOH.reset_index(drop=True, inplace=True)\n",
        "data.head()"
      ],
      "execution_count": 0,
      "outputs": [
        {
          "output_type": "execute_result",
          "data": {
            "text/html": [
              "<div>\n",
              "<style scoped>\n",
              "    .dataframe tbody tr th:only-of-type {\n",
              "        vertical-align: middle;\n",
              "    }\n",
              "\n",
              "    .dataframe tbody tr th {\n",
              "        vertical-align: top;\n",
              "    }\n",
              "\n",
              "    .dataframe thead th {\n",
              "        text-align: right;\n",
              "    }\n",
              "</style>\n",
              "<table border=\"1\" class=\"dataframe\">\n",
              "  <thead>\n",
              "    <tr style=\"text-align: right;\">\n",
              "      <th></th>\n",
              "      <th>ActualBlock</th>\n",
              "      <th>Std UTC</th>\n",
              "      <th>DP Iatacode</th>\n",
              "      <th>AR Iatacode</th>\n",
              "      <th>BlkSched</th>\n",
              "      <th>DiffBlock</th>\n",
              "    </tr>\n",
              "  </thead>\n",
              "  <tbody>\n",
              "    <tr>\n",
              "      <th>0</th>\n",
              "      <td>406</td>\n",
              "      <td>06.05.2018 01:20</td>\n",
              "      <td>BOS</td>\n",
              "      <td>LGW</td>\n",
              "      <td>380</td>\n",
              "      <td>26</td>\n",
              "    </tr>\n",
              "    <tr>\n",
              "      <th>1</th>\n",
              "      <td>168</td>\n",
              "      <td>01.06.2017 05:20</td>\n",
              "      <td>MAD</td>\n",
              "      <td>TFN</td>\n",
              "      <td>175</td>\n",
              "      <td>7</td>\n",
              "    </tr>\n",
              "    <tr>\n",
              "      <th>2</th>\n",
              "      <td>173</td>\n",
              "      <td>01.06.2017 08:55</td>\n",
              "      <td>TFN</td>\n",
              "      <td>MAD</td>\n",
              "      <td>165</td>\n",
              "      <td>8</td>\n",
              "    </tr>\n",
              "    <tr>\n",
              "      <th>3</th>\n",
              "      <td>250</td>\n",
              "      <td>02.06.2017 06:00</td>\n",
              "      <td>MAD</td>\n",
              "      <td>HEL</td>\n",
              "      <td>250</td>\n",
              "      <td>0</td>\n",
              "    </tr>\n",
              "    <tr>\n",
              "      <th>4</th>\n",
              "      <td>289</td>\n",
              "      <td>02.06.2017 10:55</td>\n",
              "      <td>HEL</td>\n",
              "      <td>MAD</td>\n",
              "      <td>265</td>\n",
              "      <td>24</td>\n",
              "    </tr>\n",
              "  </tbody>\n",
              "</table>\n",
              "</div>"
            ],
            "text/plain": [
              "   ActualBlock           Std UTC DP Iatacode AR Iatacode  BlkSched  DiffBlock\n",
              "0          406  06.05.2018 01:20         BOS         LGW       380         26\n",
              "1          168  01.06.2017 05:20         MAD         TFN       175          7\n",
              "2          173  01.06.2017 08:55         TFN         MAD       165          8\n",
              "3          250  02.06.2017 06:00         MAD         HEL       250          0\n",
              "4          289  02.06.2017 10:55         HEL         MAD       265         24"
            ]
          },
          "metadata": {
            "tags": []
          },
          "execution_count": 14
        }
      ]
    },
    {
      "cell_type": "code",
      "metadata": {
        "colab_type": "code",
        "outputId": "75fbbf04-4c89-42de-c920-d1cdbab14bad",
        "id": "4SX42Op_UVGa",
        "colab": {
          "base_uri": "https://localhost:8080/",
          "height": 221
        }
      },
      "source": [
        "#delete encoded information\n",
        "data.pop(\"DP Iatacode\") \n",
        "data.pop(\"AR Iatacode\")"
      ],
      "execution_count": 0,
      "outputs": [
        {
          "output_type": "execute_result",
          "data": {
            "text/plain": [
              "0         LGW\n",
              "1         TFN\n",
              "2         MAD\n",
              "3         HEL\n",
              "4         MAD\n",
              "         ... \n",
              "546858    LAX\n",
              "546859    BCN\n",
              "546860    EWR\n",
              "546861    BCN\n",
              "546862    JFK\n",
              "Name: AR Iatacode, Length: 546863, dtype: object"
            ]
          },
          "metadata": {
            "tags": []
          },
          "execution_count": 15
        }
      ]
    },
    {
      "cell_type": "code",
      "metadata": {
        "colab_type": "code",
        "outputId": "34948718-0634-4636-b2f7-8db1a30b6801",
        "id": "U_RL_8T4UVGb",
        "colab": {
          "base_uri": "https://localhost:8080/",
          "height": 255
        }
      },
      "source": [
        "#concat original data with one hot encoding matrix\n",
        "data=pd.concat([data,encodedOH ],axis = 1)\n",
        "print(data)"
      ],
      "execution_count": 0,
      "outputs": [
        {
          "output_type": "stream",
          "text": [
            "        ActualBlock           Std UTC  BlkSched  DiffBlock  ...  404  405  406  407\n",
            "0               406  06.05.2018 01:20       380         26  ...  0.0  0.0  0.0  0.0\n",
            "1               168  01.06.2017 05:20       175          7  ...  0.0  0.0  0.0  0.0\n",
            "2               173  01.06.2017 08:55       165          8  ...  0.0  0.0  0.0  0.0\n",
            "3               250  02.06.2017 06:00       250          0  ...  0.0  0.0  0.0  0.0\n",
            "4               289  02.06.2017 10:55       265         24  ...  0.0  0.0  0.0  0.0\n",
            "...             ...               ...       ...        ...  ...  ...  ...  ...  ...\n",
            "546858          742  25.10.2019 12:50       730         12  ...  0.0  0.0  0.0  0.0\n",
            "546859          659  26.10.2019 03:00       655          4  ...  0.0  0.0  0.0  0.0\n",
            "546860          524  26.10.2019 17:25       515          9  ...  0.0  0.0  0.0  0.0\n",
            "546861          436  27.10.2019 03:59       436          0  ...  0.0  0.0  0.0  0.0\n",
            "546862          504  27.10.2019 17:05       535         31  ...  0.0  0.0  0.0  0.0\n",
            "\n",
            "[546863 rows x 412 columns]\n"
          ],
          "name": "stdout"
        }
      ]
    },
    {
      "cell_type": "markdown",
      "metadata": {
        "id": "OJFVFTfmpzNA",
        "colab_type": "text"
      },
      "source": [
        "#Split date into day hour and weekday and season"
      ]
    },
    {
      "cell_type": "code",
      "metadata": {
        "id": "MQVQix03p8aQ",
        "colab_type": "code",
        "outputId": "554c8601-dd08-4381-97f3-75cdc8afa97f",
        "colab": {
          "base_uri": "https://localhost:8080/",
          "height": 119
        }
      },
      "source": [
        "#exclude date colum of flightBlock so we can split it in more information\n",
        "date = data.pop(\"Std UTC\")\n",
        "date.tail()"
      ],
      "execution_count": 0,
      "outputs": [
        {
          "output_type": "execute_result",
          "data": {
            "text/plain": [
              "546858    25.10.2019 12:50\n",
              "546859    26.10.2019 03:00\n",
              "546860    26.10.2019 17:25\n",
              "546861    27.10.2019 03:59\n",
              "546862    27.10.2019 17:05\n",
              "Name: Std UTC, dtype: object"
            ]
          },
          "metadata": {
            "tags": []
          },
          "execution_count": 17
        }
      ]
    },
    {
      "cell_type": "code",
      "metadata": {
        "id": "uPiqHHQIpjsA",
        "colab_type": "code",
        "colab": {}
      },
      "source": [
        "#calculate the last sunday for a given month in given year\n",
        "def lastSunday(year,month):\n",
        "    if len(sys.argv) > 1:\n",
        "        try:\n",
        "            year = int(sys.argv[-1])\n",
        "        except ValueError:\n",
        "            pass\n",
        " \n",
        "   \n",
        "    last_sunday = max(week[-1] for week in calendar.monthcalendar(year, month))\n",
        "    return last_sunday"
      ],
      "execution_count": 0,
      "outputs": []
    },
    {
      "cell_type": "code",
      "metadata": {
        "id": "ixhpAHy6qEUK",
        "colab_type": "code",
        "colab": {}
      },
      "source": [
        "#gives inforamtion if a date is in summer or winter season\n",
        "#returns 1 for winterseason and 0 for summer season\n",
        "def getSeason(d):\n",
        "\n",
        "    if (d.month<3 or d.month > 10):\n",
        "        return 1;\n",
        "    elif (d.month == 3 and d.day < lastSunday(d.year, d.month)):\n",
        "        return 1;\n",
        "    elif (d.month == 10 and d.day >= lastSunday(d.year, d.month)):\n",
        "        return 1;\n",
        "    else:\n",
        "        return 0;\n",
        "    "
      ],
      "execution_count": 0,
      "outputs": []
    },
    {
      "cell_type": "code",
      "metadata": {
        "id": "Cj894JEkqHuD",
        "colab_type": "code",
        "colab": {}
      },
      "source": [
        "#create some more categories like time of the day, weekday and season\n",
        "dateForm=[datetime.datetime.strptime(s,'%d.%m.%Y %H:%M') for s in date]\n",
        "\n",
        "times= [x.hour for x in dateForm]\n",
        "weekdays =[x.weekday()+1 for x in dateForm]\n",
        "summer=[(getSeason(x)==0)*1 for x in dateForm]\n"
      ],
      "execution_count": 0,
      "outputs": []
    },
    {
      "cell_type": "code",
      "metadata": {
        "id": "ZYHbH350rQ4Y",
        "colab_type": "code",
        "outputId": "338a140b-f8db-45b9-9241-80665702f910",
        "colab": {
          "base_uri": "https://localhost:8080/",
          "height": 253
        }
      },
      "source": [
        "data['Time'] = times\n",
        "data[\"Weekday\"] = weekdays\n",
        "data[\"Summer\"] = summer\n",
        "data.tail()"
      ],
      "execution_count": 0,
      "outputs": [
        {
          "output_type": "execute_result",
          "data": {
            "text/html": [
              "<div>\n",
              "<style scoped>\n",
              "    .dataframe tbody tr th:only-of-type {\n",
              "        vertical-align: middle;\n",
              "    }\n",
              "\n",
              "    .dataframe tbody tr th {\n",
              "        vertical-align: top;\n",
              "    }\n",
              "\n",
              "    .dataframe thead th {\n",
              "        text-align: right;\n",
              "    }\n",
              "</style>\n",
              "<table border=\"1\" class=\"dataframe\">\n",
              "  <thead>\n",
              "    <tr style=\"text-align: right;\">\n",
              "      <th></th>\n",
              "      <th>ActualBlock</th>\n",
              "      <th>BlkSched</th>\n",
              "      <th>DiffBlock</th>\n",
              "      <th>0</th>\n",
              "      <th>1</th>\n",
              "      <th>2</th>\n",
              "      <th>3</th>\n",
              "      <th>4</th>\n",
              "      <th>5</th>\n",
              "      <th>6</th>\n",
              "      <th>7</th>\n",
              "      <th>8</th>\n",
              "      <th>9</th>\n",
              "      <th>10</th>\n",
              "      <th>11</th>\n",
              "      <th>12</th>\n",
              "      <th>13</th>\n",
              "      <th>14</th>\n",
              "      <th>15</th>\n",
              "      <th>16</th>\n",
              "      <th>17</th>\n",
              "      <th>18</th>\n",
              "      <th>19</th>\n",
              "      <th>20</th>\n",
              "      <th>21</th>\n",
              "      <th>22</th>\n",
              "      <th>23</th>\n",
              "      <th>24</th>\n",
              "      <th>25</th>\n",
              "      <th>26</th>\n",
              "      <th>27</th>\n",
              "      <th>28</th>\n",
              "      <th>29</th>\n",
              "      <th>30</th>\n",
              "      <th>31</th>\n",
              "      <th>32</th>\n",
              "      <th>33</th>\n",
              "      <th>34</th>\n",
              "      <th>35</th>\n",
              "      <th>36</th>\n",
              "      <th>...</th>\n",
              "      <th>371</th>\n",
              "      <th>372</th>\n",
              "      <th>373</th>\n",
              "      <th>374</th>\n",
              "      <th>375</th>\n",
              "      <th>376</th>\n",
              "      <th>377</th>\n",
              "      <th>378</th>\n",
              "      <th>379</th>\n",
              "      <th>380</th>\n",
              "      <th>381</th>\n",
              "      <th>382</th>\n",
              "      <th>383</th>\n",
              "      <th>384</th>\n",
              "      <th>385</th>\n",
              "      <th>386</th>\n",
              "      <th>387</th>\n",
              "      <th>388</th>\n",
              "      <th>389</th>\n",
              "      <th>390</th>\n",
              "      <th>391</th>\n",
              "      <th>392</th>\n",
              "      <th>393</th>\n",
              "      <th>394</th>\n",
              "      <th>395</th>\n",
              "      <th>396</th>\n",
              "      <th>397</th>\n",
              "      <th>398</th>\n",
              "      <th>399</th>\n",
              "      <th>400</th>\n",
              "      <th>401</th>\n",
              "      <th>402</th>\n",
              "      <th>403</th>\n",
              "      <th>404</th>\n",
              "      <th>405</th>\n",
              "      <th>406</th>\n",
              "      <th>407</th>\n",
              "      <th>Time</th>\n",
              "      <th>Weekday</th>\n",
              "      <th>Summer</th>\n",
              "    </tr>\n",
              "  </thead>\n",
              "  <tbody>\n",
              "    <tr>\n",
              "      <th>546858</th>\n",
              "      <td>742</td>\n",
              "      <td>730</td>\n",
              "      <td>12</td>\n",
              "      <td>0.0</td>\n",
              "      <td>0.0</td>\n",
              "      <td>0.0</td>\n",
              "      <td>0.0</td>\n",
              "      <td>0.0</td>\n",
              "      <td>0.0</td>\n",
              "      <td>0.0</td>\n",
              "      <td>0.0</td>\n",
              "      <td>0.0</td>\n",
              "      <td>0.0</td>\n",
              "      <td>0.0</td>\n",
              "      <td>0.0</td>\n",
              "      <td>0.0</td>\n",
              "      <td>0.0</td>\n",
              "      <td>0.0</td>\n",
              "      <td>0.0</td>\n",
              "      <td>0.0</td>\n",
              "      <td>0.0</td>\n",
              "      <td>1.0</td>\n",
              "      <td>0.0</td>\n",
              "      <td>0.0</td>\n",
              "      <td>0.0</td>\n",
              "      <td>0.0</td>\n",
              "      <td>0.0</td>\n",
              "      <td>0.0</td>\n",
              "      <td>0.0</td>\n",
              "      <td>0.0</td>\n",
              "      <td>0.0</td>\n",
              "      <td>0.0</td>\n",
              "      <td>0.0</td>\n",
              "      <td>0.0</td>\n",
              "      <td>0.0</td>\n",
              "      <td>0.0</td>\n",
              "      <td>0.0</td>\n",
              "      <td>0.0</td>\n",
              "      <td>0.0</td>\n",
              "      <td>0.0</td>\n",
              "      <td>...</td>\n",
              "      <td>0.0</td>\n",
              "      <td>0.0</td>\n",
              "      <td>0.0</td>\n",
              "      <td>0.0</td>\n",
              "      <td>0.0</td>\n",
              "      <td>0.0</td>\n",
              "      <td>0.0</td>\n",
              "      <td>0.0</td>\n",
              "      <td>0.0</td>\n",
              "      <td>0.0</td>\n",
              "      <td>0.0</td>\n",
              "      <td>0.0</td>\n",
              "      <td>0.0</td>\n",
              "      <td>0.0</td>\n",
              "      <td>0.0</td>\n",
              "      <td>0.0</td>\n",
              "      <td>0.0</td>\n",
              "      <td>0.0</td>\n",
              "      <td>0.0</td>\n",
              "      <td>0.0</td>\n",
              "      <td>0.0</td>\n",
              "      <td>0.0</td>\n",
              "      <td>0.0</td>\n",
              "      <td>0.0</td>\n",
              "      <td>0.0</td>\n",
              "      <td>0.0</td>\n",
              "      <td>0.0</td>\n",
              "      <td>0.0</td>\n",
              "      <td>0.0</td>\n",
              "      <td>0.0</td>\n",
              "      <td>0.0</td>\n",
              "      <td>0.0</td>\n",
              "      <td>0.0</td>\n",
              "      <td>0.0</td>\n",
              "      <td>0.0</td>\n",
              "      <td>0.0</td>\n",
              "      <td>0.0</td>\n",
              "      <td>12</td>\n",
              "      <td>5</td>\n",
              "      <td>1</td>\n",
              "    </tr>\n",
              "    <tr>\n",
              "      <th>546859</th>\n",
              "      <td>659</td>\n",
              "      <td>655</td>\n",
              "      <td>4</td>\n",
              "      <td>0.0</td>\n",
              "      <td>0.0</td>\n",
              "      <td>0.0</td>\n",
              "      <td>0.0</td>\n",
              "      <td>0.0</td>\n",
              "      <td>0.0</td>\n",
              "      <td>0.0</td>\n",
              "      <td>0.0</td>\n",
              "      <td>0.0</td>\n",
              "      <td>0.0</td>\n",
              "      <td>0.0</td>\n",
              "      <td>0.0</td>\n",
              "      <td>0.0</td>\n",
              "      <td>0.0</td>\n",
              "      <td>0.0</td>\n",
              "      <td>0.0</td>\n",
              "      <td>0.0</td>\n",
              "      <td>0.0</td>\n",
              "      <td>0.0</td>\n",
              "      <td>0.0</td>\n",
              "      <td>0.0</td>\n",
              "      <td>0.0</td>\n",
              "      <td>0.0</td>\n",
              "      <td>0.0</td>\n",
              "      <td>0.0</td>\n",
              "      <td>0.0</td>\n",
              "      <td>0.0</td>\n",
              "      <td>0.0</td>\n",
              "      <td>0.0</td>\n",
              "      <td>0.0</td>\n",
              "      <td>0.0</td>\n",
              "      <td>0.0</td>\n",
              "      <td>0.0</td>\n",
              "      <td>0.0</td>\n",
              "      <td>0.0</td>\n",
              "      <td>0.0</td>\n",
              "      <td>0.0</td>\n",
              "      <td>...</td>\n",
              "      <td>0.0</td>\n",
              "      <td>0.0</td>\n",
              "      <td>0.0</td>\n",
              "      <td>0.0</td>\n",
              "      <td>0.0</td>\n",
              "      <td>0.0</td>\n",
              "      <td>0.0</td>\n",
              "      <td>0.0</td>\n",
              "      <td>0.0</td>\n",
              "      <td>0.0</td>\n",
              "      <td>0.0</td>\n",
              "      <td>0.0</td>\n",
              "      <td>0.0</td>\n",
              "      <td>0.0</td>\n",
              "      <td>0.0</td>\n",
              "      <td>0.0</td>\n",
              "      <td>0.0</td>\n",
              "      <td>0.0</td>\n",
              "      <td>0.0</td>\n",
              "      <td>0.0</td>\n",
              "      <td>0.0</td>\n",
              "      <td>0.0</td>\n",
              "      <td>0.0</td>\n",
              "      <td>0.0</td>\n",
              "      <td>0.0</td>\n",
              "      <td>0.0</td>\n",
              "      <td>0.0</td>\n",
              "      <td>0.0</td>\n",
              "      <td>0.0</td>\n",
              "      <td>0.0</td>\n",
              "      <td>0.0</td>\n",
              "      <td>0.0</td>\n",
              "      <td>0.0</td>\n",
              "      <td>0.0</td>\n",
              "      <td>0.0</td>\n",
              "      <td>0.0</td>\n",
              "      <td>0.0</td>\n",
              "      <td>3</td>\n",
              "      <td>6</td>\n",
              "      <td>1</td>\n",
              "    </tr>\n",
              "    <tr>\n",
              "      <th>546860</th>\n",
              "      <td>524</td>\n",
              "      <td>515</td>\n",
              "      <td>9</td>\n",
              "      <td>0.0</td>\n",
              "      <td>0.0</td>\n",
              "      <td>0.0</td>\n",
              "      <td>0.0</td>\n",
              "      <td>0.0</td>\n",
              "      <td>0.0</td>\n",
              "      <td>0.0</td>\n",
              "      <td>0.0</td>\n",
              "      <td>0.0</td>\n",
              "      <td>0.0</td>\n",
              "      <td>0.0</td>\n",
              "      <td>0.0</td>\n",
              "      <td>0.0</td>\n",
              "      <td>0.0</td>\n",
              "      <td>0.0</td>\n",
              "      <td>0.0</td>\n",
              "      <td>0.0</td>\n",
              "      <td>0.0</td>\n",
              "      <td>1.0</td>\n",
              "      <td>0.0</td>\n",
              "      <td>0.0</td>\n",
              "      <td>0.0</td>\n",
              "      <td>0.0</td>\n",
              "      <td>0.0</td>\n",
              "      <td>0.0</td>\n",
              "      <td>0.0</td>\n",
              "      <td>0.0</td>\n",
              "      <td>0.0</td>\n",
              "      <td>0.0</td>\n",
              "      <td>0.0</td>\n",
              "      <td>0.0</td>\n",
              "      <td>0.0</td>\n",
              "      <td>0.0</td>\n",
              "      <td>0.0</td>\n",
              "      <td>0.0</td>\n",
              "      <td>0.0</td>\n",
              "      <td>0.0</td>\n",
              "      <td>...</td>\n",
              "      <td>0.0</td>\n",
              "      <td>0.0</td>\n",
              "      <td>0.0</td>\n",
              "      <td>0.0</td>\n",
              "      <td>0.0</td>\n",
              "      <td>0.0</td>\n",
              "      <td>0.0</td>\n",
              "      <td>0.0</td>\n",
              "      <td>0.0</td>\n",
              "      <td>0.0</td>\n",
              "      <td>0.0</td>\n",
              "      <td>0.0</td>\n",
              "      <td>0.0</td>\n",
              "      <td>0.0</td>\n",
              "      <td>0.0</td>\n",
              "      <td>0.0</td>\n",
              "      <td>0.0</td>\n",
              "      <td>0.0</td>\n",
              "      <td>0.0</td>\n",
              "      <td>0.0</td>\n",
              "      <td>0.0</td>\n",
              "      <td>0.0</td>\n",
              "      <td>0.0</td>\n",
              "      <td>0.0</td>\n",
              "      <td>0.0</td>\n",
              "      <td>0.0</td>\n",
              "      <td>0.0</td>\n",
              "      <td>0.0</td>\n",
              "      <td>0.0</td>\n",
              "      <td>0.0</td>\n",
              "      <td>0.0</td>\n",
              "      <td>0.0</td>\n",
              "      <td>0.0</td>\n",
              "      <td>0.0</td>\n",
              "      <td>0.0</td>\n",
              "      <td>0.0</td>\n",
              "      <td>0.0</td>\n",
              "      <td>17</td>\n",
              "      <td>6</td>\n",
              "      <td>1</td>\n",
              "    </tr>\n",
              "    <tr>\n",
              "      <th>546861</th>\n",
              "      <td>436</td>\n",
              "      <td>436</td>\n",
              "      <td>0</td>\n",
              "      <td>0.0</td>\n",
              "      <td>0.0</td>\n",
              "      <td>0.0</td>\n",
              "      <td>0.0</td>\n",
              "      <td>0.0</td>\n",
              "      <td>0.0</td>\n",
              "      <td>0.0</td>\n",
              "      <td>0.0</td>\n",
              "      <td>0.0</td>\n",
              "      <td>0.0</td>\n",
              "      <td>0.0</td>\n",
              "      <td>0.0</td>\n",
              "      <td>0.0</td>\n",
              "      <td>0.0</td>\n",
              "      <td>0.0</td>\n",
              "      <td>0.0</td>\n",
              "      <td>0.0</td>\n",
              "      <td>0.0</td>\n",
              "      <td>0.0</td>\n",
              "      <td>0.0</td>\n",
              "      <td>0.0</td>\n",
              "      <td>0.0</td>\n",
              "      <td>0.0</td>\n",
              "      <td>0.0</td>\n",
              "      <td>0.0</td>\n",
              "      <td>0.0</td>\n",
              "      <td>0.0</td>\n",
              "      <td>0.0</td>\n",
              "      <td>0.0</td>\n",
              "      <td>0.0</td>\n",
              "      <td>0.0</td>\n",
              "      <td>0.0</td>\n",
              "      <td>0.0</td>\n",
              "      <td>0.0</td>\n",
              "      <td>0.0</td>\n",
              "      <td>0.0</td>\n",
              "      <td>0.0</td>\n",
              "      <td>...</td>\n",
              "      <td>0.0</td>\n",
              "      <td>0.0</td>\n",
              "      <td>0.0</td>\n",
              "      <td>0.0</td>\n",
              "      <td>0.0</td>\n",
              "      <td>0.0</td>\n",
              "      <td>0.0</td>\n",
              "      <td>0.0</td>\n",
              "      <td>0.0</td>\n",
              "      <td>0.0</td>\n",
              "      <td>0.0</td>\n",
              "      <td>0.0</td>\n",
              "      <td>0.0</td>\n",
              "      <td>0.0</td>\n",
              "      <td>0.0</td>\n",
              "      <td>0.0</td>\n",
              "      <td>0.0</td>\n",
              "      <td>0.0</td>\n",
              "      <td>0.0</td>\n",
              "      <td>0.0</td>\n",
              "      <td>0.0</td>\n",
              "      <td>0.0</td>\n",
              "      <td>0.0</td>\n",
              "      <td>0.0</td>\n",
              "      <td>0.0</td>\n",
              "      <td>0.0</td>\n",
              "      <td>0.0</td>\n",
              "      <td>0.0</td>\n",
              "      <td>0.0</td>\n",
              "      <td>0.0</td>\n",
              "      <td>0.0</td>\n",
              "      <td>0.0</td>\n",
              "      <td>0.0</td>\n",
              "      <td>0.0</td>\n",
              "      <td>0.0</td>\n",
              "      <td>0.0</td>\n",
              "      <td>0.0</td>\n",
              "      <td>3</td>\n",
              "      <td>7</td>\n",
              "      <td>0</td>\n",
              "    </tr>\n",
              "    <tr>\n",
              "      <th>546862</th>\n",
              "      <td>504</td>\n",
              "      <td>535</td>\n",
              "      <td>31</td>\n",
              "      <td>0.0</td>\n",
              "      <td>0.0</td>\n",
              "      <td>0.0</td>\n",
              "      <td>0.0</td>\n",
              "      <td>0.0</td>\n",
              "      <td>0.0</td>\n",
              "      <td>0.0</td>\n",
              "      <td>0.0</td>\n",
              "      <td>0.0</td>\n",
              "      <td>0.0</td>\n",
              "      <td>0.0</td>\n",
              "      <td>0.0</td>\n",
              "      <td>0.0</td>\n",
              "      <td>0.0</td>\n",
              "      <td>0.0</td>\n",
              "      <td>0.0</td>\n",
              "      <td>0.0</td>\n",
              "      <td>0.0</td>\n",
              "      <td>1.0</td>\n",
              "      <td>0.0</td>\n",
              "      <td>0.0</td>\n",
              "      <td>0.0</td>\n",
              "      <td>0.0</td>\n",
              "      <td>0.0</td>\n",
              "      <td>0.0</td>\n",
              "      <td>0.0</td>\n",
              "      <td>0.0</td>\n",
              "      <td>0.0</td>\n",
              "      <td>0.0</td>\n",
              "      <td>0.0</td>\n",
              "      <td>0.0</td>\n",
              "      <td>0.0</td>\n",
              "      <td>0.0</td>\n",
              "      <td>0.0</td>\n",
              "      <td>0.0</td>\n",
              "      <td>0.0</td>\n",
              "      <td>0.0</td>\n",
              "      <td>...</td>\n",
              "      <td>0.0</td>\n",
              "      <td>0.0</td>\n",
              "      <td>0.0</td>\n",
              "      <td>0.0</td>\n",
              "      <td>0.0</td>\n",
              "      <td>0.0</td>\n",
              "      <td>0.0</td>\n",
              "      <td>0.0</td>\n",
              "      <td>0.0</td>\n",
              "      <td>0.0</td>\n",
              "      <td>0.0</td>\n",
              "      <td>0.0</td>\n",
              "      <td>0.0</td>\n",
              "      <td>0.0</td>\n",
              "      <td>0.0</td>\n",
              "      <td>0.0</td>\n",
              "      <td>0.0</td>\n",
              "      <td>0.0</td>\n",
              "      <td>0.0</td>\n",
              "      <td>0.0</td>\n",
              "      <td>0.0</td>\n",
              "      <td>0.0</td>\n",
              "      <td>0.0</td>\n",
              "      <td>0.0</td>\n",
              "      <td>0.0</td>\n",
              "      <td>0.0</td>\n",
              "      <td>0.0</td>\n",
              "      <td>0.0</td>\n",
              "      <td>0.0</td>\n",
              "      <td>0.0</td>\n",
              "      <td>0.0</td>\n",
              "      <td>0.0</td>\n",
              "      <td>0.0</td>\n",
              "      <td>0.0</td>\n",
              "      <td>0.0</td>\n",
              "      <td>0.0</td>\n",
              "      <td>0.0</td>\n",
              "      <td>17</td>\n",
              "      <td>7</td>\n",
              "      <td>0</td>\n",
              "    </tr>\n",
              "  </tbody>\n",
              "</table>\n",
              "<p>5 rows × 414 columns</p>\n",
              "</div>"
            ],
            "text/plain": [
              "        ActualBlock  BlkSched  DiffBlock    0  ...  407  Time  Weekday  Summer\n",
              "546858          742       730         12  0.0  ...  0.0    12        5       1\n",
              "546859          659       655          4  0.0  ...  0.0     3        6       1\n",
              "546860          524       515          9  0.0  ...  0.0    17        6       1\n",
              "546861          436       436          0  0.0  ...  0.0     3        7       0\n",
              "546862          504       535         31  0.0  ...  0.0    17        7       0\n",
              "\n",
              "[5 rows x 414 columns]"
            ]
          },
          "metadata": {
            "tags": []
          },
          "execution_count": 21
        }
      ]
    },
    {
      "cell_type": "markdown",
      "metadata": {
        "id": "VyrH5wvDohKz",
        "colab_type": "text"
      },
      "source": [
        "#Remove the outliers"
      ]
    },
    {
      "cell_type": "code",
      "metadata": {
        "id": "30FD2bx0ye4d",
        "colab_type": "code",
        "outputId": "ea4d0cf9-d3f7-4ec0-aa66-56f6b67c1c7f",
        "colab": {
          "base_uri": "https://localhost:8080/",
          "height": 385
        }
      },
      "source": [
        "#Create boxplot of \"ActualBlock\" to see if there are outliers\n",
        "# Create a figure instance\n",
        "fig = plt.figure(1, figsize=(9, 6))\n",
        "\n",
        "# Create an axes instance\n",
        "ax = fig.add_subplot(111)\n",
        "\n",
        "# Create the boxplot\n",
        "bp = ax.boxplot(data[\"DiffBlock\"])\n",
        "\n",
        "# Save the figure\n",
        "fig.savefig('fig1.png', bbox_inches='tight')\n",
        "\n",
        "## add patch_artist=True option to ax.boxplot() \n",
        "## to get fill color\n",
        "\n",
        "\n",
        "bp = ax.boxplot(data[\"DiffBlock\"], patch_artist=True)\n",
        "\n",
        "## change outline color, fill color and linewidth of the boxes\n",
        "for box in bp['boxes']:\n",
        "    # change outline color\n",
        "    box.set( color='#7570b3', linewidth=2)\n",
        "    # change fill color\n",
        "    box.set( facecolor = '#1b9e77' )\n",
        "\n",
        "## change color and linewidth of the whiskers\n",
        "for whisker in bp['whiskers']:\n",
        "    whisker.set(color='#7570b3', linewidth=2)\n",
        "\n",
        "## change color and linewidth of the caps\n",
        "for cap in bp['caps']:\n",
        "    cap.set(color='#7570b3', linewidth=2)\n",
        "\n",
        "## change color and linewidth of the medians\n",
        "for median in bp['medians']:\n",
        "    median.set(color='#b2df8a', linewidth=2)\n",
        "\n",
        "## change the style of fliers and their fill\n",
        "for flier in bp['fliers']:\n",
        "    flier.set(marker='o', color='#e7298a', alpha=0.5)"
      ],
      "execution_count": 0,
      "outputs": [
        {
          "output_type": "display_data",
          "data": {
            "image/png": "[encoded data removed]",
            "text/plain": [
              "<Figure size 648x432 with 1 Axes>"
            ]
          },
          "metadata": {
            "tags": []
          }
        }
      ]
    },
    {
      "cell_type": "code",
      "metadata": {
        "id": "pp-4jp97_3_Z",
        "colab_type": "code",
        "outputId": "0eb4e8c9-ea98-4e48-e007-d686c6ef9c09",
        "colab": {
          "base_uri": "https://localhost:8080/",
          "height": 253
        }
      },
      "source": [
        "data.tail()"
      ],
      "execution_count": 0,
      "outputs": [
        {
          "output_type": "execute_result",
          "data": {
            "text/html": [
              "<div>\n",
              "<style scoped>\n",
              "    .dataframe tbody tr th:only-of-type {\n",
              "        vertical-align: middle;\n",
              "    }\n",
              "\n",
              "    .dataframe tbody tr th {\n",
              "        vertical-align: top;\n",
              "    }\n",
              "\n",
              "    .dataframe thead th {\n",
              "        text-align: right;\n",
              "    }\n",
              "</style>\n",
              "<table border=\"1\" class=\"dataframe\">\n",
              "  <thead>\n",
              "    <tr style=\"text-align: right;\">\n",
              "      <th></th>\n",
              "      <th>ActualBlock</th>\n",
              "      <th>BlkSched</th>\n",
              "      <th>DiffBlock</th>\n",
              "      <th>0</th>\n",
              "      <th>1</th>\n",
              "      <th>2</th>\n",
              "      <th>3</th>\n",
              "      <th>4</th>\n",
              "      <th>5</th>\n",
              "      <th>6</th>\n",
              "      <th>7</th>\n",
              "      <th>8</th>\n",
              "      <th>9</th>\n",
              "      <th>10</th>\n",
              "      <th>11</th>\n",
              "      <th>12</th>\n",
              "      <th>13</th>\n",
              "      <th>14</th>\n",
              "      <th>15</th>\n",
              "      <th>16</th>\n",
              "      <th>17</th>\n",
              "      <th>18</th>\n",
              "      <th>19</th>\n",
              "      <th>20</th>\n",
              "      <th>21</th>\n",
              "      <th>22</th>\n",
              "      <th>23</th>\n",
              "      <th>24</th>\n",
              "      <th>25</th>\n",
              "      <th>26</th>\n",
              "      <th>27</th>\n",
              "      <th>28</th>\n",
              "      <th>29</th>\n",
              "      <th>30</th>\n",
              "      <th>31</th>\n",
              "      <th>32</th>\n",
              "      <th>33</th>\n",
              "      <th>34</th>\n",
              "      <th>35</th>\n",
              "      <th>36</th>\n",
              "      <th>...</th>\n",
              "      <th>371</th>\n",
              "      <th>372</th>\n",
              "      <th>373</th>\n",
              "      <th>374</th>\n",
              "      <th>375</th>\n",
              "      <th>376</th>\n",
              "      <th>377</th>\n",
              "      <th>378</th>\n",
              "      <th>379</th>\n",
              "      <th>380</th>\n",
              "      <th>381</th>\n",
              "      <th>382</th>\n",
              "      <th>383</th>\n",
              "      <th>384</th>\n",
              "      <th>385</th>\n",
              "      <th>386</th>\n",
              "      <th>387</th>\n",
              "      <th>388</th>\n",
              "      <th>389</th>\n",
              "      <th>390</th>\n",
              "      <th>391</th>\n",
              "      <th>392</th>\n",
              "      <th>393</th>\n",
              "      <th>394</th>\n",
              "      <th>395</th>\n",
              "      <th>396</th>\n",
              "      <th>397</th>\n",
              "      <th>398</th>\n",
              "      <th>399</th>\n",
              "      <th>400</th>\n",
              "      <th>401</th>\n",
              "      <th>402</th>\n",
              "      <th>403</th>\n",
              "      <th>404</th>\n",
              "      <th>405</th>\n",
              "      <th>406</th>\n",
              "      <th>407</th>\n",
              "      <th>Time</th>\n",
              "      <th>Weekday</th>\n",
              "      <th>Summer</th>\n",
              "    </tr>\n",
              "  </thead>\n",
              "  <tbody>\n",
              "    <tr>\n",
              "      <th>546858</th>\n",
              "      <td>742</td>\n",
              "      <td>730</td>\n",
              "      <td>12</td>\n",
              "      <td>0.0</td>\n",
              "      <td>0.0</td>\n",
              "      <td>0.0</td>\n",
              "      <td>0.0</td>\n",
              "      <td>0.0</td>\n",
              "      <td>0.0</td>\n",
              "      <td>0.0</td>\n",
              "      <td>0.0</td>\n",
              "      <td>0.0</td>\n",
              "      <td>0.0</td>\n",
              "      <td>0.0</td>\n",
              "      <td>0.0</td>\n",
              "      <td>0.0</td>\n",
              "      <td>0.0</td>\n",
              "      <td>0.0</td>\n",
              "      <td>0.0</td>\n",
              "      <td>0.0</td>\n",
              "      <td>0.0</td>\n",
              "      <td>1.0</td>\n",
              "      <td>0.0</td>\n",
              "      <td>0.0</td>\n",
              "      <td>0.0</td>\n",
              "      <td>0.0</td>\n",
              "      <td>0.0</td>\n",
              "      <td>0.0</td>\n",
              "      <td>0.0</td>\n",
              "      <td>0.0</td>\n",
              "      <td>0.0</td>\n",
              "      <td>0.0</td>\n",
              "      <td>0.0</td>\n",
              "      <td>0.0</td>\n",
              "      <td>0.0</td>\n",
              "      <td>0.0</td>\n",
              "      <td>0.0</td>\n",
              "      <td>0.0</td>\n",
              "      <td>0.0</td>\n",
              "      <td>0.0</td>\n",
              "      <td>...</td>\n",
              "      <td>0.0</td>\n",
              "      <td>0.0</td>\n",
              "      <td>0.0</td>\n",
              "      <td>0.0</td>\n",
              "      <td>0.0</td>\n",
              "      <td>0.0</td>\n",
              "      <td>0.0</td>\n",
              "      <td>0.0</td>\n",
              "      <td>0.0</td>\n",
              "      <td>0.0</td>\n",
              "      <td>0.0</td>\n",
              "      <td>0.0</td>\n",
              "      <td>0.0</td>\n",
              "      <td>0.0</td>\n",
              "      <td>0.0</td>\n",
              "      <td>0.0</td>\n",
              "      <td>0.0</td>\n",
              "      <td>0.0</td>\n",
              "      <td>0.0</td>\n",
              "      <td>0.0</td>\n",
              "      <td>0.0</td>\n",
              "      <td>0.0</td>\n",
              "      <td>0.0</td>\n",
              "      <td>0.0</td>\n",
              "      <td>0.0</td>\n",
              "      <td>0.0</td>\n",
              "      <td>0.0</td>\n",
              "      <td>0.0</td>\n",
              "      <td>0.0</td>\n",
              "      <td>0.0</td>\n",
              "      <td>0.0</td>\n",
              "      <td>0.0</td>\n",
              "      <td>0.0</td>\n",
              "      <td>0.0</td>\n",
              "      <td>0.0</td>\n",
              "      <td>0.0</td>\n",
              "      <td>0.0</td>\n",
              "      <td>12</td>\n",
              "      <td>5</td>\n",
              "      <td>1</td>\n",
              "    </tr>\n",
              "    <tr>\n",
              "      <th>546859</th>\n",
              "      <td>659</td>\n",
              "      <td>655</td>\n",
              "      <td>4</td>\n",
              "      <td>0.0</td>\n",
              "      <td>0.0</td>\n",
              "      <td>0.0</td>\n",
              "      <td>0.0</td>\n",
              "      <td>0.0</td>\n",
              "      <td>0.0</td>\n",
              "      <td>0.0</td>\n",
              "      <td>0.0</td>\n",
              "      <td>0.0</td>\n",
              "      <td>0.0</td>\n",
              "      <td>0.0</td>\n",
              "      <td>0.0</td>\n",
              "      <td>0.0</td>\n",
              "      <td>0.0</td>\n",
              "      <td>0.0</td>\n",
              "      <td>0.0</td>\n",
              "      <td>0.0</td>\n",
              "      <td>0.0</td>\n",
              "      <td>0.0</td>\n",
              "      <td>0.0</td>\n",
              "      <td>0.0</td>\n",
              "      <td>0.0</td>\n",
              "      <td>0.0</td>\n",
              "      <td>0.0</td>\n",
              "      <td>0.0</td>\n",
              "      <td>0.0</td>\n",
              "      <td>0.0</td>\n",
              "      <td>0.0</td>\n",
              "      <td>0.0</td>\n",
              "      <td>0.0</td>\n",
              "      <td>0.0</td>\n",
              "      <td>0.0</td>\n",
              "      <td>0.0</td>\n",
              "      <td>0.0</td>\n",
              "      <td>0.0</td>\n",
              "      <td>0.0</td>\n",
              "      <td>0.0</td>\n",
              "      <td>...</td>\n",
              "      <td>0.0</td>\n",
              "      <td>0.0</td>\n",
              "      <td>0.0</td>\n",
              "      <td>0.0</td>\n",
              "      <td>0.0</td>\n",
              "      <td>0.0</td>\n",
              "      <td>0.0</td>\n",
              "      <td>0.0</td>\n",
              "      <td>0.0</td>\n",
              "      <td>0.0</td>\n",
              "      <td>0.0</td>\n",
              "      <td>0.0</td>\n",
              "      <td>0.0</td>\n",
              "      <td>0.0</td>\n",
              "      <td>0.0</td>\n",
              "      <td>0.0</td>\n",
              "      <td>0.0</td>\n",
              "      <td>0.0</td>\n",
              "      <td>0.0</td>\n",
              "      <td>0.0</td>\n",
              "      <td>0.0</td>\n",
              "      <td>0.0</td>\n",
              "      <td>0.0</td>\n",
              "      <td>0.0</td>\n",
              "      <td>0.0</td>\n",
              "      <td>0.0</td>\n",
              "      <td>0.0</td>\n",
              "      <td>0.0</td>\n",
              "      <td>0.0</td>\n",
              "      <td>0.0</td>\n",
              "      <td>0.0</td>\n",
              "      <td>0.0</td>\n",
              "      <td>0.0</td>\n",
              "      <td>0.0</td>\n",
              "      <td>0.0</td>\n",
              "      <td>0.0</td>\n",
              "      <td>0.0</td>\n",
              "      <td>3</td>\n",
              "      <td>6</td>\n",
              "      <td>1</td>\n",
              "    </tr>\n",
              "    <tr>\n",
              "      <th>546860</th>\n",
              "      <td>524</td>\n",
              "      <td>515</td>\n",
              "      <td>9</td>\n",
              "      <td>0.0</td>\n",
              "      <td>0.0</td>\n",
              "      <td>0.0</td>\n",
              "      <td>0.0</td>\n",
              "      <td>0.0</td>\n",
              "      <td>0.0</td>\n",
              "      <td>0.0</td>\n",
              "      <td>0.0</td>\n",
              "      <td>0.0</td>\n",
              "      <td>0.0</td>\n",
              "      <td>0.0</td>\n",
              "      <td>0.0</td>\n",
              "      <td>0.0</td>\n",
              "      <td>0.0</td>\n",
              "      <td>0.0</td>\n",
              "      <td>0.0</td>\n",
              "      <td>0.0</td>\n",
              "      <td>0.0</td>\n",
              "      <td>1.0</td>\n",
              "      <td>0.0</td>\n",
              "      <td>0.0</td>\n",
              "      <td>0.0</td>\n",
              "      <td>0.0</td>\n",
              "      <td>0.0</td>\n",
              "      <td>0.0</td>\n",
              "      <td>0.0</td>\n",
              "      <td>0.0</td>\n",
              "      <td>0.0</td>\n",
              "      <td>0.0</td>\n",
              "      <td>0.0</td>\n",
              "      <td>0.0</td>\n",
              "      <td>0.0</td>\n",
              "      <td>0.0</td>\n",
              "      <td>0.0</td>\n",
              "      <td>0.0</td>\n",
              "      <td>0.0</td>\n",
              "      <td>0.0</td>\n",
              "      <td>...</td>\n",
              "      <td>0.0</td>\n",
              "      <td>0.0</td>\n",
              "      <td>0.0</td>\n",
              "      <td>0.0</td>\n",
              "      <td>0.0</td>\n",
              "      <td>0.0</td>\n",
              "      <td>0.0</td>\n",
              "      <td>0.0</td>\n",
              "      <td>0.0</td>\n",
              "      <td>0.0</td>\n",
              "      <td>0.0</td>\n",
              "      <td>0.0</td>\n",
              "      <td>0.0</td>\n",
              "      <td>0.0</td>\n",
              "      <td>0.0</td>\n",
              "      <td>0.0</td>\n",
              "      <td>0.0</td>\n",
              "      <td>0.0</td>\n",
              "      <td>0.0</td>\n",
              "      <td>0.0</td>\n",
              "      <td>0.0</td>\n",
              "      <td>0.0</td>\n",
              "      <td>0.0</td>\n",
              "      <td>0.0</td>\n",
              "      <td>0.0</td>\n",
              "      <td>0.0</td>\n",
              "      <td>0.0</td>\n",
              "      <td>0.0</td>\n",
              "      <td>0.0</td>\n",
              "      <td>0.0</td>\n",
              "      <td>0.0</td>\n",
              "      <td>0.0</td>\n",
              "      <td>0.0</td>\n",
              "      <td>0.0</td>\n",
              "      <td>0.0</td>\n",
              "      <td>0.0</td>\n",
              "      <td>0.0</td>\n",
              "      <td>17</td>\n",
              "      <td>6</td>\n",
              "      <td>1</td>\n",
              "    </tr>\n",
              "    <tr>\n",
              "      <th>546861</th>\n",
              "      <td>436</td>\n",
              "      <td>436</td>\n",
              "      <td>0</td>\n",
              "      <td>0.0</td>\n",
              "      <td>0.0</td>\n",
              "      <td>0.0</td>\n",
              "      <td>0.0</td>\n",
              "      <td>0.0</td>\n",
              "      <td>0.0</td>\n",
              "      <td>0.0</td>\n",
              "      <td>0.0</td>\n",
              "      <td>0.0</td>\n",
              "      <td>0.0</td>\n",
              "      <td>0.0</td>\n",
              "      <td>0.0</td>\n",
              "      <td>0.0</td>\n",
              "      <td>0.0</td>\n",
              "      <td>0.0</td>\n",
              "      <td>0.0</td>\n",
              "      <td>0.0</td>\n",
              "      <td>0.0</td>\n",
              "      <td>0.0</td>\n",
              "      <td>0.0</td>\n",
              "      <td>0.0</td>\n",
              "      <td>0.0</td>\n",
              "      <td>0.0</td>\n",
              "      <td>0.0</td>\n",
              "      <td>0.0</td>\n",
              "      <td>0.0</td>\n",
              "      <td>0.0</td>\n",
              "      <td>0.0</td>\n",
              "      <td>0.0</td>\n",
              "      <td>0.0</td>\n",
              "      <td>0.0</td>\n",
              "      <td>0.0</td>\n",
              "      <td>0.0</td>\n",
              "      <td>0.0</td>\n",
              "      <td>0.0</td>\n",
              "      <td>0.0</td>\n",
              "      <td>0.0</td>\n",
              "      <td>...</td>\n",
              "      <td>0.0</td>\n",
              "      <td>0.0</td>\n",
              "      <td>0.0</td>\n",
              "      <td>0.0</td>\n",
              "      <td>0.0</td>\n",
              "      <td>0.0</td>\n",
              "      <td>0.0</td>\n",
              "      <td>0.0</td>\n",
              "      <td>0.0</td>\n",
              "      <td>0.0</td>\n",
              "      <td>0.0</td>\n",
              "      <td>0.0</td>\n",
              "      <td>0.0</td>\n",
              "      <td>0.0</td>\n",
              "      <td>0.0</td>\n",
              "      <td>0.0</td>\n",
              "      <td>0.0</td>\n",
              "      <td>0.0</td>\n",
              "      <td>0.0</td>\n",
              "      <td>0.0</td>\n",
              "      <td>0.0</td>\n",
              "      <td>0.0</td>\n",
              "      <td>0.0</td>\n",
              "      <td>0.0</td>\n",
              "      <td>0.0</td>\n",
              "      <td>0.0</td>\n",
              "      <td>0.0</td>\n",
              "      <td>0.0</td>\n",
              "      <td>0.0</td>\n",
              "      <td>0.0</td>\n",
              "      <td>0.0</td>\n",
              "      <td>0.0</td>\n",
              "      <td>0.0</td>\n",
              "      <td>0.0</td>\n",
              "      <td>0.0</td>\n",
              "      <td>0.0</td>\n",
              "      <td>0.0</td>\n",
              "      <td>3</td>\n",
              "      <td>7</td>\n",
              "      <td>0</td>\n",
              "    </tr>\n",
              "    <tr>\n",
              "      <th>546862</th>\n",
              "      <td>504</td>\n",
              "      <td>535</td>\n",
              "      <td>31</td>\n",
              "      <td>0.0</td>\n",
              "      <td>0.0</td>\n",
              "      <td>0.0</td>\n",
              "      <td>0.0</td>\n",
              "      <td>0.0</td>\n",
              "      <td>0.0</td>\n",
              "      <td>0.0</td>\n",
              "      <td>0.0</td>\n",
              "      <td>0.0</td>\n",
              "      <td>0.0</td>\n",
              "      <td>0.0</td>\n",
              "      <td>0.0</td>\n",
              "      <td>0.0</td>\n",
              "      <td>0.0</td>\n",
              "      <td>0.0</td>\n",
              "      <td>0.0</td>\n",
              "      <td>0.0</td>\n",
              "      <td>0.0</td>\n",
              "      <td>1.0</td>\n",
              "      <td>0.0</td>\n",
              "      <td>0.0</td>\n",
              "      <td>0.0</td>\n",
              "      <td>0.0</td>\n",
              "      <td>0.0</td>\n",
              "      <td>0.0</td>\n",
              "      <td>0.0</td>\n",
              "      <td>0.0</td>\n",
              "      <td>0.0</td>\n",
              "      <td>0.0</td>\n",
              "      <td>0.0</td>\n",
              "      <td>0.0</td>\n",
              "      <td>0.0</td>\n",
              "      <td>0.0</td>\n",
              "      <td>0.0</td>\n",
              "      <td>0.0</td>\n",
              "      <td>0.0</td>\n",
              "      <td>0.0</td>\n",
              "      <td>...</td>\n",
              "      <td>0.0</td>\n",
              "      <td>0.0</td>\n",
              "      <td>0.0</td>\n",
              "      <td>0.0</td>\n",
              "      <td>0.0</td>\n",
              "      <td>0.0</td>\n",
              "      <td>0.0</td>\n",
              "      <td>0.0</td>\n",
              "      <td>0.0</td>\n",
              "      <td>0.0</td>\n",
              "      <td>0.0</td>\n",
              "      <td>0.0</td>\n",
              "      <td>0.0</td>\n",
              "      <td>0.0</td>\n",
              "      <td>0.0</td>\n",
              "      <td>0.0</td>\n",
              "      <td>0.0</td>\n",
              "      <td>0.0</td>\n",
              "      <td>0.0</td>\n",
              "      <td>0.0</td>\n",
              "      <td>0.0</td>\n",
              "      <td>0.0</td>\n",
              "      <td>0.0</td>\n",
              "      <td>0.0</td>\n",
              "      <td>0.0</td>\n",
              "      <td>0.0</td>\n",
              "      <td>0.0</td>\n",
              "      <td>0.0</td>\n",
              "      <td>0.0</td>\n",
              "      <td>0.0</td>\n",
              "      <td>0.0</td>\n",
              "      <td>0.0</td>\n",
              "      <td>0.0</td>\n",
              "      <td>0.0</td>\n",
              "      <td>0.0</td>\n",
              "      <td>0.0</td>\n",
              "      <td>0.0</td>\n",
              "      <td>17</td>\n",
              "      <td>7</td>\n",
              "      <td>0</td>\n",
              "    </tr>\n",
              "  </tbody>\n",
              "</table>\n",
              "<p>5 rows × 414 columns</p>\n",
              "</div>"
            ],
            "text/plain": [
              "        ActualBlock  BlkSched  DiffBlock    0  ...  407  Time  Weekday  Summer\n",
              "546858          742       730         12  0.0  ...  0.0    12        5       1\n",
              "546859          659       655          4  0.0  ...  0.0     3        6       1\n",
              "546860          524       515          9  0.0  ...  0.0    17        6       1\n",
              "546861          436       436          0  0.0  ...  0.0     3        7       0\n",
              "546862          504       535         31  0.0  ...  0.0    17        7       0\n",
              "\n",
              "[5 rows x 414 columns]"
            ]
          },
          "metadata": {
            "tags": []
          },
          "execution_count": 23
        }
      ]
    },
    {
      "cell_type": "code",
      "metadata": {
        "id": "sX55VR8Oofs0",
        "colab_type": "code",
        "outputId": "059cd834-413b-4af2-993d-dc3315dc59f5",
        "colab": {
          "base_uri": "https://localhost:8080/",
          "height": 136
        }
      },
      "source": [
        "#find the outliers\n",
        "oldSize=data.shape[0]\n",
        "Q1 = data[\"DiffBlock\"].quantile(0.25)\n",
        "Q3 = data[\"DiffBlock\"].quantile(0.75)\n",
        "IQR = Q3 - Q1\n",
        "print(IQR)\n",
        "print(Q3)\n",
        "print(Q1)\n",
        "\n",
        "#outliars beeing filtered\n",
        "data = data[~((data[\"DiffBlock\"] < (Q1 - 1.5 * IQR)) |(data[\"DiffBlock\"] > (Q3 + 1.5 * IQR)))]\n",
        "data_kopiert = data_kopiert[~((data_kopiert[\"DiffBlock\"] < (Q1 - 1.5 * IQR)) |(data_kopiert[\"DiffBlock\"] > (Q3 + 1.5 * IQR)))]\n",
        "print(\"percentage of non-outlier flights:\")\n",
        "print(data.shape[0]/oldSize )\n",
        "print(data.shape)\n",
        "print(data_kopiert.shape)"
      ],
      "execution_count": 0,
      "outputs": [
        {
          "output_type": "stream",
          "text": [
            "8.0\n",
            "11.0\n",
            "3.0\n",
            "percentage of non-outlier flights:\n",
            "0.9437738519519514\n",
            "(516115, 414)\n",
            "(516115, 17)\n"
          ],
          "name": "stdout"
        }
      ]
    },
    {
      "cell_type": "markdown",
      "metadata": {
        "id": "zVEBpbIJ_CU7",
        "colab_type": "text"
      },
      "source": [
        "#Save copy for predictions later"
      ]
    },
    {
      "cell_type": "code",
      "metadata": {
        "id": "MFFYE0_4-z1s",
        "colab_type": "code",
        "outputId": "0e03cb97-726e-42e7-b278-75ff274faa25",
        "colab": {
          "base_uri": "https://localhost:8080/",
          "height": 221
        }
      },
      "source": [
        "#keep copy of all to predict later allData dimension 516115\n",
        "allData= data.copy()\n",
        "allData_labels=pd.DataFrame(allData[\"ActualBlock\"])\n",
        "allData.pop(\"ActualBlock\")"
      ],
      "execution_count": 0,
      "outputs": [
        {
          "output_type": "execute_result",
          "data": {
            "text/plain": [
              "1         168\n",
              "2         173\n",
              "3         250\n",
              "5         132\n",
              "6         269\n",
              "         ... \n",
              "546857    659\n",
              "546858    742\n",
              "546859    659\n",
              "546860    524\n",
              "546861    436\n",
              "Name: ActualBlock, Length: 516115, dtype: int64"
            ]
          },
          "metadata": {
            "tags": []
          },
          "execution_count": 25
        }
      ]
    },
    {
      "cell_type": "code",
      "metadata": {
        "id": "xRRlSBhU-3Yr",
        "colab_type": "code",
        "outputId": "4f20211a-56ab-4b87-e030-7cf9dcaddfc4",
        "colab": {
          "base_uri": "https://localhost:8080/",
          "height": 34
        }
      },
      "source": [
        "data_kopiert.reset_index(drop=True, inplace=True)\n",
        "actual= pd.DataFrame(data_kopiert[\"ActualBlock\"])\n",
        "allData_labels.equals(actual)"
      ],
      "execution_count": 0,
      "outputs": [
        {
          "output_type": "execute_result",
          "data": {
            "text/plain": [
              "False"
            ]
          },
          "metadata": {
            "tags": []
          },
          "execution_count": 26
        }
      ]
    },
    {
      "cell_type": "code",
      "metadata": {
        "id": "IxQuVWBDUsCV",
        "colab_type": "code",
        "outputId": "93993a68-a505-4fe8-da56-4ebb93c771e8",
        "colab": {
          "base_uri": "https://localhost:8080/",
          "height": 272
        }
      },
      "source": [
        "\n",
        "print(pd.concat([actual,allData_labels]).drop_duplicates(keep=False))\n",
        "print(actual.head())\n",
        "print(allData_labels.head())"
      ],
      "execution_count": 0,
      "outputs": [
        {
          "output_type": "stream",
          "text": [
            "Empty DataFrame\n",
            "Columns: [ActualBlock]\n",
            "Index: []\n",
            "   ActualBlock\n",
            "0          168\n",
            "1          173\n",
            "2          250\n",
            "3          132\n",
            "4          269\n",
            "   ActualBlock\n",
            "1          168\n",
            "2          173\n",
            "3          250\n",
            "5          132\n",
            "6          269\n"
          ],
          "name": "stdout"
        }
      ]
    },
    {
      "cell_type": "markdown",
      "metadata": {
        "id": "PU28G4ASye4w",
        "colab_type": "text"
      },
      "source": [
        "# Build some models"
      ]
    },
    {
      "cell_type": "code",
      "metadata": {
        "id": "4Lc-RJQ-ye4y",
        "colab_type": "code",
        "colab": {}
      },
      "source": [
        "def build_model_simple():\n",
        "    model = Sequential()\n",
        "    model.add(Dense(12, activation='relu',kernel_initializer='normal', input_shape=[len(train_X.keys())]))\n",
        "    model.add(Dense(10, activation='relu',kernel_initializer='normal'))\n",
        "    model.add(Dense(1,kernel_initializer='normal'))\n",
        "    model.compile(loss='mse',\n",
        "                optimizer=\"adam\",\n",
        "                metrics=['mae', 'mse'])\n",
        "    \n",
        "    return model"
      ],
      "execution_count": 0,
      "outputs": []
    },
    {
      "cell_type": "code",
      "metadata": {
        "id": "Wbv2iEzdye40",
        "colab_type": "code",
        "colab": {}
      },
      "source": [
        "def build_model_deeper():\n",
        "    model = Sequential()\n",
        "    model.add(Dense(5, activation='relu',kernel_initializer='normal', input_shape=[len(train_X.keys())]))\n",
        "    model.add(Dense(12, activation='relu',kernel_initializer='normal'))\n",
        "    model.add(Dense(10, activation='relu',kernel_initializer='normal'))\n",
        "    model.add(Dense(5, activation='relu',kernel_initializer='normal'))\n",
        "    model.add(Dense(1,kernel_initializer='normal'))\n",
        "    model.compile(loss='mse',\n",
        "                optimizer=\"adam\",\n",
        "                metrics=['mae', 'mse'])\n",
        "    \n",
        "    return model"
      ],
      "execution_count": 0,
      "outputs": []
    },
    {
      "cell_type": "code",
      "metadata": {
        "id": "hzTKrb3Eye45",
        "colab_type": "code",
        "colab": {}
      },
      "source": [
        "def build_model_wider():\n",
        "    model = Sequential()\n",
        "    model.add(Dense(5, activation='relu',kernel_initializer='normal', input_shape=[len(train_X.keys())]))\n",
        "    model.add(Dense(65, activation='relu',kernel_initializer='normal'))\n",
        "    model.add(Dense(1,kernel_initializer='normal'))\n",
        "    model.compile(loss='mse',\n",
        "                optimizer=\"adam\",\n",
        "                metrics=['mae', 'mse'])\n",
        "    \n",
        "    return model"
      ],
      "execution_count": 0,
      "outputs": []
    },
    {
      "cell_type": "markdown",
      "metadata": {
        "id": "GVd24pvpye47",
        "colab_type": "text"
      },
      "source": [
        "# Build costum loss function and build models with it"
      ]
    },
    {
      "cell_type": "code",
      "metadata": {
        "id": "P6huFiR3ye4-",
        "colab_type": "code",
        "colab": {}
      },
      "source": [
        "def custom_zwei():\n",
        "     # Create a loss function that adds the MSE loss to the mean of all squared activations of a specific layer\n",
        "    def loss(y_true,y_pred):\n",
        "            d= y_true -y_pred\n",
        "            late = K.cast( K.greater(d,10),\"float\") *K.cast(K.square(d-10),\"float32\")\n",
        "            early =  K.cast( K.less(d,-10),\"float\") *K.cast((K.square(d+10)),\"float32\")\n",
        "            onTime= K.cast(0,\"float32\")\n",
        "            return late+early+onTime\n",
        "    return loss\n"
      ],
      "execution_count": 0,
      "outputs": []
    },
    {
      "cell_type": "code",
      "metadata": {
        "id": "l87nv5Qjye5B",
        "colab_type": "code",
        "colab": {}
      },
      "source": [
        "def build_model_simple_loss():\n",
        "    model = Sequential()\n",
        "    model.add(Dense(5, activation='relu',kernel_initializer='normal', input_shape=[len(train_X.keys())]))\n",
        "    model.add(Dense(15, activation='relu',kernel_initializer='normal'))\n",
        "    model.add(Dense(1,kernel_initializer='normal'))\n",
        "    model.compile(loss=custom_zwei(),\n",
        "                optimizer=\"adam\",\n",
        "                metrics=['mae', 'mse'])\n",
        "    \n",
        "    return model"
      ],
      "execution_count": 0,
      "outputs": []
    },
    {
      "cell_type": "code",
      "metadata": {
        "id": "YWJ7ac-0ye5E",
        "colab_type": "code",
        "colab": {}
      },
      "source": [
        "def build_model_deeper_loss():\n",
        "    model = Sequential()\n",
        "    model.add(Dense(5, activation='relu',kernel_initializer='normal', input_shape=[len(train_X.keys())]))\n",
        "    model.add(Dense(12, activation='relu',kernel_initializer='normal'))\n",
        "    model.add(Dense(10, activation='relu',kernel_initializer='normal'))\n",
        "    model.add(Dense(5, activation='relu',kernel_initializer='normal'))\n",
        "    model.add(Dense(1,kernel_initializer='normal'))\n",
        "    model.compile(loss=custom_zwei(),\n",
        "                optimizer=\"adam\",\n",
        "                metrics=['mae', 'mse'])\n",
        "    \n",
        "    return model"
      ],
      "execution_count": 0,
      "outputs": []
    },
    {
      "cell_type": "code",
      "metadata": {
        "id": "Uw4mqBiiye5G",
        "colab_type": "code",
        "colab": {}
      },
      "source": [
        "def build_model_wider_loss():\n",
        "    model = Sequential()\n",
        "    model.add(Dense(5, activation='relu',kernel_initializer='normal', input_shape=[len(train_X.keys())]))\n",
        "    model.add(Dense(65, activation='relu',kernel_initializer='normal'))\n",
        "    model.add(Dense(1,kernel_initializer='normal'))\n",
        "    model.compile(loss=custom_zwei(),\n",
        "                optimizer=\"adam\",\n",
        "                metrics=['mae', 'mse'])\n",
        "    \n",
        "    return model"
      ],
      "execution_count": 0,
      "outputs": []
    },
    {
      "cell_type": "markdown",
      "metadata": {
        "id": "3-JJ1uIlye5I",
        "colab_type": "text"
      },
      "source": [
        "# Build some machine learning models "
      ]
    },
    {
      "cell_type": "code",
      "metadata": {
        "id": "MhJiccMKye5J",
        "colab_type": "code",
        "colab": {}
      },
      "source": [
        "#linear Regression\n",
        "modelRE = LinearRegression()\n",
        "\n"
      ],
      "execution_count": 0,
      "outputs": []
    },
    {
      "cell_type": "code",
      "metadata": {
        "id": "fGnEPSRqye5T",
        "colab_type": "code",
        "colab": {}
      },
      "source": [
        "from sklearn.linear_model import Lasso\n",
        "\n",
        "lasso = Lasso()\n",
        "\n",
        "parameters = {'alpha': [1e-15, 1e-10, 1e-8, 1e-4, 1e-3,1e-2, 1, 5, 10, 20]}\n",
        "\n",
        "lasso_regressor = GridSearchCV(lasso, parameters, scoring='neg_mean_squared_error', cv = 5)\n",
        "\n"
      ],
      "execution_count": 0,
      "outputs": []
    },
    {
      "cell_type": "markdown",
      "metadata": {
        "id": "rAtwxlRJye5W",
        "colab_type": "text"
      },
      "source": [
        "# Build an evaluation function that tests on time predictions"
      ]
    },
    {
      "cell_type": "code",
      "metadata": {
        "id": "LK39voTVye5X",
        "colab_type": "code",
        "colab": {}
      },
      "source": [
        "\n",
        "def testModel( predict, label,mod):\n",
        "   # print(\"This is evaluation of model on NOT clean test data for model \" + stringArq)\n",
        "    \n",
        "    showScatter(predict,label)\n",
        "    showPredictions(predict, label)\n",
        "    showError(predict, label)\n",
        "    onTime(predict,label)\n",
        "    notLate(predict,label)\n",
        "    #testSameFlight(specificFlight,mod)\n",
        "   # showResults(predict,label)"
      ],
      "execution_count": 0,
      "outputs": []
    },
    {
      "cell_type": "code",
      "metadata": {
        "id": "jngRDelOye5Y",
        "colab_type": "code",
        "colab": {}
      },
      "source": [
        "#taking one specific flight to see if model gives same times\n",
        "def testSameFlight(specFlight,model):\n",
        "    a = specFlight.loc[specFlight[\"Time\"] ==17 ]\n",
        "    a= a.loc[a[\"Weekday\"]==1]\n",
        "    a= a.loc[a[\"Summer\"]==0]\n",
        "    print(a) \n",
        "    a.pop(\"ActualBlock\")\n",
        "    a=norm(a).values\n",
        "    print(\"these are results for the same flight\")\n",
        "    print(model.predict(a).flatten())\n",
        " "
      ],
      "execution_count": 0,
      "outputs": []
    },
    {
      "cell_type": "code",
      "metadata": {
        "id": "kSVbcUaQye5a",
        "colab_type": "code",
        "colab": {}
      },
      "source": [
        "def showScatter(predict, label):\n",
        "    plt.scatter(label, predict)\n",
        "    plt.xlabel('True Values [ActualBlock]')\n",
        "    plt.ylabel('Predictions [ActualBlock]')\n",
        "    plt.axis('equal')\n",
        "    plt.axis('square')\n",
        "    plt.xlim([0,plt.xlim()[1]])\n",
        "    plt.ylim([0,plt.ylim()[1]])\n",
        "    _ = plt.plot([-300, 300], [-300, 300])\n",
        "    plt.show()"
      ],
      "execution_count": 0,
      "outputs": []
    },
    {
      "cell_type": "code",
      "metadata": {
        "id": "qQwJBj4lye5c",
        "colab_type": "code",
        "colab": {}
      },
      "source": [
        "def showError(predict, label):\n",
        "    error =  label-predict\n",
        "    plt.hist(error, bins = 25)\n",
        "\n",
        "    plt.xlabel(\"Prediction Error [ActualBlock]\")\n",
        "    _ = plt.ylabel(\"Count\")\n",
        "\n",
        "    plt.xlim([-100,100])\n",
        "    plt.axvline(x=-10, color=\"red\")\n",
        "    plt.axvline(x=10, color = \"red\")\n",
        "    plt.ylim([0,plt.ylim()[1]])\n",
        "    plt.show()\n",
        "\n",
        "    print(\"this is the median of error, negative indicates too early arrival, positive late arrival\")\n",
        "    print(statistics.median(error))\n",
        "    print(\"this is the average error, negative indicates too early arrival, positive late arrival\")\n",
        "    print(abs(error).sum()/len(error))\n"
      ],
      "execution_count": 0,
      "outputs": []
    },
    {
      "cell_type": "code",
      "metadata": {
        "id": "deqlEpPqye5d",
        "colab_type": "code",
        "colab": {}
      },
      "source": [
        "def showPredictions(predict,label):\n",
        "    tabel =pd.DataFrame()\n",
        "    tabel[\"Test Predictions\"] =predict\n",
        "    tabel[\"Test ActualBlock\"] =label\n",
        "    print(\"These are the actual block times and their predictions\")\n",
        "    tabel.tail()"
      ],
      "execution_count": 0,
      "outputs": []
    },
    {
      "cell_type": "code",
      "metadata": {
        "id": "WUYKBOSbye5h",
        "colab_type": "code",
        "colab": {}
      },
      "source": [
        "#check how many of the flights are NOT on time (+- 10 minutes)\n",
        "\n",
        "def onTime(predict, label):\n",
        "    delay = (abs(label-predict) > 10)*1\n",
        "    print(\"this is the percentage of blocktimes whos predictions differmore than +/- 10 minutes from actual block times:\")\n",
        "    print(sum(delay) / len(delay))\n"
      ],
      "execution_count": 0,
      "outputs": []
    },
    {
      "cell_type": "code",
      "metadata": {
        "id": "7IPB_ipdye5m",
        "colab_type": "code",
        "colab": {}
      },
      "source": [
        "#check how many of the flights are more than 10 minutes late\n",
        "\n",
        "def notLate(predict, label):\n",
        "    delay = ((label-predict) > 10)*1\n",
        "    print(\"this is the percentage of blocktimes whos predictions exceed by  more than + 10 minutes:\")\n",
        "    print(sum(delay) / len(delay))\n"
      ],
      "execution_count": 0,
      "outputs": []
    },
    {
      "cell_type": "code",
      "metadata": {
        "id": "bKz1E0bVye5n",
        "colab_type": "code",
        "colab": {}
      },
      "source": [
        "#show actual function and approximated function\n",
        "def showResults(predict, l):\n",
        "    plt.figure()\n",
        "    plt.xlabel('Samples')\n",
        "    plt.ylabel('Blocktimes')\n",
        "    plt.plot(predict,\n",
        "           label='Prediction')\n",
        "    plt.plot(l,\n",
        "           label = 'Real Values')\n",
        "    plt.ylim([100,200])\n",
        "    plt.legend()"
      ],
      "execution_count": 0,
      "outputs": []
    },
    {
      "cell_type": "markdown",
      "metadata": {
        "id": "q26-QyK_ye5p",
        "colab_type": "text"
      },
      "source": [
        "# training phase"
      ]
    },
    {
      "cell_type": "markdown",
      "metadata": {
        "id": "yty11eoKyAJT",
        "colab_type": "text"
      },
      "source": [
        "Splitting the data "
      ]
    },
    {
      "cell_type": "code",
      "metadata": {
        "id": "o0udUa_OyDOW",
        "colab_type": "code",
        "outputId": "0dbd7105-8ce9-49b2-b7cf-8a837d2d9134",
        "colab": {
          "base_uri": "https://localhost:8080/",
          "height": 119
        }
      },
      "source": [
        "#splitting data into trianing and test set still including the labels!\n",
        "\n",
        "train_X = data.sample(frac=0.8,random_state=0)\n",
        "test_X = data.drop(train_X.index)\n",
        "train_labels = train_X.pop(\"ActualBlock\")\n",
        "test_labels =test_X.pop(\"ActualBlock\")\n",
        "test_labels.tail()"
      ],
      "execution_count": 0,
      "outputs": [
        {
          "output_type": "execute_result",
          "data": {
            "text/plain": [
              "546839    517\n",
              "546840    502\n",
              "546841    433\n",
              "546857    659\n",
              "546859    659\n",
              "Name: ActualBlock, dtype: int64"
            ]
          },
          "metadata": {
            "tags": []
          },
          "execution_count": 45
        }
      ]
    },
    {
      "cell_type": "markdown",
      "metadata": {
        "id": "A_XnIT1tw9zv",
        "colab_type": "text"
      },
      "source": [
        "Normalize the data first:\n"
      ]
    },
    {
      "cell_type": "code",
      "metadata": {
        "id": "IfaK_PeJSnDD",
        "colab_type": "code",
        "outputId": "af98ccee-63b5-42a6-ab80-97dde03ccea5",
        "colab": {
          "base_uri": "https://localhost:8080/",
          "height": 51
        }
      },
      "source": [
        "print(train_X.shape)\n",
        "print(allData.shape)"
      ],
      "execution_count": 0,
      "outputs": [
        {
          "output_type": "stream",
          "text": [
            "(412892, 413)\n",
            "(516115, 413)\n"
          ],
          "name": "stdout"
        }
      ]
    },
    {
      "cell_type": "code",
      "metadata": {
        "id": "i6oAVt8t9krr",
        "colab_type": "code",
        "outputId": "0a9a434a-6c41-4727-9367-50a4d5dd8f90",
        "colab": {
          "base_uri": "https://localhost:8080/",
          "height": 253
        }
      },
      "source": [
        "allData.tail()"
      ],
      "execution_count": 0,
      "outputs": [
        {
          "output_type": "execute_result",
          "data": {
            "text/html": [
              "<div>\n",
              "<style scoped>\n",
              "    .dataframe tbody tr th:only-of-type {\n",
              "        vertical-align: middle;\n",
              "    }\n",
              "\n",
              "    .dataframe tbody tr th {\n",
              "        vertical-align: top;\n",
              "    }\n",
              "\n",
              "    .dataframe thead th {\n",
              "        text-align: right;\n",
              "    }\n",
              "</style>\n",
              "<table border=\"1\" class=\"dataframe\">\n",
              "  <thead>\n",
              "    <tr style=\"text-align: right;\">\n",
              "      <th></th>\n",
              "      <th>BlkSched</th>\n",
              "      <th>DiffBlock</th>\n",
              "      <th>0</th>\n",
              "      <th>1</th>\n",
              "      <th>2</th>\n",
              "      <th>3</th>\n",
              "      <th>4</th>\n",
              "      <th>5</th>\n",
              "      <th>6</th>\n",
              "      <th>7</th>\n",
              "      <th>8</th>\n",
              "      <th>9</th>\n",
              "      <th>10</th>\n",
              "      <th>11</th>\n",
              "      <th>12</th>\n",
              "      <th>13</th>\n",
              "      <th>14</th>\n",
              "      <th>15</th>\n",
              "      <th>16</th>\n",
              "      <th>17</th>\n",
              "      <th>18</th>\n",
              "      <th>19</th>\n",
              "      <th>20</th>\n",
              "      <th>21</th>\n",
              "      <th>22</th>\n",
              "      <th>23</th>\n",
              "      <th>24</th>\n",
              "      <th>25</th>\n",
              "      <th>26</th>\n",
              "      <th>27</th>\n",
              "      <th>28</th>\n",
              "      <th>29</th>\n",
              "      <th>30</th>\n",
              "      <th>31</th>\n",
              "      <th>32</th>\n",
              "      <th>33</th>\n",
              "      <th>34</th>\n",
              "      <th>35</th>\n",
              "      <th>36</th>\n",
              "      <th>37</th>\n",
              "      <th>...</th>\n",
              "      <th>371</th>\n",
              "      <th>372</th>\n",
              "      <th>373</th>\n",
              "      <th>374</th>\n",
              "      <th>375</th>\n",
              "      <th>376</th>\n",
              "      <th>377</th>\n",
              "      <th>378</th>\n",
              "      <th>379</th>\n",
              "      <th>380</th>\n",
              "      <th>381</th>\n",
              "      <th>382</th>\n",
              "      <th>383</th>\n",
              "      <th>384</th>\n",
              "      <th>385</th>\n",
              "      <th>386</th>\n",
              "      <th>387</th>\n",
              "      <th>388</th>\n",
              "      <th>389</th>\n",
              "      <th>390</th>\n",
              "      <th>391</th>\n",
              "      <th>392</th>\n",
              "      <th>393</th>\n",
              "      <th>394</th>\n",
              "      <th>395</th>\n",
              "      <th>396</th>\n",
              "      <th>397</th>\n",
              "      <th>398</th>\n",
              "      <th>399</th>\n",
              "      <th>400</th>\n",
              "      <th>401</th>\n",
              "      <th>402</th>\n",
              "      <th>403</th>\n",
              "      <th>404</th>\n",
              "      <th>405</th>\n",
              "      <th>406</th>\n",
              "      <th>407</th>\n",
              "      <th>Time</th>\n",
              "      <th>Weekday</th>\n",
              "      <th>Summer</th>\n",
              "    </tr>\n",
              "  </thead>\n",
              "  <tbody>\n",
              "    <tr>\n",
              "      <th>546857</th>\n",
              "      <td>650</td>\n",
              "      <td>9</td>\n",
              "      <td>0.0</td>\n",
              "      <td>0.0</td>\n",
              "      <td>0.0</td>\n",
              "      <td>0.0</td>\n",
              "      <td>0.0</td>\n",
              "      <td>0.0</td>\n",
              "      <td>0.0</td>\n",
              "      <td>0.0</td>\n",
              "      <td>0.0</td>\n",
              "      <td>0.0</td>\n",
              "      <td>0.0</td>\n",
              "      <td>0.0</td>\n",
              "      <td>0.0</td>\n",
              "      <td>0.0</td>\n",
              "      <td>0.0</td>\n",
              "      <td>0.0</td>\n",
              "      <td>0.0</td>\n",
              "      <td>0.0</td>\n",
              "      <td>0.0</td>\n",
              "      <td>0.0</td>\n",
              "      <td>0.0</td>\n",
              "      <td>0.0</td>\n",
              "      <td>0.0</td>\n",
              "      <td>0.0</td>\n",
              "      <td>0.0</td>\n",
              "      <td>0.0</td>\n",
              "      <td>0.0</td>\n",
              "      <td>0.0</td>\n",
              "      <td>0.0</td>\n",
              "      <td>0.0</td>\n",
              "      <td>0.0</td>\n",
              "      <td>0.0</td>\n",
              "      <td>0.0</td>\n",
              "      <td>0.0</td>\n",
              "      <td>0.0</td>\n",
              "      <td>0.0</td>\n",
              "      <td>0.0</td>\n",
              "      <td>0.0</td>\n",
              "      <td>...</td>\n",
              "      <td>0.0</td>\n",
              "      <td>0.0</td>\n",
              "      <td>0.0</td>\n",
              "      <td>0.0</td>\n",
              "      <td>0.0</td>\n",
              "      <td>0.0</td>\n",
              "      <td>0.0</td>\n",
              "      <td>0.0</td>\n",
              "      <td>0.0</td>\n",
              "      <td>0.0</td>\n",
              "      <td>0.0</td>\n",
              "      <td>0.0</td>\n",
              "      <td>0.0</td>\n",
              "      <td>0.0</td>\n",
              "      <td>0.0</td>\n",
              "      <td>0.0</td>\n",
              "      <td>0.0</td>\n",
              "      <td>0.0</td>\n",
              "      <td>0.0</td>\n",
              "      <td>0.0</td>\n",
              "      <td>0.0</td>\n",
              "      <td>0.0</td>\n",
              "      <td>0.0</td>\n",
              "      <td>0.0</td>\n",
              "      <td>0.0</td>\n",
              "      <td>0.0</td>\n",
              "      <td>0.0</td>\n",
              "      <td>0.0</td>\n",
              "      <td>0.0</td>\n",
              "      <td>0.0</td>\n",
              "      <td>0.0</td>\n",
              "      <td>0.0</td>\n",
              "      <td>0.0</td>\n",
              "      <td>0.0</td>\n",
              "      <td>0.0</td>\n",
              "      <td>0.0</td>\n",
              "      <td>0.0</td>\n",
              "      <td>3</td>\n",
              "      <td>2</td>\n",
              "      <td>1</td>\n",
              "    </tr>\n",
              "    <tr>\n",
              "      <th>546858</th>\n",
              "      <td>730</td>\n",
              "      <td>12</td>\n",
              "      <td>0.0</td>\n",
              "      <td>0.0</td>\n",
              "      <td>0.0</td>\n",
              "      <td>0.0</td>\n",
              "      <td>0.0</td>\n",
              "      <td>0.0</td>\n",
              "      <td>0.0</td>\n",
              "      <td>0.0</td>\n",
              "      <td>0.0</td>\n",
              "      <td>0.0</td>\n",
              "      <td>0.0</td>\n",
              "      <td>0.0</td>\n",
              "      <td>0.0</td>\n",
              "      <td>0.0</td>\n",
              "      <td>0.0</td>\n",
              "      <td>0.0</td>\n",
              "      <td>0.0</td>\n",
              "      <td>0.0</td>\n",
              "      <td>1.0</td>\n",
              "      <td>0.0</td>\n",
              "      <td>0.0</td>\n",
              "      <td>0.0</td>\n",
              "      <td>0.0</td>\n",
              "      <td>0.0</td>\n",
              "      <td>0.0</td>\n",
              "      <td>0.0</td>\n",
              "      <td>0.0</td>\n",
              "      <td>0.0</td>\n",
              "      <td>0.0</td>\n",
              "      <td>0.0</td>\n",
              "      <td>0.0</td>\n",
              "      <td>0.0</td>\n",
              "      <td>0.0</td>\n",
              "      <td>0.0</td>\n",
              "      <td>0.0</td>\n",
              "      <td>0.0</td>\n",
              "      <td>0.0</td>\n",
              "      <td>0.0</td>\n",
              "      <td>...</td>\n",
              "      <td>0.0</td>\n",
              "      <td>0.0</td>\n",
              "      <td>0.0</td>\n",
              "      <td>0.0</td>\n",
              "      <td>0.0</td>\n",
              "      <td>0.0</td>\n",
              "      <td>0.0</td>\n",
              "      <td>0.0</td>\n",
              "      <td>0.0</td>\n",
              "      <td>0.0</td>\n",
              "      <td>0.0</td>\n",
              "      <td>0.0</td>\n",
              "      <td>0.0</td>\n",
              "      <td>0.0</td>\n",
              "      <td>0.0</td>\n",
              "      <td>0.0</td>\n",
              "      <td>0.0</td>\n",
              "      <td>0.0</td>\n",
              "      <td>0.0</td>\n",
              "      <td>0.0</td>\n",
              "      <td>0.0</td>\n",
              "      <td>0.0</td>\n",
              "      <td>0.0</td>\n",
              "      <td>0.0</td>\n",
              "      <td>0.0</td>\n",
              "      <td>0.0</td>\n",
              "      <td>0.0</td>\n",
              "      <td>0.0</td>\n",
              "      <td>0.0</td>\n",
              "      <td>0.0</td>\n",
              "      <td>0.0</td>\n",
              "      <td>0.0</td>\n",
              "      <td>0.0</td>\n",
              "      <td>0.0</td>\n",
              "      <td>0.0</td>\n",
              "      <td>0.0</td>\n",
              "      <td>0.0</td>\n",
              "      <td>12</td>\n",
              "      <td>5</td>\n",
              "      <td>1</td>\n",
              "    </tr>\n",
              "    <tr>\n",
              "      <th>546859</th>\n",
              "      <td>655</td>\n",
              "      <td>4</td>\n",
              "      <td>0.0</td>\n",
              "      <td>0.0</td>\n",
              "      <td>0.0</td>\n",
              "      <td>0.0</td>\n",
              "      <td>0.0</td>\n",
              "      <td>0.0</td>\n",
              "      <td>0.0</td>\n",
              "      <td>0.0</td>\n",
              "      <td>0.0</td>\n",
              "      <td>0.0</td>\n",
              "      <td>0.0</td>\n",
              "      <td>0.0</td>\n",
              "      <td>0.0</td>\n",
              "      <td>0.0</td>\n",
              "      <td>0.0</td>\n",
              "      <td>0.0</td>\n",
              "      <td>0.0</td>\n",
              "      <td>0.0</td>\n",
              "      <td>0.0</td>\n",
              "      <td>0.0</td>\n",
              "      <td>0.0</td>\n",
              "      <td>0.0</td>\n",
              "      <td>0.0</td>\n",
              "      <td>0.0</td>\n",
              "      <td>0.0</td>\n",
              "      <td>0.0</td>\n",
              "      <td>0.0</td>\n",
              "      <td>0.0</td>\n",
              "      <td>0.0</td>\n",
              "      <td>0.0</td>\n",
              "      <td>0.0</td>\n",
              "      <td>0.0</td>\n",
              "      <td>0.0</td>\n",
              "      <td>0.0</td>\n",
              "      <td>0.0</td>\n",
              "      <td>0.0</td>\n",
              "      <td>0.0</td>\n",
              "      <td>0.0</td>\n",
              "      <td>...</td>\n",
              "      <td>0.0</td>\n",
              "      <td>0.0</td>\n",
              "      <td>0.0</td>\n",
              "      <td>0.0</td>\n",
              "      <td>0.0</td>\n",
              "      <td>0.0</td>\n",
              "      <td>0.0</td>\n",
              "      <td>0.0</td>\n",
              "      <td>0.0</td>\n",
              "      <td>0.0</td>\n",
              "      <td>0.0</td>\n",
              "      <td>0.0</td>\n",
              "      <td>0.0</td>\n",
              "      <td>0.0</td>\n",
              "      <td>0.0</td>\n",
              "      <td>0.0</td>\n",
              "      <td>0.0</td>\n",
              "      <td>0.0</td>\n",
              "      <td>0.0</td>\n",
              "      <td>0.0</td>\n",
              "      <td>0.0</td>\n",
              "      <td>0.0</td>\n",
              "      <td>0.0</td>\n",
              "      <td>0.0</td>\n",
              "      <td>0.0</td>\n",
              "      <td>0.0</td>\n",
              "      <td>0.0</td>\n",
              "      <td>0.0</td>\n",
              "      <td>0.0</td>\n",
              "      <td>0.0</td>\n",
              "      <td>0.0</td>\n",
              "      <td>0.0</td>\n",
              "      <td>0.0</td>\n",
              "      <td>0.0</td>\n",
              "      <td>0.0</td>\n",
              "      <td>0.0</td>\n",
              "      <td>0.0</td>\n",
              "      <td>3</td>\n",
              "      <td>6</td>\n",
              "      <td>1</td>\n",
              "    </tr>\n",
              "    <tr>\n",
              "      <th>546860</th>\n",
              "      <td>515</td>\n",
              "      <td>9</td>\n",
              "      <td>0.0</td>\n",
              "      <td>0.0</td>\n",
              "      <td>0.0</td>\n",
              "      <td>0.0</td>\n",
              "      <td>0.0</td>\n",
              "      <td>0.0</td>\n",
              "      <td>0.0</td>\n",
              "      <td>0.0</td>\n",
              "      <td>0.0</td>\n",
              "      <td>0.0</td>\n",
              "      <td>0.0</td>\n",
              "      <td>0.0</td>\n",
              "      <td>0.0</td>\n",
              "      <td>0.0</td>\n",
              "      <td>0.0</td>\n",
              "      <td>0.0</td>\n",
              "      <td>0.0</td>\n",
              "      <td>0.0</td>\n",
              "      <td>1.0</td>\n",
              "      <td>0.0</td>\n",
              "      <td>0.0</td>\n",
              "      <td>0.0</td>\n",
              "      <td>0.0</td>\n",
              "      <td>0.0</td>\n",
              "      <td>0.0</td>\n",
              "      <td>0.0</td>\n",
              "      <td>0.0</td>\n",
              "      <td>0.0</td>\n",
              "      <td>0.0</td>\n",
              "      <td>0.0</td>\n",
              "      <td>0.0</td>\n",
              "      <td>0.0</td>\n",
              "      <td>0.0</td>\n",
              "      <td>0.0</td>\n",
              "      <td>0.0</td>\n",
              "      <td>0.0</td>\n",
              "      <td>0.0</td>\n",
              "      <td>0.0</td>\n",
              "      <td>...</td>\n",
              "      <td>0.0</td>\n",
              "      <td>0.0</td>\n",
              "      <td>0.0</td>\n",
              "      <td>0.0</td>\n",
              "      <td>0.0</td>\n",
              "      <td>0.0</td>\n",
              "      <td>0.0</td>\n",
              "      <td>0.0</td>\n",
              "      <td>0.0</td>\n",
              "      <td>0.0</td>\n",
              "      <td>0.0</td>\n",
              "      <td>0.0</td>\n",
              "      <td>0.0</td>\n",
              "      <td>0.0</td>\n",
              "      <td>0.0</td>\n",
              "      <td>0.0</td>\n",
              "      <td>0.0</td>\n",
              "      <td>0.0</td>\n",
              "      <td>0.0</td>\n",
              "      <td>0.0</td>\n",
              "      <td>0.0</td>\n",
              "      <td>0.0</td>\n",
              "      <td>0.0</td>\n",
              "      <td>0.0</td>\n",
              "      <td>0.0</td>\n",
              "      <td>0.0</td>\n",
              "      <td>0.0</td>\n",
              "      <td>0.0</td>\n",
              "      <td>0.0</td>\n",
              "      <td>0.0</td>\n",
              "      <td>0.0</td>\n",
              "      <td>0.0</td>\n",
              "      <td>0.0</td>\n",
              "      <td>0.0</td>\n",
              "      <td>0.0</td>\n",
              "      <td>0.0</td>\n",
              "      <td>0.0</td>\n",
              "      <td>17</td>\n",
              "      <td>6</td>\n",
              "      <td>1</td>\n",
              "    </tr>\n",
              "    <tr>\n",
              "      <th>546861</th>\n",
              "      <td>436</td>\n",
              "      <td>0</td>\n",
              "      <td>0.0</td>\n",
              "      <td>0.0</td>\n",
              "      <td>0.0</td>\n",
              "      <td>0.0</td>\n",
              "      <td>0.0</td>\n",
              "      <td>0.0</td>\n",
              "      <td>0.0</td>\n",
              "      <td>0.0</td>\n",
              "      <td>0.0</td>\n",
              "      <td>0.0</td>\n",
              "      <td>0.0</td>\n",
              "      <td>0.0</td>\n",
              "      <td>0.0</td>\n",
              "      <td>0.0</td>\n",
              "      <td>0.0</td>\n",
              "      <td>0.0</td>\n",
              "      <td>0.0</td>\n",
              "      <td>0.0</td>\n",
              "      <td>0.0</td>\n",
              "      <td>0.0</td>\n",
              "      <td>0.0</td>\n",
              "      <td>0.0</td>\n",
              "      <td>0.0</td>\n",
              "      <td>0.0</td>\n",
              "      <td>0.0</td>\n",
              "      <td>0.0</td>\n",
              "      <td>0.0</td>\n",
              "      <td>0.0</td>\n",
              "      <td>0.0</td>\n",
              "      <td>0.0</td>\n",
              "      <td>0.0</td>\n",
              "      <td>0.0</td>\n",
              "      <td>0.0</td>\n",
              "      <td>0.0</td>\n",
              "      <td>0.0</td>\n",
              "      <td>0.0</td>\n",
              "      <td>0.0</td>\n",
              "      <td>0.0</td>\n",
              "      <td>...</td>\n",
              "      <td>0.0</td>\n",
              "      <td>0.0</td>\n",
              "      <td>0.0</td>\n",
              "      <td>0.0</td>\n",
              "      <td>0.0</td>\n",
              "      <td>0.0</td>\n",
              "      <td>0.0</td>\n",
              "      <td>0.0</td>\n",
              "      <td>0.0</td>\n",
              "      <td>0.0</td>\n",
              "      <td>0.0</td>\n",
              "      <td>0.0</td>\n",
              "      <td>0.0</td>\n",
              "      <td>0.0</td>\n",
              "      <td>0.0</td>\n",
              "      <td>0.0</td>\n",
              "      <td>0.0</td>\n",
              "      <td>0.0</td>\n",
              "      <td>0.0</td>\n",
              "      <td>0.0</td>\n",
              "      <td>0.0</td>\n",
              "      <td>0.0</td>\n",
              "      <td>0.0</td>\n",
              "      <td>0.0</td>\n",
              "      <td>0.0</td>\n",
              "      <td>0.0</td>\n",
              "      <td>0.0</td>\n",
              "      <td>0.0</td>\n",
              "      <td>0.0</td>\n",
              "      <td>0.0</td>\n",
              "      <td>0.0</td>\n",
              "      <td>0.0</td>\n",
              "      <td>0.0</td>\n",
              "      <td>0.0</td>\n",
              "      <td>0.0</td>\n",
              "      <td>0.0</td>\n",
              "      <td>0.0</td>\n",
              "      <td>3</td>\n",
              "      <td>7</td>\n",
              "      <td>0</td>\n",
              "    </tr>\n",
              "  </tbody>\n",
              "</table>\n",
              "<p>5 rows × 413 columns</p>\n",
              "</div>"
            ],
            "text/plain": [
              "        BlkSched  DiffBlock    0    1    2  ...  406  407  Time  Weekday  Summer\n",
              "546857       650          9  0.0  0.0  0.0  ...  0.0  0.0     3        2       1\n",
              "546858       730         12  0.0  0.0  0.0  ...  0.0  0.0    12        5       1\n",
              "546859       655          4  0.0  0.0  0.0  ...  0.0  0.0     3        6       1\n",
              "546860       515          9  0.0  0.0  0.0  ...  0.0  0.0    17        6       1\n",
              "546861       436          0  0.0  0.0  0.0  ...  0.0  0.0     3        7       0\n",
              "\n",
              "[5 rows x 413 columns]"
            ]
          },
          "metadata": {
            "tags": []
          },
          "execution_count": 47
        }
      ]
    },
    {
      "cell_type": "code",
      "metadata": {
        "id": "UlhT_xg7ye4p",
        "colab_type": "code",
        "colab": {}
      },
      "source": [
        "\n",
        "transformer = RobustScaler().fit(train_X) \n",
        "RobustScaler(copy=True, quantile_range=(25.0, 75.0), with_centering=True,\n",
        "       with_scaling=True)\n",
        "train_X= transformer.transform(train_X)\n",
        "test_X = transformer.transform(test_X)\n",
        "allData= transformer.transform(allData)\n",
        "\n",
        "#make it a pandas dataframe again\n",
        "train_X = pd.DataFrame(train_X)\n",
        "test_X=pd.DataFrame(test_X)"
      ],
      "execution_count": 0,
      "outputs": []
    },
    {
      "cell_type": "code",
      "metadata": {
        "id": "0yeWx2ysye5q",
        "colab_type": "code",
        "colab": {}
      },
      "source": [
        "# Display training progress by printing a single dot for each completed epoch\n",
        "class PrintDot(keras.callbacks.Callback):\n",
        "      def on_epoch_end(self, epoch, logs):\n",
        "        if epoch % 100 == 0: print('')\n",
        "        print('.', end='')\n",
        "\n",
        "EPOCHS = 1000\n",
        "\n",
        "# The patience parameter is the amount of epochs to check for improvement Early stopp muss unten als variable in callbacks eingefùegt werden\n",
        "early_stop = keras.callbacks.EarlyStopping(monitor='val_loss', patience=5)"
      ],
      "execution_count": 0,
      "outputs": []
    },
    {
      "cell_type": "code",
      "metadata": {
        "id": "pMsyRCvDye5s",
        "colab_type": "code",
        "colab": {}
      },
      "source": [
        "#dont know if that works, so I wont use it\n",
        "def saveIt(model,  path2=\"my_model.h5\"):\n",
        "    path1 = \"training_1/cp/.ckpt\",\n",
        "    #where the weights are stored\n",
        "    checkpoint_path = path1\n",
        "    checkpoint_dir = os.path.dirname(checkpoint_path)\n",
        "\n",
        "    # Create a callback that saves the model's weights\n",
        "    cp_callback = tf.keras.callbacks.ModelCheckpoint(filepath=checkpoint_path,\n",
        "                                                 save_weights_only=True,\n",
        "                                                 verbose=1)\n",
        "    \n",
        "    # Save the entire model to a HDF5 file.\n",
        "    # The '.h5' extension indicates that the model shuold be saved to HDF5.\n",
        "    model.save(path2) "
      ],
      "execution_count": 0,
      "outputs": []
    },
    {
      "cell_type": "code",
      "metadata": {
        "id": "0MmomYMxye5u",
        "colab_type": "code",
        "colab": {}
      },
      "source": [
        "def trainMyModel(model,X,Y):\n",
        "\n",
        "    history = model.fit(X.values, Y.values, epochs=EPOCHS,\n",
        "                    validation_split = 0.2, verbose=0, callbacks=[early_stop,PrintDot()],batch_size=25)\n",
        "    \n",
        "    hist = pd.DataFrame(history.history)\n",
        "    hist['epoch'] = history.epoch\n",
        "\n",
        "    print(\"Training loss and mean square error\")\n",
        "    print(hist.tail())\n",
        "   # plot_history(history)"
      ],
      "execution_count": 0,
      "outputs": []
    },
    {
      "cell_type": "code",
      "metadata": {
        "id": "3jLvda0_ye5x",
        "colab_type": "code",
        "colab": {}
      },
      "source": [
        "def plot_history(history):\n",
        "    hist = pd.DataFrame(history.history)\n",
        "    hist['epoch'] = history.epoch\n",
        "\n",
        "    plt.figure()\n",
        "    plt.xlabel('Epoch')\n",
        "    plt.ylabel('Mean Abs Error [MPG]')\n",
        "    plt.plot(hist['epoch'], hist['mean_absolute_error'],\n",
        "          label='Train Error')\n",
        "    plt.plot(hist['epoch'], hist['val_mean_absolute_error'],\n",
        "           label = 'Val Error')\n",
        "    plt.ylim([0,20])\n",
        "    plt.legend()\n",
        "\n",
        "    plt.figure()\n",
        "    plt.xlabel('Epoch')\n",
        "    plt.ylabel('Mean Square Error [$MPG^2$]')\n",
        "    plt.plot(hist['epoch'], hist['mean_square_error'],\n",
        "           label='Train Error')\n",
        "    plt.plot(hist['epoch'], hist['val_mean_square_error'],\n",
        "           label = 'Val Error')\n",
        "    plt.ylim([0,250])\n",
        "    plt.legend()\n",
        "    plt.show()"
      ],
      "execution_count": 0,
      "outputs": []
    },
    {
      "cell_type": "code",
      "metadata": {
        "id": "m4lpQtHxye50",
        "colab_type": "code",
        "outputId": "8926eb31-8fa3-4079-efcc-c4bd29f6facc",
        "colab": {
          "base_uri": "https://localhost:8080/",
          "height": 173
        }
      },
      "source": [
        "#create the models\n",
        "#modSimple = build_model_simple()\n",
        "#modDeep = build_model_deeper()\n",
        "#modWider = build_model_wider()\n",
        "\n",
        "#modSimple_loss = build_model_simple_loss()\n",
        "#modDeep_loss = build_model_deeper_loss()\n",
        "modWider_loss = build_model_wider_loss()\n",
        "\n",
        "#train them\n",
        "\n",
        "#print(\"This is linear Regression\")\n",
        "#modelRE.fit(train_X, train_labels)\n"
      ],
      "execution_count": 0,
      "outputs": [
        {
          "output_type": "stream",
          "text": [
            "WARNING:tensorflow:From /usr/local/lib/python3.6/dist-packages/tensorflow_core/python/keras/initializers.py:143: calling RandomNormal.__init__ (from tensorflow.python.ops.init_ops) with dtype is deprecated and will be removed in a future version.\n",
            "Instructions for updating:\n",
            "Call initializer instance with the dtype argument instead of passing it to the constructor\n",
            "WARNING:tensorflow:From /usr/local/lib/python3.6/dist-packages/tensorflow_core/python/ops/resource_variable_ops.py:1630: calling BaseResourceVariable.__init__ (from tensorflow.python.ops.resource_variable_ops) with constraint is deprecated and will be removed in a future version.\n",
            "Instructions for updating:\n",
            "If using Keras pass *_constraint arguments to layers.\n",
            "This is linear Regression\n"
          ],
          "name": "stdout"
        },
        {
          "output_type": "execute_result",
          "data": {
            "text/plain": [
              "LinearRegression(copy_X=True, fit_intercept=True, n_jobs=None, normalize=False)"
            ]
          },
          "metadata": {
            "tags": []
          },
          "execution_count": 53
        }
      ]
    },
    {
      "cell_type": "code",
      "metadata": {
        "id": "keQKSUVyye5_",
        "colab_type": "code",
        "outputId": "d54b0ad9-401e-4f9f-8ac1-b40db1a54c5c",
        "colab": {
          "base_uri": "https://localhost:8080/",
          "height": 204
        }
      },
      "source": [
        "print(\"This is a simple Network\")\n",
        "trainMyModel(modSimple,train_X, train_labels)\n",
        "#saveIt(modSimple, \"modSimple.ckpt\")\n",
        "modSimple.save(\"modSimple.h5\")"
      ],
      "execution_count": 0,
      "outputs": [
        {
          "output_type": "stream",
          "text": [
            "This is a simple Network\n",
            "\n",
            "..............Training loss and mean square error\n",
            "         loss  mean_absolute_error  ...  val_mean_squared_error  epoch\n",
            "9   61.287426             5.614357  ...               62.306232      9\n",
            "10  61.237558             5.606499  ...               61.539036     10\n",
            "11  61.202607             5.603168  ...               61.284538     11\n",
            "12  61.144095             5.593566  ...               62.061020     12\n",
            "13  61.056092             5.590199  ...               61.224239     13\n",
            "\n",
            "[5 rows x 7 columns]\n"
          ],
          "name": "stdout"
        }
      ]
    },
    {
      "cell_type": "code",
      "metadata": {
        "id": "DjkXLSVMye6B",
        "colab_type": "code",
        "outputId": "14afd091-083e-41b1-deb4-dbfedf35e955",
        "colab": {
          "base_uri": "https://localhost:8080/",
          "height": 204
        }
      },
      "source": [
        "print(\"This is a deeper Network\")\n",
        "trainMyModel(modDeep,train_X, train_labels)\n",
        "#saveIt(modDeep, \"modDeep.ckpt\")\n",
        "modDeep.save(\"modDeep.h5\")"
      ],
      "execution_count": 0,
      "outputs": [
        {
          "output_type": "stream",
          "text": [
            "This is a deeper Network\n",
            "\n",
            "...............Training loss and mean square error\n",
            "         loss  mean_absolute_error  ...  val_mean_squared_error  epoch\n",
            "10  63.304561             5.713290  ...               62.466400     10\n",
            "11  63.259275             5.704288  ...               62.498116     11\n",
            "12  63.239640             5.705620  ...               62.221321     12\n",
            "13  63.225527             5.701584  ...               71.928604     13\n",
            "14  63.094985             5.696907  ...               63.801094     14\n",
            "\n",
            "[5 rows x 7 columns]\n"
          ],
          "name": "stdout"
        }
      ]
    },
    {
      "cell_type": "code",
      "metadata": {
        "id": "9WXw3Bbtye6D",
        "colab_type": "code",
        "outputId": "8fb8a11d-4c5b-4035-9b4d-2b759a93de84",
        "colab": {
          "base_uri": "https://localhost:8080/",
          "height": 204
        }
      },
      "source": [
        "print(\"This is a wider Network\")\n",
        "trainMyModel(modWider,train_X, train_labels)\n",
        "#saveIt(modWider, \"modWider.ckpt\")\n",
        "modWider.save(\"modWider.h5\")"
      ],
      "execution_count": 0,
      "outputs": [
        {
          "output_type": "stream",
          "text": [
            "This is a wider Network\n",
            "\n",
            ".......Training loss and mean square error\n",
            "        loss  mean_absolute_error  ...  val_mean_squared_error  epoch\n",
            "2  64.090874             5.785013  ...               66.011307      2\n",
            "3  63.740111             5.752015  ...               64.319817      3\n",
            "4  63.464569             5.736642  ...               62.932297      4\n",
            "5  63.393882             5.727343  ...               63.945538      5\n",
            "6  63.157563             5.715806  ...               63.274166      6\n",
            "\n",
            "[5 rows x 7 columns]\n"
          ],
          "name": "stdout"
        }
      ]
    },
    {
      "cell_type": "code",
      "metadata": {
        "id": "FikdVCTzye6F",
        "colab_type": "code",
        "outputId": "08503e98-0553-4954-dc4e-1c7938539ef5",
        "colab": {
          "base_uri": "https://localhost:8080/",
          "height": 204
        }
      },
      "source": [
        "print(\"This is a simple Network with costumized loss\")\n",
        "trainMyModel(modSimple_loss,train_X, train_labels)\n",
        "#saveIt(modSimple_loss, \"modSimple_loss.ckpt\")\n",
        "modSimple_loss.save(\"modSimple_loss.h5\") "
      ],
      "execution_count": 0,
      "outputs": [
        {
          "output_type": "stream",
          "text": [
            "This is a simple Network with costumized loss\n",
            "\n",
            ".........Training loss and mean square error\n",
            "       loss  mean_absolute_error  ...  val_mean_squared_error  epoch\n",
            "4  8.310136             6.988377  ...               75.494446      4\n",
            "5  8.276308             6.978644  ...               79.302803      5\n",
            "6  8.295378             6.986305  ...               73.887619      6\n",
            "7  8.271129             6.980424  ...               73.918785      7\n",
            "8  8.289771             6.983199  ...               73.368469      8\n",
            "\n",
            "[5 rows x 7 columns]\n"
          ],
          "name": "stdout"
        }
      ]
    },
    {
      "cell_type": "code",
      "metadata": {
        "id": "Emjstiqoye6H",
        "colab_type": "code",
        "outputId": "ac7ad324-afdc-4693-d91e-4afddd0e59c6",
        "colab": {
          "base_uri": "https://localhost:8080/",
          "height": 204
        }
      },
      "source": [
        "print(\"This is a deeper Network with costumized loss\")\n",
        "trainMyModel(modDeep_loss,train_X, train_labels)\n",
        "#saveIt(modDeep_loss, \"modDeep_loss.ckpt\")\n",
        "modDeep_loss.save(\"modDeep_loss.h5\") "
      ],
      "execution_count": 0,
      "outputs": [
        {
          "output_type": "stream",
          "text": [
            "This is a deeper Network with costumized loss\n",
            "\n",
            "................Training loss and mean square error\n",
            "        loss  mean_absolute_error  ...  val_mean_squared_error  epoch\n",
            "11  7.837620             6.957886  ...               70.135727     11\n",
            "12  7.808311             6.993587  ...               69.687866     12\n",
            "13  7.773314             7.004492  ...               71.940979     13\n",
            "14  7.768539             7.026073  ...               72.964371     14\n",
            "15  7.759233             7.016642  ...               68.598450     15\n",
            "\n",
            "[5 rows x 7 columns]\n"
          ],
          "name": "stdout"
        }
      ]
    },
    {
      "cell_type": "code",
      "metadata": {
        "id": "wlvlDUS8ye6P",
        "colab_type": "code",
        "outputId": "de9ce3e6-7f3a-41ff-adde-76c32df1f07a",
        "colab": {
          "base_uri": "https://localhost:8080/",
          "height": 204
        }
      },
      "source": [
        "print(\"This is a wider Network with costumized loss\")\n",
        "trainMyModel(modWider_loss,train_X, train_labels)\n"
      ],
      "execution_count": 0,
      "outputs": [
        {
          "output_type": "stream",
          "text": [
            "This is a wider Network with costumized loss\n",
            "\n",
            "............Training loss and mean square error\n",
            "        loss  mean_absolute_error  ...  val_mean_squared_error  epoch\n",
            "7   7.733710             6.932865  ...               74.236336      7\n",
            "8   7.708159             6.955977  ...               70.088402      8\n",
            "9   7.698340             6.928628  ...               79.088783      9\n",
            "10  7.701269             6.956174  ...               77.926910     10\n",
            "11  7.680084             6.954364  ...               77.894867     11\n",
            "\n",
            "[5 rows x 7 columns]\n"
          ],
          "name": "stdout"
        }
      ]
    },
    {
      "cell_type": "code",
      "metadata": {
        "id": "uvT4bIqMghme",
        "colab_type": "code",
        "colab": {}
      },
      "source": [
        "modWider_loss.save( \"modWider_loss.h5\" )"
      ],
      "execution_count": 0,
      "outputs": []
    },
    {
      "cell_type": "code",
      "metadata": {
        "id": "fRn6kGDHwosu",
        "colab_type": "code",
        "colab": {}
      },
      "source": [
        ""
      ],
      "execution_count": 0,
      "outputs": []
    },
    {
      "cell_type": "markdown",
      "metadata": {
        "id": "rvSVSm_yye6Q",
        "colab_type": "text"
      },
      "source": [
        "#  Evaluate models on test data"
      ]
    },
    {
      "cell_type": "code",
      "metadata": {
        "id": "No8XR76Aye6R",
        "colab_type": "code",
        "outputId": "db98910f-c459-476c-a036-6b7a34168819",
        "colab": {
          "base_uri": "https://localhost:8080/",
          "height": 588
        }
      },
      "source": [
        "\n",
        "print(\"This is linear Regression\")\n",
        "testModel(modelRE.predict(test_X), test_labels ,modelRE)\n"
      ],
      "execution_count": 0,
      "outputs": [
        {
          "output_type": "stream",
          "text": [
            "This is linear Regression\n"
          ],
          "name": "stdout"
        },
        {
          "output_type": "display_data",
          "data": {
            "image/png": "[encoded data removed]",
            "text/plain": [
              "<Figure size 432x288 with 1 Axes>"
            ]
          },
          "metadata": {
            "tags": []
          }
        },
        {
          "output_type": "stream",
          "text": [
            "These are the actual block times and their predictions\n"
          ],
          "name": "stdout"
        },
        {
          "output_type": "display_data",
          "data": {
            "image/png": "[encoded data removed]",
            "text/plain": [
              "<Figure size 432x288 with 1 Axes>"
            ]
          },
          "metadata": {
            "tags": []
          }
        },
        {
          "output_type": "stream",
          "text": [
            "this is the median of error, negative indicates too early arrival, positive late arrival\n",
            "-1.350555419921875\n",
            "this is the average error, negative indicates too early arrival, positive late arrival\n",
            "1472356.9206731198\n",
            "this is the percentage of blocktimes whos predictions differmore than +/- 10 minutes from actual block times:\n",
            "0.19363901456070837\n",
            "this is the percentage of blocktimes whos predictions exceed by  more than + 10 minutes:\n",
            "0.11732850236865815\n"
          ],
          "name": "stdout"
        }
      ]
    },
    {
      "cell_type": "code",
      "metadata": {
        "id": "CxmWSoWYye6V",
        "colab_type": "code",
        "outputId": "fc425ca5-94aa-4266-fa19-fc5a662d9285",
        "colab": {
          "base_uri": "https://localhost:8080/",
          "height": 711
        }
      },
      "source": [
        "print(\"This is a simple Network\")\n",
        "testModel(modSimple.predict(test_X).flatten(),test_labels,modSimple)\n"
      ],
      "execution_count": 0,
      "outputs": [
        {
          "output_type": "stream",
          "text": [
            "This is a simple Network\n"
          ],
          "name": "stdout"
        },
        {
          "output_type": "display_data",
          "data": {
            "image/png": "[encoded data removed]",
            "text/plain": [
              "<Figure size 432x288 with 1 Axes>"
            ]
          },
          "metadata": {
            "tags": []
          }
        },
        {
          "output_type": "stream",
          "text": [
            "These are the actual block times and their predictions\n"
          ],
          "name": "stdout"
        },
        {
          "output_type": "display_data",
          "data": {
            "image/png": "[encoded data removed]",
            "text/plain": [
              "<Figure size 432x288 with 1 Axes>"
            ]
          },
          "metadata": {
            "tags": []
          }
        },
        {
          "output_type": "stream",
          "text": [
            "this is the median of error, negative indicates too early arrival, positive late arrival\n",
            "-1.5540580749511719\n",
            "this is the average error, negative indicates too early arrival, positive late arrival\n",
            "5.678358989760034\n",
            "this is the percentage of blocktimes whos predictions differmore than +/- 10 minutes from actual block times:\n",
            "0.16765643315927653\n",
            "this is the percentage of blocktimes whos predictions exceed by  more than + 10 minutes:\n",
            "0.09669356635633532\n"
          ],
          "name": "stdout"
        }
      ]
    },
    {
      "cell_type": "code",
      "metadata": {
        "id": "1qfAEyxaye6X",
        "colab_type": "code",
        "outputId": "44dde19c-90a0-4ae1-de4b-b10784ec36b6",
        "colab": {
          "base_uri": "https://localhost:8080/",
          "height": 711
        }
      },
      "source": [
        "print(\"This is a deeper Network\")\n",
        "testModel(modDeep.predict(test_X).flatten(),test_labels,modDeep)\n"
      ],
      "execution_count": 0,
      "outputs": [
        {
          "output_type": "stream",
          "text": [
            "This is a deeper Network\n"
          ],
          "name": "stdout"
        },
        {
          "output_type": "display_data",
          "data": {
            "image/png": "[encoded data removed]",
            "text/plain": [
              "<Figure size 432x288 with 1 Axes>"
            ]
          },
          "metadata": {
            "tags": []
          }
        },
        {
          "output_type": "stream",
          "text": [
            "These are the actual block times and their predictions\n"
          ],
          "name": "stdout"
        },
        {
          "output_type": "display_data",
          "data": {
            "image/png": "[encoded data removed]",
            "text/plain": [
              "<Figure size 432x288 with 1 Axes>"
            ]
          },
          "metadata": {
            "tags": []
          }
        },
        {
          "output_type": "stream",
          "text": [
            "this is the median of error, negative indicates too early arrival, positive late arrival\n",
            "-1.968414306640625\n",
            "this is the average error, negative indicates too early arrival, positive late arrival\n",
            "5.902537467424896\n",
            "this is the percentage of blocktimes whos predictions differmore than +/- 10 minutes from actual block times:\n",
            "0.1782548463036339\n",
            "this is the percentage of blocktimes whos predictions exceed by  more than + 10 minutes:\n",
            "0.09142342307431484\n"
          ],
          "name": "stdout"
        }
      ]
    },
    {
      "cell_type": "code",
      "metadata": {
        "id": "2-TnOF45ye6Y",
        "colab_type": "code",
        "outputId": "7d491f6d-a917-48dc-83f5-b091cc4bfd24",
        "colab": {
          "base_uri": "https://localhost:8080/",
          "height": 711
        }
      },
      "source": [
        "print(\"This is a wider Network\")\n",
        "testModel(modWider.predict(test_X).flatten(),test_labels,modWider)\n"
      ],
      "execution_count": 0,
      "outputs": [
        {
          "output_type": "stream",
          "text": [
            "This is a wider Network\n"
          ],
          "name": "stdout"
        },
        {
          "output_type": "display_data",
          "data": {
            "image/png": "[encoded data removed]",
            "text/plain": [
              "<Figure size 432x288 with 1 Axes>"
            ]
          },
          "metadata": {
            "tags": []
          }
        },
        {
          "output_type": "stream",
          "text": [
            "These are the actual block times and their predictions\n"
          ],
          "name": "stdout"
        },
        {
          "output_type": "display_data",
          "data": {
            "image/png": "[encoded data removed]",
            "text/plain": [
              "<Figure size 432x288 with 1 Axes>"
            ]
          },
          "metadata": {
            "tags": []
          }
        },
        {
          "output_type": "stream",
          "text": [
            "this is the median of error, negative indicates too early arrival, positive late arrival\n",
            "-1.1484375\n",
            "this is the average error, negative indicates too early arrival, positive late arrival\n",
            "5.637193261191789\n",
            "this is the percentage of blocktimes whos predictions differmore than +/- 10 minutes from actual block times:\n",
            "0.16254129409143311\n",
            "this is the percentage of blocktimes whos predictions exceed by  more than + 10 minutes:\n",
            "0.1103145616771456\n"
          ],
          "name": "stdout"
        }
      ]
    },
    {
      "cell_type": "code",
      "metadata": {
        "id": "HYfy3e4sye6a",
        "colab_type": "code",
        "outputId": "7c8ad231-7a58-446f-92db-19b0c19decaf",
        "colab": {
          "base_uri": "https://localhost:8080/",
          "height": 711
        }
      },
      "source": [
        "print(\"This is a simple Network with costumized loss\")\n",
        "testModel(modSimple_loss.predict(test_X).flatten(),test_labels,modSimple_loss)\n"
      ],
      "execution_count": 0,
      "outputs": [
        {
          "output_type": "stream",
          "text": [
            "This is a simple Network with costumized loss\n"
          ],
          "name": "stdout"
        },
        {
          "output_type": "display_data",
          "data": {
            "image/png": "[encoded data removed]",
            "text/plain": [
              "<Figure size 432x288 with 1 Axes>"
            ]
          },
          "metadata": {
            "tags": []
          }
        },
        {
          "output_type": "stream",
          "text": [
            "These are the actual block times and their predictions\n"
          ],
          "name": "stdout"
        },
        {
          "output_type": "display_data",
          "data": {
            "image/png": "[encoded data removed]",
            "text/plain": [
              "<Figure size 432x288 with 1 Axes>"
            ]
          },
          "metadata": {
            "tags": []
          }
        },
        {
          "output_type": "stream",
          "text": [
            "this is the median of error, negative indicates too early arrival, positive late arrival\n",
            "-2.5903167724609375\n",
            "this is the average error, negative indicates too early arrival, positive late arrival\n",
            "6.760747362506418\n",
            "this is the percentage of blocktimes whos predictions differmore than +/- 10 minutes from actual block times:\n",
            "0.2219854102283406\n",
            "this is the percentage of blocktimes whos predictions exceed by  more than + 10 minutes:\n",
            "0.10692384449202212\n"
          ],
          "name": "stdout"
        }
      ]
    },
    {
      "cell_type": "code",
      "metadata": {
        "id": "yTVKs7v3ye6e",
        "colab_type": "code",
        "outputId": "391709cf-bf2d-485a-a1fc-2326ac4dffeb",
        "colab": {
          "base_uri": "https://localhost:8080/",
          "height": 728
        }
      },
      "source": [
        "print(\"This is a deeper Network with costumized loss\")\n",
        "testModel(modDeep_loss.predict(test_X).flatten(),test_labels,modDeep_loss)\n",
        "print(modDeep_loss.predict(test_X).flatten())"
      ],
      "execution_count": 0,
      "outputs": [
        {
          "output_type": "stream",
          "text": [
            "This is a deeper Network with costumized loss\n"
          ],
          "name": "stdout"
        },
        {
          "output_type": "display_data",
          "data": {
            "image/png": "[encoded data removed]",
            "text/plain": [
              "<Figure size 432x288 with 1 Axes>"
            ]
          },
          "metadata": {
            "tags": []
          }
        },
        {
          "output_type": "stream",
          "text": [
            "These are the actual block times and their predictions\n"
          ],
          "name": "stdout"
        },
        {
          "output_type": "display_data",
          "data": {
            "image/png": "[encoded data removed]",
            "text/plain": [
              "<Figure size 432x288 with 1 Axes>"
            ]
          },
          "metadata": {
            "tags": []
          }
        },
        {
          "output_type": "stream",
          "text": [
            "this is the median of error, negative indicates too early arrival, positive late arrival\n",
            "-2.99700927734375\n",
            "this is the average error, negative indicates too early arrival, positive late arrival\n",
            "6.4508969657925075\n",
            "this is the percentage of blocktimes whos predictions differmore than +/- 10 minutes from actual block times:\n",
            "0.18145180822103602\n",
            "this is the percentage of blocktimes whos predictions exceed by  more than + 10 minutes:\n",
            "0.10983986127122831\n",
            "[163.24124 273.53647  69.14369 ... 432.9916  645.19977 650.4992 ]\n"
          ],
          "name": "stdout"
        }
      ]
    },
    {
      "cell_type": "code",
      "metadata": {
        "id": "9dWOa2Dxye6h",
        "colab_type": "code",
        "outputId": "d21ee29a-1cfa-4f0f-de0d-8a9c073f6481",
        "colab": {
          "base_uri": "https://localhost:8080/",
          "height": 711
        }
      },
      "source": [
        "print(\"This is a wider Network with costumized loss\")\n",
        "testModel(modWider_loss.predict(test_X).flatten(),test_labels,modWider_loss)"
      ],
      "execution_count": 0,
      "outputs": [
        {
          "output_type": "stream",
          "text": [
            "This is a wider Network with costumized loss\n"
          ],
          "name": "stdout"
        },
        {
          "output_type": "display_data",
          "data": {
            "image/png": "[encoded data removed]",
            "text/plain": [
              "<Figure size 432x288 with 1 Axes>"
            ]
          },
          "metadata": {
            "tags": []
          }
        },
        {
          "output_type": "stream",
          "text": [
            "These are the actual block times and their predictions\n"
          ],
          "name": "stdout"
        },
        {
          "output_type": "display_data",
          "data": {
            "image/png": "[encoded data removed]",
            "text/plain": [
              "<Figure size 432x288 with 1 Axes>"
            ]
          },
          "metadata": {
            "tags": []
          }
        },
        {
          "output_type": "stream",
          "text": [
            "this is the median of error, negative indicates too early arrival, positive late arrival\n",
            "-4.6137542724609375\n",
            "this is the average error, negative indicates too early arrival, positive late arrival\n",
            "7.2385424033403405\n",
            "this is the percentage of blocktimes whos predictions differmore than +/- 10 minutes from actual block times:\n",
            "0.24323067533398565\n",
            "this is the percentage of blocktimes whos predictions exceed by  more than + 10 minutes:\n",
            "0.07320074014512269\n"
          ],
          "name": "stdout"
        }
      ]
    },
    {
      "cell_type": "markdown",
      "metadata": {
        "id": "ARLp59UqO8yF",
        "colab_type": "text"
      },
      "source": [
        "#try for best model\n"
      ]
    },
    {
      "cell_type": "code",
      "metadata": {
        "id": "pUsy02nxbLNL",
        "colab_type": "code",
        "colab": {}
      },
      "source": [
        " def loss(y_true,y_pred):\n",
        "            d= y_true -y_pred\n",
        "            late = K.cast( K.greater(d,10),\"float\") *K.cast(K.square(d-10),\"float32\")\n",
        "            early =  K.cast( K.less(d,-10),\"float\") *K.cast((K.square(d+10)),\"float32\")\n",
        "            onTime= K.cast(0,\"float32\")\n",
        "            return late+early+onTime\n",
        "\n"
      ],
      "execution_count": 0,
      "outputs": []
    },
    {
      "cell_type": "code",
      "metadata": {
        "id": "ix5HV18faXYx",
        "colab_type": "code",
        "outputId": "9382e34b-9abc-4a14-9b3a-36e92d2e0db4",
        "colab": {
          "base_uri": "https://localhost:8080/",
          "height": 88
        }
      },
      "source": [
        "#load my best model\n",
        "modSimple_loss = tf.keras.models.load_model(\"/content/modSimple_loss.h5\", custom_objects={'loss': loss})"
      ],
      "execution_count": 0,
      "outputs": [
        {
          "output_type": "stream",
          "text": [
            "WARNING:tensorflow:From /usr/local/lib/python3.6/dist-packages/tensorflow_core/python/ops/init_ops.py:97: calling Zeros.__init__ (from tensorflow.python.ops.init_ops) with dtype is deprecated and will be removed in a future version.\n",
            "Instructions for updating:\n",
            "Call initializer instance with the dtype argument instead of passing it to the constructor\n"
          ],
          "name": "stdout"
        }
      ]
    },
    {
      "cell_type": "code",
      "metadata": {
        "id": "0zNyfb0PO7uQ",
        "colab_type": "code",
        "outputId": "5ebb7c57-e9e8-44b0-b781-d12df56a4d5a",
        "colab": {
          "base_uri": "https://localhost:8080/",
          "height": 34
        }
      },
      "source": [
        "predictions =modWider_loss.predict(test_X).flatten()\n",
        "\n",
        "compare=pd.DataFrame(test_labels)\n",
        "compare[\"predictions\"]= predictions\n",
        "compare[\"difference\"] = abs(compare['ActualBlock']-compare['predictions'])\n",
        "compare[\"difference\"].sum()/len(compare) \n"
      ],
      "execution_count": 0,
      "outputs": [
        {
          "output_type": "execute_result",
          "data": {
            "text/plain": [
              "7.2385424033403405"
            ]
          },
          "metadata": {
            "tags": []
          },
          "execution_count": 76
        }
      ]
    },
    {
      "cell_type": "markdown",
      "metadata": {
        "id": "bW-b3Kp9hhhv",
        "colab_type": "text"
      },
      "source": [
        ""
      ]
    },
    {
      "cell_type": "code",
      "metadata": {
        "colab_type": "code",
        "outputId": "9c06a142-6575-44d0-dfed-86526fcc67d9",
        "id": "ulQcpuBaQENR",
        "colab": {
          "base_uri": "https://localhost:8080/",
          "height": 34
        }
      },
      "source": [
        "predictions2 =modWider_loss.predict(allData).flatten()\n",
        "\n",
        "compare2=pd.DataFrame(allData_labels)\n",
        "compare2[\"predictions\"]= predictions2\n",
        "compare2[\"difference\"] = abs(compare2['ActualBlock']-compare2['predictions'])\n",
        "compare2[\"difference\"].sum()/len(compare2) "
      ],
      "execution_count": 0,
      "outputs": [
        {
          "output_type": "execute_result",
          "data": {
            "text/plain": [
              "7.249813994942987"
            ]
          },
          "metadata": {
            "tags": []
          },
          "execution_count": 78
        }
      ]
    },
    {
      "cell_type": "code",
      "metadata": {
        "id": "UWnmFLRfs1Ut",
        "colab_type": "code",
        "outputId": "847d3f16-9be9-4f8f-9ee5-86013cd55e11",
        "colab": {
          "base_uri": "https://localhost:8080/",
          "height": 34
        }
      },
      "source": [
        "data_kopiert.shape"
      ],
      "execution_count": 0,
      "outputs": [
        {
          "output_type": "execute_result",
          "data": {
            "text/plain": [
              "(516115, 17)"
            ]
          },
          "metadata": {
            "tags": []
          },
          "execution_count": 72
        }
      ]
    },
    {
      "cell_type": "code",
      "metadata": {
        "id": "XMYy-pM9M1W0",
        "colab_type": "code",
        "outputId": "e61b0a7f-dc0e-4c65-fd66-d8a3c059a9e9",
        "colab": {
          "base_uri": "https://localhost:8080/",
          "height": 187
        }
      },
      "source": [
        "data_kopiert[\"predictions\"]= predictions2\n",
        "data_kopiert[\"difference\"] = abs(data_kopiert['ActualBlock']-data_kopiert[\"predictions\"])\n",
        "print(abs(data_kopiert[\"difference\"]).sum()/len(data_kopiert))\n",
        "print(statistics.median(abs(data_kopiert[\"difference\"])))\n",
        "print(data_kopiert.head())\n"
      ],
      "execution_count": 0,
      "outputs": [
        {
          "output_type": "stream",
          "text": [
            "7.249813994942987\n",
            "6.3932342529296875\n",
            "   Acreg  Version           Std UTC  ... DiffBlock predictions difference\n",
            "0  EIFHA  737-800  01.06.2017 05:20  ...         7  176.298386   8.298386\n",
            "1  EIFHA  737-800  01.06.2017 08:55  ...         8  165.138321   7.861679\n",
            "2  EIFHA  737-800  02.06.2017 06:00  ...         0  254.976242   4.976242\n",
            "3  EIFHA  737-800  02.06.2017 16:15  ...        13  144.796951  12.796951\n",
            "4  EIFHA  737-800  03.06.2017 05:40  ...         6  278.794250   9.794250\n",
            "\n",
            "[5 rows x 19 columns]\n"
          ],
          "name": "stdout"
        }
      ]
    },
    {
      "cell_type": "code",
      "metadata": {
        "id": "aFMg1uuzWuMW",
        "colab_type": "code",
        "colab": {}
      },
      "source": [
        "data_kopiert.nlargest(100, \"difference\").to_csv(\"100worst.csv\")"
      ],
      "execution_count": 0,
      "outputs": []
    },
    {
      "cell_type": "code",
      "metadata": {
        "id": "r3BkJhTUNnMm",
        "colab_type": "code",
        "colab": {}
      },
      "source": [
        "data_kopiert.to_csv(\"BlocktimesPredictions.csv\")"
      ],
      "execution_count": 0,
      "outputs": []
    }
  ]
}