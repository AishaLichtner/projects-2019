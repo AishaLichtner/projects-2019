{
  "nbformat": 4,
  "nbformat_minor": 0,
  "metadata": {
    "kernelspec": {
      "display_name": "Python 3",
      "language": "python",
      "name": "python3"
    },
    "language_info": {
      "codemirror_mode": {
        "name": "ipython",
        "version": 3
      },
      "file_extension": ".py",
      "mimetype": "text/x-python",
      "name": "python",
      "nbconvert_exporter": "python",
      "pygments_lexer": "ipython3",
      "version": "3.7.5"
    },
    "colab": {
      "name": "Blocktimes, second try (3).ipynb",
      "provenance": [],
      "toc_visible": true,
      "include_colab_link": true
    }
  },
  "cells": [
    {
      "cell_type": "markdown",
      "metadata": {
        "id": "view-in-github",
        "colab_type": "text"
      },
      "source": [
        "<a href=\"https://colab.research.google.com/github/AishaLichtner/projects-2019/blob/master/Blocktimes%2C_second_try_(3).ipynb\" target=\"_parent\"><img src=\"https://colab.research.google.com/assets/colab-badge.svg\" alt=\"Open In Colab\"/></a>"
      ]
    },
    {
      "cell_type": "code",
      "metadata": {
        "id": "5QH2OQ58ye33",
        "colab_type": "code",
        "colab": {}
      },
      "source": [
        "!pip install -q seaborn\n",
        "!pip install -q pyyaml h5py "
      ],
      "execution_count": 0,
      "outputs": []
    },
    {
      "cell_type": "code",
      "metadata": {
        "id": "ogmTvqRVye38",
        "colab_type": "code",
        "outputId": "734301cf-bda7-48f8-9e72-9142d6db24e2",
        "colab": {
          "base_uri": "https://localhost:8080/",
          "height": 34
        }
      },
      "source": [
        "from __future__ import absolute_import, division, print_function, unicode_literals\n",
        "import os\n",
        "import tensorflow.compat.v1 as tf\n",
        "from tensorflow import keras\n",
        "\n",
        "from tensorflow.keras.models import Sequential\n",
        "from tensorflow.keras.layers import Dense, Conv2D,Conv1D,Conv3D, MaxPool2D , Flatten\n",
        "from tensorflow.keras.preprocessing.image import ImageDataGenerator\n",
        "\n",
        "\n",
        "from tensorflow.keras.wrappers.scikit_learn import KerasRegressor\n",
        "from sklearn.model_selection import cross_val_score\n",
        "from sklearn.model_selection import KFold\n",
        "from sklearn.preprocessing import StandardScaler,RobustScaler\n",
        "from sklearn.pipeline import Pipeline\n",
        "\n",
        "from sklearn.model_selection import GridSearchCV\n",
        "from sklearn.linear_model import Ridge\n",
        "\n",
        "\n",
        "\n",
        "from tensorflow.keras import optimizers as opt\n",
        "import tensorflow.keras.backend as K\n",
        "import pathlib\n",
        "\n",
        "import matplotlib.pyplot as plt\n",
        "import pandas as pd\n",
        "import seaborn as sns\n",
        "\n",
        "import datetime\n",
        "import statistics\n",
        "\n",
        "\n",
        "#get last sunday of the month\n",
        "import sys\n",
        "import calendar\n",
        "\n",
        "from tensorflow.keras import layers\n",
        "\n",
        "print(tf.__version__)\n",
        "\n",
        "import numpy as np     # matrix structures, linear algebra functions etc\n",
        "from sklearn.linear_model import LinearRegression   # linear regression model\n",
        "from sklearn.metrics import mean_squared_error, mean_absolute_error   # accuracy metrics\n",
        "\n",
        "import io\n"
      ],
      "execution_count": 0,
      "outputs": [
        {
          "output_type": "stream",
          "text": [
            "1.15.0\n"
          ],
          "name": "stdout"
        }
      ]
    },
    {
      "cell_type": "markdown",
      "metadata": {
        "id": "KnIDIPILye3_",
        "colab_type": "text"
      },
      "source": [
        "# Load Data and filter"
      ]
    },
    {
      "cell_type": "code",
      "metadata": {
        "id": "-GX2ZqMe1ID-",
        "colab_type": "code",
        "outputId": "2b0cf4f6-00ca-400f-efa9-1a5d45aa2afd",
        "colab": {
          "resources": {
            "http://localhost:8080/nbextensions/google.colab/files.js": {
              "data": "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",
              "ok": true,
              "headers": [
                [
                  "content-type",
                  "application/javascript"
                ]
              ],
              "status": 200,
              "status_text": ""
            }
          },
          "base_uri": "https://localhost:8080/",
          "height": 40
        }
      },
      "source": [
        "from google.colab import files\n",
        "uploaded = files.upload()"
      ],
      "execution_count": 0,
      "outputs": [
        {
          "output_type": "display_data",
          "data": {
            "text/html": [
              "\n",
              "     <input type=\"file\" id=\"files-1f9f68e4-c610-4a95-9c7d-88f4bc9c8a9a\" name=\"files[]\" multiple disabled />\n",
              "     <output id=\"result-1f9f68e4-c610-4a95-9c7d-88f4bc9c8a9a\">\n",
              "      Upload widget is only available when the cell has been executed in the\n",
              "      current browser session. Please rerun this cell to enable.\n",
              "      </output>\n",
              "      <script src=\"/nbextensions/google.colab/files.js\"></script> "
            ],
            "text/plain": [
              "<IPython.core.display.HTML object>"
            ]
          },
          "metadata": {
            "tags": []
          }
        }
      ]
    },
    {
      "cell_type": "code",
      "metadata": {
        "id": "_S-Ycm0aye4A",
        "colab_type": "code",
        "outputId": "a0cf19b1-18ee-4bc8-c6b7-a53c25eb6e83",
        "colab": {
          "base_uri": "https://localhost:8080/",
          "height": 34
        }
      },
      "source": [
        "\n",
        "from google.colab import drive\n",
        "\n",
        "drive.mount('/content/drive')\n",
        "path = \"/content/drive/My Drive/data/blocks.csv\"\n",
        "#data = pd.read_csv(io.StringIO(uploaded[\"blocks.csv\"].decode('utf-8')))\n",
        "data= pd.read_csv(path,sep = ';', encoding=\"utf-8-sig\")\n",
        "\n",
        "airportStart=\"OSL\"\n",
        "airportDest=\"LGW\"\n",
        "\n"
      ],
      "execution_count": 0,
      "outputs": [
        {
          "output_type": "stream",
          "text": [
            "Drive already mounted at /content/drive; to attempt to forcibly remount, call drive.mount(\"/content/drive\", force_remount=True).\n"
          ],
          "name": "stdout"
        }
      ]
    },
    {
      "cell_type": "code",
      "metadata": {
        "id": "jJkW5lBuye4D",
        "colab_type": "code",
        "outputId": "153c6286-2a47-4804-bb8b-98b8c53e8414",
        "colab": {
          "base_uri": "https://localhost:8080/",
          "height": 306
        }
      },
      "source": [
        "#data=pd.read_csv(path,header=0, delimiter='\\t', engine='python' )\n",
        "\n",
        "\n",
        "#show amount of rows that has invalid entires\n",
        "data.isna().sum()\n",
        "\n",
        "data.tail()"
      ],
      "execution_count": 0,
      "outputs": [
        {
          "output_type": "execute_result",
          "data": {
            "text/html": [
              "<div>\n",
              "<style scoped>\n",
              "    .dataframe tbody tr th:only-of-type {\n",
              "        vertical-align: middle;\n",
              "    }\n",
              "\n",
              "    .dataframe tbody tr th {\n",
              "        vertical-align: top;\n",
              "    }\n",
              "\n",
              "    .dataframe thead th {\n",
              "        text-align: right;\n",
              "    }\n",
              "</style>\n",
              "<table border=\"1\" class=\"dataframe\">\n",
              "  <thead>\n",
              "    <tr style=\"text-align: right;\">\n",
              "      <th></th>\n",
              "      <th>Acreg</th>\n",
              "      <th>Version</th>\n",
              "      <th>Std UTC</th>\n",
              "      <th>Sta Utc</th>\n",
              "      <th>Flightcode</th>\n",
              "      <th>AOC</th>\n",
              "      <th>DP Iatacode</th>\n",
              "      <th>AR Iatacode</th>\n",
              "      <th>Rm Off Block Utc</th>\n",
              "      <th>Rm Takeoff Utc</th>\n",
              "      <th>TaxiOut</th>\n",
              "      <th>Rm Touchdown Utc</th>\n",
              "      <th>Rm On Block Utc</th>\n",
              "      <th>TaxiIn</th>\n",
              "      <th>BlkSched</th>\n",
              "      <th>ActualBlock</th>\n",
              "    </tr>\n",
              "  </thead>\n",
              "  <tbody>\n",
              "    <tr>\n",
              "      <th>561264</th>\n",
              "      <td>YRBMI</td>\n",
              "      <td>737-800</td>\n",
              "      <td>30.08.2019 18:15</td>\n",
              "      <td>30.08.2019 21:55</td>\n",
              "      <td>DY4214</td>\n",
              "      <td>WET</td>\n",
              "      <td>PMI</td>\n",
              "      <td>ARN</td>\n",
              "      <td>30.08.2019 18:15</td>\n",
              "      <td>30.08.2019 18:25</td>\n",
              "      <td>10</td>\n",
              "      <td>30.08.2019 21:46</td>\n",
              "      <td>30.08.2019 21:51</td>\n",
              "      <td>5.0</td>\n",
              "      <td>220</td>\n",
              "      <td>216</td>\n",
              "    </tr>\n",
              "    <tr>\n",
              "      <th>561265</th>\n",
              "      <td>YRBMI</td>\n",
              "      <td>737-800</td>\n",
              "      <td>31.08.2019 06:15</td>\n",
              "      <td>31.08.2019 08:25</td>\n",
              "      <td>DY4487</td>\n",
              "      <td>WET</td>\n",
              "      <td>ARN</td>\n",
              "      <td>BUD</td>\n",
              "      <td>31.08.2019 06:15</td>\n",
              "      <td>31.08.2019 06:24</td>\n",
              "      <td>9</td>\n",
              "      <td>31.08.2019 08:24</td>\n",
              "      <td>31.08.2019 08:29</td>\n",
              "      <td>5.0</td>\n",
              "      <td>130</td>\n",
              "      <td>134</td>\n",
              "    </tr>\n",
              "    <tr>\n",
              "      <th>561266</th>\n",
              "      <td>YRBMI</td>\n",
              "      <td>737-800</td>\n",
              "      <td>31.08.2019 09:05</td>\n",
              "      <td>31.08.2019 11:15</td>\n",
              "      <td>DY4488</td>\n",
              "      <td>WET</td>\n",
              "      <td>BUD</td>\n",
              "      <td>ARN</td>\n",
              "      <td>31.08.2019 09:08</td>\n",
              "      <td>31.08.2019 09:28</td>\n",
              "      <td>20</td>\n",
              "      <td>31.08.2019 11:22</td>\n",
              "      <td>31.08.2019 11:28</td>\n",
              "      <td>6.0</td>\n",
              "      <td>130</td>\n",
              "      <td>140</td>\n",
              "    </tr>\n",
              "    <tr>\n",
              "      <th>561267</th>\n",
              "      <td>YRBMI</td>\n",
              "      <td>737-800</td>\n",
              "      <td>31.08.2019 12:05</td>\n",
              "      <td>31.08.2019 16:30</td>\n",
              "      <td>DY4223</td>\n",
              "      <td>WET</td>\n",
              "      <td>ARN</td>\n",
              "      <td>AGP</td>\n",
              "      <td>31.08.2019 12:21</td>\n",
              "      <td>31.08.2019 12:31</td>\n",
              "      <td>10</td>\n",
              "      <td>31.08.2019 16:21</td>\n",
              "      <td>31.08.2019 16:25</td>\n",
              "      <td>4.0</td>\n",
              "      <td>265</td>\n",
              "      <td>244</td>\n",
              "    </tr>\n",
              "    <tr>\n",
              "      <th>561268</th>\n",
              "      <td>YRBMI</td>\n",
              "      <td>737-800</td>\n",
              "      <td>31.08.2019 17:20</td>\n",
              "      <td>31.08.2019 21:30</td>\n",
              "      <td>DY4224</td>\n",
              "      <td>WET</td>\n",
              "      <td>AGP</td>\n",
              "      <td>ARN</td>\n",
              "      <td>31.08.2019 17:20</td>\n",
              "      <td>31.08.2019 17:27</td>\n",
              "      <td>7</td>\n",
              "      <td>31.08.2019 21:10</td>\n",
              "      <td>31.08.2019 21:22</td>\n",
              "      <td>12.0</td>\n",
              "      <td>250</td>\n",
              "      <td>242</td>\n",
              "    </tr>\n",
              "  </tbody>\n",
              "</table>\n",
              "</div>"
            ],
            "text/plain": [
              "        Acreg  Version           Std UTC  ... TaxiIn BlkSched ActualBlock\n",
              "561264  YRBMI  737-800  30.08.2019 18:15  ...    5.0      220         216\n",
              "561265  YRBMI  737-800  31.08.2019 06:15  ...    5.0      130         134\n",
              "561266  YRBMI  737-800  31.08.2019 09:05  ...    6.0      130         140\n",
              "561267  YRBMI  737-800  31.08.2019 12:05  ...    4.0      265         244\n",
              "561268  YRBMI  737-800  31.08.2019 17:20  ...   12.0      250         242\n",
              "\n",
              "[5 rows x 16 columns]"
            ]
          },
          "metadata": {
            "tags": []
          },
          "execution_count": 77
        }
      ]
    },
    {
      "cell_type": "markdown",
      "metadata": {
        "id": "deq9xx46ye4F",
        "colab_type": "text"
      },
      "source": [
        "filter by \"WET\" to exclude flights operated with other aircrafts"
      ]
    },
    {
      "cell_type": "code",
      "metadata": {
        "id": "DMwka78Aye4G",
        "colab_type": "code",
        "outputId": "570a0821-0bf7-45f0-c339-c758dddd5d10",
        "colab": {
          "base_uri": "https://localhost:8080/",
          "height": 306
        }
      },
      "source": [
        "#exclude flights that are done with other planes\n",
        "data= data.loc[data['AOC'] != \"WET\"]\n",
        "data.tail()\n"
      ],
      "execution_count": 0,
      "outputs": [
        {
          "output_type": "execute_result",
          "data": {
            "text/html": [
              "<div>\n",
              "<style scoped>\n",
              "    .dataframe tbody tr th:only-of-type {\n",
              "        vertical-align: middle;\n",
              "    }\n",
              "\n",
              "    .dataframe tbody tr th {\n",
              "        vertical-align: top;\n",
              "    }\n",
              "\n",
              "    .dataframe thead th {\n",
              "        text-align: right;\n",
              "    }\n",
              "</style>\n",
              "<table border=\"1\" class=\"dataframe\">\n",
              "  <thead>\n",
              "    <tr style=\"text-align: right;\">\n",
              "      <th></th>\n",
              "      <th>Acreg</th>\n",
              "      <th>Version</th>\n",
              "      <th>Std UTC</th>\n",
              "      <th>Sta Utc</th>\n",
              "      <th>Flightcode</th>\n",
              "      <th>AOC</th>\n",
              "      <th>DP Iatacode</th>\n",
              "      <th>AR Iatacode</th>\n",
              "      <th>Rm Off Block Utc</th>\n",
              "      <th>Rm Takeoff Utc</th>\n",
              "      <th>TaxiOut</th>\n",
              "      <th>Rm Touchdown Utc</th>\n",
              "      <th>Rm On Block Utc</th>\n",
              "      <th>TaxiIn</th>\n",
              "      <th>BlkSched</th>\n",
              "      <th>ActualBlock</th>\n",
              "    </tr>\n",
              "  </thead>\n",
              "  <tbody>\n",
              "    <tr>\n",
              "      <th>559169</th>\n",
              "      <td>SERXZ</td>\n",
              "      <td>787-900</td>\n",
              "      <td>25.10.2019 12:50</td>\n",
              "      <td>26.10.2019 01:00</td>\n",
              "      <td>DY7109</td>\n",
              "      <td>NAS</td>\n",
              "      <td>BCN</td>\n",
              "      <td>LAX</td>\n",
              "      <td>25.10.2019 13:13</td>\n",
              "      <td>25.10.2019 13:41</td>\n",
              "      <td>28</td>\n",
              "      <td>26.10.2019 01:27</td>\n",
              "      <td>26.10.2019 01:35</td>\n",
              "      <td>8.0</td>\n",
              "      <td>730</td>\n",
              "      <td>742</td>\n",
              "    </tr>\n",
              "    <tr>\n",
              "      <th>559170</th>\n",
              "      <td>SERXZ</td>\n",
              "      <td>787-900</td>\n",
              "      <td>26.10.2019 03:00</td>\n",
              "      <td>26.10.2019 13:55</td>\n",
              "      <td>DY7110</td>\n",
              "      <td>NAS</td>\n",
              "      <td>LAX</td>\n",
              "      <td>BCN</td>\n",
              "      <td>26.10.2019 03:13</td>\n",
              "      <td>26.10.2019 03:35</td>\n",
              "      <td>22</td>\n",
              "      <td>26.10.2019 14:07</td>\n",
              "      <td>26.10.2019 14:12</td>\n",
              "      <td>5.0</td>\n",
              "      <td>655</td>\n",
              "      <td>659</td>\n",
              "    </tr>\n",
              "    <tr>\n",
              "      <th>559171</th>\n",
              "      <td>SERXZ</td>\n",
              "      <td>787-900</td>\n",
              "      <td>26.10.2019 17:25</td>\n",
              "      <td>27.10.2019 02:00</td>\n",
              "      <td>DY7195</td>\n",
              "      <td>NAS</td>\n",
              "      <td>BCN</td>\n",
              "      <td>EWR</td>\n",
              "      <td>26.10.2019 17:28</td>\n",
              "      <td>26.10.2019 17:52</td>\n",
              "      <td>24</td>\n",
              "      <td>27.10.2019 01:38</td>\n",
              "      <td>27.10.2019 02:12</td>\n",
              "      <td>34.0</td>\n",
              "      <td>515</td>\n",
              "      <td>524</td>\n",
              "    </tr>\n",
              "    <tr>\n",
              "      <th>559172</th>\n",
              "      <td>SERXZ</td>\n",
              "      <td>787-900</td>\n",
              "      <td>27.10.2019 03:59</td>\n",
              "      <td>27.10.2019 11:15</td>\n",
              "      <td>DY7196</td>\n",
              "      <td>NAS</td>\n",
              "      <td>EWR</td>\n",
              "      <td>BCN</td>\n",
              "      <td>27.10.2019 04:00</td>\n",
              "      <td>27.10.2019 04:22</td>\n",
              "      <td>22</td>\n",
              "      <td>27.10.2019 11:11</td>\n",
              "      <td>27.10.2019 11:16</td>\n",
              "      <td>5.0</td>\n",
              "      <td>436</td>\n",
              "      <td>436</td>\n",
              "    </tr>\n",
              "    <tr>\n",
              "      <th>559173</th>\n",
              "      <td>SERXZ</td>\n",
              "      <td>787-900</td>\n",
              "      <td>27.10.2019 17:05</td>\n",
              "      <td>28.10.2019 02:00</td>\n",
              "      <td>DY7025</td>\n",
              "      <td>NAS</td>\n",
              "      <td>BCN</td>\n",
              "      <td>JFK</td>\n",
              "      <td>27.10.2019 17:07</td>\n",
              "      <td>27.10.2019 17:31</td>\n",
              "      <td>24</td>\n",
              "      <td>28.10.2019 01:18</td>\n",
              "      <td>28.10.2019 01:31</td>\n",
              "      <td>13.0</td>\n",
              "      <td>535</td>\n",
              "      <td>504</td>\n",
              "    </tr>\n",
              "  </tbody>\n",
              "</table>\n",
              "</div>"
            ],
            "text/plain": [
              "        Acreg  Version           Std UTC  ... TaxiIn BlkSched ActualBlock\n",
              "559169  SERXZ  787-900  25.10.2019 12:50  ...    8.0      730         742\n",
              "559170  SERXZ  787-900  26.10.2019 03:00  ...    5.0      655         659\n",
              "559171  SERXZ  787-900  26.10.2019 17:25  ...   34.0      515         524\n",
              "559172  SERXZ  787-900  27.10.2019 03:59  ...    5.0      436         436\n",
              "559173  SERXZ  787-900  27.10.2019 17:05  ...   13.0      535         504\n",
              "\n",
              "[5 rows x 16 columns]"
            ]
          },
          "metadata": {
            "tags": []
          },
          "execution_count": 78
        }
      ]
    },
    {
      "cell_type": "code",
      "metadata": {
        "id": "Q_aWLJ7Lye4I",
        "colab_type": "code",
        "colab": {}
      },
      "source": [
        "#delete rows with invalid entries (nan-values)\n",
        "data = data.dropna()"
      ],
      "execution_count": 0,
      "outputs": []
    },
    {
      "cell_type": "code",
      "metadata": {
        "id": "2Ex6c2Vpye4L",
        "colab_type": "code",
        "colab": {}
      },
      "source": [
        "#selecting a specific flight, that is in this case Oslo Gatwick\n",
        "data= data.loc[data['DP Iatacode'] == airportStart]\n",
        "data =data.loc[data[\"AR Iatacode\"] == airportDest]"
      ],
      "execution_count": 0,
      "outputs": []
    },
    {
      "cell_type": "markdown",
      "metadata": {
        "id": "1cGiVZ5Cye4N",
        "colab_type": "text"
      },
      "source": [
        "get rid of information that does not influence the result"
      ]
    },
    {
      "cell_type": "code",
      "metadata": {
        "id": "PCWo1o0eye4N",
        "colab_type": "code",
        "colab": {}
      },
      "source": [
        "#deleting unnecessary data\n",
        "flightBlock = data.copy()\n",
        "flightBlock = flightBlock[[\"ActualBlock\",\"Std UTC\"]]\n"
      ],
      "execution_count": 0,
      "outputs": []
    },
    {
      "cell_type": "markdown",
      "metadata": {
        "id": "aICzp7fFye4Q",
        "colab_type": "text"
      },
      "source": [
        "Split Date into time, weekday and season"
      ]
    },
    {
      "cell_type": "code",
      "metadata": {
        "id": "Rzf1H3sfye4Q",
        "colab_type": "code",
        "outputId": "0bedcca4-3a01-4a8d-8046-63a70a67348d",
        "colab": {
          "base_uri": "https://localhost:8080/",
          "height": 119
        }
      },
      "source": [
        "#exclude date colum of flightBlock so we can split it in more information\n",
        "date = flightBlock.pop(\"Std UTC\")\n",
        "date.tail()"
      ],
      "execution_count": 0,
      "outputs": [
        {
          "output_type": "execute_result",
          "data": {
            "text/plain": [
              "543356    02.11.2018 17:10\n",
              "543398    09.11.2018 17:10\n",
              "543508    28.11.2018 06:20\n",
              "543518    30.11.2018 12:20\n",
              "558638    12.03.2019 06:15\n",
              "Name: Std UTC, dtype: object"
            ]
          },
          "metadata": {
            "tags": []
          },
          "execution_count": 82
        }
      ]
    },
    {
      "cell_type": "code",
      "metadata": {
        "id": "Ctet9foTye4T",
        "colab_type": "code",
        "colab": {}
      },
      "source": [
        "\n",
        "def lastSunday(year,month):\n",
        "    if len(sys.argv) > 1:\n",
        "        try:\n",
        "            year = int(sys.argv[-1])\n",
        "        except ValueError:\n",
        "            pass\n",
        " \n",
        "   \n",
        "    last_sunday = max(week[-1] for week in calendar.monthcalendar(year, month))\n",
        "    #print('{}-{}-{:2}'.format(year, calendar.month_abbr[month], last_sunday))\n",
        "    return last_sunday\n"
      ],
      "execution_count": 0,
      "outputs": []
    },
    {
      "cell_type": "code",
      "metadata": {
        "id": "Eu70T6vRye4V",
        "colab_type": "code",
        "colab": {}
      },
      "source": [
        "#returns 1 for winterseason and 0 for summer season\n",
        "def getSeason(d):\n",
        "\n",
        "    if (d.month<3 or d.month > 10):\n",
        "        return 1;\n",
        "    elif (d.month == 3 and d.day < lastSunday(d.year, d.month)):\n",
        "        return 1;\n",
        "    elif (d.month == 10 and d.day >= lastSunday(d.year, d.month)):\n",
        "        return 1;\n",
        "    else:\n",
        "        return 0;\n",
        "    "
      ],
      "execution_count": 0,
      "outputs": []
    },
    {
      "cell_type": "code",
      "metadata": {
        "id": "F5H9CWfLye4X",
        "colab_type": "code",
        "colab": {}
      },
      "source": [
        "#create some more categories like time of the day, weekday and season\n",
        "#date is the column of flightBlock \n",
        "dateForm=[datetime.datetime.strptime(s,'%d.%m.%Y %H:%M') for s in date]\n",
        "\n",
        "times= [x.hour for x in dateForm]\n",
        "weekdays =[x.weekday()+1 for x in dateForm]\n",
        "months= [x.month for x in dateForm]\n",
        "summer=[(getSeason(x)==0)*1 for x in dateForm]\n",
        "\n",
        "#das habe ich getestet und das funktionniert"
      ],
      "execution_count": 0,
      "outputs": []
    },
    {
      "cell_type": "code",
      "metadata": {
        "id": "Qk93UAGoye4Z",
        "colab_type": "code",
        "outputId": "3b6c0091-3070-4924-9834-0b8c136d6078",
        "colab": {
          "base_uri": "https://localhost:8080/",
          "height": 204
        }
      },
      "source": [
        "flightBlock['Time'] = times\n",
        "flightBlock[\"Weekday\"] = weekdays\n",
        "flightBlock[\"Summer\"] = summer\n",
        "flightBlock[\"Month\"] = months\n",
        "flightBlock.tail()\n"
      ],
      "execution_count": 0,
      "outputs": [
        {
          "output_type": "execute_result",
          "data": {
            "text/html": [
              "<div>\n",
              "<style scoped>\n",
              "    .dataframe tbody tr th:only-of-type {\n",
              "        vertical-align: middle;\n",
              "    }\n",
              "\n",
              "    .dataframe tbody tr th {\n",
              "        vertical-align: top;\n",
              "    }\n",
              "\n",
              "    .dataframe thead th {\n",
              "        text-align: right;\n",
              "    }\n",
              "</style>\n",
              "<table border=\"1\" class=\"dataframe\">\n",
              "  <thead>\n",
              "    <tr style=\"text-align: right;\">\n",
              "      <th></th>\n",
              "      <th>ActualBlock</th>\n",
              "      <th>Time</th>\n",
              "      <th>Weekday</th>\n",
              "      <th>Summer</th>\n",
              "      <th>Month</th>\n",
              "    </tr>\n",
              "  </thead>\n",
              "  <tbody>\n",
              "    <tr>\n",
              "      <th>543356</th>\n",
              "      <td>123</td>\n",
              "      <td>17</td>\n",
              "      <td>5</td>\n",
              "      <td>0</td>\n",
              "      <td>11</td>\n",
              "    </tr>\n",
              "    <tr>\n",
              "      <th>543398</th>\n",
              "      <td>137</td>\n",
              "      <td>17</td>\n",
              "      <td>5</td>\n",
              "      <td>0</td>\n",
              "      <td>11</td>\n",
              "    </tr>\n",
              "    <tr>\n",
              "      <th>543508</th>\n",
              "      <td>129</td>\n",
              "      <td>6</td>\n",
              "      <td>3</td>\n",
              "      <td>0</td>\n",
              "      <td>11</td>\n",
              "    </tr>\n",
              "    <tr>\n",
              "      <th>543518</th>\n",
              "      <td>148</td>\n",
              "      <td>12</td>\n",
              "      <td>5</td>\n",
              "      <td>0</td>\n",
              "      <td>11</td>\n",
              "    </tr>\n",
              "    <tr>\n",
              "      <th>558638</th>\n",
              "      <td>141</td>\n",
              "      <td>6</td>\n",
              "      <td>2</td>\n",
              "      <td>0</td>\n",
              "      <td>3</td>\n",
              "    </tr>\n",
              "  </tbody>\n",
              "</table>\n",
              "</div>"
            ],
            "text/plain": [
              "        ActualBlock  Time  Weekday  Summer  Month\n",
              "543356          123    17        5       0     11\n",
              "543398          137    17        5       0     11\n",
              "543508          129     6        3       0     11\n",
              "543518          148    12        5       0     11\n",
              "558638          141     6        2       0      3"
            ]
          },
          "metadata": {
            "tags": []
          },
          "execution_count": 86
        }
      ]
    },
    {
      "cell_type": "markdown",
      "metadata": {
        "id": "FKTaXmzEye4c",
        "colab_type": "text"
      },
      "source": [
        "# Find and delete outliers "
      ]
    },
    {
      "cell_type": "code",
      "metadata": {
        "id": "30FD2bx0ye4d",
        "colab_type": "code",
        "outputId": "199b2c8c-66f0-4fa5-b064-be1476d67f8b",
        "colab": {
          "base_uri": "https://localhost:8080/"
        }
      },
      "source": [
        "#Create boxplot of \"ActualBlock\" to see if there are outliers\n",
        "# Create a figure instance\n",
        "fig = plt.figure(1, figsize=(9, 6))\n",
        "\n",
        "# Create an axes instance\n",
        "ax = fig.add_subplot(111)\n",
        "\n",
        "# Create the boxplot\n",
        "bp = ax.boxplot(flightBlock[\"ActualBlock\"])\n",
        "\n",
        "# Save the figure\n",
        "fig.savefig('fig1.png', bbox_inches='tight')\n",
        "\n",
        "## add patch_artist=True option to ax.boxplot() \n",
        "## to get fill color\n",
        "\n",
        "\n",
        "bp = ax.boxplot(flightBlock[\"ActualBlock\"], patch_artist=True)\n",
        "\n",
        "## change outline color, fill color and linewidth of the boxes\n",
        "for box in bp['boxes']:\n",
        "    # change outline color\n",
        "    box.set( color='#7570b3', linewidth=2)\n",
        "    # change fill color\n",
        "    box.set( facecolor = '#1b9e77' )\n",
        "\n",
        "## change color and linewidth of the whiskers\n",
        "for whisker in bp['whiskers']:\n",
        "    whisker.set(color='#7570b3', linewidth=2)\n",
        "\n",
        "## change color and linewidth of the caps\n",
        "for cap in bp['caps']:\n",
        "    cap.set(color='#7570b3', linewidth=2)\n",
        "\n",
        "## change color and linewidth of the medians\n",
        "for median in bp['medians']:\n",
        "    median.set(color='#b2df8a', linewidth=2)\n",
        "\n",
        "## change the style of fliers and their fill\n",
        "for flier in bp['fliers']:\n",
        "    flier.set(marker='o', color='#e7298a', alpha=0.5)"
      ],
      "execution_count": 0,
      "outputs": [
        {
          "output_type": "display_data",
          "data": {
            "image/png": "[encoded data removed]",
            "text/plain": [
              "<Figure size 648x432 with 1 Axes>"
            ]
          },
          "metadata": {
            "tags": []
          }
        }
      ]
    },
    {
      "cell_type": "code",
      "metadata": {
        "id": "Wme8yGZuye4f",
        "colab_type": "code",
        "outputId": "e87ac2ec-b800-43c2-dbdc-2a04edd33e3b",
        "colab": {
          "base_uri": "https://localhost:8080/"
        }
      },
      "source": [
        "#try to remove outliars by IQR-Score train_data_out will be the cleaned dataset\n",
        "#dafuer muss man daten erst sortieren\n",
        "\n",
        "#train_dataset=train_dataset.sort_values([\"ActualBlock\"], ascending=True)\n",
        "\n",
        "oldSize=flightBlock.shape[0]\n",
        "\n",
        "\n",
        "Q1 = flightBlock[\"ActualBlock\"].quantile(0.25)\n",
        "Q3 = flightBlock[\"ActualBlock\"].quantile(0.75)\n",
        "IQR = Q3 - Q1\n",
        "print(IQR)\n",
        "\n",
        "#outliars beeing filtered\n",
        "flightBlock_out = flightBlock[~((flightBlock[\"ActualBlock\"] < (Q1 - 1.5 * IQR)) |(flightBlock[\"ActualBlock\"] > (Q3 + 1.5 * IQR)))]\n",
        "print(\"percentage of non-outlier flights:\")\n",
        "print(flightBlock_out.shape[0]/oldSize )\n",
        "flightBlock_out.tail()\n"
      ],
      "execution_count": 0,
      "outputs": [
        {
          "output_type": "stream",
          "text": [
            "16.0\n",
            "percentage of non-outlier flights:\n",
            "0.9676932367149759\n"
          ],
          "name": "stdout"
        },
        {
          "output_type": "execute_result",
          "data": {
            "text/html": [
              "<div>\n",
              "<style scoped>\n",
              "    .dataframe tbody tr th:only-of-type {\n",
              "        vertical-align: middle;\n",
              "    }\n",
              "\n",
              "    .dataframe tbody tr th {\n",
              "        vertical-align: top;\n",
              "    }\n",
              "\n",
              "    .dataframe thead th {\n",
              "        text-align: right;\n",
              "    }\n",
              "</style>\n",
              "<table border=\"1\" class=\"dataframe\">\n",
              "  <thead>\n",
              "    <tr style=\"text-align: right;\">\n",
              "      <th></th>\n",
              "      <th>ActualBlock</th>\n",
              "      <th>Time</th>\n",
              "      <th>Weekday</th>\n",
              "      <th>Summer</th>\n",
              "      <th>Month</th>\n",
              "    </tr>\n",
              "  </thead>\n",
              "  <tbody>\n",
              "    <tr>\n",
              "      <th>543356</th>\n",
              "      <td>123</td>\n",
              "      <td>17</td>\n",
              "      <td>5</td>\n",
              "      <td>0</td>\n",
              "      <td>11</td>\n",
              "    </tr>\n",
              "    <tr>\n",
              "      <th>543398</th>\n",
              "      <td>137</td>\n",
              "      <td>17</td>\n",
              "      <td>5</td>\n",
              "      <td>0</td>\n",
              "      <td>11</td>\n",
              "    </tr>\n",
              "    <tr>\n",
              "      <th>543508</th>\n",
              "      <td>129</td>\n",
              "      <td>6</td>\n",
              "      <td>3</td>\n",
              "      <td>0</td>\n",
              "      <td>11</td>\n",
              "    </tr>\n",
              "    <tr>\n",
              "      <th>543518</th>\n",
              "      <td>148</td>\n",
              "      <td>12</td>\n",
              "      <td>5</td>\n",
              "      <td>0</td>\n",
              "      <td>11</td>\n",
              "    </tr>\n",
              "    <tr>\n",
              "      <th>558638</th>\n",
              "      <td>141</td>\n",
              "      <td>6</td>\n",
              "      <td>2</td>\n",
              "      <td>0</td>\n",
              "      <td>3</td>\n",
              "    </tr>\n",
              "  </tbody>\n",
              "</table>\n",
              "</div>"
            ],
            "text/plain": [
              "        ActualBlock  Time  Weekday  Summer  Month\n",
              "543356          123    17        5       0     11\n",
              "543398          137    17        5       0     11\n",
              "543508          129     6        3       0     11\n",
              "543518          148    12        5       0     11\n",
              "558638          141     6        2       0      3"
            ]
          },
          "metadata": {
            "tags": []
          },
          "execution_count": 88
        }
      ]
    },
    {
      "cell_type": "code",
      "metadata": {
        "id": "x-S28tU1ye4i",
        "colab_type": "code",
        "outputId": "d17ff4ed-751e-41de-ec63-c48c747f63c6",
        "colab": {
          "base_uri": "https://localhost:8080/"
        }
      },
      "source": [
        "#Create boxplot of train_labels to see if outliars are gone\n",
        "# Create a figure instance\n",
        "fig = plt.figure(1, figsize=(9, 6))\n",
        "\n",
        "# Create an axes instance\n",
        "ax = fig.add_subplot(111)\n",
        "\n",
        "# Create the boxplot\n",
        "bp = ax.boxplot(flightBlock_out[\"ActualBlock\"])\n",
        "\n",
        "# Save the figure\n",
        "fig.savefig('fig2.png', bbox_inches='tight')\n",
        "\n",
        "## add patch_artist=True option to ax.boxplot() \n",
        "## to get fill color\n",
        "\n",
        "\n",
        "bp = ax.boxplot(flightBlock_out[\"ActualBlock\"], patch_artist=True)\n",
        "\n",
        "## change outline color, fill color and linewidth of the boxes\n",
        "for box in bp['boxes']:\n",
        "    # change outline color\n",
        "    box.set( color='#7570b3', linewidth=2)\n",
        "    # change fill color\n",
        "    box.set( facecolor = '#1b9e77' )\n",
        "\n",
        "## change color and linewidth of the whiskers\n",
        "for whisker in bp['whiskers']:\n",
        "    whisker.set(color='#7570b3', linewidth=2)\n",
        "\n",
        "## change color and linewidth of the caps\n",
        "for cap in bp['caps']:\n",
        "    cap.set(color='#7570b3', linewidth=2)\n",
        "\n",
        "## change color and linewidth of the medians\n",
        "for median in bp['medians']:\n",
        "    median.set(color='#b2df8a', linewidth=2)\n",
        "\n",
        "## change the style of fliers and their fill\n",
        "for flier in bp['fliers']:\n",
        "    flier.set(marker='o', color='#e7298a', alpha=0.5)"
      ],
      "execution_count": 0,
      "outputs": [
        {
          "output_type": "display_data",
          "data": {
            "image/png": "[encoded data removed]",
            "text/plain": [
              "<Figure size 648x432 with 1 Axes>"
            ]
          },
          "metadata": {
            "tags": []
          }
        }
      ]
    },
    {
      "cell_type": "markdown",
      "metadata": {
        "id": "Ma0ovE86ye4k",
        "colab_type": "text"
      },
      "source": [
        "# Split dataset for training and testing datase/labels"
      ]
    },
    {
      "cell_type": "code",
      "metadata": {
        "id": "oQUcziIvye4l",
        "colab_type": "code",
        "outputId": "06d7127c-a3d2-478d-a219-d6e3b7c0849a",
        "colab": {
          "base_uri": "https://localhost:8080/"
        }
      },
      "source": [
        "#splitting data into trianing and test set still including the labels!\n",
        "train_X = flightBlock_out.sample(frac=0.8,random_state=0)\n",
        "test_X = flightBlock_out.drop(train_X.index)\n",
        "train_labels = train_X.pop(\"ActualBlock\")\n",
        "test_labels =test_X.pop(\"ActualBlock\")\n",
        "test_labels.tail()"
      ],
      "execution_count": 0,
      "outputs": [
        {
          "output_type": "execute_result",
          "data": {
            "text/plain": [
              "516379    122\n",
              "526095    156\n",
              "526252    145\n",
              "526270    118\n",
              "543350    138\n",
              "Name: ActualBlock, dtype: int64"
            ]
          },
          "metadata": {
            "tags": []
          },
          "execution_count": 90
        }
      ]
    },
    {
      "cell_type": "code",
      "metadata": {
        "id": "3Ht4k1MXi0Dn",
        "colab_type": "code",
        "outputId": "ed19dfa2-23f6-4a63-f024-70ba36a37038",
        "colab": {
          "base_uri": "https://localhost:8080/"
        }
      },
      "source": [
        "train_X"
      ],
      "execution_count": 0,
      "outputs": [
        {
          "output_type": "execute_result",
          "data": {
            "text/html": [
              "<div>\n",
              "<style scoped>\n",
              "    .dataframe tbody tr th:only-of-type {\n",
              "        vertical-align: middle;\n",
              "    }\n",
              "\n",
              "    .dataframe tbody tr th {\n",
              "        vertical-align: top;\n",
              "    }\n",
              "\n",
              "    .dataframe thead th {\n",
              "        text-align: right;\n",
              "    }\n",
              "</style>\n",
              "<table border=\"1\" class=\"dataframe\">\n",
              "  <thead>\n",
              "    <tr style=\"text-align: right;\">\n",
              "      <th></th>\n",
              "      <th>Time</th>\n",
              "      <th>Weekday</th>\n",
              "      <th>Summer</th>\n",
              "      <th>Month</th>\n",
              "    </tr>\n",
              "  </thead>\n",
              "  <tbody>\n",
              "    <tr>\n",
              "      <th>46071</th>\n",
              "      <td>5</td>\n",
              "      <td>1</td>\n",
              "      <td>1</td>\n",
              "      <td>6</td>\n",
              "    </tr>\n",
              "    <tr>\n",
              "      <th>57999</th>\n",
              "      <td>13</td>\n",
              "      <td>1</td>\n",
              "      <td>1</td>\n",
              "      <td>6</td>\n",
              "    </tr>\n",
              "    <tr>\n",
              "      <th>39709</th>\n",
              "      <td>8</td>\n",
              "      <td>7</td>\n",
              "      <td>1</td>\n",
              "      <td>9</td>\n",
              "    </tr>\n",
              "    <tr>\n",
              "      <th>107535</th>\n",
              "      <td>5</td>\n",
              "      <td>3</td>\n",
              "      <td>1</td>\n",
              "      <td>8</td>\n",
              "    </tr>\n",
              "    <tr>\n",
              "      <th>273817</th>\n",
              "      <td>5</td>\n",
              "      <td>4</td>\n",
              "      <td>1</td>\n",
              "      <td>4</td>\n",
              "    </tr>\n",
              "    <tr>\n",
              "      <th>...</th>\n",
              "      <td>...</td>\n",
              "      <td>...</td>\n",
              "      <td>...</td>\n",
              "      <td>...</td>\n",
              "    </tr>\n",
              "    <tr>\n",
              "      <th>300842</th>\n",
              "      <td>8</td>\n",
              "      <td>6</td>\n",
              "      <td>1</td>\n",
              "      <td>6</td>\n",
              "    </tr>\n",
              "    <tr>\n",
              "      <th>113147</th>\n",
              "      <td>11</td>\n",
              "      <td>1</td>\n",
              "      <td>1</td>\n",
              "      <td>6</td>\n",
              "    </tr>\n",
              "    <tr>\n",
              "      <th>26916</th>\n",
              "      <td>7</td>\n",
              "      <td>5</td>\n",
              "      <td>1</td>\n",
              "      <td>9</td>\n",
              "    </tr>\n",
              "    <tr>\n",
              "      <th>9420</th>\n",
              "      <td>5</td>\n",
              "      <td>3</td>\n",
              "      <td>1</td>\n",
              "      <td>6</td>\n",
              "    </tr>\n",
              "    <tr>\n",
              "      <th>65323</th>\n",
              "      <td>16</td>\n",
              "      <td>3</td>\n",
              "      <td>1</td>\n",
              "      <td>6</td>\n",
              "    </tr>\n",
              "  </tbody>\n",
              "</table>\n",
              "<p>2564 rows × 4 columns</p>\n",
              "</div>"
            ],
            "text/plain": [
              "        Time  Weekday  Summer  Month\n",
              "46071      5        1       1      6\n",
              "57999     13        1       1      6\n",
              "39709      8        7       1      9\n",
              "107535     5        3       1      8\n",
              "273817     5        4       1      4\n",
              "...      ...      ...     ...    ...\n",
              "300842     8        6       1      6\n",
              "113147    11        1       1      6\n",
              "26916      7        5       1      9\n",
              "9420       5        3       1      6\n",
              "65323     16        3       1      6\n",
              "\n",
              "[2564 rows x 4 columns]"
            ]
          },
          "metadata": {
            "tags": []
          },
          "execution_count": 91
        }
      ]
    },
    {
      "cell_type": "markdown",
      "metadata": {
        "id": "EgcTFhQQye4o",
        "colab_type": "text"
      },
      "source": [
        "# Scaling data "
      ]
    },
    {
      "cell_type": "code",
      "metadata": {
        "id": "UlhT_xg7ye4p",
        "colab_type": "code",
        "colab": {}
      },
      "source": [
        "\n",
        "transformer = RobustScaler().fit(train_X) \n",
        "RobustScaler(copy=True, quantile_range=(25.0, 75.0), with_centering=True,\n",
        "       with_scaling=True)\n",
        "train_X= transformer.transform(train_X)\n",
        "test_X = transformer.transform(test_X)\n",
        "\n",
        "#make it a pandas dataframe again\n",
        "train_X = pd.DataFrame(train_X)\n",
        "test_X=pd.DataFrame(test_X)"
      ],
      "execution_count": 0,
      "outputs": []
    },
    {
      "cell_type": "markdown",
      "metadata": {
        "id": "PU28G4ASye4w",
        "colab_type": "text"
      },
      "source": [
        "# Build some models"
      ]
    },
    {
      "cell_type": "code",
      "metadata": {
        "id": "4Lc-RJQ-ye4y",
        "colab_type": "code",
        "colab": {}
      },
      "source": [
        "def build_model_simple():\n",
        "    model = Sequential()\n",
        "    model.add(Dense(12, activation='relu',kernel_initializer='normal', input_shape=[len(train_X.keys())]))\n",
        "    model.add(Dense(10, activation='relu',kernel_initializer='normal'))\n",
        "    model.add(Dense(1,kernel_initializer='normal'))\n",
        "    model.compile(loss='mse',\n",
        "                optimizer=\"adam\",\n",
        "                metrics=['mae', 'mse'])\n",
        "    \n",
        "    return model"
      ],
      "execution_count": 0,
      "outputs": []
    },
    {
      "cell_type": "code",
      "metadata": {
        "id": "Wbv2iEzdye40",
        "colab_type": "code",
        "colab": {}
      },
      "source": [
        "def build_model_deeper():\n",
        "    model = Sequential()\n",
        "    model.add(Dense(5, activation='relu',kernel_initializer='normal', input_shape=[len(train_X.keys())]))\n",
        "    model.add(Dense(12, activation='relu',kernel_initializer='normal'))\n",
        "    model.add(Dense(10, activation='relu',kernel_initializer='normal'))\n",
        "    model.add(Dense(5, activation='relu',kernel_initializer='normal'))\n",
        "    model.add(Dense(1,kernel_initializer='normal'))\n",
        "    model.compile(loss='mse',\n",
        "                optimizer=\"adam\",\n",
        "                metrics=['mae', 'mse'])\n",
        "    \n",
        "    return model"
      ],
      "execution_count": 0,
      "outputs": []
    },
    {
      "cell_type": "code",
      "metadata": {
        "id": "hzTKrb3Eye45",
        "colab_type": "code",
        "colab": {}
      },
      "source": [
        "def build_model_wider():\n",
        "    model = Sequential()\n",
        "    model.add(Dense(5, activation='relu',kernel_initializer='normal', input_shape=[len(train_X.keys())]))\n",
        "    model.add(Dense(65, activation='relu',kernel_initializer='normal'))\n",
        "    model.add(Dense(1,kernel_initializer='normal'))\n",
        "    model.compile(loss='mse',\n",
        "                optimizer=\"adam\",\n",
        "                metrics=['mae', 'mse'])\n",
        "    \n",
        "    return model"
      ],
      "execution_count": 0,
      "outputs": []
    },
    {
      "cell_type": "markdown",
      "metadata": {
        "id": "GVd24pvpye47",
        "colab_type": "text"
      },
      "source": [
        "# Build costum loss function and build models with it"
      ]
    },
    {
      "cell_type": "code",
      "metadata": {
        "id": "PZlDekYGye48",
        "colab_type": "code",
        "colab": {}
      },
      "source": [
        "#try to build own loss function\n",
        "# Define custom loss\n",
        "def custom_loss():\n",
        "\n",
        "    # Create a loss function that adds the MSE loss to the mean of all squared activations of a specific layer\n",
        "    def loss(y_true,y_pred):\n",
        "           return K.cast(K.greater(K.abs(y_true-y_pred), 10),\"float32\")*K.cast(K.square((K.square(y_true-y_pred)))*1000,\"float32\" ) + K.cast(K.less_equal(K.abs(y_true-y_pred), 10),\"float32\")*K.cast(K.square(y_true-y_pred),\"float32\")*0.000000001\n",
        "   \n",
        "    # Return a function\n",
        "    return loss\n"
      ],
      "execution_count": 0,
      "outputs": []
    },
    {
      "cell_type": "code",
      "metadata": {
        "id": "P6huFiR3ye4-",
        "colab_type": "code",
        "colab": {}
      },
      "source": [
        "def custom_zwei():\n",
        "     # Create a loss function that adds the MSE loss to the mean of all squared activations of a specific layer\n",
        "    def loss(y_true,y_pred):\n",
        "            d= y_true -y_pred\n",
        "            late = K.cast( K.greater(d,10),\"float\") *K.cast(K.square(d-10),\"float32\")\n",
        "            early =  K.cast( K.less(d,-10),\"float\") *K.cast((K.square(d+10)),\"float32\")\n",
        "            onTime= K.cast(0,\"float32\")\n",
        "            return late+early+onTime\n",
        "    return loss\n"
      ],
      "execution_count": 0,
      "outputs": []
    },
    {
      "cell_type": "code",
      "metadata": {
        "id": "l87nv5Qjye5B",
        "colab_type": "code",
        "colab": {}
      },
      "source": [
        "def build_model_simple_loss():\n",
        "    model = Sequential()\n",
        "    model.add(Dense(5, activation='relu',kernel_initializer='normal', input_shape=[len(train_X.keys())]))\n",
        "    model.add(Dense(15, activation='relu',kernel_initializer='normal'))\n",
        "    model.add(Dense(1,kernel_initializer='normal'))\n",
        "    model.compile(loss=custom_zwei(),\n",
        "                optimizer=\"adam\",\n",
        "                metrics=['mae', 'mse'])\n",
        "    \n",
        "    return model"
      ],
      "execution_count": 0,
      "outputs": []
    },
    {
      "cell_type": "code",
      "metadata": {
        "id": "YWJ7ac-0ye5E",
        "colab_type": "code",
        "colab": {}
      },
      "source": [
        "def build_model_deeper_loss():\n",
        "    model = Sequential()\n",
        "    model.add(Dense(5, activation='relu',kernel_initializer='normal', input_shape=[len(train_X.keys())]))\n",
        "    model.add(Dense(12, activation='relu',kernel_initializer='normal'))\n",
        "    model.add(Dense(10, activation='relu',kernel_initializer='normal'))\n",
        "    model.add(Dense(5, activation='relu',kernel_initializer='normal'))\n",
        "    model.add(Dense(1,kernel_initializer='normal'))\n",
        "    model.compile(loss=custom_zwei(),\n",
        "                optimizer=\"adam\",\n",
        "                metrics=['mae', 'mse'])\n",
        "    \n",
        "    return model"
      ],
      "execution_count": 0,
      "outputs": []
    },
    {
      "cell_type": "code",
      "metadata": {
        "id": "Uw4mqBiiye5G",
        "colab_type": "code",
        "colab": {}
      },
      "source": [
        "def build_model_wider_loss():\n",
        "    model = Sequential()\n",
        "    model.add(Dense(5, activation='relu',kernel_initializer='normal', input_shape=[len(train_X.keys())]))\n",
        "    model.add(Dense(65, activation='relu',kernel_initializer='normal'))\n",
        "    model.add(Dense(1,kernel_initializer='normal'))\n",
        "    model.compile(loss=custom_zwei(),\n",
        "                optimizer=\"adam\",\n",
        "                metrics=['mae', 'mse'])\n",
        "    \n",
        "    return model"
      ],
      "execution_count": 0,
      "outputs": []
    },
    {
      "cell_type": "markdown",
      "metadata": {
        "id": "3-JJ1uIlye5I",
        "colab_type": "text"
      },
      "source": [
        "# Build some machine learning models "
      ]
    },
    {
      "cell_type": "code",
      "metadata": {
        "id": "MhJiccMKye5J",
        "colab_type": "code",
        "colab": {}
      },
      "source": [
        "#linear Regression\n",
        "modelRE = LinearRegression()\n",
        "\n"
      ],
      "execution_count": 0,
      "outputs": []
    },
    {
      "cell_type": "code",
      "metadata": {
        "id": "7CtJztelye5L",
        "colab_type": "code",
        "colab": {}
      },
      "source": [
        "\n",
        "alpha = [1e-15, 1e-10, 1e-8, 1e-4, 1e-3,1e-2, 1, 5, 10, 20]\n",
        "\n",
        "ridge = Ridge()\n",
        "\n",
        "parameters = {'alpha': [1e-15, 1e-10, 1e-8, 1e-4, 1e-3,1e-2, 1, 5, 10, 20]}\n",
        "\n",
        "ridge_regressor = GridSearchCV(ridge, parameters,scoring='neg_mean_squared_error', cv=5)"
      ],
      "execution_count": 0,
      "outputs": []
    },
    {
      "cell_type": "code",
      "metadata": {
        "id": "fGnEPSRqye5T",
        "colab_type": "code",
        "colab": {}
      },
      "source": [
        "from sklearn.linear_model import Lasso\n",
        "\n",
        "lasso = Lasso()\n",
        "\n",
        "parameters = {'alpha': [1e-15, 1e-10, 1e-8, 1e-4, 1e-3,1e-2, 1, 5, 10, 20]}\n",
        "\n",
        "lasso_regressor = GridSearchCV(lasso, parameters, scoring='neg_mean_squared_error', cv = 5)\n",
        "\n"
      ],
      "execution_count": 0,
      "outputs": []
    },
    {
      "cell_type": "markdown",
      "metadata": {
        "id": "rAtwxlRJye5W",
        "colab_type": "text"
      },
      "source": [
        "# Build an evaluation function that tests on time predictions"
      ]
    },
    {
      "cell_type": "code",
      "metadata": {
        "id": "LK39voTVye5X",
        "colab_type": "code",
        "colab": {}
      },
      "source": [
        "\n",
        "def testModel( predict, label,mod):\n",
        "   # print(\"This is evaluation of model on NOT clean test data for model \" + stringArq)\n",
        "    \n",
        "    showScatter(predict,label)\n",
        "    showPredictions(predict, label)\n",
        "    showError(predict, label)\n",
        "    onTime(predict,label)\n",
        "    notLate(predict,label)\n",
        "    #testSameFlight(specificFlight,mod)\n",
        "    showResults(predict,label)"
      ],
      "execution_count": 0,
      "outputs": []
    },
    {
      "cell_type": "code",
      "metadata": {
        "id": "jngRDelOye5Y",
        "colab_type": "code",
        "colab": {}
      },
      "source": [
        "#taking one specific flight to see if model gives same times\n",
        "def testSameFlight(specFlight,model):\n",
        "    a = specFlight.loc[specFlight[\"Time\"] ==17 ]\n",
        "    a= a.loc[a[\"Weekday\"]==1]\n",
        "    a= a.loc[a[\"Summer\"]==0]\n",
        "    print(a) \n",
        "    a.pop(\"ActualBlock\")\n",
        "    a=norm(a).values\n",
        "    print(\"these are results for the same flight\")\n",
        "    print(model.predict(a).flatten())\n",
        " "
      ],
      "execution_count": 0,
      "outputs": []
    },
    {
      "cell_type": "code",
      "metadata": {
        "id": "kSVbcUaQye5a",
        "colab_type": "code",
        "colab": {}
      },
      "source": [
        "def showScatter(predict, label):\n",
        "    plt.scatter(label, predict)\n",
        "    plt.xlabel('True Values [ActualBlock]')\n",
        "    plt.ylabel('Predictions [ActualBlock]')\n",
        "    plt.axis('equal')\n",
        "    plt.axis('square')\n",
        "    plt.xlim([0,plt.xlim()[1]])\n",
        "    plt.ylim([0,plt.ylim()[1]])\n",
        "    _ = plt.plot([-300, 300], [-300, 300])\n",
        "    plt.show()"
      ],
      "execution_count": 0,
      "outputs": []
    },
    {
      "cell_type": "code",
      "metadata": {
        "id": "qQwJBj4lye5c",
        "colab_type": "code",
        "colab": {}
      },
      "source": [
        "def showError(predict, label):\n",
        "    error =  label-predict\n",
        "    plt.hist(error, bins = 25)\n",
        "\n",
        "    plt.xlabel(\"Prediction Error [ActualBlock]\")\n",
        "    _ = plt.ylabel(\"Count\")\n",
        "    plt.show()\n",
        "\n",
        "    print(\"this is the median of error, negative indicates too early arrival, positive late arrival\")\n",
        "    print(statistics.median(error))\n",
        "\n"
      ],
      "execution_count": 0,
      "outputs": []
    },
    {
      "cell_type": "code",
      "metadata": {
        "id": "deqlEpPqye5d",
        "colab_type": "code",
        "colab": {}
      },
      "source": [
        "def showPredictions(predict,label):\n",
        "    tabel =pd.DataFrame()\n",
        "    tabel[\"Test Predictions\"] =predict\n",
        "    tabel[\"Test ActualBlock\"] =label\n",
        "    print(\"These are the actual Block times and their predictions\")\n",
        "    tabel.tail()"
      ],
      "execution_count": 0,
      "outputs": []
    },
    {
      "cell_type": "code",
      "metadata": {
        "id": "WUYKBOSbye5h",
        "colab_type": "code",
        "colab": {}
      },
      "source": [
        "#check how many of the flights are NOT on time (+- 10 minutes)\n",
        "\n",
        "def onTime(predict, label):\n",
        "    delay = (abs(label-predict) > 15)*1\n",
        "    print(\"this is the percentage of flights that are not on time:\")\n",
        "    print(sum(delay) / len(delay))\n"
      ],
      "execution_count": 0,
      "outputs": []
    },
    {
      "cell_type": "code",
      "metadata": {
        "id": "7IPB_ipdye5m",
        "colab_type": "code",
        "colab": {}
      },
      "source": [
        "#check how many of the flights are more than 10 minutes late\n",
        "\n",
        "def notLate(predict, label):\n",
        "    delay = ((label-predict) > 15)*1\n",
        "    print(\"this is the percentage of flights that are more than 10 minutes late:\")\n",
        "    print(sum(delay) / len(delay))\n"
      ],
      "execution_count": 0,
      "outputs": []
    },
    {
      "cell_type": "code",
      "metadata": {
        "id": "bKz1E0bVye5n",
        "colab_type": "code",
        "colab": {}
      },
      "source": [
        "#show actual function and approximated function\n",
        "def showResults(predict, l):\n",
        "    plt.figure()\n",
        "    plt.xlabel('Samples')\n",
        "    plt.ylabel('Blocktimes')\n",
        "    plt.plot(predict,\n",
        "           label='Prediction')\n",
        "    plt.plot(l,\n",
        "           label = 'Real Values')\n",
        "    plt.ylim([100,200])\n",
        "    plt.legend()"
      ],
      "execution_count": 0,
      "outputs": []
    },
    {
      "cell_type": "markdown",
      "metadata": {
        "id": "AxhW_BHF3J2O",
        "colab_type": "text"
      },
      "source": [
        "# Try to build deep believe network"
      ]
    },
    {
      "cell_type": "code",
      "metadata": {
        "id": "iOkxcA7N8Umz",
        "colab_type": "code",
        "outputId": "8522ee3e-c0ba-48f8-df6a-a82a4a5f854b",
        "colab": {
          "base_uri": "https://localhost:8080/"
        }
      },
      "source": [
        "!git clone -q https://github.com/albertbup/deep-belief-network/\n"
      ],
      "execution_count": 0,
      "outputs": [
        {
          "output_type": "stream",
          "text": [
            "fatal: destination path 'deep-belief-network' already exists and is not an empty directory.\n"
          ],
          "name": "stdout"
        }
      ]
    },
    {
      "cell_type": "code",
      "metadata": {
        "id": "8BRvuD2a9t4e",
        "colab_type": "code",
        "outputId": "09e65e94-7131-412f-abe7-c1fe02fd9d2c",
        "colab": {
          "base_uri": "https://localhost:8080/"
        }
      },
      "source": [
        "!pip install -q /content/deep-belief-network"
      ],
      "execution_count": 0,
      "outputs": [
        {
          "output_type": "stream",
          "text": [
            "  Building wheel for deep-belief-network (setup.py) ... \u001b[?25l\u001b[?25hdone\n"
          ],
          "name": "stdout"
        }
      ]
    },
    {
      "cell_type": "code",
      "metadata": {
        "id": "_04Vlm4t-q5B",
        "colab_type": "code",
        "outputId": "516b62b3-ff12-42ed-8b42-43a117d61cc6",
        "colab": {
          "base_uri": "https://localhost:8080/"
        }
      },
      "source": [
        "from google.colab import drive\n",
        "drive.mount('/content/drive')"
      ],
      "execution_count": 0,
      "outputs": [
        {
          "output_type": "stream",
          "text": [
            "Drive already mounted at /content/drive; to attempt to forcibly remount, call drive.mount(\"/content/drive\", force_remount=True).\n"
          ],
          "name": "stdout"
        }
      ]
    },
    {
      "cell_type": "code",
      "metadata": {
        "id": "tsbvAGCH3Sfi",
        "colab_type": "code",
        "colab": {}
      },
      "source": [
        "from dbn.tensorflow import SupervisedDBNRegression\n",
        "from sklearn.model_selection import train_test_split\n",
        "from sklearn.metrics.classification import accuracy_score"
      ],
      "execution_count": 0,
      "outputs": []
    },
    {
      "cell_type": "code",
      "metadata": {
        "id": "eR8XfP0FAycE",
        "colab_type": "code",
        "colab": {}
      },
      "source": [
        "modelDeepBelieve = SupervisedDBNRegression(hidden_layers_structure = [300, 200,100,10],\n",
        "learning_rate_rbm=0.05,\n",
        "learning_rate=0.1,\n",
        "n_epochs_rbm=5,\n",
        "n_iter_backprop=100,\n",
        "batch_size=16)"
      ],
      "execution_count": 0,
      "outputs": []
    },
    {
      "cell_type": "code",
      "metadata": {
        "id": "lrbQMAm-BFFi",
        "colab_type": "code",
        "colab": {}
      },
      "source": [
        "\n",
        "regressor = SupervisedDBNRegression(hidden_layers_structure=[100],\n",
        "                                    learning_rate_rbm=0.01,\n",
        "                                    learning_rate=0.01,\n",
        "                                    n_epochs_rbm=5,\n",
        "                                    n_iter_backprop=5,\n",
        "                                    batch_size=64,\n",
        "                                    activation_function='relu')"
      ],
      "execution_count": 0,
      "outputs": []
    },
    {
      "cell_type": "code",
      "metadata": {
        "id": "X7Jc2ssDSfNA",
        "colab_type": "code",
        "colab": {}
      },
      "source": [
        ""
      ],
      "execution_count": 0,
      "outputs": []
    },
    {
      "cell_type": "code",
      "metadata": {
        "id": "ca8ndj1hye6j",
        "colab_type": "code",
        "outputId": "9a2c81a6-5489-47ed-d89e-83762cebde36",
        "colab": {
          "base_uri": "https://localhost:8080/"
        }
      },
      "source": [
        "print(\"This is deep believe\")\n",
        "\n",
        "# Data scaling\n",
        "from sklearn.preprocessing import MinMaxScaler\n",
        "min_max_scaler = MinMaxScaler()\n",
        "X_train = min_max_scaler.fit_transform(train_X)\n",
        "\n",
        "DBN =modelDeepBelieve.fit(X_train, train_labels)\n",
        "\n"
      ],
      "execution_count": 0,
      "outputs": [
        {
          "output_type": "stream",
          "text": [
            "This is deep believe\n",
            "[START] Pre-training step:\n",
            ">> Epoch 1 finished \tRBM Reconstruction error 0.061622\n",
            ">> Epoch 2 finished \tRBM Reconstruction error 0.034999\n",
            ">> Epoch 3 finished \tRBM Reconstruction error 0.039156\n",
            ">> Epoch 4 finished \tRBM Reconstruction error 0.031534\n",
            ">> Epoch 5 finished \tRBM Reconstruction error 0.049104\n",
            ">> Epoch 1 finished \tRBM Reconstruction error 1.250876\n",
            ">> Epoch 2 finished \tRBM Reconstruction error 0.420217\n",
            ">> Epoch 3 finished \tRBM Reconstruction error 0.417209\n",
            ">> Epoch 4 finished \tRBM Reconstruction error 0.379595\n",
            ">> Epoch 5 finished \tRBM Reconstruction error 0.391869\n",
            ">> Epoch 1 finished \tRBM Reconstruction error 0.810741\n",
            ">> Epoch 2 finished \tRBM Reconstruction error 0.267482\n",
            ">> Epoch 3 finished \tRBM Reconstruction error 0.129298\n",
            ">> Epoch 4 finished \tRBM Reconstruction error 0.073875\n",
            ">> Epoch 5 finished \tRBM Reconstruction error 0.031467\n",
            ">> Epoch 1 finished \tRBM Reconstruction error 1.005863\n",
            ">> Epoch 2 finished \tRBM Reconstruction error 0.830525\n",
            ">> Epoch 3 finished \tRBM Reconstruction error 0.431975\n",
            ">> Epoch 4 finished \tRBM Reconstruction error 0.233760\n",
            ">> Epoch 5 finished \tRBM Reconstruction error 0.158120\n",
            "[END] Pre-training step\n",
            "[START] Fine tuning step:\n",
            ">> Epoch 0 finished \tANN training loss 144.388107\n",
            ">> Epoch 1 finished \tANN training loss 186.966309\n",
            ">> Epoch 2 finished \tANN training loss 126.064987\n",
            ">> Epoch 3 finished \tANN training loss 149.418167\n",
            ">> Epoch 4 finished \tANN training loss 127.259018\n",
            ">> Epoch 5 finished \tANN training loss 124.712425\n",
            ">> Epoch 6 finished \tANN training loss 125.017403\n",
            ">> Epoch 7 finished \tANN training loss 164.941635\n",
            ">> Epoch 8 finished \tANN training loss 128.666626\n",
            ">> Epoch 9 finished \tANN training loss 185.782394\n",
            ">> Epoch 10 finished \tANN training loss 129.999557\n",
            ">> Epoch 11 finished \tANN training loss 133.718353\n",
            ">> Epoch 12 finished \tANN training loss 180.625519\n",
            ">> Epoch 13 finished \tANN training loss 130.888046\n",
            ">> Epoch 14 finished \tANN training loss 129.132568\n",
            ">> Epoch 15 finished \tANN training loss 126.663017\n",
            ">> Epoch 16 finished \tANN training loss 124.954590\n",
            ">> Epoch 17 finished \tANN training loss 127.160858\n",
            ">> Epoch 18 finished \tANN training loss 182.950775\n",
            ">> Epoch 19 finished \tANN training loss 132.132874\n",
            ">> Epoch 20 finished \tANN training loss 126.166000\n",
            ">> Epoch 21 finished \tANN training loss 137.503311\n",
            ">> Epoch 22 finished \tANN training loss 166.300262\n",
            ">> Epoch 23 finished \tANN training loss 131.994049\n",
            ">> Epoch 24 finished \tANN training loss 155.131546\n",
            ">> Epoch 25 finished \tANN training loss 129.028107\n",
            ">> Epoch 26 finished \tANN training loss 126.314316\n",
            ">> Epoch 27 finished \tANN training loss 144.100250\n",
            ">> Epoch 28 finished \tANN training loss 143.185287\n",
            ">> Epoch 29 finished \tANN training loss 127.428871\n",
            ">> Epoch 30 finished \tANN training loss 124.760277\n",
            ">> Epoch 31 finished \tANN training loss 147.023453\n",
            ">> Epoch 32 finished \tANN training loss 124.920921\n",
            ">> Epoch 33 finished \tANN training loss 137.818100\n",
            ">> Epoch 34 finished \tANN training loss 163.827591\n",
            ">> Epoch 35 finished \tANN training loss 124.931053\n",
            ">> Epoch 36 finished \tANN training loss 164.291962\n",
            ">> Epoch 37 finished \tANN training loss 174.476288\n",
            ">> Epoch 38 finished \tANN training loss 127.008041\n",
            ">> Epoch 39 finished \tANN training loss 126.851707\n",
            ">> Epoch 40 finished \tANN training loss 128.149918\n",
            ">> Epoch 41 finished \tANN training loss 171.638412\n",
            ">> Epoch 42 finished \tANN training loss 130.687347\n",
            ">> Epoch 43 finished \tANN training loss 196.103287\n",
            ">> Epoch 44 finished \tANN training loss 126.835915\n",
            ">> Epoch 45 finished \tANN training loss 187.762924\n",
            ">> Epoch 46 finished \tANN training loss 129.873901\n",
            ">> Epoch 47 finished \tANN training loss 187.857468\n",
            ">> Epoch 48 finished \tANN training loss 149.664825\n",
            ">> Epoch 49 finished \tANN training loss 128.370483\n",
            ">> Epoch 50 finished \tANN training loss 224.897446\n",
            ">> Epoch 51 finished \tANN training loss 125.020157\n",
            ">> Epoch 52 finished \tANN training loss 184.050919\n",
            ">> Epoch 53 finished \tANN training loss 124.690315\n",
            ">> Epoch 54 finished \tANN training loss 127.838951\n",
            ">> Epoch 55 finished \tANN training loss 174.228470\n",
            ">> Epoch 56 finished \tANN training loss 128.918579\n",
            ">> Epoch 57 finished \tANN training loss 128.433655\n",
            ">> Epoch 58 finished \tANN training loss 124.926712\n",
            ">> Epoch 59 finished \tANN training loss 140.477173\n",
            ">> Epoch 60 finished \tANN training loss 129.042511\n",
            ">> Epoch 61 finished \tANN training loss 155.632538\n",
            ">> Epoch 62 finished \tANN training loss 154.015045\n",
            ">> Epoch 63 finished \tANN training loss 125.528206\n",
            ">> Epoch 64 finished \tANN training loss 166.073578\n",
            ">> Epoch 65 finished \tANN training loss 158.216339\n",
            ">> Epoch 66 finished \tANN training loss 141.256882\n",
            ">> Epoch 67 finished \tANN training loss 124.724037\n",
            ">> Epoch 68 finished \tANN training loss 189.271332\n",
            ">> Epoch 69 finished \tANN training loss 136.128967\n",
            ">> Epoch 70 finished \tANN training loss 133.045883\n",
            ">> Epoch 71 finished \tANN training loss 147.952286\n",
            ">> Epoch 72 finished \tANN training loss 125.897339\n",
            ">> Epoch 73 finished \tANN training loss 125.152328\n",
            ">> Epoch 74 finished \tANN training loss 124.713997\n",
            ">> Epoch 75 finished \tANN training loss 129.153198\n",
            ">> Epoch 76 finished \tANN training loss 135.808258\n",
            ">> Epoch 77 finished \tANN training loss 129.871155\n",
            ">> Epoch 78 finished \tANN training loss 147.325607\n",
            ">> Epoch 79 finished \tANN training loss 125.289558\n",
            ">> Epoch 80 finished \tANN training loss 165.765060\n",
            ">> Epoch 81 finished \tANN training loss 143.132614\n",
            ">> Epoch 82 finished \tANN training loss 124.983665\n",
            ">> Epoch 83 finished \tANN training loss 129.162216\n",
            ">> Epoch 84 finished \tANN training loss 162.665604\n",
            ">> Epoch 85 finished \tANN training loss 138.470718\n",
            ">> Epoch 86 finished \tANN training loss 192.206573\n",
            ">> Epoch 87 finished \tANN training loss 125.302383\n",
            ">> Epoch 88 finished \tANN training loss 174.146225\n",
            ">> Epoch 89 finished \tANN training loss 150.862488\n",
            ">> Epoch 90 finished \tANN training loss 191.329819\n",
            ">> Epoch 91 finished \tANN training loss 124.902840\n",
            ">> Epoch 92 finished \tANN training loss 124.674194\n",
            ">> Epoch 93 finished \tANN training loss 156.176514\n",
            ">> Epoch 94 finished \tANN training loss 142.303864\n",
            ">> Epoch 95 finished \tANN training loss 134.723434\n",
            ">> Epoch 96 finished \tANN training loss 159.787827\n",
            ">> Epoch 97 finished \tANN training loss 151.033035\n",
            ">> Epoch 98 finished \tANN training loss 137.926041\n",
            ">> Epoch 99 finished \tANN training loss 167.655060\n",
            "[END] Fine tuning step\n"
          ],
          "name": "stdout"
        }
      ]
    },
    {
      "cell_type": "code",
      "metadata": {
        "id": "LFnvSXqsSlxU",
        "colab_type": "code",
        "outputId": "9983e107-8781-4a2f-f7ff-8b8a6239cb81",
        "colab": {
          "base_uri": "https://localhost:8080/"
        }
      },
      "source": [
        " reg=regressor.fit(X_train, train_labels)"
      ],
      "execution_count": 0,
      "outputs": [
        {
          "output_type": "stream",
          "text": [
            "[START] Pre-training step:\n",
            ">> Epoch 1 finished \tRBM Reconstruction error 0.347435\n",
            ">> Epoch 2 finished \tRBM Reconstruction error 0.272640\n",
            ">> Epoch 3 finished \tRBM Reconstruction error 0.253327\n",
            ">> Epoch 4 finished \tRBM Reconstruction error 0.237951\n",
            ">> Epoch 5 finished \tRBM Reconstruction error 0.220972\n",
            "[END] Pre-training step\n",
            "[START] Fine tuning step:\n",
            ">> Epoch 0 finished \tANN training loss 4629.950684\n",
            ">> Epoch 1 finished \tANN training loss 978.408142\n",
            ">> Epoch 2 finished \tANN training loss 289.587677\n",
            ">> Epoch 3 finished \tANN training loss 156.634293\n",
            ">> Epoch 4 finished \tANN training loss 130.737000\n",
            "[END] Fine tuning step\n"
          ],
          "name": "stdout"
        }
      ]
    },
    {
      "cell_type": "code",
      "metadata": {
        "id": "6KaMj-xwHtH2",
        "colab_type": "code",
        "outputId": "3bf62d72-c72c-4cfe-900e-f940ba001402",
        "colab": {
          "base_uri": "https://localhost:8080/"
        }
      },
      "source": [
        "X_test = min_max_scaler.transform(test_X)\n",
        "\n",
        "print(X_test)\n",
        "\n",
        "\n",
        "\n",
        "dbn_pred=DBN.predict(X_test).flatten()\n",
        "\n",
        "dbn_pred"
      ],
      "execution_count": 0,
      "outputs": [
        {
          "output_type": "stream",
          "text": [
            "[[0.375      0.16666667 1.         0.45454545]\n",
            " [0.1875     1.         1.         0.63636364]\n",
            " [0.375      0.         1.         0.81818182]\n",
            " ...\n",
            " [0.75       0.         0.         0.        ]\n",
            " [0.75       0.5        0.         0.        ]\n",
            " [0.75       0.5        0.         0.90909091]]\n"
          ],
          "name": "stdout"
        },
        {
          "output_type": "execute_result",
          "data": {
            "text/plain": [
              "array([130.51306, 130.51306, 130.51306, 130.51306, 130.51306, 130.51306,\n",
              "       130.51306, 130.51306, 130.51306, 130.51306, 130.51306, 130.51306,\n",
              "       130.51306, 130.51306, 130.51306, 130.51306, 130.51306, 130.51306,\n",
              "       130.51306, 130.51306, 130.51306, 130.51306, 130.51306, 130.51306,\n",
              "       130.51306, 130.51306, 130.51306, 130.51306, 130.51306, 130.51306,\n",
              "       130.51306, 130.51306, 130.51306, 130.51306, 130.51306, 130.51306,\n",
              "       130.51306, 130.51306, 130.51306, 130.51306, 130.51306, 130.51306,\n",
              "       130.51306, 130.51306, 130.51306, 130.51306, 130.51306, 130.51306,\n",
              "       130.51306, 130.51306, 130.51306, 130.51306, 130.51306, 130.51306,\n",
              "       130.51306, 130.51306, 130.51306, 130.51306, 130.51306, 130.51306,\n",
              "       130.51306, 130.51306, 130.51306, 130.51306, 130.51306, 130.51306,\n",
              "       130.51306, 130.51306, 130.51306, 130.51306, 130.51306, 130.51306,\n",
              "       130.51306, 130.51306, 130.51306, 130.51306, 130.51306, 130.51306,\n",
              "       130.51306, 130.51306, 130.51306, 130.51306, 130.51306, 130.51306,\n",
              "       130.51306, 130.51306, 130.51306, 130.51306, 130.51306, 130.51306,\n",
              "       130.51306, 130.51306, 130.51306, 130.51306, 130.51306, 130.51306,\n",
              "       130.51306, 130.51306, 130.51306, 130.51306, 130.51306, 130.51306,\n",
              "       130.51306, 130.51306, 130.51306, 130.51306, 130.51306, 130.51306,\n",
              "       130.51306, 130.51306, 130.51306, 130.51306, 130.51306, 130.51306,\n",
              "       130.51306, 130.51306, 130.51306, 130.51306, 130.51306, 130.51306,\n",
              "       130.51306, 130.51306, 130.51306, 130.51306, 130.51306, 130.51306,\n",
              "       130.51306, 130.51306, 130.51306, 130.51306, 130.51306, 130.51306,\n",
              "       130.51306, 130.51306, 130.51306, 130.51306, 130.51306, 130.51306,\n",
              "       130.51306, 130.51306, 130.51306, 130.51306, 130.51306, 130.51306,\n",
              "       130.51306, 130.51306, 130.51306, 130.51306, 130.51306, 130.51306,\n",
              "       130.51306, 130.51306, 130.51306, 130.51306, 130.51306, 130.51306,\n",
              "       130.51306, 130.51306, 130.51306, 130.51306, 130.51306, 130.51306,\n",
              "       130.51306, 130.51306, 130.51306, 130.51306, 130.51306, 130.51306,\n",
              "       130.51306, 130.51306, 130.51306, 130.51306, 130.51306, 130.51306,\n",
              "       130.51306, 130.51306, 130.51306, 130.51306, 130.51306, 130.51306,\n",
              "       130.51306, 130.51306, 130.51306, 130.51306, 130.51306, 130.51306,\n",
              "       130.51306, 130.51306, 130.51306, 130.51306, 130.51306, 130.51306,\n",
              "       130.51306, 130.51306, 130.51306, 130.51306, 130.51306, 130.51306,\n",
              "       130.51306, 130.51306, 130.51306, 130.51306, 130.51306, 130.51306,\n",
              "       130.51306, 130.51306, 130.51306, 130.51306, 130.51306, 130.51306,\n",
              "       130.51306, 130.51306, 130.51306, 130.51306, 130.51306, 130.51306,\n",
              "       130.51306, 130.51306, 130.51306, 130.51306, 130.51306, 130.51306,\n",
              "       130.51306, 130.51306, 130.51306, 130.51306, 130.51306, 130.51306,\n",
              "       130.51306, 130.51306, 130.51306, 130.51306, 130.51306, 130.51306,\n",
              "       130.51306, 130.51306, 130.51306, 130.51306, 130.51306, 130.51306,\n",
              "       130.51306, 130.51306, 130.51306, 130.51306, 130.51306, 130.51306,\n",
              "       130.51306, 130.51306, 130.51306, 130.51306, 130.51306, 130.51306,\n",
              "       130.51306, 130.51306, 130.51306, 130.51306, 130.51306, 130.51306,\n",
              "       130.51306, 130.51306, 130.51306, 130.51306, 130.51306, 130.51306,\n",
              "       130.51306, 130.51306, 130.51306, 130.51306, 130.51306, 130.51306,\n",
              "       130.51306, 130.51306, 130.51306, 130.51306, 130.51306, 130.51306,\n",
              "       130.51306, 130.51306, 130.51306, 130.51306, 130.51306, 130.51306,\n",
              "       130.51306, 130.51306, 130.51306, 130.51306, 130.51306, 130.51306,\n",
              "       130.51306, 130.51306, 130.51306, 130.51306, 130.51306, 130.51306,\n",
              "       130.51306, 130.51306, 130.51306, 130.51306, 130.51306, 130.51306,\n",
              "       130.51306, 130.51306, 130.51306, 130.51306, 130.51306, 130.51306,\n",
              "       130.51306, 130.51306, 130.51306, 130.51306, 130.51306, 130.51306,\n",
              "       130.51306, 130.51306, 130.51306, 130.51306, 130.51306, 130.51306,\n",
              "       130.51306, 130.51306, 130.51306, 130.51306, 130.51306, 130.51306,\n",
              "       130.51306, 130.51306, 130.51306, 130.51306, 130.51306, 130.51306,\n",
              "       130.51306, 130.51306, 130.51306, 130.51306, 130.51306, 130.51306,\n",
              "       130.51306, 130.51306, 130.51306, 130.51306, 130.51306, 130.51306,\n",
              "       130.51306, 130.51306, 130.51306, 130.51306, 130.51306, 130.51306,\n",
              "       130.51306, 130.51306, 130.51306, 130.51306, 130.51306, 130.51306,\n",
              "       130.51306, 130.51306, 130.51306, 130.51306, 130.51306, 130.51306,\n",
              "       130.51306, 130.51306, 130.51306, 130.51306, 130.51306, 130.51306,\n",
              "       130.51306, 130.51306, 130.51306, 130.51306, 130.51306, 130.51306,\n",
              "       130.51306, 130.51306, 130.51306, 130.51306, 130.51306, 130.51306,\n",
              "       130.51306, 130.51306, 130.51306, 130.51306, 130.51306, 130.51306,\n",
              "       130.51306, 130.51306, 130.51306, 130.51306, 130.51306, 130.51306,\n",
              "       130.51306, 130.51306, 130.51306, 130.51306, 130.51306, 130.51306,\n",
              "       130.51306, 130.51306, 130.51306, 130.51306, 130.51306, 130.51306,\n",
              "       130.51306, 130.51306, 130.51306, 130.51306, 130.51306, 130.51306,\n",
              "       130.51306, 130.51306, 130.51306, 130.51306, 130.51306, 130.51306,\n",
              "       130.51306, 130.51306, 130.51306, 130.51306, 130.51306, 130.51306,\n",
              "       130.51306, 130.51306, 130.51306, 130.51306, 130.51306, 130.51306,\n",
              "       130.51306, 130.51306, 130.51306, 130.51306, 130.51306, 130.51306,\n",
              "       130.51306, 130.51306, 130.51306, 130.51306, 130.51306, 130.51306,\n",
              "       130.51306, 130.51306, 130.51306, 130.51306, 130.51306, 130.51306,\n",
              "       130.51306, 130.51306, 130.51306, 130.51306, 130.51306, 130.51306,\n",
              "       130.51306, 130.51306, 130.51306, 130.51306, 130.51306, 130.51306,\n",
              "       130.51306, 130.51306, 130.51306, 130.51306, 130.51306, 130.51306,\n",
              "       130.51306, 130.51306, 130.51306, 130.51306, 130.51306, 130.51306,\n",
              "       130.51306, 130.51306, 130.51306, 130.51306, 130.51306, 130.51306,\n",
              "       130.51306, 130.51306, 130.51306, 130.51306, 130.51306, 130.51306,\n",
              "       130.51306, 130.51306, 130.51306, 130.51306, 130.51306, 130.51306,\n",
              "       130.51306, 130.51306, 130.51306, 130.51306, 130.51306, 130.51306,\n",
              "       130.51306, 130.51306, 130.51306, 130.51306, 130.51306, 130.51306,\n",
              "       130.51306, 130.51306, 130.51306, 130.51306, 130.51306, 130.51306,\n",
              "       130.51306, 130.51306, 130.51306, 130.51306, 130.51306, 130.51306,\n",
              "       130.51306, 130.51306, 130.51306, 130.51306, 130.51306, 130.51306,\n",
              "       130.51306, 130.51306, 130.51306, 130.51306, 130.51306, 130.51306,\n",
              "       130.51306, 130.51306, 130.51306, 130.51306, 130.51306, 130.51306,\n",
              "       130.51306, 130.51306, 130.51306, 130.51306, 130.51306, 130.51306,\n",
              "       130.51306, 130.51306, 130.51306, 130.51306, 130.51306, 130.51306,\n",
              "       130.51306, 130.51306, 130.51306, 130.51306, 130.51306, 130.51306,\n",
              "       130.51306, 130.51306, 130.51306, 130.51306, 130.51306, 130.51306,\n",
              "       130.51306, 130.51306, 130.51306, 130.51306, 130.51306, 130.51306,\n",
              "       130.51306, 130.51306, 130.51306, 130.51306, 130.51306, 130.51306,\n",
              "       130.51306, 130.51306, 130.51306, 130.51306, 130.51306, 130.51306,\n",
              "       130.51306, 130.51306, 130.51306, 130.51306, 130.51306, 130.51306,\n",
              "       130.51306, 130.51306, 130.51306, 130.51306, 130.51306, 130.51306,\n",
              "       130.51306, 130.51306, 130.51306, 130.51306, 130.51306, 130.51306,\n",
              "       130.51306, 130.51306, 130.51306, 130.51306, 130.51306, 130.51306,\n",
              "       130.51306, 130.51306, 130.51306, 130.51306, 130.51306, 130.51306,\n",
              "       130.51306, 130.51306, 130.51306, 130.51306, 130.51306, 130.51306,\n",
              "       130.51306, 130.51306, 130.51306, 130.51306, 130.51306, 130.51306,\n",
              "       130.51306, 130.51306, 130.51306, 130.51306, 130.51306, 130.51306,\n",
              "       130.51306, 130.51306, 130.51306, 130.51306, 130.51306, 130.51306,\n",
              "       130.51306, 130.51306, 130.51306, 130.51306, 130.51306, 130.51306,\n",
              "       130.51306, 130.51306, 130.51306, 130.51306, 130.51306, 130.51306,\n",
              "       130.51306, 130.51306, 130.51306, 130.51306, 130.51306],\n",
              "      dtype=float32)"
            ]
          },
          "metadata": {
            "tags": []
          },
          "execution_count": 120
        }
      ]
    },
    {
      "cell_type": "code",
      "metadata": {
        "id": "9JBJ46T0O5GZ",
        "colab_type": "code",
        "colab": {}
      },
      "source": [
        ""
      ],
      "execution_count": 0,
      "outputs": []
    },
    {
      "cell_type": "markdown",
      "metadata": {
        "id": "q26-QyK_ye5p",
        "colab_type": "text"
      },
      "source": [
        "# training phase"
      ]
    },
    {
      "cell_type": "code",
      "metadata": {
        "id": "0yeWx2ysye5q",
        "colab_type": "code",
        "colab": {}
      },
      "source": [
        "# Display training progress by printing a single dot for each completed epoch\n",
        "class PrintDot(keras.callbacks.Callback):\n",
        "      def on_epoch_end(self, epoch, logs):\n",
        "        if epoch % 100 == 0: print('')\n",
        "        print('.', end='')\n",
        "\n",
        "EPOCHS = 1000\n",
        "\n",
        "# The patience parameter is the amount of epochs to check for improvement Early stopp muss unten als variable in callbacks eingefùegt werden\n",
        "early_stop = keras.callbacks.EarlyStopping(monitor='val_loss', patience=5)"
      ],
      "execution_count": 0,
      "outputs": []
    },
    {
      "cell_type": "code",
      "metadata": {
        "id": "pMsyRCvDye5s",
        "colab_type": "code",
        "colab": {}
      },
      "source": [
        "#dont know if that works, so I wont use it\n",
        "def saveIt(model, path = \"training_1/cp.ckpt\"):\n",
        "    #where the weights are stored\n",
        "    checkpoint_path = path\n",
        "    checkpoint_dir = os.path.dirname(checkpoint_path)\n",
        "\n",
        "    # Create a callback that saves the model's weights\n",
        "    cp_callback = tf.keras.callbacks.ModelCheckpoint(filepath=checkpoint_path,\n",
        "                                                 save_weights_only=True,\n",
        "                                                 verbose=1)\n",
        "    \n",
        "    # Save the entire model to a HDF5 file.\n",
        "    # The '.h5' extension indicates that the model shuold be saved to HDF5.\n",
        "    model.save('my_model.h5') "
      ],
      "execution_count": 0,
      "outputs": []
    },
    {
      "cell_type": "code",
      "metadata": {
        "id": "0MmomYMxye5u",
        "colab_type": "code",
        "colab": {}
      },
      "source": [
        "def trainMyModel(model,X,Y):\n",
        "    history = model.fit(X.values, Y.values, epochs=EPOCHS,\n",
        "                    validation_split = 0.2, verbose=0, callbacks=[early_stop,PrintDot()],batch_size=25)\n",
        "    print(\"soweit so gut\")\n",
        "    hist = pd.DataFrame(history.history)\n",
        "    hist['epoch'] = history.epoch\n",
        "    print(hist.keys())\n",
        "\n",
        "    print(\"Training loss and mean square error\")\n",
        "    print(hist.tail())\n",
        "    plot_history(history)"
      ],
      "execution_count": 0,
      "outputs": []
    },
    {
      "cell_type": "code",
      "metadata": {
        "id": "3jLvda0_ye5x",
        "colab_type": "code",
        "colab": {}
      },
      "source": [
        "\n",
        "def plot_history(history):\n",
        "  hist = pd.DataFrame(history.history)\n",
        "  hist['epoch'] = history.epoch\n",
        "\n",
        "  plt.figure()\n",
        "  plt.xlabel('Epoch')\n",
        "  plt.ylabel('Mean Abs Error [MPG]')\n",
        "  plt.plot(hist['epoch'], hist['mean_absolute_error'],\n",
        "           label='Train Error')\n",
        "  plt.plot(hist['epoch'], hist['val_mean_absolute_error'],\n",
        "           label = 'Val Error')\n",
        "  plt.ylim([0,hist['val_mean_absolute_error'].max()+10])\n",
        "  plt.legend()\n",
        "\n",
        "  plt.figure()\n",
        "  plt.xlabel('Epoch')\n",
        "  plt.ylabel('Mean Square Error [$MPG^2$]')\n",
        "  plt.plot(hist['epoch'], hist['mean_squared_error'],\n",
        "           label='Train Error')\n",
        "  plt.plot(hist['epoch'], hist['val_mean_squared_error'],\n",
        "           label = 'Val Error')\n",
        "  plt.ylim([0,hist[\"mean_squared_error\"].max()+10])\n",
        "  plt.legend()\n",
        "  plt.show()\n"
      ],
      "execution_count": 0,
      "outputs": []
    },
    {
      "cell_type": "code",
      "metadata": {
        "id": "m4lpQtHxye50",
        "colab_type": "code",
        "outputId": "9411317c-5a0b-4561-c016-a8fa9414b689",
        "colab": {
          "base_uri": "https://localhost:8080/",
          "height": 51
        }
      },
      "source": [
        "#create the models\n",
        "modSimple = build_model_simple()\n",
        "modDeep = build_model_deeper()\n",
        "modWider = build_model_wider()\n",
        "\n",
        "modSimple_loss = build_model_simple_loss()\n",
        "modDeep_loss = build_model_deeper_loss()\n",
        "modWider_loss = build_model_wider_loss()\n",
        "\n",
        "#train them\n",
        "\n",
        "print(\"This is linear Regression\")\n",
        "modelRE.fit(train_X, train_labels)\n"
      ],
      "execution_count": 0,
      "outputs": [
        {
          "output_type": "stream",
          "text": [
            "This is linear Regression\n"
          ],
          "name": "stdout"
        },
        {
          "output_type": "execute_result",
          "data": {
            "text/plain": [
              "LinearRegression(copy_X=True, fit_intercept=True, n_jobs=None, normalize=False)"
            ]
          },
          "metadata": {
            "tags": []
          },
          "execution_count": 145
        }
      ]
    },
    {
      "cell_type": "code",
      "metadata": {
        "id": "F052JKYGye54",
        "colab_type": "code",
        "colab": {}
      },
      "source": [
        "\n",
        "print(\"This is Ridge Regression\")\n",
        "ridge_regressor.fit(train_X, train_labels)\n"
      ],
      "execution_count": 0,
      "outputs": []
    },
    {
      "cell_type": "code",
      "metadata": {
        "id": "WPiSdWSqye57",
        "colab_type": "code",
        "colab": {}
      },
      "source": [
        "print(\"This is Lasso Regression\")\n",
        "lasso_regressor.fit(train_X, train_labels)\n"
      ],
      "execution_count": 0,
      "outputs": []
    },
    {
      "cell_type": "code",
      "metadata": {
        "id": "keQKSUVyye5_",
        "colab_type": "code",
        "outputId": "3bccc25f-354e-41ca-8061-d3e349b67b44",
        "colab": {
          "base_uri": "https://localhost:8080/",
          "height": 796
        }
      },
      "source": [
        "print(\"This is a simple Network\")\n",
        "trainMyModel(modSimple,train_X, train_labels)\n"
      ],
      "execution_count": 0,
      "outputs": [
        {
          "output_type": "stream",
          "text": [
            "This is a simple Network\n",
            "\n",
            ".......soweit so gut\n",
            "Index(['loss', 'mean_absolute_error', 'mean_squared_error', 'val_loss',\n",
            "       'val_mean_absolute_error', 'val_mean_squared_error', 'epoch'],\n",
            "      dtype='object')\n",
            "Training loss and mean square error\n",
            "         loss  mean_absolute_error  ...  val_mean_squared_error  epoch\n",
            "2  116.874158             8.689230  ...              131.590454      2\n",
            "3  117.877422             8.758165  ...              131.367966      3\n",
            "4  116.991697             8.716632  ...              132.547592      4\n",
            "5  116.727563             8.682378  ...              132.068680      5\n",
            "6  116.766595             8.692968  ...              131.477234      6\n",
            "\n",
            "[5 rows x 7 columns]\n"
          ],
          "name": "stdout"
        },
        {
          "output_type": "display_data",
          "data": {
            "image/png": "[encoded data removed]",
            "text/plain": [
              "<Figure size 432x288 with 1 Axes>"
            ]
          },
          "metadata": {
            "tags": []
          }
        },
        {
          "output_type": "display_data",
          "data": {
            "image/png": "[encoded data removed]",
            "text/plain": [
              "<Figure size 432x288 with 1 Axes>"
            ]
          },
          "metadata": {
            "tags": []
          }
        }
      ]
    },
    {
      "cell_type": "code",
      "metadata": {
        "id": "DjkXLSVMye6B",
        "colab_type": "code",
        "outputId": "d28744f7-9e11-4db1-a3ca-f907ffe25f53",
        "colab": {
          "base_uri": "https://localhost:8080/",
          "height": 796
        }
      },
      "source": [
        "print(\"This is a deeper Network\")\n",
        "trainMyModel(modDeep,train_X, train_labels)\n"
      ],
      "execution_count": 0,
      "outputs": [
        {
          "output_type": "stream",
          "text": [
            "This is a deeper Network\n",
            "\n",
            ".......................................soweit so gut\n",
            "Index(['loss', 'mean_absolute_error', 'mean_squared_error', 'val_loss',\n",
            "       'val_mean_absolute_error', 'val_mean_squared_error', 'epoch'],\n",
            "      dtype='object')\n",
            "Training loss and mean square error\n",
            "          loss  mean_absolute_error  ...  val_mean_squared_error  epoch\n",
            "34  116.835660             8.700813  ...              131.744186     34\n",
            "35  116.945326             8.705537  ...              132.665527     35\n",
            "36  117.065489             8.687343  ...              131.565704     36\n",
            "37  117.533437             8.692653  ...              131.581726     37\n",
            "38  116.849838             8.707448  ...              131.719315     38\n",
            "\n",
            "[5 rows x 7 columns]\n"
          ],
          "name": "stdout"
        },
        {
          "output_type": "display_data",
          "data": {
            "image/png": "[encoded data removed]",
            "text/plain": [
              "<Figure size 432x288 with 1 Axes>"
            ]
          },
          "metadata": {
            "tags": []
          }
        },
        {
          "output_type": "display_data",
          "data": {
            "image/png": "[encoded data removed]",
            "text/plain": [
              "<Figure size 432x288 with 1 Axes>"
            ]
          },
          "metadata": {
            "tags": []
          }
        }
      ]
    },
    {
      "cell_type": "code",
      "metadata": {
        "id": "9WXw3Bbtye6D",
        "colab_type": "code",
        "outputId": "d4635d36-1d63-481d-e639-b053fc2788ab",
        "colab": {
          "base_uri": "https://localhost:8080/",
          "height": 796
        }
      },
      "source": [
        "print(\"This is a wider Network\")\n",
        "trainMyModel(modWider,train_X, train_labels)\n"
      ],
      "execution_count": 0,
      "outputs": [
        {
          "output_type": "stream",
          "text": [
            "This is a wider Network\n",
            "\n",
            "................................soweit so gut\n",
            "Index(['loss', 'mean_absolute_error', 'mean_squared_error', 'val_loss',\n",
            "       'val_mean_absolute_error', 'val_mean_squared_error', 'epoch'],\n",
            "      dtype='object')\n",
            "Training loss and mean square error\n",
            "          loss  mean_absolute_error  ...  val_mean_squared_error  epoch\n",
            "27  116.730981             8.711308  ...              131.661118     27\n",
            "28  116.679949             8.697522  ...              131.801865     28\n",
            "29  116.875787             8.698822  ...              131.844910     29\n",
            "30  116.815204             8.693751  ...              132.139877     30\n",
            "31  116.910420             8.691994  ...              131.825607     31\n",
            "\n",
            "[5 rows x 7 columns]\n"
          ],
          "name": "stdout"
        },
        {
          "output_type": "display_data",
          "data": {
            "image/png": "[encoded data removed]",
            "text/plain": [
              "<Figure size 432x288 with 1 Axes>"
            ]
          },
          "metadata": {
            "tags": []
          }
        },
        {
          "output_type": "display_data",
          "data": {
            "image/png": "[encoded data removed]",
            "text/plain": [
              "<Figure size 432x288 with 1 Axes>"
            ]
          },
          "metadata": {
            "tags": []
          }
        }
      ]
    },
    {
      "cell_type": "code",
      "metadata": {
        "id": "FikdVCTzye6F",
        "colab_type": "code",
        "outputId": "908811d6-07fd-476a-c320-3adfeca3ae5a",
        "colab": {
          "base_uri": "https://localhost:8080/",
          "height": 796
        }
      },
      "source": [
        "print(\"This is a simple Network with costumized loss\")\n",
        "trainMyModel(modSimple_loss,train_X, train_labels)\n"
      ],
      "execution_count": 0,
      "outputs": [
        {
          "output_type": "stream",
          "text": [
            "This is a simple Network with costumized loss\n",
            "\n",
            "........................................................soweit so gut\n",
            "Index(['loss', 'mean_absolute_error', 'mean_squared_error', 'val_loss',\n",
            "       'val_mean_absolute_error', 'val_mean_squared_error', 'epoch'],\n",
            "      dtype='object')\n",
            "Training loss and mean square error\n",
            "         loss  mean_absolute_error  ...  val_mean_squared_error  epoch\n",
            "51  19.388286             8.925524  ...              132.343430     51\n",
            "52  19.419382             8.948871  ...              132.309448     52\n",
            "53  19.350186             8.919526  ...              131.506882     53\n",
            "54  19.370654             8.929085  ...              132.401901     54\n",
            "55  19.346346             8.885468  ...              132.451920     55\n",
            "\n",
            "[5 rows x 7 columns]\n"
          ],
          "name": "stdout"
        },
        {
          "output_type": "display_data",
          "data": {
            "image/png": "[encoded data removed]",
            "text/plain": [
              "<Figure size 432x288 with 1 Axes>"
            ]
          },
          "metadata": {
            "tags": []
          }
        },
        {
          "output_type": "display_data",
          "data": {
            "image/png": "[encoded data removed]",
            "text/plain": [
              "<Figure size 432x288 with 1 Axes>"
            ]
          },
          "metadata": {
            "tags": []
          }
        }
      ]
    },
    {
      "cell_type": "code",
      "metadata": {
        "id": "Emjstiqoye6H",
        "colab_type": "code",
        "outputId": "2707334f-db8b-4219-ce36-6dd8cf53133d",
        "colab": {
          "base_uri": "https://localhost:8080/",
          "height": 796
        }
      },
      "source": [
        "print(\"This is a deeper Network with costumized loss\")\n",
        "trainMyModel(modDeep_loss,train_X, train_labels)\n"
      ],
      "execution_count": 0,
      "outputs": [
        {
          "output_type": "stream",
          "text": [
            "This is a deeper Network with costumized loss\n",
            "\n",
            "......................................soweit so gut\n",
            "Index(['loss', 'mean_absolute_error', 'mean_squared_error', 'val_loss',\n",
            "       'val_mean_absolute_error', 'val_mean_squared_error', 'epoch'],\n",
            "      dtype='object')\n",
            "Training loss and mean square error\n",
            "         loss  mean_absolute_error  ...  val_mean_squared_error  epoch\n",
            "33  19.384545             8.953881  ...              131.637253     33\n",
            "34  19.353096             8.930130  ...              133.650253     34\n",
            "35  19.354874             8.944983  ...              131.306580     35\n",
            "36  19.676867             8.881967  ...              132.718918     36\n",
            "37  19.495671             8.944436  ...              132.619064     37\n",
            "\n",
            "[5 rows x 7 columns]\n"
          ],
          "name": "stdout"
        },
        {
          "output_type": "display_data",
          "data": {
            "image/png": "[encoded data removed]",
            "text/plain": [
              "<Figure size 432x288 with 1 Axes>"
            ]
          },
          "metadata": {
            "tags": []
          }
        },
        {
          "output_type": "display_data",
          "data": {
            "image/png": "[encoded data removed]",
            "text/plain": [
              "<Figure size 432x288 with 1 Axes>"
            ]
          },
          "metadata": {
            "tags": []
          }
        }
      ]
    },
    {
      "cell_type": "code",
      "metadata": {
        "id": "wlvlDUS8ye6P",
        "colab_type": "code",
        "outputId": "f18adf31-5430-42fc-8c04-f5afa216a92b",
        "colab": {
          "base_uri": "https://localhost:8080/",
          "height": 796
        }
      },
      "source": [
        "print(\"This is a wider Network with costumized loss\")\n",
        "trainMyModel(modWider_loss,train_X, train_labels)"
      ],
      "execution_count": 0,
      "outputs": [
        {
          "output_type": "stream",
          "text": [
            "This is a wider Network with costumized loss\n",
            "\n",
            "...........................................soweit so gut\n",
            "Index(['loss', 'mean_absolute_error', 'mean_squared_error', 'val_loss',\n",
            "       'val_mean_absolute_error', 'val_mean_squared_error', 'epoch'],\n",
            "      dtype='object')\n",
            "Training loss and mean square error\n",
            "         loss  mean_absolute_error  ...  val_mean_squared_error  epoch\n",
            "38  19.409015             8.937688  ...              132.099762     38\n",
            "39  19.305428             8.914288  ...              132.473358     39\n",
            "40  19.373721             8.924406  ...              131.982437     40\n",
            "41  19.335283             8.904551  ...              132.520569     41\n",
            "42  19.372658             8.925243  ...              132.941193     42\n",
            "\n",
            "[5 rows x 7 columns]\n"
          ],
          "name": "stdout"
        },
        {
          "output_type": "display_data",
          "data": {
            "image/png": "[encoded data removed]",
            "text/plain": [
              "<Figure size 432x288 with 1 Axes>"
            ]
          },
          "metadata": {
            "tags": []
          }
        },
        {
          "output_type": "display_data",
          "data": {
            "image/png": "[encoded data removed]",
            "text/plain": [
              "<Figure size 432x288 with 1 Axes>"
            ]
          },
          "metadata": {
            "tags": []
          }
        }
      ]
    },
    {
      "cell_type": "markdown",
      "metadata": {
        "id": "MpUr00TBBzWQ",
        "colab_type": "text"
      },
      "source": [
        ""
      ]
    },
    {
      "cell_type": "markdown",
      "metadata": {
        "id": "rvSVSm_yye6Q",
        "colab_type": "text"
      },
      "source": [
        "#  Evaluate models on test data"
      ]
    },
    {
      "cell_type": "code",
      "metadata": {
        "id": "No8XR76Aye6R",
        "colab_type": "code",
        "outputId": "4d497f5a-d640-49e1-f092-83ea1d93b2cc",
        "colab": {
          "base_uri": "https://localhost:8080/",
          "height": 943
        }
      },
      "source": [
        "\n",
        "print(\"This is linear Regression\")\n",
        "testModel(modelRE.predict(test_X), test_labels ,modelRE)\n"
      ],
      "execution_count": 0,
      "outputs": [
        {
          "output_type": "stream",
          "text": [
            "This is linear Regression\n"
          ],
          "name": "stdout"
        },
        {
          "output_type": "display_data",
          "data": {
            "image/png": "[encoded data removed]",
            "text/plain": [
              "<Figure size 432x288 with 1 Axes>"
            ]
          },
          "metadata": {
            "tags": []
          }
        },
        {
          "output_type": "stream",
          "text": [
            "These are the actual Block times and their predictions\n"
          ],
          "name": "stdout"
        },
        {
          "output_type": "display_data",
          "data": {
            "image/png": "[encoded data removed]",
            "text/plain": [
              "<Figure size 432x288 with 1 Axes>"
            ]
          },
          "metadata": {
            "tags": []
          }
        },
        {
          "output_type": "stream",
          "text": [
            "this is the median of error, negative indicates too early arrival, positive late arrival\n",
            "-1.1870363941418702\n",
            "this is the percentage of flights that are not on time:\n",
            "0.18408736349453977\n",
            "this is the percentage of flights that are more than 10 minutes late:\n",
            "0.11076443057722309\n"
          ],
          "name": "stdout"
        },
        {
          "output_type": "display_data",
          "data": {
            "image/png": "[encoded data removed]",
            "text/plain": [
              "<Figure size 432x288 with 1 Axes>"
            ]
          },
          "metadata": {
            "tags": []
          }
        }
      ]
    },
    {
      "cell_type": "code",
      "metadata": {
        "id": "bndR81Lwye6S",
        "colab_type": "code",
        "colab": {}
      },
      "source": [
        "print(\"This is Ridge Regression\")\n",
        "testModel(ridge_regressor.predict(test_X).flatten(),test_labels,ridge_regressor)\n"
      ],
      "execution_count": 0,
      "outputs": []
    },
    {
      "cell_type": "code",
      "metadata": {
        "id": "Nk4uZg0yye6U",
        "colab_type": "code",
        "colab": {}
      },
      "source": [
        "print(\"This is Lasso Regression\")\n",
        "testModel(lasso_regressor.predict(test_X).flatten(),test_labels,lasso_regressor)\n"
      ],
      "execution_count": 0,
      "outputs": []
    },
    {
      "cell_type": "code",
      "metadata": {
        "id": "CxmWSoWYye6V",
        "colab_type": "code",
        "colab": {}
      },
      "source": [
        "print(\"This is a simple Network\")\n",
        "testModel(modSimple.predict(test_X).flatten(),test_labels,modSimple)\n"
      ],
      "execution_count": 0,
      "outputs": []
    },
    {
      "cell_type": "code",
      "metadata": {
        "id": "1qfAEyxaye6X",
        "colab_type": "code",
        "colab": {}
      },
      "source": [
        "print(\"This is a deeper Network\")\n",
        "testModel(modDeep.predict(test_X).flatten(),test_labels,modDeep)\n"
      ],
      "execution_count": 0,
      "outputs": []
    },
    {
      "cell_type": "code",
      "metadata": {
        "id": "2-TnOF45ye6Y",
        "colab_type": "code",
        "colab": {}
      },
      "source": [
        "print(\"This is a wider Network\")\n",
        "testModel(modWider.predict(test_X).flatten(),test_labels,modWider)\n"
      ],
      "execution_count": 0,
      "outputs": []
    },
    {
      "cell_type": "code",
      "metadata": {
        "id": "HYfy3e4sye6a",
        "colab_type": "code",
        "colab": {}
      },
      "source": [
        "print(\"This is a simple Network with costumized loss\")\n",
        "testModel(modSimple.predict(test_X).flatten(),test_labels,modSimple)\n"
      ],
      "execution_count": 0,
      "outputs": []
    },
    {
      "cell_type": "code",
      "metadata": {
        "id": "yTVKs7v3ye6e",
        "colab_type": "code",
        "colab": {}
      },
      "source": [
        "print(\"This is a deeper Network with costumized loss\")\n",
        "testModel(modDeep_loss.predict(test_X).flatten(),test_labels,modDeep_loss)\n",
        "print(modDeep_loss.predict(test_X).flatten())"
      ],
      "execution_count": 0,
      "outputs": []
    },
    {
      "cell_type": "code",
      "metadata": {
        "id": "9dWOa2Dxye6h",
        "colab_type": "code",
        "colab": {}
      },
      "source": [
        "print(\"This is a wider Network with costumized loss\")\n",
        "testModel(modWider_loss.predict(test_X).flatten(),test_labels,modWider_loss)"
      ],
      "execution_count": 0,
      "outputs": []
    }
  ]
}